{
 "cells": [
  {
   "cell_type": "code",
   "execution_count": 1,
   "metadata": {},
   "outputs": [],
   "source": [
    "import numpy as np\n",
    "import pandas as pd"
   ]
  },
  {
   "cell_type": "code",
   "execution_count": 2,
   "metadata": {},
   "outputs": [],
   "source": [
    "def possible(y,x,n):\n",
    "    global grid\n",
    "    for i in range(0,9) :\n",
    "        if grid[y][i] == n :\n",
    "            return False\n",
    "    for i in range(0,9) :\n",
    "        if grid[i][x] == n :\n",
    "            return False\n",
    "    x0 =  (x//3)*3\n",
    "    y0 =  (y//3)*3\n",
    "    \n",
    "    for i in range(0,3) :\n",
    "        for j in range(0,3) :\n",
    "            if grid[y0+i][x0+j] == n :\n",
    "                return False\n",
    "    return True"
   ]
  },
  {
   "cell_type": "code",
   "execution_count": 3,
   "metadata": {},
   "outputs": [],
   "source": [
    "def solve():\n",
    "    global grid \n",
    "    for y in range(9):\n",
    "        for x in range(9):\n",
    "            if grid [y][x] == 0 :\n",
    "                for n in range(1,10) :\n",
    "                    if possible(y,x,n) :\n",
    "                        grid[y][x] = n\n",
    "                        solve()\n",
    "                        grid[y][x] = 0\n",
    "                return\n",
    "    print(np.matrix(grid))\n",
    "    input(\"More?\")"
   ]
  },
  {
   "cell_type": "code",
   "execution_count": 6,
   "metadata": {},
   "outputs": [],
   "source": [
    "grid = [[2,0,0,0,8,0,0,1,0],\n",
    "        [0,4,0,1,0,0,3,0,0],\n",
    "        [0,0,0,0,9,0,0,0,0],\n",
    "        [0,0,0,7,0,0,8,4,0],\n",
    "        [0,9,0,0,2,1,0,0,0],\n",
    "        [0,0,6,0,0,0,0,0,0],\n",
    "        [0,3,0,0,0,0,5,8,0],\n",
    "        [1,0,0,8,0,0,0,0,7],\n",
    "        [0,2,7,0,5,3,0,0,0]]"
   ]
  },
  {
   "cell_type": "code",
   "execution_count": 7,
   "metadata": {},
   "outputs": [
    {
     "name": "stdout",
     "output_type": "stream",
     "text": [
      "[[2 7 3 5 8 6 9 1 4]\n",
      " [5 4 9 1 7 2 3 6 8]\n",
      " [6 8 1 3 9 4 7 2 5]\n",
      " [3 1 2 7 6 5 8 4 9]\n",
      " [7 9 8 4 2 1 6 5 3]\n",
      " [4 5 6 9 3 8 1 7 2]\n",
      " [9 3 4 2 1 7 5 8 6]\n",
      " [1 6 5 8 4 9 2 3 7]\n",
      " [8 2 7 6 5 3 4 9 1]]\n",
      "More?\n"
     ]
    }
   ],
   "source": [
    "solve()"
   ]
  },
  {
   "cell_type": "code",
   "execution_count": null,
   "metadata": {},
   "outputs": [],
   "source": []
  }
 ],
 "metadata": {
  "kernelspec": {
   "display_name": "Python 3",
   "language": "python",
   "name": "python3"
  },
  "language_info": {
   "codemirror_mode": {
    "name": "ipython",
    "version": 3
   },
   "file_extension": ".py",
   "mimetype": "text/x-python",
   "name": "python",
   "nbconvert_exporter": "python",
   "pygments_lexer": "ipython3",
   "version": "3.6.9"
  }
 },
 "nbformat": 4,
 "nbformat_minor": 2
}
