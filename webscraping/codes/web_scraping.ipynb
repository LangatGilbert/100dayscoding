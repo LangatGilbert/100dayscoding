{
 "cells": [
  {
   "cell_type": "code",
   "execution_count": 42,
   "metadata": {},
   "outputs": [],
   "source": [
    "#importing necessary libraries\n",
    "\n",
    "#Beautiful Soup will help us read the Html document\n",
    "from bs4 import BeautifulSoup as soup\n",
    "#allows you to send HTTP requests\n",
    "from requests import get\n",
    "import requests\n",
    "import re\n",
    "import pandas as pd\n",
    "\n",
    "import matplotlib.pylab as plt\n",
    "%matplotlib inline\n",
    "import seaborn as sns\n",
    "\n",
    "import warnings\n",
    "warnings.filterwarnings(\"ignore\")"
   ]
  },
  {
   "cell_type": "code",
   "execution_count": 2,
   "metadata": {},
   "outputs": [
    {
     "data": {
      "text/plain": [
       "<Response [200]>"
      ]
     },
     "execution_count": 2,
     "metadata": {},
     "output_type": "execute_result"
    }
   ],
   "source": [
    "#requesting data from url\n",
    "response = requests.get(\"https://www.makaan.com/hyderabad-residential-property/buy-property-in-hyderabad-city\")\n",
    "response"
   ]
  },
  {
   "cell_type": "code",
   "execution_count": 3,
   "metadata": {},
   "outputs": [
    {
     "data": {
      "text/plain": [
       "'<!doctype html> <html lang=\"en\"><head><meta http-equiv=\"Content-type\" content=\"text/html; charset=ut'"
      ]
     },
     "execution_count": 3,
     "metadata": {},
     "output_type": "execute_result"
    }
   ],
   "source": [
    "response.text[:100] #returns the first 2000 characters"
   ]
  },
  {
   "cell_type": "code",
   "execution_count": 4,
   "metadata": {},
   "outputs": [
    {
     "data": {
      "text/plain": [
       "' 1.03 Cr'"
      ]
     },
     "execution_count": 4,
     "metadata": {},
     "output_type": "execute_result"
    }
   ],
   "source": [
    "data= soup(response.text)\n",
    "house_containers = data.find_all(\"li\",class_= \"cardholder\")\n",
    "first = house_containers[0]\n",
    "x = first.find_all('td', class_ = 'price')[0].text\n",
    "x"
   ]
  },
  {
   "cell_type": "code",
   "execution_count": 5,
   "metadata": {},
   "outputs": [],
   "source": [
    "#creating empty list for appending the extracted value\n",
    "title = []\n",
    "location = []\n",
    "price = []\n",
    "price_per_sqft = []\n",
    "area_in_sqft = []\n",
    "building_status = []"
   ]
  },
  {
   "cell_type": "code",
   "execution_count": 6,
   "metadata": {},
   "outputs": [
    {
     "name": "stdout",
     "output_type": "stream",
     "text": [
      "You scraped 7 pages containing 140 properties.\n",
      "Wall time: 3.81 s\n"
     ]
    }
   ],
   "source": [
    "%%time\n",
    "n_pages = 0\n",
    "for page in range(3,10): #the no. of pages to be extracted considering the pages available in the url\n",
    "    n_pages +=1\n",
    "    url = 'https://www.makaan.com/hyderabad-residential-property/buy-property-in-hyderabad-city?'+'&page='+str(page)\n",
    "    \n",
    "    # this for gets uns into next page after every iteration.\n",
    "    r = requests.get(url) #here r is response data\n",
    "    page_html = soup(r.text, 'html.parser')\n",
    "    house_containers = page_html.find_all('li', class_ = 'cardholder')# class containing overall data of a property\n",
    "    \n",
    "    ##### title\n",
    "    for data in house_containers:\n",
    "        type_ = data.find_all(\"a\", class_=\"typelink\") \n",
    "        for i in type_:\n",
    "            d = i.text\n",
    "            title.append(d)\n",
    "            \n",
    "    ########Location \n",
    "        location_ = data.find_all(\"a\", class_ = \"loclink\")\n",
    "        for i in location_:\n",
    "            d = i.text\n",
    "            r= d.split(',',)[0]#splitting the obtained text and returning the first element of text\n",
    "            location.append(r)\n",
    "            \n",
    "            \n",
    "    ##########price\n",
    "        cost = data.find_all(\"td\", class_ = \"price\")\n",
    "        for i in cost:\n",
    "            d= i.text\n",
    "            if 'L' in d:\n",
    "                a = d.split()[0]\n",
    "                price.append(float(a))\n",
    "            elif 'Cr' in d:\n",
    "                b = d.split()[0]\n",
    "                price.append(float(b)*100)\n",
    "            else:\n",
    "                e = 0\n",
    "                price.append(float(e))\n",
    "                \n",
    "    ####### price per sqft\n",
    "    \n",
    "        rate_sqft = data.find_all('td', class_=\"lbl rate\")\n",
    "        for i in rate_sqft:\n",
    "            d = i.text\n",
    "            res = d.split('/',)[0]\n",
    "            r = re.sub(\",\",\"\",res)\n",
    "            price_per_sqft.append(r)\n",
    "            \n",
    "    ############################   AREA IN SQFT    ####################################\n",
    "\n",
    "        area_sqft=data.find_all('td',class_=\"size\")\n",
    "        for i in area_sqft:\n",
    "            d=i.text\n",
    "            area_in_sqft.append(d)\n",
    "            \n",
    "##########################   BUILDING STATUS    ###################################\n",
    "\n",
    "        building_status_=data.find_all(\"td\",class_=\"val\")\n",
    "        for i in building_status_:\n",
    "            d=i.text\n",
    "            building_status.append(d)\n",
    "\n",
    "###################################################################################\n",
    "\n",
    "print('You scraped {} pages containing {} properties.'.format(n_pages, len(title)))\n",
    "# Returns the number of pages scrapped and time taken for scarpping those pages."
   ]
  },
  {
   "cell_type": "code",
   "execution_count": 7,
   "metadata": {},
   "outputs": [],
   "source": [
    "df = pd.DataFrame()"
   ]
  },
  {
   "cell_type": "code",
   "execution_count": 8,
   "metadata": {},
   "outputs": [],
   "source": [
    "df['title']=title \n",
    "df['location']=location\n",
    "df['price(L)']=price\n",
    "df['rate_persqft']=price_per_sqft\n",
    "df['area_insqft']=area_in_sqft\n",
    "df['building_status']=building_status"
   ]
  },
  {
   "cell_type": "code",
   "execution_count": 9,
   "metadata": {},
   "outputs": [
    {
     "data": {
      "text/plain": [
       "(140, 6)"
      ]
     },
     "execution_count": 9,
     "metadata": {},
     "output_type": "execute_result"
    }
   ],
   "source": [
    "df.head()\n",
    "df.shape"
   ]
  },
  {
   "cell_type": "code",
   "execution_count": 10,
   "metadata": {},
   "outputs": [],
   "source": [
    "df.to_csv('projectfinal.csv')"
   ]
  },
  {
   "cell_type": "code",
   "execution_count": 11,
   "metadata": {},
   "outputs": [],
   "source": [
    "df=pd.read_csv('projectfinal.csv')"
   ]
  },
  {
   "cell_type": "code",
   "execution_count": 12,
   "metadata": {},
   "outputs": [],
   "source": [
    "# Dropping of the unnecessary column \"Unnamed: 0\".\n",
    "\n",
    "df.drop(columns='Unnamed: 0',axis=1,inplace=True)"
   ]
  },
  {
   "cell_type": "code",
   "execution_count": 13,
   "metadata": {},
   "outputs": [
    {
     "data": {
      "text/html": [
       "<div>\n",
       "<style scoped>\n",
       "    .dataframe tbody tr th:only-of-type {\n",
       "        vertical-align: middle;\n",
       "    }\n",
       "\n",
       "    .dataframe tbody tr th {\n",
       "        vertical-align: top;\n",
       "    }\n",
       "\n",
       "    .dataframe thead th {\n",
       "        text-align: right;\n",
       "    }\n",
       "</style>\n",
       "<table border=\"1\" class=\"dataframe\">\n",
       "  <thead>\n",
       "    <tr style=\"text-align: right;\">\n",
       "      <th></th>\n",
       "      <th>price(L)</th>\n",
       "      <th>rate_persqft</th>\n",
       "      <th>area_insqft</th>\n",
       "    </tr>\n",
       "  </thead>\n",
       "  <tbody>\n",
       "    <tr>\n",
       "      <th>count</th>\n",
       "      <td>140.000000</td>\n",
       "      <td>140.000000</td>\n",
       "      <td>140.000000</td>\n",
       "    </tr>\n",
       "    <tr>\n",
       "      <th>mean</th>\n",
       "      <td>85.060214</td>\n",
       "      <td>4142.335714</td>\n",
       "      <td>2060.192857</td>\n",
       "    </tr>\n",
       "    <tr>\n",
       "      <th>std</th>\n",
       "      <td>59.673168</td>\n",
       "      <td>1709.143416</td>\n",
       "      <td>1127.561250</td>\n",
       "    </tr>\n",
       "    <tr>\n",
       "      <th>min</th>\n",
       "      <td>6.000000</td>\n",
       "      <td>368.000000</td>\n",
       "      <td>200.000000</td>\n",
       "    </tr>\n",
       "    <tr>\n",
       "      <th>25%</th>\n",
       "      <td>45.797500</td>\n",
       "      <td>3399.750000</td>\n",
       "      <td>1403.000000</td>\n",
       "    </tr>\n",
       "    <tr>\n",
       "      <th>50%</th>\n",
       "      <td>74.790000</td>\n",
       "      <td>4497.500000</td>\n",
       "      <td>1726.500000</td>\n",
       "    </tr>\n",
       "    <tr>\n",
       "      <th>75%</th>\n",
       "      <td>107.250000</td>\n",
       "      <td>5100.000000</td>\n",
       "      <td>2462.500000</td>\n",
       "    </tr>\n",
       "    <tr>\n",
       "      <th>max</th>\n",
       "      <td>400.000000</td>\n",
       "      <td>8888.000000</td>\n",
       "      <td>9000.000000</td>\n",
       "    </tr>\n",
       "  </tbody>\n",
       "</table>\n",
       "</div>"
      ],
      "text/plain": [
       "         price(L)  rate_persqft  area_insqft\n",
       "count  140.000000    140.000000   140.000000\n",
       "mean    85.060214   4142.335714  2060.192857\n",
       "std     59.673168   1709.143416  1127.561250\n",
       "min      6.000000    368.000000   200.000000\n",
       "25%     45.797500   3399.750000  1403.000000\n",
       "50%     74.790000   4497.500000  1726.500000\n",
       "75%    107.250000   5100.000000  2462.500000\n",
       "max    400.000000   8888.000000  9000.000000"
      ]
     },
     "execution_count": 13,
     "metadata": {},
     "output_type": "execute_result"
    }
   ],
   "source": [
    "df.describe()"
   ]
  },
  {
   "cell_type": "code",
   "execution_count": 14,
   "metadata": {},
   "outputs": [],
   "source": [
    "# Drops the duplicate entires in the dataset.\n",
    "\n",
    "df=df.drop_duplicates()"
   ]
  },
  {
   "cell_type": "code",
   "execution_count": 15,
   "metadata": {},
   "outputs": [],
   "source": [
    "\n",
    "# As number of rows would vary we need to reset index.\n",
    "\n",
    "df=df.reset_index()"
   ]
  },
  {
   "cell_type": "code",
   "execution_count": 16,
   "metadata": {},
   "outputs": [],
   "source": [
    "# Dropping unnecessary columns in dataset.\n",
    "\n",
    "df=df.drop(labels='index',axis=1)"
   ]
  },
  {
   "cell_type": "code",
   "execution_count": 17,
   "metadata": {},
   "outputs": [
    {
     "data": {
      "text/plain": [
       "(140, 6)"
      ]
     },
     "execution_count": 17,
     "metadata": {},
     "output_type": "execute_result"
    }
   ],
   "source": [
    "df.shape"
   ]
  },
  {
   "cell_type": "code",
   "execution_count": 18,
   "metadata": {},
   "outputs": [
    {
     "data": {
      "text/html": [
       "<div>\n",
       "<style scoped>\n",
       "    .dataframe tbody tr th:only-of-type {\n",
       "        vertical-align: middle;\n",
       "    }\n",
       "\n",
       "    .dataframe tbody tr th {\n",
       "        vertical-align: top;\n",
       "    }\n",
       "\n",
       "    .dataframe thead th {\n",
       "        text-align: right;\n",
       "    }\n",
       "</style>\n",
       "<table border=\"1\" class=\"dataframe\">\n",
       "  <thead>\n",
       "    <tr style=\"text-align: right;\">\n",
       "      <th></th>\n",
       "      <th>title</th>\n",
       "      <th>location</th>\n",
       "      <th>price(L)</th>\n",
       "      <th>rate_persqft</th>\n",
       "      <th>area_insqft</th>\n",
       "      <th>building_status</th>\n",
       "    </tr>\n",
       "  </thead>\n",
       "  <tbody>\n",
       "    <tr>\n",
       "      <th>0</th>\n",
       "      <td>Residential Plot</td>\n",
       "      <td>Gachibowli</td>\n",
       "      <td>200.00</td>\n",
       "      <td>5555</td>\n",
       "      <td>3600</td>\n",
       "      <td>New</td>\n",
       "    </tr>\n",
       "    <tr>\n",
       "      <th>1</th>\n",
       "      <td>2 BHK Apartment</td>\n",
       "      <td>Bachupally</td>\n",
       "      <td>38.00</td>\n",
       "      <td>3368</td>\n",
       "      <td>1128</td>\n",
       "      <td>Ready to move</td>\n",
       "    </tr>\n",
       "    <tr>\n",
       "      <th>2</th>\n",
       "      <td>Residential Plot</td>\n",
       "      <td>Yadagirigutta</td>\n",
       "      <td>24.50</td>\n",
       "      <td>778</td>\n",
       "      <td>3150</td>\n",
       "      <td>New</td>\n",
       "    </tr>\n",
       "    <tr>\n",
       "      <th>3</th>\n",
       "      <td>2 BHK Apartment</td>\n",
       "      <td>Kukatpally</td>\n",
       "      <td>56.79</td>\n",
       "      <td>4960</td>\n",
       "      <td>1145</td>\n",
       "      <td>Ready to move</td>\n",
       "    </tr>\n",
       "    <tr>\n",
       "      <th>4</th>\n",
       "      <td>2 BHK Apartment</td>\n",
       "      <td>Raviryal</td>\n",
       "      <td>25.00</td>\n",
       "      <td>1785</td>\n",
       "      <td>1400</td>\n",
       "      <td>Under Construction</td>\n",
       "    </tr>\n",
       "  </tbody>\n",
       "</table>\n",
       "</div>"
      ],
      "text/plain": [
       "              title       location  price(L)  rate_persqft  area_insqft  \\\n",
       "0  Residential Plot     Gachibowli    200.00          5555         3600   \n",
       "1   2 BHK Apartment     Bachupally     38.00          3368         1128   \n",
       "2  Residential Plot  Yadagirigutta     24.50           778         3150   \n",
       "3   2 BHK Apartment     Kukatpally     56.79          4960         1145   \n",
       "4   2 BHK Apartment       Raviryal     25.00          1785         1400   \n",
       "\n",
       "      building_status  \n",
       "0                 New  \n",
       "1       Ready to move  \n",
       "2                 New  \n",
       "3       Ready to move  \n",
       "4  Under Construction  "
      ]
     },
     "execution_count": 18,
     "metadata": {},
     "output_type": "execute_result"
    }
   ],
   "source": [
    "df.head()"
   ]
  },
  {
   "cell_type": "code",
   "execution_count": 19,
   "metadata": {},
   "outputs": [
    {
     "data": {
      "text/html": [
       "<div>\n",
       "<style scoped>\n",
       "    .dataframe tbody tr th:only-of-type {\n",
       "        vertical-align: middle;\n",
       "    }\n",
       "\n",
       "    .dataframe tbody tr th {\n",
       "        vertical-align: top;\n",
       "    }\n",
       "\n",
       "    .dataframe thead th {\n",
       "        text-align: right;\n",
       "    }\n",
       "</style>\n",
       "<table border=\"1\" class=\"dataframe\">\n",
       "  <thead>\n",
       "    <tr style=\"text-align: right;\">\n",
       "      <th></th>\n",
       "      <th>title</th>\n",
       "      <th>location</th>\n",
       "      <th>price(L)</th>\n",
       "      <th>rate_persqft</th>\n",
       "      <th>area_insqft</th>\n",
       "      <th>building_status</th>\n",
       "    </tr>\n",
       "  </thead>\n",
       "  <tbody>\n",
       "    <tr>\n",
       "      <th>135</th>\n",
       "      <td>2 BHK Apartment</td>\n",
       "      <td>Adibatla</td>\n",
       "      <td>41.79</td>\n",
       "      <td>3803</td>\n",
       "      <td>1100</td>\n",
       "      <td>Under Construction</td>\n",
       "    </tr>\n",
       "    <tr>\n",
       "      <th>136</th>\n",
       "      <td>Residential Plot</td>\n",
       "      <td>Alair</td>\n",
       "      <td>18.39</td>\n",
       "      <td>511</td>\n",
       "      <td>3600</td>\n",
       "      <td>New</td>\n",
       "    </tr>\n",
       "    <tr>\n",
       "      <th>137</th>\n",
       "      <td>Residential Plot</td>\n",
       "      <td>Alair</td>\n",
       "      <td>9.19</td>\n",
       "      <td>511</td>\n",
       "      <td>1800</td>\n",
       "      <td>New</td>\n",
       "    </tr>\n",
       "    <tr>\n",
       "      <th>138</th>\n",
       "      <td>Residential Plot</td>\n",
       "      <td>Alair</td>\n",
       "      <td>7.35</td>\n",
       "      <td>511</td>\n",
       "      <td>1440</td>\n",
       "      <td>New</td>\n",
       "    </tr>\n",
       "    <tr>\n",
       "      <th>139</th>\n",
       "      <td>Residential Plot</td>\n",
       "      <td>Alair</td>\n",
       "      <td>13.79</td>\n",
       "      <td>511</td>\n",
       "      <td>2700</td>\n",
       "      <td>New</td>\n",
       "    </tr>\n",
       "  </tbody>\n",
       "</table>\n",
       "</div>"
      ],
      "text/plain": [
       "                title  location  price(L)  rate_persqft  area_insqft  \\\n",
       "135   2 BHK Apartment  Adibatla     41.79          3803         1100   \n",
       "136  Residential Plot     Alair     18.39           511         3600   \n",
       "137  Residential Plot     Alair      9.19           511         1800   \n",
       "138  Residential Plot     Alair      7.35           511         1440   \n",
       "139  Residential Plot     Alair     13.79           511         2700   \n",
       "\n",
       "        building_status  \n",
       "135  Under Construction  \n",
       "136                 New  \n",
       "137                 New  \n",
       "138                 New  \n",
       "139                 New  "
      ]
     },
     "execution_count": 19,
     "metadata": {},
     "output_type": "execute_result"
    }
   ],
   "source": [
    "df.tail()"
   ]
  },
  {
   "cell_type": "code",
   "execution_count": 20,
   "metadata": {},
   "outputs": [],
   "source": [
    "#group by and count the number of appertiment per location, average price, mode price, average rate per square ft.\n",
    "#aggregating per title\n",
    "agg_df = df.groupby('title').agg({'price(L)':['count','mean','max','min'],\n",
    "                                 'rate_persqft':['mean','max','min'],\n",
    "                                 'area_insqft':['mean','max','min']})"
   ]
  },
  {
   "cell_type": "code",
   "execution_count": 21,
   "metadata": {},
   "outputs": [],
   "source": [
    "#agg_title_df = df.groupby('title').agg(average_price=('price(L)', 'mean'), average_area=('area_insqft', 'mean'),)"
   ]
  },
  {
   "cell_type": "code",
   "execution_count": 22,
   "metadata": {},
   "outputs": [],
   "source": [
    "agg_df.columns = [\"_\".join(x) for x in agg_df.columns.ravel()]\n",
    "agg_df= agg_df.reset_index()"
   ]
  },
  {
   "cell_type": "code",
   "execution_count": 23,
   "metadata": {},
   "outputs": [
    {
     "data": {
      "text/plain": [
       "Index(['title', 'price(L)_count', 'price(L)_mean', 'price(L)_max',\n",
       "       'price(L)_min', 'rate_persqft_mean', 'rate_persqft_max',\n",
       "       'rate_persqft_min', 'area_insqft_mean', 'area_insqft_max',\n",
       "       'area_insqft_min'],\n",
       "      dtype='object')"
      ]
     },
     "execution_count": 23,
     "metadata": {},
     "output_type": "execute_result"
    }
   ],
   "source": [
    "agg_df.columns"
   ]
  },
  {
   "cell_type": "code",
   "execution_count": 29,
   "metadata": {},
   "outputs": [
    {
     "data": {
      "text/plain": [
       "(array([0, 1, 2, 3, 4, 5, 6, 7, 8]), <a list of 9 Text xticklabel objects>)"
      ]
     },
     "execution_count": 29,
     "metadata": {},
     "output_type": "execute_result"
    },
    {
     "data": {
      "image/png": "[encoded data removed]",
      "text/plain": [
       "<Figure size 720x360 with 1 Axes>"
      ]
     },
     "metadata": {
      "needs_background": "light"
     },
     "output_type": "display_data"
    }
   ],
   "source": [
    "\n",
    "\n",
    "plt.figure(figsize=(10,5))\n",
    "#sns.set(style=\"whitegrid\")\n",
    "ax = sns.barplot(x=\"title\", y=\"price(L)_mean\", data=agg_df)\n",
    "ax.set(xlabel='Average Price', ylabel='House Type')\n",
    "\n",
    "plt.xticks(\n",
    "    rotation=90, \n",
    "    horizontalalignment='right',\n",
    "    fontweight='light',\n",
    "    fontsize='x-large'  \n",
    ")"
   ]
  },
  {
   "cell_type": "code",
   "execution_count": 25,
   "metadata": {},
   "outputs": [],
   "source": [
    "#aggregating per location\n",
    "agg_location_df = df.groupby('location').agg({'price(L)':['count','mean','max','min'],\n",
    "                                 'rate_persqft':['mean','max','min'],\n",
    "                                 'area_insqft':['mean','max','min']})"
   ]
  },
  {
   "cell_type": "code",
   "execution_count": 32,
   "metadata": {},
   "outputs": [
    {
     "data": {
      "text/plain": [
       "3 BHK Apartment            48\n",
       "Residential Plot           44\n",
       "2 BHK Apartment            28\n",
       "3 BHK Villa                10\n",
       "4 BHK Apartment             4\n",
       "4 BHK Villa                 2\n",
       "2 BHK Independent House     2\n",
       "3 BHK Independent House     1\n",
       "6 BHK Independent House     1\n",
       "Name: title, dtype: int64"
      ]
     },
     "execution_count": 32,
     "metadata": {},
     "output_type": "execute_result"
    }
   ],
   "source": [
    "##vizualizing only the title\n",
    "df_title = df['title'].value_counts()\n",
    "df_title"
   ]
  },
  {
   "cell_type": "markdown",
   "metadata": {},
   "source": [
    "Now let’s visualize every column we have"
   ]
  },
  {
   "cell_type": "code",
   "execution_count": 35,
   "metadata": {},
   "outputs": [
    {
     "data": {
      "text/plain": [
       "<matplotlib.axes._subplots.AxesSubplot at 0x1db8d429860>"
      ]
     },
     "execution_count": 35,
     "metadata": {},
     "output_type": "execute_result"
    },
    {
     "data": {
      "image/png": "[encoded data removed]",
      "text/plain": [
       "<Figure size 432x288 with 1 Axes>"
      ]
     },
     "metadata": {
      "needs_background": "light"
     },
     "output_type": "display_data"
    }
   ],
   "source": [
    "#plotting a bar plot on count\n",
    "df_title.plot.bar()\n",
    "#plt.yscale('log')"
   ]
  },
  {
   "cell_type": "code",
   "execution_count": 37,
   "metadata": {},
   "outputs": [
    {
     "data": {
      "text/plain": [
       "<matplotlib.axes._subplots.AxesSubplot at 0x1db905dba20>"
      ]
     },
     "execution_count": 37,
     "metadata": {},
     "output_type": "execute_result"
    },
    {
     "data": {
      "image/png": "[encoded data removed]",
      "text/plain": [
       "<Figure size 432x288 with 1 Axes>"
      ]
     },
     "metadata": {
      "needs_background": "light"
     },
     "output_type": "display_data"
    }
   ],
   "source": [
    "#plot on building status\n",
    "sns.countplot(x = 'building_status', data = df, palette ='rainbow')"
   ]
  },
  {
   "cell_type": "markdown",
   "metadata": {},
   "source": [
    "The above plot depicts that there 3 categories in building_status which are New properties to be almost 45, Under construction properties to be almost 65, and Ready to move properties to be 30. "
   ]
  },
  {
   "cell_type": "code",
   "execution_count": 39,
   "metadata": {},
   "outputs": [
    {
     "data": {
      "text/plain": [
       "(76, 6)"
      ]
     },
     "execution_count": 39,
     "metadata": {},
     "output_type": "execute_result"
    }
   ],
   "source": [
    "#comparing 3BK and 2Bk properties only\n",
    "df_=df[(df['title']=='2 BHK Apartment')| (df['title']=='3 BHK Apartment')]\n",
    "df_.shape"
   ]
  },
  {
   "cell_type": "code",
   "execution_count": 41,
   "metadata": {},
   "outputs": [
    {
     "data": {
      "text/plain": [
       "<matplotlib.axes._subplots.AxesSubplot at 0x1db90584f98>"
      ]
     },
     "execution_count": 41,
     "metadata": {},
     "output_type": "execute_result"
    },
    {
     "data": {
      "image/png": "[encoded data removed]",
      "text/plain": [
       "<Figure size 720x360 with 1 Axes>"
      ]
     },
     "metadata": {
      "needs_background": "light"
     },
     "output_type": "display_data"
    }
   ],
   "source": [
    "##\n",
    "fig,ax = plt.subplots(figsize=(10,5))\n",
    "sns.boxplot(y = 'price(L)', x = 'title', data = df_ , ax = ax)"
   ]
  },
  {
   "cell_type": "code",
   "execution_count": null,
   "metadata": {},
   "outputs": [],
   "source": []
  }
 ],
 "metadata": {
  "kernelspec": {
   "display_name": "Python 3",
   "language": "python",
   "name": "python3"
  },
  "language_info": {
   "codemirror_mode": {
    "name": "ipython",
    "version": 3
   },
   "file_extension": ".py",
   "mimetype": "text/x-python",
   "name": "python",
   "nbconvert_exporter": "python",
   "pygments_lexer": "ipython3",
   "version": "3.6.9"
  }
 },
 "nbformat": 4,
 "nbformat_minor": 2
}
