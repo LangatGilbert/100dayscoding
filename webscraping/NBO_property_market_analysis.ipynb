{
 "cells": [
  {
   "cell_type": "code",
   "execution_count": 16,
   "metadata": {},
   "outputs": [],
   "source": [
    "import pandas as pd\n",
    "pd.options.display.float_format = \"{:.2f}\".format\n",
    "\n",
    "import matplotlib.pylab as plt\n",
    "%matplotlib inline\n",
    "import seaborn as sns\n",
    "\n",
    "import warnings\n",
    "warnings.filterwarnings('ignore')"
   ]
  },
  {
   "cell_type": "code",
   "execution_count": 17,
   "metadata": {},
   "outputs": [],
   "source": [
    "df = pd.read_csv('Nairobi_property_data.csv')"
   ]
  },
  {
   "cell_type": "code",
   "execution_count": 18,
   "metadata": {},
   "outputs": [
    {
     "data": {
      "text/html": [
       "<div>\n",
       "<style scoped>\n",
       "    .dataframe tbody tr th:only-of-type {\n",
       "        vertical-align: middle;\n",
       "    }\n",
       "\n",
       "    .dataframe tbody tr th {\n",
       "        vertical-align: top;\n",
       "    }\n",
       "\n",
       "    .dataframe thead th {\n",
       "        text-align: right;\n",
       "    }\n",
       "</style>\n",
       "<table border=\"1\" class=\"dataframe\">\n",
       "  <thead>\n",
       "    <tr style=\"text-align: right;\">\n",
       "      <th></th>\n",
       "      <th>title</th>\n",
       "      <th>location</th>\n",
       "      <th>price</th>\n",
       "      <th>agent</th>\n",
       "    </tr>\n",
       "  </thead>\n",
       "  <tbody>\n",
       "    <tr>\n",
       "      <th>0</th>\n",
       "      <td>Commercial Land</td>\n",
       "      <td>The Hub Karen</td>\n",
       "      <td>255000000</td>\n",
       "      <td>crystal-valuers-ltd</td>\n",
       "    </tr>\n",
       "    <tr>\n",
       "      <th>1</th>\n",
       "      <td>3 Bedroom Townhouse</td>\n",
       "      <td>Kiambu Road</td>\n",
       "      <td>35250000</td>\n",
       "      <td>ams-properties-limited</td>\n",
       "    </tr>\n",
       "    <tr>\n",
       "      <th>2</th>\n",
       "      <td>2 Bedroom Flat &amp; Apartment</td>\n",
       "      <td>Kindaruma Road</td>\n",
       "      <td>6600000</td>\n",
       "      <td>premium-properties</td>\n",
       "    </tr>\n",
       "    <tr>\n",
       "      <th>3</th>\n",
       "      <td>4 Bedroom Flat &amp; Apartment</td>\n",
       "      <td>Lavington</td>\n",
       "      <td>34000000</td>\n",
       "      <td>bright-homes-management</td>\n",
       "    </tr>\n",
       "    <tr>\n",
       "      <th>4</th>\n",
       "      <td>4 Bedroom Townhouse</td>\n",
       "      <td>Runda</td>\n",
       "      <td>27450000</td>\n",
       "      <td>palmier-properties-limited</td>\n",
       "    </tr>\n",
       "  </tbody>\n",
       "</table>\n",
       "</div>"
      ],
      "text/plain": [
       "                        title          location      price  \\\n",
       "0             Commercial Land     The Hub Karen  255000000   \n",
       "1         3 Bedroom Townhouse       Kiambu Road   35250000   \n",
       "2  2 Bedroom Flat & Apartment    Kindaruma Road    6600000   \n",
       "3  4 Bedroom Flat & Apartment         Lavington   34000000   \n",
       "4         4 Bedroom Townhouse             Runda   27450000   \n",
       "\n",
       "                        agent  \n",
       "0         crystal-valuers-ltd  \n",
       "1      ams-properties-limited  \n",
       "2          premium-properties  \n",
       "3     bright-homes-management  \n",
       "4  palmier-properties-limited  "
      ]
     },
     "execution_count": 18,
     "metadata": {},
     "output_type": "execute_result"
    }
   ],
   "source": [
    "df.head()"
   ]
  },
  {
   "cell_type": "code",
   "execution_count": 19,
   "metadata": {},
   "outputs": [],
   "source": [
    "df['price'] = df['price'].astype(float)"
   ]
  },
  {
   "cell_type": "code",
   "execution_count": 20,
   "metadata": {},
   "outputs": [
    {
     "data": {
      "text/html": [
       "<div>\n",
       "<style scoped>\n",
       "    .dataframe tbody tr th:only-of-type {\n",
       "        vertical-align: middle;\n",
       "    }\n",
       "\n",
       "    .dataframe tbody tr th {\n",
       "        vertical-align: top;\n",
       "    }\n",
       "\n",
       "    .dataframe thead th {\n",
       "        text-align: right;\n",
       "    }\n",
       "</style>\n",
       "<table border=\"1\" class=\"dataframe\">\n",
       "  <thead>\n",
       "    <tr style=\"text-align: right;\">\n",
       "      <th></th>\n",
       "      <th>price</th>\n",
       "    </tr>\n",
       "  </thead>\n",
       "  <tbody>\n",
       "    <tr>\n",
       "      <th>count</th>\n",
       "      <td>3616.00</td>\n",
       "    </tr>\n",
       "    <tr>\n",
       "      <th>mean</th>\n",
       "      <td>65000134.14</td>\n",
       "    </tr>\n",
       "    <tr>\n",
       "      <th>std</th>\n",
       "      <td>183039942.28</td>\n",
       "    </tr>\n",
       "    <tr>\n",
       "      <th>min</th>\n",
       "      <td>0.00</td>\n",
       "    </tr>\n",
       "    <tr>\n",
       "      <th>25%</th>\n",
       "      <td>13000000.00</td>\n",
       "    </tr>\n",
       "    <tr>\n",
       "      <th>50%</th>\n",
       "      <td>23500000.00</td>\n",
       "    </tr>\n",
       "    <tr>\n",
       "      <th>75%</th>\n",
       "      <td>65000000.00</td>\n",
       "    </tr>\n",
       "    <tr>\n",
       "      <th>max</th>\n",
       "      <td>7500000000.00</td>\n",
       "    </tr>\n",
       "  </tbody>\n",
       "</table>\n",
       "</div>"
      ],
      "text/plain": [
       "              price\n",
       "count       3616.00\n",
       "mean    65000134.14\n",
       "std    183039942.28\n",
       "min            0.00\n",
       "25%     13000000.00\n",
       "50%     23500000.00\n",
       "75%     65000000.00\n",
       "max   7500000000.00"
      ]
     },
     "execution_count": 20,
     "metadata": {},
     "output_type": "execute_result"
    }
   ],
   "source": [
    "df.describe()"
   ]
  },
  {
   "cell_type": "code",
   "execution_count": 21,
   "metadata": {},
   "outputs": [],
   "source": [
    "# dropping duplicates if any in the dataset\n",
    "\n",
    "df=df.drop_duplicates()\n"
   ]
  },
  {
   "cell_type": "code",
   "execution_count": 22,
   "metadata": {},
   "outputs": [
    {
     "data": {
      "text/plain": [
       "(3363, 4)"
      ]
     },
     "execution_count": 22,
     "metadata": {},
     "output_type": "execute_result"
    }
   ],
   "source": [
    "df.shape"
   ]
  },
  {
   "cell_type": "code",
   "execution_count": 25,
   "metadata": {},
   "outputs": [],
   "source": [
    "#aggregate per the property title and compute the mean , max , min and count per group\n",
    "agg_title_df = df.groupby('title').agg({'price':['count','mean','max','min']})\n",
    "agg_title_df.columns = [\"_\".join(x) for x in agg_title_df.columns.ravel()]\n",
    "agg_title_df= agg_title_df.reset_index()"
   ]
  },
  {
   "cell_type": "code",
   "execution_count": 26,
   "metadata": {},
   "outputs": [
    {
     "data": {
      "text/html": [
       "<div>\n",
       "<style scoped>\n",
       "    .dataframe tbody tr th:only-of-type {\n",
       "        vertical-align: middle;\n",
       "    }\n",
       "\n",
       "    .dataframe tbody tr th {\n",
       "        vertical-align: top;\n",
       "    }\n",
       "\n",
       "    .dataframe thead th {\n",
       "        text-align: right;\n",
       "    }\n",
       "</style>\n",
       "<table border=\"1\" class=\"dataframe\">\n",
       "  <thead>\n",
       "    <tr style=\"text-align: right;\">\n",
       "      <th></th>\n",
       "      <th>title</th>\n",
       "      <th>price_count</th>\n",
       "      <th>price_mean</th>\n",
       "      <th>price_max</th>\n",
       "      <th>price_min</th>\n",
       "    </tr>\n",
       "  </thead>\n",
       "  <tbody>\n",
       "    <tr>\n",
       "      <th>0</th>\n",
       "      <td>2 Bedroom Flat &amp; Apartment</td>\n",
       "      <td>1</td>\n",
       "      <td>10150000.00</td>\n",
       "      <td>10150000.00</td>\n",
       "      <td>10150000.00</td>\n",
       "    </tr>\n",
       "    <tr>\n",
       "      <th>1</th>\n",
       "      <td>3 Bedroom Flat &amp; Apartment</td>\n",
       "      <td>2</td>\n",
       "      <td>14500000.00</td>\n",
       "      <td>19500000.00</td>\n",
       "      <td>9500000.00</td>\n",
       "    </tr>\n",
       "    <tr>\n",
       "      <th>2</th>\n",
       "      <td>4 Bedroom Flat &amp; Apartment</td>\n",
       "      <td>1</td>\n",
       "      <td>25000000.00</td>\n",
       "      <td>25000000.00</td>\n",
       "      <td>25000000.00</td>\n",
       "    </tr>\n",
       "    <tr>\n",
       "      <th>3</th>\n",
       "      <td>4 Bedroom House</td>\n",
       "      <td>1</td>\n",
       "      <td>35000000.00</td>\n",
       "      <td>35000000.00</td>\n",
       "      <td>35000000.00</td>\n",
       "    </tr>\n",
       "    <tr>\n",
       "      <th>4</th>\n",
       "      <td>Commercial Land</td>\n",
       "      <td>1</td>\n",
       "      <td>793000000.00</td>\n",
       "      <td>793000000.00</td>\n",
       "      <td>793000000.00</td>\n",
       "    </tr>\n",
       "  </tbody>\n",
       "</table>\n",
       "</div>"
      ],
      "text/plain": [
       "                         title  price_count   price_mean    price_max  \\\n",
       "0   2 Bedroom Flat & Apartment            1  10150000.00  10150000.00   \n",
       "1   3 Bedroom Flat & Apartment            2  14500000.00  19500000.00   \n",
       "2   4 Bedroom Flat & Apartment            1  25000000.00  25000000.00   \n",
       "3              4 Bedroom House            1  35000000.00  35000000.00   \n",
       "4              Commercial Land            1 793000000.00 793000000.00   \n",
       "\n",
       "     price_min  \n",
       "0  10150000.00  \n",
       "1   9500000.00  \n",
       "2  25000000.00  \n",
       "3  35000000.00  \n",
       "4 793000000.00  "
      ]
     },
     "execution_count": 26,
     "metadata": {},
     "output_type": "execute_result"
    }
   ],
   "source": [
    "agg_title_df.head()"
   ]
  },
  {
   "cell_type": "code",
   "execution_count": 28,
   "metadata": {},
   "outputs": [],
   "source": [
    "#sorting the properties in descending order\n",
    "agg_title_df_sorted = agg_title_df.sort_values(by='price_count', ascending = False)"
   ]
  },
  {
   "cell_type": "code",
   "execution_count": 30,
   "metadata": {},
   "outputs": [
    {
     "name": "stdout",
     "output_type": "stream",
     "text": [
      "(61, 5)\n"
     ]
    },
    {
     "data": {
      "text/html": [
       "<div>\n",
       "<style scoped>\n",
       "    .dataframe tbody tr th:only-of-type {\n",
       "        vertical-align: middle;\n",
       "    }\n",
       "\n",
       "    .dataframe tbody tr th {\n",
       "        vertical-align: top;\n",
       "    }\n",
       "\n",
       "    .dataframe thead th {\n",
       "        text-align: right;\n",
       "    }\n",
       "</style>\n",
       "<table border=\"1\" class=\"dataframe\">\n",
       "  <thead>\n",
       "    <tr style=\"text-align: right;\">\n",
       "      <th></th>\n",
       "      <th>title</th>\n",
       "      <th>price_count</th>\n",
       "      <th>price_mean</th>\n",
       "      <th>price_max</th>\n",
       "      <th>price_min</th>\n",
       "    </tr>\n",
       "  </thead>\n",
       "  <tbody>\n",
       "    <tr>\n",
       "      <th>13</th>\n",
       "      <td>3 Bedroom Flat &amp; Apartment</td>\n",
       "      <td>837</td>\n",
       "      <td>18664691.88</td>\n",
       "      <td>55000000.00</td>\n",
       "      <td>65000.00</td>\n",
       "    </tr>\n",
       "    <tr>\n",
       "      <th>8</th>\n",
       "      <td>2 Bedroom Flat &amp; Apartment</td>\n",
       "      <td>435</td>\n",
       "      <td>14563152.10</td>\n",
       "      <td>675000000.00</td>\n",
       "      <td>0.00</td>\n",
       "    </tr>\n",
       "    <tr>\n",
       "      <th>21</th>\n",
       "      <td>4 Bedroom Flat &amp; Apartment</td>\n",
       "      <td>274</td>\n",
       "      <td>29555620.43</td>\n",
       "      <td>245000000.00</td>\n",
       "      <td>0.00</td>\n",
       "    </tr>\n",
       "    <tr>\n",
       "      <th>54</th>\n",
       "      <td>Land</td>\n",
       "      <td>238</td>\n",
       "      <td>148214885.53</td>\n",
       "      <td>1500000000.00</td>\n",
       "      <td>0.00</td>\n",
       "    </tr>\n",
       "    <tr>\n",
       "      <th>33</th>\n",
       "      <td>5 Bedroom Townhouse</td>\n",
       "      <td>194</td>\n",
       "      <td>83136030.93</td>\n",
       "      <td>300000000.00</td>\n",
       "      <td>28000000.00</td>\n",
       "    </tr>\n",
       "  </tbody>\n",
       "</table>\n",
       "</div>"
      ],
      "text/plain": [
       "                         title  price_count   price_mean     price_max  \\\n",
       "13  3 Bedroom Flat & Apartment          837  18664691.88   55000000.00   \n",
       "8   2 Bedroom Flat & Apartment          435  14563152.10  675000000.00   \n",
       "21  4 Bedroom Flat & Apartment          274  29555620.43  245000000.00   \n",
       "54                        Land          238 148214885.53 1500000000.00   \n",
       "33         5 Bedroom Townhouse          194  83136030.93  300000000.00   \n",
       "\n",
       "     price_min  \n",
       "13    65000.00  \n",
       "8         0.00  \n",
       "21        0.00  \n",
       "54        0.00  \n",
       "33 28000000.00  "
      ]
     },
     "execution_count": 30,
     "metadata": {},
     "output_type": "execute_result"
    }
   ],
   "source": [
    "print(agg_title_df_sorted.shape)\n",
    "agg_title_df_sorted.head()"
   ]
  },
  {
   "cell_type": "code",
   "execution_count": 33,
   "metadata": {},
   "outputs": [
    {
     "data": {
      "text/plain": [
       "(array([ 0,  1,  2,  3,  4,  5,  6,  7,  8,  9, 10, 11, 12, 13, 14, 15, 16,\n",
       "        17, 18, 19, 20, 21, 22, 23, 24, 25, 26, 27, 28, 29, 30, 31, 32, 33,\n",
       "        34, 35, 36, 37, 38, 39, 40, 41, 42, 43, 44, 45, 46, 47, 48, 49, 50,\n",
       "        51, 52, 53, 54, 55, 56, 57, 58, 59, 60]),\n",
       " <a list of 61 Text xticklabel objects>)"
      ]
     },
     "execution_count": 33,
     "metadata": {},
     "output_type": "execute_result"
    },
    {
     "data": {
      "image/png": "[encoded data removed]",
      "text/plain": [
       "<Figure size 1440x360 with 1 Axes>"
      ]
     },
     "metadata": {
      "needs_background": "light"
     },
     "output_type": "display_data"
    }
   ],
   "source": [
    "plt.figure(figsize=(20,5))\n",
    "#sns.set(style=\"whitegrid\")\n",
    "ax = sns.barplot(x=\"title\", y=\"price_count\", data=agg_title_df_sorted)\n",
    "ax.set(xlabel='Title', ylabel='No. of Properties')\n",
    "\n",
    "plt.xticks(\n",
    "    rotation=90, \n",
    "    horizontalalignment='right',\n",
    "    fontweight='light',\n",
    "    fontsize='x-large'  \n",
    ")"
   ]
  },
  {
   "cell_type": "code",
   "execution_count": null,
   "metadata": {},
   "outputs": [],
   "source": []
  }
 ],
 "metadata": {
  "kernelspec": {
   "display_name": "Python 3",
   "language": "python",
   "name": "python3"
  },
  "language_info": {
   "codemirror_mode": {
    "name": "ipython",
    "version": 3
   },
   "file_extension": ".py",
   "mimetype": "text/x-python",
   "name": "python",
   "nbconvert_exporter": "python",
   "pygments_lexer": "ipython3",
   "version": "3.6.9"
  }
 },
 "nbformat": 4,
 "nbformat_minor": 2
}
