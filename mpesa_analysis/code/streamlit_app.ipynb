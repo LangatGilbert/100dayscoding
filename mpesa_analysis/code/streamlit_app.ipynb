{
 "cells": [
  {
   "cell_type": "code",
   "execution_count": 1,
   "metadata": {},
   "outputs": [],
   "source": [
    "#modules/packages required\n",
    "import os\n",
    "\n",
    "import base64\n",
    "\n",
    "#for data manipulation/wrangling\n",
    "import numpy as np\n",
    "from numpy import int64\n",
    "import pandas as pd\n",
    "\n",
    "#for data visualization\n",
    "import matplotlib as mpl\n",
    "import matplotlib.pyplot as plt\n",
    "import plotly.express as px\n",
    "from plotly.subplots import make_subplots\n",
    "import plotly.graph_objects as go\n",
    "\n",
    "#for date manipulation\n",
    "import datetime as datetime\n",
    "import calendar\n",
    "\n",
    "#dashboard creation\n",
    "import streamlit as st\n",
    "\n",
    "\n",
    "#for pdf extraction as pdf\n",
    "#import tabula\n",
    "\n",
    "# Supress unnecessary warnings so that presentation looks clean\n",
    "import warnings\n",
    "warnings.filterwarnings('ignore')"
   ]
  },
  {
   "cell_type": "code",
   "execution_count": 2,
   "metadata": {},
   "outputs": [],
   "source": [
    "mpesa_df = pd.read_csv(\"../data/notebook_outputs/aggregated_mpesa_charges.csv\")"
   ]
  },
  {
   "cell_type": "code",
   "execution_count": 3,
   "metadata": {},
   "outputs": [
    {
     "data": {
      "text/html": [
       "<div>\n",
       "<style scoped>\n",
       "    .dataframe tbody tr th:only-of-type {\n",
       "        vertical-align: middle;\n",
       "    }\n",
       "\n",
       "    .dataframe tbody tr th {\n",
       "        vertical-align: top;\n",
       "    }\n",
       "\n",
       "    .dataframe thead th {\n",
       "        text-align: right;\n",
       "    }\n",
       "</style>\n",
       "<table border=\"1\" class=\"dataframe\">\n",
       "  <thead>\n",
       "    <tr style=\"text-align: right;\">\n",
       "      <th></th>\n",
       "      <th>receipt_no</th>\n",
       "      <th>completion_time</th>\n",
       "      <th>details</th>\n",
       "      <th>status</th>\n",
       "      <th>paid_in</th>\n",
       "      <th>withdrawn</th>\n",
       "      <th>balance</th>\n",
       "      <th>year</th>\n",
       "      <th>month</th>\n",
       "      <th>transactions_cohort</th>\n",
       "      <th>transactions_group</th>\n",
       "    </tr>\n",
       "  </thead>\n",
       "  <tbody>\n",
       "    <tr>\n",
       "      <th>0</th>\n",
       "      <td>NLL6TDOVMM</td>\n",
       "      <td>2019-12-21 07:07:14</td>\n",
       "      <td>Airtime Purchase</td>\n",
       "      <td>Completed</td>\n",
       "      <td>0.0</td>\n",
       "      <td>100.0</td>\n",
       "      <td>31000.46</td>\n",
       "      <td>2019</td>\n",
       "      <td>December</td>\n",
       "      <td>2019.December</td>\n",
       "      <td>Airtime</td>\n",
       "    </tr>\n",
       "    <tr>\n",
       "      <th>1</th>\n",
       "      <td>NLL1TEOQH1</td>\n",
       "      <td>2019-12-21 08:05:26</td>\n",
       "      <td>Customer Withdrawal At Agent Till 233409 - Nat...</td>\n",
       "      <td>Completed</td>\n",
       "      <td>0.0</td>\n",
       "      <td>15000.0</td>\n",
       "      <td>16000.46</td>\n",
       "      <td>2019</td>\n",
       "      <td>December</td>\n",
       "      <td>2019.December</td>\n",
       "      <td>Customer Withdrawals</td>\n",
       "    </tr>\n",
       "    <tr>\n",
       "      <th>2</th>\n",
       "      <td>NLL1TEOQH1</td>\n",
       "      <td>2019-12-21 08:05:26</td>\n",
       "      <td>Withdrawal Charge</td>\n",
       "      <td>Completed</td>\n",
       "      <td>0.0</td>\n",
       "      <td>162.0</td>\n",
       "      <td>15838.46</td>\n",
       "      <td>2019</td>\n",
       "      <td>December</td>\n",
       "      <td>2019.December</td>\n",
       "      <td>Withdrawal Charges</td>\n",
       "    </tr>\n",
       "    <tr>\n",
       "      <th>3</th>\n",
       "      <td>NLL7U6LEUV</td>\n",
       "      <td>2019-12-21 22:19:36</td>\n",
       "      <td>Customer Transfer to 254724775068 - CALEB CHER...</td>\n",
       "      <td>Completed</td>\n",
       "      <td>0.0</td>\n",
       "      <td>2028.0</td>\n",
       "      <td>13810.46</td>\n",
       "      <td>2019</td>\n",
       "      <td>December</td>\n",
       "      <td>2019.December</td>\n",
       "      <td>Customer Transfer</td>\n",
       "    </tr>\n",
       "    <tr>\n",
       "      <th>4</th>\n",
       "      <td>NLL7U6LEUV</td>\n",
       "      <td>2019-12-21 22:19:36</td>\n",
       "      <td>Customer Transfer of Funds Charge</td>\n",
       "      <td>Completed</td>\n",
       "      <td>0.0</td>\n",
       "      <td>41.0</td>\n",
       "      <td>13769.46</td>\n",
       "      <td>2019</td>\n",
       "      <td>December</td>\n",
       "      <td>2019.December</td>\n",
       "      <td>Funds Charges</td>\n",
       "    </tr>\n",
       "  </tbody>\n",
       "</table>\n",
       "</div>"
      ],
      "text/plain": [
       "   receipt_no      completion_time  \\\n",
       "0  NLL6TDOVMM  2019-12-21 07:07:14   \n",
       "1  NLL1TEOQH1  2019-12-21 08:05:26   \n",
       "2  NLL1TEOQH1  2019-12-21 08:05:26   \n",
       "3  NLL7U6LEUV  2019-12-21 22:19:36   \n",
       "4  NLL7U6LEUV  2019-12-21 22:19:36   \n",
       "\n",
       "                                             details     status  paid_in  \\\n",
       "0                                   Airtime Purchase  Completed      0.0   \n",
       "1  Customer Withdrawal At Agent Till 233409 - Nat...  Completed      0.0   \n",
       "2                                  Withdrawal Charge  Completed      0.0   \n",
       "3  Customer Transfer to 254724775068 - CALEB CHER...  Completed      0.0   \n",
       "4                  Customer Transfer of Funds Charge  Completed      0.0   \n",
       "\n",
       "   withdrawn   balance  year     month transactions_cohort  \\\n",
       "0      100.0  31000.46  2019  December       2019.December   \n",
       "1    15000.0  16000.46  2019  December       2019.December   \n",
       "2      162.0  15838.46  2019  December       2019.December   \n",
       "3     2028.0  13810.46  2019  December       2019.December   \n",
       "4       41.0  13769.46  2019  December       2019.December   \n",
       "\n",
       "     transactions_group  \n",
       "0               Airtime  \n",
       "1  Customer Withdrawals  \n",
       "2    Withdrawal Charges  \n",
       "3     Customer Transfer  \n",
       "4         Funds Charges  "
      ]
     },
     "execution_count": 3,
     "metadata": {},
     "output_type": "execute_result"
    }
   ],
   "source": [
    "mpesa_df.head()"
   ]
  },
  {
   "cell_type": "code",
   "execution_count": 4,
   "metadata": {},
   "outputs": [
    {
     "data": {
      "text/plain": [
       "<streamlit.delta_generator.DeltaGenerator at 0x1c873ff2f70>"
      ]
     },
     "execution_count": 4,
     "metadata": {},
     "output_type": "execute_result"
    }
   ],
   "source": [
    "#setting up the title\n",
    "st.title(\"Mpesa Transactions  Data Analysis for Year 2020\")\n",
    "\n",
    "st.markdown(\"\"\"\n",
    "This is an hobby project trying to understand my expenses|income during the past year. The Goal is to answer the following\"\n",
    "* Who do I send money often?\n",
    "* In most cases where do my incomes come from on month-to-month basis?\n",
    "* Most common merchants I transact with\n",
    "\"\"\"\n",
    ")"
   ]
  },
  {
   "cell_type": "code",
   "execution_count": 5,
   "metadata": {},
   "outputs": [],
   "source": [
    "st.sidebar.header(\"Input A Specific Month of Interest\")\n",
    "selected_year = st.sidebar.selectbox('transactions_cohort', list(reversed(range(2015,2021))))"
   ]
  },
  {
   "cell_type": "code",
   "execution_count": 6,
   "metadata": {},
   "outputs": [],
   "source": [
    "# Sidebar - Group selection selection\n",
    "sorted_unique_group = sorted(mpesa_df.transactions_group.unique())\n",
    "selected_group = st.sidebar.multiselect('transactions_group', sorted_unique_group, sorted_unique_group)"
   ]
  },
  {
   "cell_type": "code",
   "execution_count": 7,
   "metadata": {},
   "outputs": [],
   "source": [
    "# Sidebar - Year selection\n",
    "# unique_pos = ['C','PF','SF','PG','SG']\n",
    "# selected_pos = st.sidebar.multiselect('Position', unique_pos, unique_pos)"
   ]
  },
  {
   "cell_type": "code",
   "execution_count": 8,
   "metadata": {},
   "outputs": [],
   "source": [
    "#Filtering data\n",
    "df_selected_group = mpesa_df[(mpesa_df.transactions_group.isin(selected_group))]# & (mpesa_df.Pos.isin(selected_pos))]"
   ]
  },
  {
   "cell_type": "code",
   "execution_count": 9,
   "metadata": {},
   "outputs": [
    {
     "data": {
      "text/plain": [
       "<streamlit.delta_generator.DeltaGenerator at 0x1c873ff2f70>"
      ]
     },
     "execution_count": 9,
     "metadata": {},
     "output_type": "execute_result"
    }
   ],
   "source": [
    "st.header('Display Player Stats of Selected Group(s)')\n",
    "st.write('Data Dimension: ' + str(df_selected_group.shape[0]) + ' rows and ' + str(df_selected_group.shape[1]) + ' columns.')\n",
    "st.dataframe(df_selected_group)"
   ]
  },
  {
   "cell_type": "code",
   "execution_count": 10,
   "metadata": {},
   "outputs": [
    {
     "data": {
      "text/plain": [
       "<streamlit.delta_generator.DeltaGenerator at 0x1c873ff2f70>"
      ]
     },
     "execution_count": 10,
     "metadata": {},
     "output_type": "execute_result"
    }
   ],
   "source": [
    "# Download NBA player stats data\n",
    "# https://discuss.streamlit.io/t/how-to-download-file-in-streamlit/1806\n",
    "def filedownload(df):\n",
    "    csv = df.to_csv(index=False)\n",
    "    b64 = base64.b64encode(csv.encode()).decode()  # strings <-> bytes conversions\n",
    "    href = f'<a href=\"data:file/csv;base64,{b64}\" download=\"mpesa_df.csv\">Download CSV File</a>'\n",
    "    return href\n",
    "\n",
    "st.markdown(filedownload(df_selected_group), unsafe_allow_html=True)"
   ]
  },
  {
   "cell_type": "code",
   "execution_count": 11,
   "metadata": {},
   "outputs": [
    {
     "data": {
      "text/plain": [
       "<streamlit.delta_generator.DeltaGenerator at 0x1c872988b20>"
      ]
     },
     "execution_count": 11,
     "metadata": {},
     "output_type": "execute_result"
    }
   ],
   "source": [
    "st.sidebar.title(\"Mpesa Transactions analysis for March 2020 to Aug 2020:\")\n",
    "st.markdown(\"This application is a Mpesa Transactions dashboard for March-August 2020:\")\n",
    "st.sidebar.markdown(\"This application is a Mpesa Transactions dashboard for March-August 2020:\")"
   ]
  },
  {
   "cell_type": "code",
   "execution_count": 12,
   "metadata": {},
   "outputs": [],
   "source": [
    "#creating select box\n",
    "st.sidebar.title(\"Gainers\")\n",
    "select = st.sidebar.selectbox('Share', ['Adani Green Energy', 'GMM Pfaudler', 'AGC Networks', 'Alkyl Amines Chem', 'IOL Chem & Pharma'], key='1')"
   ]
  },
  {
   "cell_type": "code",
   "execution_count": null,
   "metadata": {},
   "outputs": [],
   "source": []
  }
 ],
 "metadata": {
  "kernelspec": {
   "display_name": "Python 3",
   "language": "python",
   "name": "python3"
  },
  "language_info": {
   "codemirror_mode": {
    "name": "ipython",
    "version": 3
   },
   "file_extension": ".py",
   "mimetype": "text/x-python",
   "name": "python",
   "nbconvert_exporter": "python",
   "pygments_lexer": "ipython3",
   "version": "3.8.5"
  }
 },
 "nbformat": 4,
 "nbformat_minor": 2
}
