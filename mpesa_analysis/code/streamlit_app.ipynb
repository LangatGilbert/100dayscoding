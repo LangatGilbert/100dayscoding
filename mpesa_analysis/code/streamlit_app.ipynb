{
 "cells": [
  {
   "cell_type": "code",
   "execution_count": 1,
   "metadata": {},
   "outputs": [],
   "source": [
    "#modules/packages required\n",
    "import os\n",
    "\n",
    "#for data manipulation/wrangling\n",
    "import numpy as np\n",
    "from numpy import int64\n",
    "import pandas as pd\n",
    "\n",
    "#for data visualization\n",
    "import matplotlib as mpl\n",
    "import matplotlib.pyplot as plt\n",
    "import plotly.express as px\n",
    "from plotly.subplots import make_subplots\n",
    "import plotly.graph_objects as go\n",
    "\n",
    "#for date manipulation\n",
    "import datetime as datetime\n",
    "import calendar\n",
    "\n",
    "#dashboard creation\n",
    "import streamlit as st\n",
    "\n",
    "\n",
    "#for pdf extraction as pdf\n",
    "import tabula\n",
    "\n",
    "# Supress unnecessary warnings so that presentation looks clean\n",
    "import warnings\n",
    "warnings.filterwarnings('ignore')"
   ]
  },
  {
   "cell_type": "code",
   "execution_count": 3,
   "metadata": {},
   "outputs": [],
   "source": [
    "mpesa_df = pd.read_csv(\"../data/notebook_outputs/aggregated_mpesa_charges.csv\")"
   ]
  },
  {
   "cell_type": "code",
   "execution_count": 4,
   "metadata": {},
   "outputs": [
    {
     "data": {
      "text/plain": [
       "<streamlit.delta_generator.DeltaGenerator at 0x1a4430c9da0>"
      ]
     },
     "execution_count": 4,
     "metadata": {},
     "output_type": "execute_result"
    }
   ],
   "source": [
    "#setting up the title\n",
    "st.title(\"Mpesa Transactions analysis for March 2020 to Aug 2020:\")\n",
    "st.sidebar.title(\"Mpesa Transactions analysis for March 2020 to Aug 2020:\")\n",
    "st.markdown(\"This application is a Mpesa Transactions dashboard for March-August 2020:\")\n",
    "st.sidebar.markdown(\"This application is a Mpesa Transactions dashboard for March-August 2020:\")"
   ]
  },
  {
   "cell_type": "code",
   "execution_count": null,
   "metadata": {},
   "outputs": [],
   "source": [
    "#creating select box\n",
    "st.sidebar.title(\"Gainers\")\n",
    "select = st.sidebar.selectbox('Share', ['Adani Green Energy', 'GMM Pfaudler', 'AGC Networks', 'Alkyl Amines Chem', 'IOL Chem & Pharma'], key='1')"
   ]
  }
 ],
 "metadata": {
  "kernelspec": {
   "display_name": "Python 3",
   "language": "python",
   "name": "python3"
  },
  "language_info": {
   "codemirror_mode": {
    "name": "ipython",
    "version": 3
   },
   "file_extension": ".py",
   "mimetype": "text/x-python",
   "name": "python",
   "nbconvert_exporter": "python",
   "pygments_lexer": "ipython3",
   "version": "3.6.9"
  }
 },
 "nbformat": 4,
 "nbformat_minor": 2
}
