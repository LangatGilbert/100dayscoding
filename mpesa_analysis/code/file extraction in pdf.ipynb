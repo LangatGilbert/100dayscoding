{
 "cells": [
  {
   "cell_type": "markdown",
   "metadata": {},
   "source": [
    "The aim of this notebook is to help user understand his/her MPESA transactions in a given time frame. What is required is an pdf upload of the mpesa statement and supplied password."
   ]
  },
  {
   "cell_type": "code",
   "execution_count": 1,
   "metadata": {},
   "outputs": [],
   "source": [
    "#install packages/modules if missing in your local machine\n",
    "#pip install --upgrade plotly\n",
    "#pip install streamlit"
   ]
  },
  {
   "cell_type": "code",
   "execution_count": 2,
   "metadata": {},
   "outputs": [],
   "source": [
    "# Supress unnecessary warnings so that presentation looks clean\n",
    "import warnings\n",
    "warnings.filterwarnings('ignore')\n",
    "\n",
    "#modules/packages required\n",
    "import os\n",
    "\n",
    "#for data manipulation/wrangling\n",
    "import numpy as np\n",
    "from numpy import int64\n",
    "import pandas as pd\n",
    "\n",
    "#for data visualization\n",
    "import matplotlib as mpl\n",
    "import matplotlib.pyplot as plt\n",
    "import plotly.express as px\n",
    "\n",
    "#for date manipulation\n",
    "import datetime as datetime\n",
    "import calendar\n",
    "\n",
    "\n",
    "#for pdf extraction as pdf\n",
    "import tabula\n",
    "\n",
    "\n",
    "# to print out all the outputs\n",
    "from IPython.core.interactiveshell import InteractiveShell\n",
    "InteractiveShell.ast_node_interactivity = \"all\"\n",
    "# set display options\n",
    "pd.set_option('display.max_columns', None)\n",
    "pd.set_option('display.max_rows', None)\n",
    "pd.set_option('display.max_colwidth', -1)"
   ]
  },
  {
   "cell_type": "code",
   "execution_count": 3,
   "metadata": {},
   "outputs": [],
   "source": [
    "# Function to calculate missing values by column\n",
    "def missing_values_table(df):\n",
    "    #Total missing values \n",
    "    mis_val = df.isnull().sum()\n",
    "    \n",
    "    #percentage of missing values\n",
    "    mis_val_percent = 100 * df.isnull().sum() / len(df)\n",
    "    \n",
    "    # Make a table with the results\n",
    "    mis_val_table = pd.concat([mis_val,mis_val_percent], axis =1)\n",
    "    \n",
    "    # Rename the colums\n",
    "    mis_val_table_ren_columns = mis_val_table.rename(\n",
    "    columns = {0 : 'Missing Values', 1 : '% of Total Values'})\n",
    "    \n",
    "    # Sort the table by percentage of missing descending\n",
    "    mis_val_table_ren_columns = mis_val_table_ren_columns[\n",
    "        mis_val_table_ren_columns.iloc[:,1] != 0].sort_values(\n",
    "        '% of Total Values', ascending=False).round(1)\n",
    "    \n",
    "    # Print some summary information\n",
    "    print(\"Your selected dataframe has \" + str(df.shape[1])+ \" columns.\\n\"\n",
    "         \"There are \" + str(mis_val_table_ren_columns.shape[0])+\n",
    "         \" columns that have missing values.\")\n",
    "    \n",
    "    # Return the dataframe with missing information\n",
    "    return mis_val_table_ren_columns\n",
    "\n",
    "#function for checking missing values per column\n",
    "\n",
    "#Create a new function:\n",
    "def num_missing(x):\n",
    "    return sum(x.isnull())\n"
   ]
  },
  {
   "cell_type": "markdown",
   "metadata": {},
   "source": [
    "Data uploaded is done here. Requires the pdf statement and password"
   ]
  },
  {
   "cell_type": "code",
   "execution_count": 4,
   "metadata": {},
   "outputs": [],
   "source": [
    "dfs = tabula.read_pdf('../data/raw_data/MPESA_Statement_20191221_to_20201221_254711170904.pdf',pages=\"all\",multiple_tables=True,password = '27791676',stream=True, lattice=  True)"
   ]
  },
  {
   "cell_type": "code",
   "execution_count": 5,
   "metadata": {},
   "outputs": [
    {
     "name": "stdout",
     "output_type": "stream",
     "text": [
      "There are 34 tables in the data\n"
     ]
    }
   ],
   "source": [
    "#check the number of tables\n",
    "print(\"There are {0} tables in the data\".format(len(dfs)))"
   ]
  },
  {
   "cell_type": "code",
   "execution_count": 6,
   "metadata": {},
   "outputs": [
    {
     "data": {
      "text/html": [
       "<div>\n",
       "<style scoped>\n",
       "    .dataframe tbody tr th:only-of-type {\n",
       "        vertical-align: middle;\n",
       "    }\n",
       "\n",
       "    .dataframe tbody tr th {\n",
       "        vertical-align: top;\n",
       "    }\n",
       "\n",
       "    .dataframe thead th {\n",
       "        text-align: right;\n",
       "    }\n",
       "</style>\n",
       "<table border=\"1\" class=\"dataframe\">\n",
       "  <thead>\n",
       "    <tr style=\"text-align: right;\">\n",
       "      <th></th>\n",
       "      <th>0</th>\n",
       "      <th>1</th>\n",
       "      <th>2</th>\n",
       "      <th>3</th>\n",
       "      <th>4</th>\n",
       "      <th>5</th>\n",
       "      <th>6</th>\n",
       "    </tr>\n",
       "  </thead>\n",
       "  <tbody>\n",
       "    <tr>\n",
       "      <th>0</th>\n",
       "      <td>Receipt No.</td>\n",
       "      <td>Completion Time</td>\n",
       "      <td>Details</td>\n",
       "      <td>Transaction\\rStatus</td>\n",
       "      <td>Paid In</td>\n",
       "      <td>Withdrawn</td>\n",
       "      <td>Balance</td>\n",
       "    </tr>\n",
       "    <tr>\n",
       "      <th>1</th>\n",
       "      <td>OLL9SJFI4Z</td>\n",
       "      <td>2020-12-21 16:27:39</td>\n",
       "      <td>Withdrawal Charge</td>\n",
       "      <td>Completed</td>\n",
       "      <td>NaN</td>\n",
       "      <td>-28.00</td>\n",
       "      <td>285.72</td>\n",
       "    </tr>\n",
       "    <tr>\n",
       "      <th>2</th>\n",
       "      <td>OLL9SJFI4Z</td>\n",
       "      <td>2020-12-21 16:27:39</td>\n",
       "      <td>Customer Withdrawal At Agent Till 197334 - Malezi\\rmobiles ventures ltd Roysambu near Pemca Holdings\\rLumumba Drive.</td>\n",
       "      <td>Completed</td>\n",
       "      <td>NaN</td>\n",
       "      <td>-1,200.00</td>\n",
       "      <td>313.72</td>\n",
       "    </tr>\n",
       "    <tr>\n",
       "      <th>3</th>\n",
       "      <td>OLL6SCJSFO</td>\n",
       "      <td>2020-12-21 13:56:16</td>\n",
       "      <td>Pay Bill Online to 200200 - Safaricom Post Paid Acc.\\r0711170904</td>\n",
       "      <td>Completed</td>\n",
       "      <td>NaN</td>\n",
       "      <td>-500.00</td>\n",
       "      <td>1,513.72</td>\n",
       "    </tr>\n",
       "    <tr>\n",
       "      <th>4</th>\n",
       "      <td>OLL9S703PL</td>\n",
       "      <td>2020-12-21 11:53:08</td>\n",
       "      <td>Customer Transfer of Funds Charge</td>\n",
       "      <td>Completed</td>\n",
       "      <td>NaN</td>\n",
       "      <td>-41.00</td>\n",
       "      <td>2,013.72</td>\n",
       "    </tr>\n",
       "  </tbody>\n",
       "</table>\n",
       "</div>"
      ],
      "text/plain": [
       "             0                    1  \\\n",
       "0  Receipt No.  Completion Time       \n",
       "1  OLL9SJFI4Z   2020-12-21 16:27:39   \n",
       "2  OLL9SJFI4Z   2020-12-21 16:27:39   \n",
       "3  OLL6SCJSFO   2020-12-21 13:56:16   \n",
       "4  OLL9S703PL   2020-12-21 11:53:08   \n",
       "\n",
       "                                                                                                                      2  \\\n",
       "0  Details                                                                                                                \n",
       "1  Withdrawal Charge                                                                                                      \n",
       "2  Customer Withdrawal At Agent Till 197334 - Malezi\\rmobiles ventures ltd Roysambu near Pemca Holdings\\rLumumba Drive.   \n",
       "3  Pay Bill Online to 200200 - Safaricom Post Paid Acc.\\r0711170904                                                       \n",
       "4  Customer Transfer of Funds Charge                                                                                      \n",
       "\n",
       "                     3        4          5         6  \n",
       "0  Transaction\\rStatus  Paid In  Withdrawn  Balance   \n",
       "1  Completed            NaN      -28.00     285.72    \n",
       "2  Completed            NaN      -1,200.00  313.72    \n",
       "3  Completed            NaN      -500.00    1,513.72  \n",
       "4  Completed            NaN      -41.00     2,013.72  "
      ]
     },
     "execution_count": 6,
     "metadata": {},
     "output_type": "execute_result"
    }
   ],
   "source": [
    "df = dfs[1]\n",
    "df.head()"
   ]
  },
  {
   "cell_type": "code",
   "execution_count": 7,
   "metadata": {},
   "outputs": [
    {
     "data": {
      "text/plain": [
       "(49, 8)"
      ]
     },
     "execution_count": 7,
     "metadata": {},
     "output_type": "execute_result"
    }
   ],
   "source": [
    "df_s = dfs[3]\n",
    "#grab the first row for the header\n",
    "new_header = df_s.iloc[0] \n",
    "#take the data less the header row\n",
    "df_s = df_s[1:]\n",
    "df_s.columns = new_header #set the header row as the df header\n",
    "df_s.shape"
   ]
  },
  {
   "cell_type": "code",
   "execution_count": 8,
   "metadata": {},
   "outputs": [
    {
     "data": {
      "text/html": [
       "<div>\n",
       "<style scoped>\n",
       "    .dataframe tbody tr th:only-of-type {\n",
       "        vertical-align: middle;\n",
       "    }\n",
       "\n",
       "    .dataframe tbody tr th {\n",
       "        vertical-align: top;\n",
       "    }\n",
       "\n",
       "    .dataframe thead th {\n",
       "        text-align: right;\n",
       "    }\n",
       "</style>\n",
       "<table border=\"1\" class=\"dataframe\">\n",
       "  <thead>\n",
       "    <tr style=\"text-align: right;\">\n",
       "      <th></th>\n",
       "      <th>Receipt No.</th>\n",
       "      <th>Completion Time</th>\n",
       "      <th>Details</th>\n",
       "      <th>Transaction\\rStatus</th>\n",
       "      <th>Paid In</th>\n",
       "      <th>Withdrawn</th>\n",
       "      <th>Balance</th>\n",
       "      <th>NaN</th>\n",
       "    </tr>\n",
       "  </thead>\n",
       "  <tbody>\n",
       "    <tr>\n",
       "      <th>1</th>\n",
       "      <td>OLC0HJ3QEG</td>\n",
       "      <td>2020-12-12 18:26:21</td>\n",
       "      <td>Customer Withdrawal At Agent Till 439844 - Junja\\rCompany ltd Homeyard Twin electronics Agg</td>\n",
       "      <td>Completed</td>\n",
       "      <td>NaN</td>\n",
       "      <td>-2,500.00</td>\n",
       "      <td>2,087.93</td>\n",
       "      <td>NaN</td>\n",
       "    </tr>\n",
       "    <tr>\n",
       "      <th>2</th>\n",
       "      <td>OLC9HDBT4P</td>\n",
       "      <td>2020-12-12 16:40:28</td>\n",
       "      <td>Customer Transfer to 254704700111 - KIPYEGON\\rRONNY BORE</td>\n",
       "      <td>Completed</td>\n",
       "      <td>NaN</td>\n",
       "      <td>-177.00</td>\n",
       "      <td>4,587.93</td>\n",
       "      <td>NaN</td>\n",
       "    </tr>\n",
       "    <tr>\n",
       "      <th>3</th>\n",
       "      <td>OLC6HBKFQ2</td>\n",
       "      <td>2020-12-12 16:03:48</td>\n",
       "      <td>Funds received from 0791913116 - Kipyegon   Titus</td>\n",
       "      <td>Completed</td>\n",
       "      <td>1,700.00</td>\n",
       "      <td>NaN</td>\n",
       "      <td>4,764.93</td>\n",
       "      <td>NaN</td>\n",
       "    </tr>\n",
       "    <tr>\n",
       "      <th>4</th>\n",
       "      <td>OLC6H9C29C</td>\n",
       "      <td>2020-12-12 15:16:16</td>\n",
       "      <td>Customer Transfer of Funds Charge</td>\n",
       "      <td>Completed</td>\n",
       "      <td>NaN</td>\n",
       "      <td>-26.00</td>\n",
       "      <td>3,064.93</td>\n",
       "      <td>NaN</td>\n",
       "    </tr>\n",
       "    <tr>\n",
       "      <th>5</th>\n",
       "      <td>OLC6H9C29C</td>\n",
       "      <td>2020-12-12 15:16:16</td>\n",
       "      <td>Customer Transfer to 254724533738 - VIOLA\\rCHEPKEMOI</td>\n",
       "      <td>Completed</td>\n",
       "      <td>NaN</td>\n",
       "      <td>-1,028.00</td>\n",
       "      <td>3,090.93</td>\n",
       "      <td>NaN</td>\n",
       "    </tr>\n",
       "  </tbody>\n",
       "</table>\n",
       "</div>"
      ],
      "text/plain": [
       "0 Receipt No.      Completion Time  \\\n",
       "1  OLC0HJ3QEG  2020-12-12 18:26:21   \n",
       "2  OLC9HDBT4P  2020-12-12 16:40:28   \n",
       "3  OLC6HBKFQ2  2020-12-12 16:03:48   \n",
       "4  OLC6H9C29C  2020-12-12 15:16:16   \n",
       "5  OLC6H9C29C  2020-12-12 15:16:16   \n",
       "\n",
       "0                                                                                      Details  \\\n",
       "1  Customer Withdrawal At Agent Till 439844 - Junja\\rCompany ltd Homeyard Twin electronics Agg   \n",
       "2  Customer Transfer to 254704700111 - KIPYEGON\\rRONNY BORE                                      \n",
       "3  Funds received from 0791913116 - Kipyegon   Titus                                             \n",
       "4  Customer Transfer of Funds Charge                                                             \n",
       "5  Customer Transfer to 254724533738 - VIOLA\\rCHEPKEMOI                                          \n",
       "\n",
       "0 Transaction\\rStatus   Paid In  Withdrawn   Balance  NaN  \n",
       "1  Completed           NaN       -2,500.00  2,087.93 NaN   \n",
       "2  Completed           NaN       -177.00    4,587.93 NaN   \n",
       "3  Completed           1,700.00  NaN        4,764.93 NaN   \n",
       "4  Completed           NaN       -26.00     3,064.93 NaN   \n",
       "5  Completed           NaN       -1,028.00  3,090.93 NaN   "
      ]
     },
     "execution_count": 8,
     "metadata": {},
     "output_type": "execute_result"
    }
   ],
   "source": [
    "df_s = df_s.rename(columns={np.nan: 'null_column'})\n",
    "df_s.head()\n",
    "# df_s = df_s.loc[:, df_s.columns.notnull()]\n",
    "# df_s.columns"
   ]
  },
  {
   "cell_type": "code",
   "execution_count": 9,
   "metadata": {},
   "outputs": [
    {
     "data": {
      "text/html": [
       "<div>\n",
       "<style scoped>\n",
       "    .dataframe tbody tr th:only-of-type {\n",
       "        vertical-align: middle;\n",
       "    }\n",
       "\n",
       "    .dataframe tbody tr th {\n",
       "        vertical-align: top;\n",
       "    }\n",
       "\n",
       "    .dataframe thead th {\n",
       "        text-align: right;\n",
       "    }\n",
       "</style>\n",
       "<table border=\"1\" class=\"dataframe\">\n",
       "  <thead>\n",
       "    <tr style=\"text-align: right;\">\n",
       "      <th></th>\n",
       "      <th>Receipt No.</th>\n",
       "      <th>Completion Time</th>\n",
       "      <th>Details</th>\n",
       "      <th>Transaction\\rStatus</th>\n",
       "      <th>Paid In</th>\n",
       "      <th>Withdrawn</th>\n",
       "      <th>Balance</th>\n",
       "      <th>null_column</th>\n",
       "    </tr>\n",
       "  </thead>\n",
       "  <tbody>\n",
       "    <tr>\n",
       "      <th>1</th>\n",
       "      <td>OLC0HJ3QEG</td>\n",
       "      <td>2020-12-12 18:26:21</td>\n",
       "      <td>Customer Withdrawal At Agent Till 439844 - Junja\\rCompany ltd Homeyard Twin electronics Agg</td>\n",
       "      <td>Completed</td>\n",
       "      <td>NaN</td>\n",
       "      <td>-2,500.00</td>\n",
       "      <td>2,087.93</td>\n",
       "      <td>NaN</td>\n",
       "    </tr>\n",
       "    <tr>\n",
       "      <th>2</th>\n",
       "      <td>OLC9HDBT4P</td>\n",
       "      <td>2020-12-12 16:40:28</td>\n",
       "      <td>Customer Transfer to 254704700111 - KIPYEGON\\rRONNY BORE</td>\n",
       "      <td>Completed</td>\n",
       "      <td>NaN</td>\n",
       "      <td>-177.00</td>\n",
       "      <td>4,587.93</td>\n",
       "      <td>NaN</td>\n",
       "    </tr>\n",
       "    <tr>\n",
       "      <th>3</th>\n",
       "      <td>OLC6HBKFQ2</td>\n",
       "      <td>2020-12-12 16:03:48</td>\n",
       "      <td>Funds received from 0791913116 - Kipyegon   Titus</td>\n",
       "      <td>Completed</td>\n",
       "      <td>1,700.00</td>\n",
       "      <td>NaN</td>\n",
       "      <td>4,764.93</td>\n",
       "      <td>NaN</td>\n",
       "    </tr>\n",
       "    <tr>\n",
       "      <th>4</th>\n",
       "      <td>OLC6H9C29C</td>\n",
       "      <td>2020-12-12 15:16:16</td>\n",
       "      <td>Customer Transfer of Funds Charge</td>\n",
       "      <td>Completed</td>\n",
       "      <td>NaN</td>\n",
       "      <td>-26.00</td>\n",
       "      <td>3,064.93</td>\n",
       "      <td>NaN</td>\n",
       "    </tr>\n",
       "    <tr>\n",
       "      <th>5</th>\n",
       "      <td>OLC6H9C29C</td>\n",
       "      <td>2020-12-12 15:16:16</td>\n",
       "      <td>Customer Transfer to 254724533738 - VIOLA\\rCHEPKEMOI</td>\n",
       "      <td>Completed</td>\n",
       "      <td>NaN</td>\n",
       "      <td>-1,028.00</td>\n",
       "      <td>3,090.93</td>\n",
       "      <td>NaN</td>\n",
       "    </tr>\n",
       "  </tbody>\n",
       "</table>\n",
       "</div>"
      ],
      "text/plain": [
       "0 Receipt No.      Completion Time  \\\n",
       "1  OLC0HJ3QEG  2020-12-12 18:26:21   \n",
       "2  OLC9HDBT4P  2020-12-12 16:40:28   \n",
       "3  OLC6HBKFQ2  2020-12-12 16:03:48   \n",
       "4  OLC6H9C29C  2020-12-12 15:16:16   \n",
       "5  OLC6H9C29C  2020-12-12 15:16:16   \n",
       "\n",
       "0                                                                                      Details  \\\n",
       "1  Customer Withdrawal At Agent Till 439844 - Junja\\rCompany ltd Homeyard Twin electronics Agg   \n",
       "2  Customer Transfer to 254704700111 - KIPYEGON\\rRONNY BORE                                      \n",
       "3  Funds received from 0791913116 - Kipyegon   Titus                                             \n",
       "4  Customer Transfer of Funds Charge                                                             \n",
       "5  Customer Transfer to 254724533738 - VIOLA\\rCHEPKEMOI                                          \n",
       "\n",
       "0 Transaction\\rStatus   Paid In  Withdrawn   Balance  null_column  \n",
       "1  Completed           NaN       -2,500.00  2,087.93 NaN           \n",
       "2  Completed           NaN       -177.00    4,587.93 NaN           \n",
       "3  Completed           1,700.00  NaN        4,764.93 NaN           \n",
       "4  Completed           NaN       -26.00     3,064.93 NaN           \n",
       "5  Completed           NaN       -1,028.00  3,090.93 NaN           "
      ]
     },
     "execution_count": 9,
     "metadata": {},
     "output_type": "execute_result"
    }
   ],
   "source": [
    "df_s.columns = df_s.columns.fillna('null_column')\n",
    "df_s.head()"
   ]
  },
  {
   "cell_type": "code",
   "execution_count": 10,
   "metadata": {},
   "outputs": [],
   "source": [
    "# new_header = df.iloc[0] #grab the first row for the header\n",
    "# df = df[1:] #take the data less the header row\n",
    "# df.columns = new_header #set the header row as the df header\n",
    "# df.shape"
   ]
  },
  {
   "cell_type": "code",
   "execution_count": 11,
   "metadata": {},
   "outputs": [
    {
     "data": {
      "text/html": [
       "<div>\n",
       "<style scoped>\n",
       "    .dataframe tbody tr th:only-of-type {\n",
       "        vertical-align: middle;\n",
       "    }\n",
       "\n",
       "    .dataframe tbody tr th {\n",
       "        vertical-align: top;\n",
       "    }\n",
       "\n",
       "    .dataframe thead th {\n",
       "        text-align: right;\n",
       "    }\n",
       "</style>\n",
       "<table border=\"1\" class=\"dataframe\">\n",
       "  <thead>\n",
       "    <tr style=\"text-align: right;\">\n",
       "      <th></th>\n",
       "      <th>0</th>\n",
       "      <th>1</th>\n",
       "      <th>2</th>\n",
       "      <th>3</th>\n",
       "      <th>4</th>\n",
       "      <th>5</th>\n",
       "      <th>6</th>\n",
       "    </tr>\n",
       "  </thead>\n",
       "  <tbody>\n",
       "    <tr>\n",
       "      <th>0</th>\n",
       "      <td>Receipt No.</td>\n",
       "      <td>Completion Time</td>\n",
       "      <td>Details</td>\n",
       "      <td>Transaction\\rStatus</td>\n",
       "      <td>Paid In</td>\n",
       "      <td>Withdrawn</td>\n",
       "      <td>Balance</td>\n",
       "    </tr>\n",
       "    <tr>\n",
       "      <th>1</th>\n",
       "      <td>OLL9SJFI4Z</td>\n",
       "      <td>2020-12-21 16:27:39</td>\n",
       "      <td>Withdrawal Charge</td>\n",
       "      <td>Completed</td>\n",
       "      <td>NaN</td>\n",
       "      <td>-28.00</td>\n",
       "      <td>285.72</td>\n",
       "    </tr>\n",
       "    <tr>\n",
       "      <th>2</th>\n",
       "      <td>OLL9SJFI4Z</td>\n",
       "      <td>2020-12-21 16:27:39</td>\n",
       "      <td>Customer Withdrawal At Agent Till 197334 - Malezi\\rmobiles ventures ltd Roysambu near Pemca Holdings\\rLumumba Drive.</td>\n",
       "      <td>Completed</td>\n",
       "      <td>NaN</td>\n",
       "      <td>-1,200.00</td>\n",
       "      <td>313.72</td>\n",
       "    </tr>\n",
       "    <tr>\n",
       "      <th>3</th>\n",
       "      <td>OLL6SCJSFO</td>\n",
       "      <td>2020-12-21 13:56:16</td>\n",
       "      <td>Pay Bill Online to 200200 - Safaricom Post Paid Acc.\\r0711170904</td>\n",
       "      <td>Completed</td>\n",
       "      <td>NaN</td>\n",
       "      <td>-500.00</td>\n",
       "      <td>1,513.72</td>\n",
       "    </tr>\n",
       "    <tr>\n",
       "      <th>4</th>\n",
       "      <td>OLL9S703PL</td>\n",
       "      <td>2020-12-21 11:53:08</td>\n",
       "      <td>Customer Transfer of Funds Charge</td>\n",
       "      <td>Completed</td>\n",
       "      <td>NaN</td>\n",
       "      <td>-41.00</td>\n",
       "      <td>2,013.72</td>\n",
       "    </tr>\n",
       "  </tbody>\n",
       "</table>\n",
       "</div>"
      ],
      "text/plain": [
       "             0                    1  \\\n",
       "0  Receipt No.  Completion Time       \n",
       "1  OLL9SJFI4Z   2020-12-21 16:27:39   \n",
       "2  OLL9SJFI4Z   2020-12-21 16:27:39   \n",
       "3  OLL6SCJSFO   2020-12-21 13:56:16   \n",
       "4  OLL9S703PL   2020-12-21 11:53:08   \n",
       "\n",
       "                                                                                                                      2  \\\n",
       "0  Details                                                                                                                \n",
       "1  Withdrawal Charge                                                                                                      \n",
       "2  Customer Withdrawal At Agent Till 197334 - Malezi\\rmobiles ventures ltd Roysambu near Pemca Holdings\\rLumumba Drive.   \n",
       "3  Pay Bill Online to 200200 - Safaricom Post Paid Acc.\\r0711170904                                                       \n",
       "4  Customer Transfer of Funds Charge                                                                                      \n",
       "\n",
       "                     3        4          5         6  \n",
       "0  Transaction\\rStatus  Paid In  Withdrawn  Balance   \n",
       "1  Completed            NaN      -28.00     285.72    \n",
       "2  Completed            NaN      -1,200.00  313.72    \n",
       "3  Completed            NaN      -500.00    1,513.72  \n",
       "4  Completed            NaN      -41.00     2,013.72  "
      ]
     },
     "execution_count": 11,
     "metadata": {},
     "output_type": "execute_result"
    }
   ],
   "source": [
    "df.head()"
   ]
  },
  {
   "cell_type": "code",
   "execution_count": 12,
   "metadata": {},
   "outputs": [],
   "source": [
    "# df_new = pd.DataFrame(np.concatenate([df.values, df_s.values]), columns=df.columns)\n",
    "# df_new.shape"
   ]
  },
  {
   "cell_type": "code",
   "execution_count": 13,
   "metadata": {},
   "outputs": [
    {
     "name": "stdout",
     "output_type": "stream",
     "text": [
      "(48, 8)\n",
      "Your selected dataframe has 8 columns.\n",
      "There are 3 columns that have missing values.\n",
      "             Missing Values  % of Total Values\n",
      "0                                             \n",
      "null_column  48              100.0            \n",
      "Paid In      35              72.9             \n",
      "Withdrawn    13              27.1             \n",
      "Your selected dataframe has 8 columns.\n",
      "There are 3 columns that have missing values.\n",
      "We will remove 1 columns.\n",
      "(49, 8)\n",
      "Your selected dataframe has 8 columns.\n",
      "There are 3 columns that have missing values.\n",
      "             Missing Values  % of Total Values\n",
      "0                                             \n",
      "null_column  49              100.0            \n",
      "Paid In      40              81.6             \n",
      "Withdrawn    9               18.4             \n",
      "Your selected dataframe has 8 columns.\n",
      "There are 3 columns that have missing values.\n",
      "We will remove 1 columns.\n",
      "(48, 8)\n",
      "Your selected dataframe has 8 columns.\n",
      "There are 3 columns that have missing values.\n",
      "             Missing Values  % of Total Values\n",
      "0                                             \n",
      "null_column  48              100.0            \n",
      "Paid In      40              83.3             \n",
      "Withdrawn    8               16.7             \n",
      "Your selected dataframe has 8 columns.\n",
      "There are 3 columns that have missing values.\n",
      "We will remove 1 columns.\n",
      "(48, 8)\n",
      "Your selected dataframe has 8 columns.\n",
      "There are 3 columns that have missing values.\n",
      "             Missing Values  % of Total Values\n",
      "0                                             \n",
      "null_column  48              100.0            \n",
      "Paid In      35              72.9             \n",
      "Withdrawn    13              27.1             \n",
      "Your selected dataframe has 8 columns.\n",
      "There are 3 columns that have missing values.\n",
      "We will remove 1 columns.\n",
      "(51, 8)\n",
      "Your selected dataframe has 8 columns.\n",
      "There are 3 columns that have missing values.\n",
      "             Missing Values  % of Total Values\n",
      "0                                             \n",
      "null_column  51              100.0            \n",
      "Paid In      36              70.6             \n",
      "Withdrawn    15              29.4             \n",
      "Your selected dataframe has 8 columns.\n",
      "There are 3 columns that have missing values.\n",
      "We will remove 1 columns.\n",
      "(48, 8)\n",
      "Your selected dataframe has 8 columns.\n",
      "There are 3 columns that have missing values.\n",
      "             Missing Values  % of Total Values\n",
      "0                                             \n",
      "null_column  48              100.0            \n",
      "Paid In      43              89.6             \n",
      "Withdrawn    5               10.4             \n",
      "Your selected dataframe has 8 columns.\n",
      "There are 3 columns that have missing values.\n",
      "We will remove 1 columns.\n",
      "(51, 8)\n",
      "Your selected dataframe has 8 columns.\n",
      "There are 3 columns that have missing values.\n",
      "             Missing Values  % of Total Values\n",
      "0                                             \n",
      "null_column  51              100.0            \n",
      "Paid In      42              82.4             \n",
      "Withdrawn    9               17.6             \n",
      "Your selected dataframe has 8 columns.\n",
      "There are 3 columns that have missing values.\n",
      "We will remove 1 columns.\n",
      "(50, 8)\n",
      "Your selected dataframe has 8 columns.\n",
      "There are 3 columns that have missing values.\n",
      "             Missing Values  % of Total Values\n",
      "0                                             \n",
      "null_column  50              100.0            \n",
      "Paid In      32              64.0             \n",
      "Withdrawn    18              36.0             \n",
      "Your selected dataframe has 8 columns.\n",
      "There are 3 columns that have missing values.\n",
      "We will remove 1 columns.\n",
      "(50, 8)\n",
      "Your selected dataframe has 8 columns.\n",
      "There are 3 columns that have missing values.\n",
      "             Missing Values  % of Total Values\n",
      "0                                             \n",
      "null_column  50              100.0            \n",
      "Paid In      45              90.0             \n",
      "Withdrawn    5               10.0             \n",
      "Your selected dataframe has 8 columns.\n",
      "There are 3 columns that have missing values.\n",
      "We will remove 1 columns.\n",
      "(49, 8)\n",
      "Your selected dataframe has 8 columns.\n",
      "There are 3 columns that have missing values.\n",
      "             Missing Values  % of Total Values\n",
      "0                                             \n",
      "null_column  49              100.0            \n",
      "Paid In      38              77.6             \n",
      "Withdrawn    11              22.4             \n",
      "Your selected dataframe has 8 columns.\n",
      "There are 3 columns that have missing values.\n",
      "We will remove 1 columns.\n",
      "(48, 8)\n",
      "Your selected dataframe has 8 columns.\n",
      "There are 3 columns that have missing values.\n",
      "             Missing Values  % of Total Values\n",
      "0                                             \n",
      "null_column  48              100.0            \n",
      "Paid In      43              89.6             \n",
      "Withdrawn    5               10.4             \n",
      "Your selected dataframe has 8 columns.\n",
      "There are 3 columns that have missing values.\n",
      "We will remove 1 columns.\n",
      "(50, 8)\n",
      "Your selected dataframe has 8 columns.\n",
      "There are 3 columns that have missing values.\n",
      "             Missing Values  % of Total Values\n",
      "0                                             \n",
      "null_column  50              100.0            \n",
      "Paid In      46              92.0             \n",
      "Withdrawn    4               8.0              \n",
      "Your selected dataframe has 8 columns.\n",
      "There are 3 columns that have missing values.\n",
      "We will remove 1 columns.\n",
      "(50, 8)\n",
      "Your selected dataframe has 8 columns.\n",
      "There are 3 columns that have missing values.\n",
      "             Missing Values  % of Total Values\n",
      "0                                             \n",
      "null_column  50              100.0            \n",
      "Paid In      43              86.0             \n",
      "Withdrawn    7               14.0             \n",
      "Your selected dataframe has 8 columns.\n",
      "There are 3 columns that have missing values.\n",
      "We will remove 1 columns.\n",
      "(47, 8)\n",
      "Your selected dataframe has 8 columns.\n",
      "There are 3 columns that have missing values.\n",
      "             Missing Values  % of Total Values\n",
      "0                                             \n",
      "null_column  47              100.0            \n",
      "Paid In      42              89.4             \n",
      "Withdrawn    5               10.6             \n",
      "Your selected dataframe has 8 columns.\n",
      "There are 3 columns that have missing values.\n",
      "We will remove 1 columns.\n",
      "(50, 8)\n",
      "Your selected dataframe has 8 columns.\n",
      "There are 3 columns that have missing values.\n",
      "             Missing Values  % of Total Values\n",
      "0                                             \n",
      "null_column  50              100.0            \n",
      "Paid In      37              74.0             \n",
      "Withdrawn    13              26.0             \n",
      "Your selected dataframe has 8 columns.\n",
      "There are 3 columns that have missing values.\n",
      "We will remove 1 columns.\n",
      "(52, 8)\n",
      "Your selected dataframe has 8 columns.\n",
      "There are 3 columns that have missing values.\n",
      "             Missing Values  % of Total Values\n",
      "0                                             \n",
      "null_column  52              100.0            \n",
      "Paid In      37              71.2             \n",
      "Withdrawn    15              28.8             \n",
      "Your selected dataframe has 8 columns.\n",
      "There are 3 columns that have missing values.\n",
      "We will remove 1 columns.\n",
      "(51, 8)\n",
      "Your selected dataframe has 8 columns.\n",
      "There are 3 columns that have missing values.\n",
      "             Missing Values  % of Total Values\n",
      "0                                             \n",
      "null_column  51              100.0            \n",
      "Paid In      40              78.4             \n",
      "Withdrawn    11              21.6             \n",
      "Your selected dataframe has 8 columns.\n",
      "There are 3 columns that have missing values.\n",
      "We will remove 1 columns.\n",
      "(51, 8)\n",
      "Your selected dataframe has 8 columns.\n",
      "There are 3 columns that have missing values.\n",
      "             Missing Values  % of Total Values\n",
      "0                                             \n",
      "null_column  51              100.0            \n",
      "Paid In      44              86.3             \n",
      "Withdrawn    7               13.7             \n",
      "Your selected dataframe has 8 columns.\n",
      "There are 3 columns that have missing values.\n",
      "We will remove 1 columns.\n",
      "(48, 8)\n",
      "Your selected dataframe has 8 columns.\n",
      "There are 3 columns that have missing values.\n",
      "             Missing Values  % of Total Values\n",
      "0                                             \n",
      "null_column  48              100.0            \n",
      "Paid In      40              83.3             \n",
      "Withdrawn    8               16.7             \n",
      "Your selected dataframe has 8 columns.\n",
      "There are 3 columns that have missing values.\n",
      "We will remove 1 columns.\n",
      "(48, 8)\n",
      "Your selected dataframe has 8 columns.\n",
      "There are 3 columns that have missing values.\n",
      "             Missing Values  % of Total Values\n",
      "0                                             \n",
      "null_column  48              100.0            \n",
      "Paid In      41              85.4             \n",
      "Withdrawn    7               14.6             \n",
      "Your selected dataframe has 8 columns.\n",
      "There are 3 columns that have missing values.\n",
      "We will remove 1 columns.\n",
      "(49, 8)\n",
      "Your selected dataframe has 8 columns.\n",
      "There are 3 columns that have missing values.\n",
      "             Missing Values  % of Total Values\n",
      "0                                             \n",
      "null_column  49              100.0            \n",
      "Paid In      40              81.6             \n",
      "Withdrawn    9               18.4             \n",
      "Your selected dataframe has 8 columns.\n",
      "There are 3 columns that have missing values.\n",
      "We will remove 1 columns.\n",
      "(51, 8)\n",
      "Your selected dataframe has 8 columns.\n",
      "There are 3 columns that have missing values.\n",
      "             Missing Values  % of Total Values\n",
      "0                                             \n",
      "null_column  51              100.0            \n",
      "Paid In      45              88.2             \n",
      "Withdrawn    6               11.8             \n",
      "Your selected dataframe has 8 columns.\n",
      "There are 3 columns that have missing values.\n",
      "We will remove 1 columns.\n",
      "(52, 8)\n",
      "Your selected dataframe has 8 columns.\n",
      "There are 3 columns that have missing values.\n",
      "             Missing Values  % of Total Values\n",
      "0                                             \n",
      "null_column  52              100.0            \n",
      "Paid In      41              78.8             \n",
      "Withdrawn    11              21.2             \n",
      "Your selected dataframe has 8 columns.\n",
      "There are 3 columns that have missing values.\n",
      "We will remove 1 columns.\n",
      "(52, 8)\n",
      "Your selected dataframe has 8 columns.\n",
      "There are 3 columns that have missing values.\n",
      "             Missing Values  % of Total Values\n",
      "0                                             \n",
      "null_column  52              100.0            \n",
      "Paid In      47              90.4             \n",
      "Withdrawn    5               9.6              \n",
      "Your selected dataframe has 8 columns.\n",
      "There are 3 columns that have missing values.\n",
      "We will remove 1 columns.\n",
      "(53, 8)\n",
      "Your selected dataframe has 8 columns.\n",
      "There are 3 columns that have missing values.\n",
      "             Missing Values  % of Total Values\n",
      "0                                             \n",
      "null_column  53              100.0            \n",
      "Paid In      38              71.7             \n",
      "Withdrawn    15              28.3             \n",
      "Your selected dataframe has 8 columns.\n"
     ]
    },
    {
     "name": "stdout",
     "output_type": "stream",
     "text": [
      "There are 3 columns that have missing values.\n",
      "We will remove 1 columns.\n",
      "(55, 8)\n",
      "Your selected dataframe has 8 columns.\n",
      "There are 3 columns that have missing values.\n",
      "             Missing Values  % of Total Values\n",
      "0                                             \n",
      "null_column  55              100.0            \n",
      "Paid In      47              85.5             \n",
      "Withdrawn    8               14.5             \n",
      "Your selected dataframe has 8 columns.\n",
      "There are 3 columns that have missing values.\n",
      "We will remove 1 columns.\n",
      "(55, 8)\n",
      "Your selected dataframe has 8 columns.\n",
      "There are 3 columns that have missing values.\n",
      "             Missing Values  % of Total Values\n",
      "0                                             \n",
      "null_column  55              100.0            \n",
      "Paid In      41              74.5             \n",
      "Withdrawn    14              25.5             \n",
      "Your selected dataframe has 8 columns.\n",
      "There are 3 columns that have missing values.\n",
      "We will remove 1 columns.\n",
      "(48, 8)\n",
      "Your selected dataframe has 8 columns.\n",
      "There are 3 columns that have missing values.\n",
      "             Missing Values  % of Total Values\n",
      "0                                             \n",
      "null_column  48              100.0            \n",
      "Paid In      44              91.7             \n",
      "Withdrawn    4               8.3              \n",
      "Your selected dataframe has 8 columns.\n",
      "There are 3 columns that have missing values.\n",
      "We will remove 1 columns.\n",
      "(51, 8)\n",
      "Your selected dataframe has 8 columns.\n",
      "There are 3 columns that have missing values.\n",
      "             Missing Values  % of Total Values\n",
      "0                                             \n",
      "null_column  51              100.0            \n",
      "Paid In      42              82.4             \n",
      "Withdrawn    9               17.6             \n",
      "Your selected dataframe has 8 columns.\n",
      "There are 3 columns that have missing values.\n",
      "We will remove 1 columns.\n",
      "(52, 8)\n",
      "Your selected dataframe has 8 columns.\n",
      "There are 3 columns that have missing values.\n",
      "             Missing Values  % of Total Values\n",
      "0                                             \n",
      "null_column  52              100.0            \n",
      "Paid In      47              90.4             \n",
      "Withdrawn    5               9.6              \n",
      "Your selected dataframe has 8 columns.\n",
      "There are 3 columns that have missing values.\n",
      "We will remove 1 columns.\n",
      "(51, 8)\n",
      "Your selected dataframe has 8 columns.\n",
      "There are 3 columns that have missing values.\n",
      "             Missing Values  % of Total Values\n",
      "0                                             \n",
      "null_column  51              100.0            \n",
      "Paid In      31              60.8             \n",
      "Withdrawn    20              39.2             \n",
      "Your selected dataframe has 8 columns.\n",
      "There are 3 columns that have missing values.\n",
      "We will remove 1 columns.\n",
      "(11, 8)\n",
      "Your selected dataframe has 8 columns.\n",
      "There are 3 columns that have missing values.\n",
      "             Missing Values  % of Total Values\n",
      "0                                             \n",
      "null_column  11              100.0            \n",
      "Paid In      9               81.8             \n",
      "Withdrawn    2               18.2             \n",
      "Your selected dataframe has 8 columns.\n",
      "There are 3 columns that have missing values.\n",
      "We will remove 1 columns.\n"
     ]
    },
    {
     "data": {
      "text/plain": [
       "(1597, 7)"
      ]
     },
     "execution_count": 13,
     "metadata": {},
     "output_type": "execute_result"
    }
   ],
   "source": [
    "new_header = df.iloc[0] #grab the first row for the header\n",
    "df = df[1:] #take the data less the header row\n",
    "df.columns = new_header #set the header row as the df header\n",
    "\n",
    "no_tables = [3]\n",
    "for i in range(2, len(dfs)):\n",
    "    df_s = dfs[i]\n",
    "    #grab the first row for the header\n",
    "    new_header = df_s.iloc[0] \n",
    "    #take the data less the header row\n",
    "    df_s = df_s[1:] \n",
    "    \n",
    "    #set the header row as the df header\n",
    "    df_s.columns = new_header\n",
    "    \n",
    "    print(df_s.shape)\n",
    "    \n",
    "    ##rename null headers\n",
    "    if ((df_s.columns).isna().any() == True):\n",
    "        df_s.columns = df_s.columns.fillna('null_column')\n",
    "    else:\n",
    "        pass\n",
    "    #print(df_s.columns)\n",
    "    \n",
    "    \n",
    "    #check missing values\n",
    "    print(missing_values_table(df_s))\n",
    "    \n",
    "    # dropping columns with > 98% missing\n",
    "    missing_df = missing_values_table(df_s);\n",
    "    missing_columns = list(missing_df[missing_df['% of Total Values']> 98].index)\n",
    "    print('We will remove %d columns.' % len(missing_columns))\n",
    "    #print(missing_columns)\n",
    "    df_s.drop(missing_columns, axis =1, inplace=True)\n",
    "    \n",
    "    \n",
    "    df = pd.DataFrame(np.concatenate([df.values, df_s.values]), columns=df.columns)\n",
    "    \n",
    "    \n",
    "df.shape"
   ]
  },
  {
   "cell_type": "code",
   "execution_count": 14,
   "metadata": {},
   "outputs": [
    {
     "data": {
      "text/plain": [
       "False"
      ]
     },
     "execution_count": 14,
     "metadata": {},
     "output_type": "execute_result"
    }
   ],
   "source": [
    "(df_s.columns).isna().any()"
   ]
  },
  {
   "cell_type": "code",
   "execution_count": 15,
   "metadata": {},
   "outputs": [
    {
     "data": {
      "text/html": [
       "<div>\n",
       "<style scoped>\n",
       "    .dataframe tbody tr th:only-of-type {\n",
       "        vertical-align: middle;\n",
       "    }\n",
       "\n",
       "    .dataframe tbody tr th {\n",
       "        vertical-align: top;\n",
       "    }\n",
       "\n",
       "    .dataframe thead th {\n",
       "        text-align: right;\n",
       "    }\n",
       "</style>\n",
       "<table border=\"1\" class=\"dataframe\">\n",
       "  <thead>\n",
       "    <tr style=\"text-align: right;\">\n",
       "      <th></th>\n",
       "      <th>Receipt No.</th>\n",
       "      <th>Completion Time</th>\n",
       "      <th>Details</th>\n",
       "      <th>Transaction\\rStatus</th>\n",
       "      <th>Paid In</th>\n",
       "      <th>Withdrawn</th>\n",
       "      <th>Balance</th>\n",
       "    </tr>\n",
       "  </thead>\n",
       "  <tbody>\n",
       "    <tr>\n",
       "      <th>1</th>\n",
       "      <td>NLN3V26FE5</td>\n",
       "      <td>2019-12-23 08:55:22</td>\n",
       "      <td>Business Payment from 329299 - STANDARD\\rCHARTERED BANK via API</td>\n",
       "      <td>Completed</td>\n",
       "      <td>10,000.00</td>\n",
       "      <td>NaN</td>\n",
       "      <td>10,000.00</td>\n",
       "    </tr>\n",
       "    <tr>\n",
       "      <th>2</th>\n",
       "      <td>NLN7V0B34X</td>\n",
       "      <td>2019-12-23 07:25:35</td>\n",
       "      <td>OverDraft of Credit Party</td>\n",
       "      <td>Completed</td>\n",
       "      <td>177.54</td>\n",
       "      <td>NaN</td>\n",
       "      <td>97.00</td>\n",
       "    </tr>\n",
       "    <tr>\n",
       "      <th>3</th>\n",
       "      <td>NLN7V0B34X</td>\n",
       "      <td>2019-12-23 07:25:35</td>\n",
       "      <td>Customer Transfer of Funds Charge</td>\n",
       "      <td>Completed</td>\n",
       "      <td>NaN</td>\n",
       "      <td>-97.00</td>\n",
       "      <td>0.00</td>\n",
       "    </tr>\n",
       "    <tr>\n",
       "      <th>4</th>\n",
       "      <td>NLN7V0B34X</td>\n",
       "      <td>2019-12-23 07:25:35</td>\n",
       "      <td>Customer Transfer Fuliza M-Pesa to 254723576355 -\\rNOAH KIPTANUI</td>\n",
       "      <td>Completed</td>\n",
       "      <td>NaN</td>\n",
       "      <td>-10,100.00</td>\n",
       "      <td>-80.54</td>\n",
       "    </tr>\n",
       "    <tr>\n",
       "      <th>5</th>\n",
       "      <td>NLM7UYXCVH</td>\n",
       "      <td>2019-12-22 23:54:25</td>\n",
       "      <td>Airtime Purchase</td>\n",
       "      <td>Completed</td>\n",
       "      <td>NaN</td>\n",
       "      <td>-1,250.00</td>\n",
       "      <td>10,019.46</td>\n",
       "    </tr>\n",
       "    <tr>\n",
       "      <th>6</th>\n",
       "      <td>NLM5UWEYHX</td>\n",
       "      <td>2019-12-22 21:01:19</td>\n",
       "      <td>Merchant Payment Online to 801189 - SWAN\\rRESTAURANT</td>\n",
       "      <td>Completed</td>\n",
       "      <td>NaN</td>\n",
       "      <td>-2,500.00</td>\n",
       "      <td>11,269.46</td>\n",
       "    </tr>\n",
       "    <tr>\n",
       "      <th>7</th>\n",
       "      <td>NLL7U6LEUV</td>\n",
       "      <td>2019-12-21 22:19:36</td>\n",
       "      <td>Customer Transfer of Funds Charge</td>\n",
       "      <td>Completed</td>\n",
       "      <td>NaN</td>\n",
       "      <td>-41.00</td>\n",
       "      <td>13,769.46</td>\n",
       "    </tr>\n",
       "    <tr>\n",
       "      <th>8</th>\n",
       "      <td>NLL7U6LEUV</td>\n",
       "      <td>2019-12-21 22:19:36</td>\n",
       "      <td>Customer Transfer to 254724775068 - CALEB\\rCHERUIYOT BIEGON</td>\n",
       "      <td>Completed</td>\n",
       "      <td>NaN</td>\n",
       "      <td>-2,028.00</td>\n",
       "      <td>13,810.46</td>\n",
       "    </tr>\n",
       "    <tr>\n",
       "      <th>9</th>\n",
       "      <td>NLL1TEOQH1</td>\n",
       "      <td>2019-12-21 08:05:26</td>\n",
       "      <td>Withdrawal Charge</td>\n",
       "      <td>Completed</td>\n",
       "      <td>NaN</td>\n",
       "      <td>-162.00</td>\n",
       "      <td>15,838.46</td>\n",
       "    </tr>\n",
       "    <tr>\n",
       "      <th>10</th>\n",
       "      <td>NLL1TEOQH1</td>\n",
       "      <td>2019-12-21 08:05:26</td>\n",
       "      <td>Customer Withdrawal At Agent Till 233409 - Natsars Ltd\\rZimmerman Area Behind Co-op Bank</td>\n",
       "      <td>Completed</td>\n",
       "      <td>NaN</td>\n",
       "      <td>-15,000.00</td>\n",
       "      <td>16,000.46</td>\n",
       "    </tr>\n",
       "    <tr>\n",
       "      <th>11</th>\n",
       "      <td>NLL6TDOVMM</td>\n",
       "      <td>2019-12-21 07:07:14</td>\n",
       "      <td>Airtime Purchase</td>\n",
       "      <td>Completed</td>\n",
       "      <td>NaN</td>\n",
       "      <td>-100.00</td>\n",
       "      <td>31,000.46</td>\n",
       "    </tr>\n",
       "  </tbody>\n",
       "</table>\n",
       "</div>"
      ],
      "text/plain": [
       "0  Receipt No.      Completion Time  \\\n",
       "1   NLN3V26FE5  2019-12-23 08:55:22   \n",
       "2   NLN7V0B34X  2019-12-23 07:25:35   \n",
       "3   NLN7V0B34X  2019-12-23 07:25:35   \n",
       "4   NLN7V0B34X  2019-12-23 07:25:35   \n",
       "5   NLM7UYXCVH  2019-12-22 23:54:25   \n",
       "6   NLM5UWEYHX  2019-12-22 21:01:19   \n",
       "7   NLL7U6LEUV  2019-12-21 22:19:36   \n",
       "8   NLL7U6LEUV  2019-12-21 22:19:36   \n",
       "9   NLL1TEOQH1  2019-12-21 08:05:26   \n",
       "10  NLL1TEOQH1  2019-12-21 08:05:26   \n",
       "11  NLL6TDOVMM  2019-12-21 07:07:14   \n",
       "\n",
       "0                                                                                    Details  \\\n",
       "1   Business Payment from 329299 - STANDARD\\rCHARTERED BANK via API                            \n",
       "2   OverDraft of Credit Party                                                                  \n",
       "3   Customer Transfer of Funds Charge                                                          \n",
       "4   Customer Transfer Fuliza M-Pesa to 254723576355 -\\rNOAH KIPTANUI                           \n",
       "5   Airtime Purchase                                                                           \n",
       "6   Merchant Payment Online to 801189 - SWAN\\rRESTAURANT                                       \n",
       "7   Customer Transfer of Funds Charge                                                          \n",
       "8   Customer Transfer to 254724775068 - CALEB\\rCHERUIYOT BIEGON                                \n",
       "9   Withdrawal Charge                                                                          \n",
       "10  Customer Withdrawal At Agent Till 233409 - Natsars Ltd\\rZimmerman Area Behind Co-op Bank   \n",
       "11  Airtime Purchase                                                                           \n",
       "\n",
       "0  Transaction\\rStatus    Paid In   Withdrawn    Balance  \n",
       "1   Completed           10,000.00  NaN         10,000.00  \n",
       "2   Completed           177.54     NaN         97.00      \n",
       "3   Completed           NaN        -97.00      0.00       \n",
       "4   Completed           NaN        -10,100.00  -80.54     \n",
       "5   Completed           NaN        -1,250.00   10,019.46  \n",
       "6   Completed           NaN        -2,500.00   11,269.46  \n",
       "7   Completed           NaN        -41.00      13,769.46  \n",
       "8   Completed           NaN        -2,028.00   13,810.46  \n",
       "9   Completed           NaN        -162.00     15,838.46  \n",
       "10  Completed           NaN        -15,000.00  16,000.46  \n",
       "11  Completed           NaN        -100.00     31,000.46  "
      ]
     },
     "execution_count": 15,
     "metadata": {},
     "output_type": "execute_result"
    }
   ],
   "source": [
    "df_s"
   ]
  },
  {
   "cell_type": "code",
   "execution_count": 16,
   "metadata": {},
   "outputs": [
    {
     "data": {
      "text/plain": [
       "range(2, 34)"
      ]
     },
     "execution_count": 16,
     "metadata": {},
     "output_type": "execute_result"
    }
   ],
   "source": [
    "range(2, len(dfs))"
   ]
  },
  {
   "cell_type": "code",
   "execution_count": 17,
   "metadata": {},
   "outputs": [
    {
     "data": {
      "text/html": [
       "<div>\n",
       "<style scoped>\n",
       "    .dataframe tbody tr th:only-of-type {\n",
       "        vertical-align: middle;\n",
       "    }\n",
       "\n",
       "    .dataframe tbody tr th {\n",
       "        vertical-align: top;\n",
       "    }\n",
       "\n",
       "    .dataframe thead th {\n",
       "        text-align: right;\n",
       "    }\n",
       "</style>\n",
       "<table border=\"1\" class=\"dataframe\">\n",
       "  <thead>\n",
       "    <tr style=\"text-align: right;\">\n",
       "      <th></th>\n",
       "      <th>Receipt No.</th>\n",
       "      <th>Completion Time</th>\n",
       "      <th>Details</th>\n",
       "      <th>Transaction\\rStatus</th>\n",
       "      <th>Paid In</th>\n",
       "      <th>Withdrawn</th>\n",
       "      <th>Balance</th>\n",
       "    </tr>\n",
       "  </thead>\n",
       "  <tbody>\n",
       "    <tr>\n",
       "      <th>0</th>\n",
       "      <td>OLL9SJFI4Z</td>\n",
       "      <td>2020-12-21 16:27:39</td>\n",
       "      <td>Withdrawal Charge</td>\n",
       "      <td>Completed</td>\n",
       "      <td>NaN</td>\n",
       "      <td>-28.00</td>\n",
       "      <td>285.72</td>\n",
       "    </tr>\n",
       "    <tr>\n",
       "      <th>1</th>\n",
       "      <td>OLL9SJFI4Z</td>\n",
       "      <td>2020-12-21 16:27:39</td>\n",
       "      <td>Customer Withdrawal At Agent Till 197334 - Malezi\\rmobiles ventures ltd Roysambu near Pemca Holdings\\rLumumba Drive.</td>\n",
       "      <td>Completed</td>\n",
       "      <td>NaN</td>\n",
       "      <td>-1,200.00</td>\n",
       "      <td>313.72</td>\n",
       "    </tr>\n",
       "    <tr>\n",
       "      <th>2</th>\n",
       "      <td>OLL6SCJSFO</td>\n",
       "      <td>2020-12-21 13:56:16</td>\n",
       "      <td>Pay Bill Online to 200200 - Safaricom Post Paid Acc.\\r0711170904</td>\n",
       "      <td>Completed</td>\n",
       "      <td>NaN</td>\n",
       "      <td>-500.00</td>\n",
       "      <td>1,513.72</td>\n",
       "    </tr>\n",
       "    <tr>\n",
       "      <th>3</th>\n",
       "      <td>OLL9S703PL</td>\n",
       "      <td>2020-12-21 11:53:08</td>\n",
       "      <td>Customer Transfer of Funds Charge</td>\n",
       "      <td>Completed</td>\n",
       "      <td>NaN</td>\n",
       "      <td>-41.00</td>\n",
       "      <td>2,013.72</td>\n",
       "    </tr>\n",
       "    <tr>\n",
       "      <th>4</th>\n",
       "      <td>OLL9S703PL</td>\n",
       "      <td>2020-12-21 11:53:08</td>\n",
       "      <td>Customer Transfer to 254711361054 - PATRICK MUUO\\rKINGOO</td>\n",
       "      <td>Completed</td>\n",
       "      <td>NaN</td>\n",
       "      <td>-1,528.00</td>\n",
       "      <td>2,054.72</td>\n",
       "    </tr>\n",
       "  </tbody>\n",
       "</table>\n",
       "</div>"
      ],
      "text/plain": [
       "0 Receipt No.      Completion Time  \\\n",
       "0  OLL9SJFI4Z  2020-12-21 16:27:39   \n",
       "1  OLL9SJFI4Z  2020-12-21 16:27:39   \n",
       "2  OLL6SCJSFO  2020-12-21 13:56:16   \n",
       "3  OLL9S703PL  2020-12-21 11:53:08   \n",
       "4  OLL9S703PL  2020-12-21 11:53:08   \n",
       "\n",
       "0                                                                                                               Details  \\\n",
       "0  Withdrawal Charge                                                                                                      \n",
       "1  Customer Withdrawal At Agent Till 197334 - Malezi\\rmobiles ventures ltd Roysambu near Pemca Holdings\\rLumumba Drive.   \n",
       "2  Pay Bill Online to 200200 - Safaricom Post Paid Acc.\\r0711170904                                                       \n",
       "3  Customer Transfer of Funds Charge                                                                                      \n",
       "4  Customer Transfer to 254711361054 - PATRICK MUUO\\rKINGOO                                                               \n",
       "\n",
       "0 Transaction\\rStatus Paid In  Withdrawn   Balance  \n",
       "0  Completed           NaN     -28.00     285.72    \n",
       "1  Completed           NaN     -1,200.00  313.72    \n",
       "2  Completed           NaN     -500.00    1,513.72  \n",
       "3  Completed           NaN     -41.00     2,013.72  \n",
       "4  Completed           NaN     -1,528.00  2,054.72  "
      ]
     },
     "execution_count": 17,
     "metadata": {},
     "output_type": "execute_result"
    }
   ],
   "source": [
    "df.head()"
   ]
  },
  {
   "cell_type": "code",
   "execution_count": 18,
   "metadata": {},
   "outputs": [
    {
     "name": "stdout",
     "output_type": "stream",
     "text": [
      "Index(['Receipt No.', 'Completion Time', 'Details', 'Transaction\\rStatus',\n",
      "       'Paid In', 'Withdrawn', 'Balance'],\n",
      "      dtype='object', name=0)\n"
     ]
    }
   ],
   "source": [
    "print(df.columns)\n",
    "df.rename(columns = {'Receipt No.':'receipt_no','Completion Time':'completion_time',\n",
    "                          'Details':'details','Transaction\\rStatus':'status', 'Paid In':'paid_in', 'Withdrawn':'withdrawn', 'Balance':'balance'}, inplace = True) "
   ]
  },
  {
   "cell_type": "code",
   "execution_count": 19,
   "metadata": {},
   "outputs": [
    {
     "data": {
      "text/html": [
       "<div>\n",
       "<style scoped>\n",
       "    .dataframe tbody tr th:only-of-type {\n",
       "        vertical-align: middle;\n",
       "    }\n",
       "\n",
       "    .dataframe tbody tr th {\n",
       "        vertical-align: top;\n",
       "    }\n",
       "\n",
       "    .dataframe thead th {\n",
       "        text-align: right;\n",
       "    }\n",
       "</style>\n",
       "<table border=\"1\" class=\"dataframe\">\n",
       "  <thead>\n",
       "    <tr style=\"text-align: right;\">\n",
       "      <th></th>\n",
       "      <th>receipt_no</th>\n",
       "      <th>completion_time</th>\n",
       "      <th>details</th>\n",
       "      <th>status</th>\n",
       "      <th>paid_in</th>\n",
       "      <th>withdrawn</th>\n",
       "      <th>balance</th>\n",
       "    </tr>\n",
       "  </thead>\n",
       "  <tbody>\n",
       "    <tr>\n",
       "      <th>0</th>\n",
       "      <td>OLL9SJFI4Z</td>\n",
       "      <td>2020-12-21 16:27:39</td>\n",
       "      <td>Withdrawal Charge</td>\n",
       "      <td>Completed</td>\n",
       "      <td>NaN</td>\n",
       "      <td>-28.00</td>\n",
       "      <td>285.72</td>\n",
       "    </tr>\n",
       "    <tr>\n",
       "      <th>1</th>\n",
       "      <td>OLL9SJFI4Z</td>\n",
       "      <td>2020-12-21 16:27:39</td>\n",
       "      <td>Customer Withdrawal At Agent Till 197334 - Malezi\\rmobiles ventures ltd Roysambu near Pemca Holdings\\rLumumba Drive.</td>\n",
       "      <td>Completed</td>\n",
       "      <td>NaN</td>\n",
       "      <td>-1,200.00</td>\n",
       "      <td>313.72</td>\n",
       "    </tr>\n",
       "    <tr>\n",
       "      <th>2</th>\n",
       "      <td>OLL6SCJSFO</td>\n",
       "      <td>2020-12-21 13:56:16</td>\n",
       "      <td>Pay Bill Online to 200200 - Safaricom Post Paid Acc.\\r0711170904</td>\n",
       "      <td>Completed</td>\n",
       "      <td>NaN</td>\n",
       "      <td>-500.00</td>\n",
       "      <td>1,513.72</td>\n",
       "    </tr>\n",
       "    <tr>\n",
       "      <th>3</th>\n",
       "      <td>OLL9S703PL</td>\n",
       "      <td>2020-12-21 11:53:08</td>\n",
       "      <td>Customer Transfer of Funds Charge</td>\n",
       "      <td>Completed</td>\n",
       "      <td>NaN</td>\n",
       "      <td>-41.00</td>\n",
       "      <td>2,013.72</td>\n",
       "    </tr>\n",
       "    <tr>\n",
       "      <th>4</th>\n",
       "      <td>OLL9S703PL</td>\n",
       "      <td>2020-12-21 11:53:08</td>\n",
       "      <td>Customer Transfer to 254711361054 - PATRICK MUUO\\rKINGOO</td>\n",
       "      <td>Completed</td>\n",
       "      <td>NaN</td>\n",
       "      <td>-1,528.00</td>\n",
       "      <td>2,054.72</td>\n",
       "    </tr>\n",
       "  </tbody>\n",
       "</table>\n",
       "</div>"
      ],
      "text/plain": [
       "0  receipt_no      completion_time  \\\n",
       "0  OLL9SJFI4Z  2020-12-21 16:27:39   \n",
       "1  OLL9SJFI4Z  2020-12-21 16:27:39   \n",
       "2  OLL6SCJSFO  2020-12-21 13:56:16   \n",
       "3  OLL9S703PL  2020-12-21 11:53:08   \n",
       "4  OLL9S703PL  2020-12-21 11:53:08   \n",
       "\n",
       "0                                                                                                               details  \\\n",
       "0  Withdrawal Charge                                                                                                      \n",
       "1  Customer Withdrawal At Agent Till 197334 - Malezi\\rmobiles ventures ltd Roysambu near Pemca Holdings\\rLumumba Drive.   \n",
       "2  Pay Bill Online to 200200 - Safaricom Post Paid Acc.\\r0711170904                                                       \n",
       "3  Customer Transfer of Funds Charge                                                                                      \n",
       "4  Customer Transfer to 254711361054 - PATRICK MUUO\\rKINGOO                                                               \n",
       "\n",
       "0     status paid_in  withdrawn   balance  \n",
       "0  Completed  NaN     -28.00     285.72    \n",
       "1  Completed  NaN     -1,200.00  313.72    \n",
       "2  Completed  NaN     -500.00    1,513.72  \n",
       "3  Completed  NaN     -41.00     2,013.72  \n",
       "4  Completed  NaN     -1,528.00  2,054.72  "
      ]
     },
     "execution_count": 19,
     "metadata": {},
     "output_type": "execute_result"
    }
   ],
   "source": [
    "df.head()"
   ]
  },
  {
   "cell_type": "code",
   "execution_count": 20,
   "metadata": {},
   "outputs": [],
   "source": [
    "#drop row with null receipt number\n",
    "#mpesa_df = mpesa.dropna(subset = ['Receipt No.'], how='all', inplace=True)\n",
    "mpesa_df = df[df['receipt_no'].notna()]"
   ]
  },
  {
   "cell_type": "code",
   "execution_count": 21,
   "metadata": {},
   "outputs": [],
   "source": [
    "#clean the text columns\n",
    "mpesa_df['details'] = mpesa_df['details'].str.replace('\\r',' ')"
   ]
  },
  {
   "cell_type": "code",
   "execution_count": 22,
   "metadata": {},
   "outputs": [
    {
     "name": "stdout",
     "output_type": "stream",
     "text": [
      "(1597, 7)\n"
     ]
    },
    {
     "data": {
      "text/html": [
       "<div>\n",
       "<style scoped>\n",
       "    .dataframe tbody tr th:only-of-type {\n",
       "        vertical-align: middle;\n",
       "    }\n",
       "\n",
       "    .dataframe tbody tr th {\n",
       "        vertical-align: top;\n",
       "    }\n",
       "\n",
       "    .dataframe thead th {\n",
       "        text-align: right;\n",
       "    }\n",
       "</style>\n",
       "<table border=\"1\" class=\"dataframe\">\n",
       "  <thead>\n",
       "    <tr style=\"text-align: right;\">\n",
       "      <th></th>\n",
       "      <th>receipt_no</th>\n",
       "      <th>completion_time</th>\n",
       "      <th>details</th>\n",
       "      <th>status</th>\n",
       "      <th>paid_in</th>\n",
       "      <th>withdrawn</th>\n",
       "      <th>balance</th>\n",
       "    </tr>\n",
       "  </thead>\n",
       "  <tbody>\n",
       "    <tr>\n",
       "      <th>0</th>\n",
       "      <td>OLL9SJFI4Z</td>\n",
       "      <td>2020-12-21 16:27:39</td>\n",
       "      <td>Withdrawal Charge</td>\n",
       "      <td>Completed</td>\n",
       "      <td>NaN</td>\n",
       "      <td>-28.00</td>\n",
       "      <td>285.72</td>\n",
       "    </tr>\n",
       "    <tr>\n",
       "      <th>1</th>\n",
       "      <td>OLL9SJFI4Z</td>\n",
       "      <td>2020-12-21 16:27:39</td>\n",
       "      <td>Customer Withdrawal At Agent Till 197334 - Malezi mobiles ventures ltd Roysambu near Pemca Holdings Lumumba Drive.</td>\n",
       "      <td>Completed</td>\n",
       "      <td>NaN</td>\n",
       "      <td>-1,200.00</td>\n",
       "      <td>313.72</td>\n",
       "    </tr>\n",
       "    <tr>\n",
       "      <th>2</th>\n",
       "      <td>OLL6SCJSFO</td>\n",
       "      <td>2020-12-21 13:56:16</td>\n",
       "      <td>Pay Bill Online to 200200 - Safaricom Post Paid Acc. 0711170904</td>\n",
       "      <td>Completed</td>\n",
       "      <td>NaN</td>\n",
       "      <td>-500.00</td>\n",
       "      <td>1,513.72</td>\n",
       "    </tr>\n",
       "    <tr>\n",
       "      <th>3</th>\n",
       "      <td>OLL9S703PL</td>\n",
       "      <td>2020-12-21 11:53:08</td>\n",
       "      <td>Customer Transfer of Funds Charge</td>\n",
       "      <td>Completed</td>\n",
       "      <td>NaN</td>\n",
       "      <td>-41.00</td>\n",
       "      <td>2,013.72</td>\n",
       "    </tr>\n",
       "    <tr>\n",
       "      <th>4</th>\n",
       "      <td>OLL9S703PL</td>\n",
       "      <td>2020-12-21 11:53:08</td>\n",
       "      <td>Customer Transfer to 254711361054 - PATRICK MUUO KINGOO</td>\n",
       "      <td>Completed</td>\n",
       "      <td>NaN</td>\n",
       "      <td>-1,528.00</td>\n",
       "      <td>2,054.72</td>\n",
       "    </tr>\n",
       "  </tbody>\n",
       "</table>\n",
       "</div>"
      ],
      "text/plain": [
       "0  receipt_no      completion_time  \\\n",
       "0  OLL9SJFI4Z  2020-12-21 16:27:39   \n",
       "1  OLL9SJFI4Z  2020-12-21 16:27:39   \n",
       "2  OLL6SCJSFO  2020-12-21 13:56:16   \n",
       "3  OLL9S703PL  2020-12-21 11:53:08   \n",
       "4  OLL9S703PL  2020-12-21 11:53:08   \n",
       "\n",
       "0                                                                                                             details  \\\n",
       "0  Withdrawal Charge                                                                                                    \n",
       "1  Customer Withdrawal At Agent Till 197334 - Malezi mobiles ventures ltd Roysambu near Pemca Holdings Lumumba Drive.   \n",
       "2  Pay Bill Online to 200200 - Safaricom Post Paid Acc. 0711170904                                                      \n",
       "3  Customer Transfer of Funds Charge                                                                                    \n",
       "4  Customer Transfer to 254711361054 - PATRICK MUUO KINGOO                                                              \n",
       "\n",
       "0     status paid_in  withdrawn   balance  \n",
       "0  Completed  NaN     -28.00     285.72    \n",
       "1  Completed  NaN     -1,200.00  313.72    \n",
       "2  Completed  NaN     -500.00    1,513.72  \n",
       "3  Completed  NaN     -41.00     2,013.72  \n",
       "4  Completed  NaN     -1,528.00  2,054.72  "
      ]
     },
     "execution_count": 22,
     "metadata": {},
     "output_type": "execute_result"
    }
   ],
   "source": [
    "print(mpesa_df.shape)\n",
    "mpesa_df.head()"
   ]
  },
  {
   "cell_type": "code",
   "execution_count": 23,
   "metadata": {},
   "outputs": [
    {
     "name": "stdout",
     "output_type": "stream",
     "text": [
      "Your selected dataframe has 7 columns.\n",
      "There are 2 columns that have missing values.\n"
     ]
    },
    {
     "data": {
      "text/html": [
       "<div>\n",
       "<style scoped>\n",
       "    .dataframe tbody tr th:only-of-type {\n",
       "        vertical-align: middle;\n",
       "    }\n",
       "\n",
       "    .dataframe tbody tr th {\n",
       "        vertical-align: top;\n",
       "    }\n",
       "\n",
       "    .dataframe thead th {\n",
       "        text-align: right;\n",
       "    }\n",
       "</style>\n",
       "<table border=\"1\" class=\"dataframe\">\n",
       "  <thead>\n",
       "    <tr style=\"text-align: right;\">\n",
       "      <th></th>\n",
       "      <th>Missing Values</th>\n",
       "      <th>% of Total Values</th>\n",
       "    </tr>\n",
       "    <tr>\n",
       "      <th>0</th>\n",
       "      <th></th>\n",
       "      <th></th>\n",
       "    </tr>\n",
       "  </thead>\n",
       "  <tbody>\n",
       "    <tr>\n",
       "      <th>paid_in</th>\n",
       "      <td>1295</td>\n",
       "      <td>81.1</td>\n",
       "    </tr>\n",
       "    <tr>\n",
       "      <th>withdrawn</th>\n",
       "      <td>302</td>\n",
       "      <td>18.9</td>\n",
       "    </tr>\n",
       "  </tbody>\n",
       "</table>\n",
       "</div>"
      ],
      "text/plain": [
       "           Missing Values  % of Total Values\n",
       "0                                           \n",
       "paid_in    1295            81.1             \n",
       "withdrawn  302             18.9             "
      ]
     },
     "execution_count": 23,
     "metadata": {},
     "output_type": "execute_result"
    }
   ],
   "source": [
    "missing_values_table(mpesa_df)"
   ]
  },
  {
   "cell_type": "code",
   "execution_count": 24,
   "metadata": {},
   "outputs": [],
   "source": [
    "#filling null values in paid_in and withdrawn columns\n",
    "mpesa_df['paid_in'] = mpesa_df['paid_in'].fillna(0)\n",
    "mpesa_df['withdrawn'] = mpesa_df['withdrawn'].fillna(0)\n",
    "mpesa_df['balance'] = mpesa_df['balance'].fillna(0)"
   ]
  },
  {
   "cell_type": "code",
   "execution_count": 25,
   "metadata": {},
   "outputs": [
    {
     "data": {
      "text/html": [
       "<div>\n",
       "<style scoped>\n",
       "    .dataframe tbody tr th:only-of-type {\n",
       "        vertical-align: middle;\n",
       "    }\n",
       "\n",
       "    .dataframe tbody tr th {\n",
       "        vertical-align: top;\n",
       "    }\n",
       "\n",
       "    .dataframe thead th {\n",
       "        text-align: right;\n",
       "    }\n",
       "</style>\n",
       "<table border=\"1\" class=\"dataframe\">\n",
       "  <thead>\n",
       "    <tr style=\"text-align: right;\">\n",
       "      <th></th>\n",
       "      <th>receipt_no</th>\n",
       "      <th>completion_time</th>\n",
       "      <th>details</th>\n",
       "      <th>status</th>\n",
       "      <th>paid_in</th>\n",
       "      <th>withdrawn</th>\n",
       "      <th>balance</th>\n",
       "    </tr>\n",
       "  </thead>\n",
       "  <tbody>\n",
       "    <tr>\n",
       "      <th>0</th>\n",
       "      <td>OLL9SJFI4Z</td>\n",
       "      <td>2020-12-21 16:27:39</td>\n",
       "      <td>Withdrawal Charge</td>\n",
       "      <td>Completed</td>\n",
       "      <td>0</td>\n",
       "      <td>-28.00</td>\n",
       "      <td>285.72</td>\n",
       "    </tr>\n",
       "    <tr>\n",
       "      <th>1</th>\n",
       "      <td>OLL9SJFI4Z</td>\n",
       "      <td>2020-12-21 16:27:39</td>\n",
       "      <td>Customer Withdrawal At Agent Till 197334 - Malezi mobiles ventures ltd Roysambu near Pemca Holdings Lumumba Drive.</td>\n",
       "      <td>Completed</td>\n",
       "      <td>0</td>\n",
       "      <td>-1,200.00</td>\n",
       "      <td>313.72</td>\n",
       "    </tr>\n",
       "    <tr>\n",
       "      <th>2</th>\n",
       "      <td>OLL6SCJSFO</td>\n",
       "      <td>2020-12-21 13:56:16</td>\n",
       "      <td>Pay Bill Online to 200200 - Safaricom Post Paid Acc. 0711170904</td>\n",
       "      <td>Completed</td>\n",
       "      <td>0</td>\n",
       "      <td>-500.00</td>\n",
       "      <td>1,513.72</td>\n",
       "    </tr>\n",
       "    <tr>\n",
       "      <th>3</th>\n",
       "      <td>OLL9S703PL</td>\n",
       "      <td>2020-12-21 11:53:08</td>\n",
       "      <td>Customer Transfer of Funds Charge</td>\n",
       "      <td>Completed</td>\n",
       "      <td>0</td>\n",
       "      <td>-41.00</td>\n",
       "      <td>2,013.72</td>\n",
       "    </tr>\n",
       "    <tr>\n",
       "      <th>4</th>\n",
       "      <td>OLL9S703PL</td>\n",
       "      <td>2020-12-21 11:53:08</td>\n",
       "      <td>Customer Transfer to 254711361054 - PATRICK MUUO KINGOO</td>\n",
       "      <td>Completed</td>\n",
       "      <td>0</td>\n",
       "      <td>-1,528.00</td>\n",
       "      <td>2,054.72</td>\n",
       "    </tr>\n",
       "  </tbody>\n",
       "</table>\n",
       "</div>"
      ],
      "text/plain": [
       "0  receipt_no      completion_time  \\\n",
       "0  OLL9SJFI4Z  2020-12-21 16:27:39   \n",
       "1  OLL9SJFI4Z  2020-12-21 16:27:39   \n",
       "2  OLL6SCJSFO  2020-12-21 13:56:16   \n",
       "3  OLL9S703PL  2020-12-21 11:53:08   \n",
       "4  OLL9S703PL  2020-12-21 11:53:08   \n",
       "\n",
       "0                                                                                                             details  \\\n",
       "0  Withdrawal Charge                                                                                                    \n",
       "1  Customer Withdrawal At Agent Till 197334 - Malezi mobiles ventures ltd Roysambu near Pemca Holdings Lumumba Drive.   \n",
       "2  Pay Bill Online to 200200 - Safaricom Post Paid Acc. 0711170904                                                      \n",
       "3  Customer Transfer of Funds Charge                                                                                    \n",
       "4  Customer Transfer to 254711361054 - PATRICK MUUO KINGOO                                                              \n",
       "\n",
       "0     status paid_in  withdrawn   balance  \n",
       "0  Completed  0       -28.00     285.72    \n",
       "1  Completed  0       -1,200.00  313.72    \n",
       "2  Completed  0       -500.00    1,513.72  \n",
       "3  Completed  0       -41.00     2,013.72  \n",
       "4  Completed  0       -1,528.00  2,054.72  "
      ]
     },
     "execution_count": 25,
     "metadata": {},
     "output_type": "execute_result"
    }
   ],
   "source": [
    "mpesa_df.head()"
   ]
  },
  {
   "cell_type": "code",
   "execution_count": 26,
   "metadata": {},
   "outputs": [],
   "source": [
    "mpesa_df.to_csv(\"../data/notebook_outputs/clean_mpesa_transactions.csv\", index = False)"
   ]
  },
  {
   "cell_type": "code",
   "execution_count": 27,
   "metadata": {},
   "outputs": [
    {
     "data": {
      "text/plain": [
       "0\n",
       "receipt_no         object\n",
       "completion_time    object\n",
       "details            object\n",
       "status             object\n",
       "paid_in            object\n",
       "withdrawn          object\n",
       "balance            object\n",
       "dtype: object"
      ]
     },
     "execution_count": 27,
     "metadata": {},
     "output_type": "execute_result"
    }
   ],
   "source": [
    "mpesa_df.dtypes"
   ]
  },
  {
   "cell_type": "code",
   "execution_count": 28,
   "metadata": {},
   "outputs": [],
   "source": [
    "#cleaning the numerical columns\n",
    "num_col = ['paid_in','withdrawn','balance']\n",
    "for col in num_col:\n",
    "    mpesa_df[col] = mpesa_df[col].replace(',', '',regex=True)\n",
    "    mpesa_df[col] = pd.to_numeric(mpesa_df[col])\n",
    "    \n",
    "mpesa_df['completion_time']= pd.to_datetime(mpesa_df['completion_time'])\n",
    "mpesa_df['details'] = mpesa_df['details'].astype(str)"
   ]
  },
  {
   "cell_type": "code",
   "execution_count": 46,
   "metadata": {},
   "outputs": [],
   "source": [
    "#extract month transaction\n",
    "mpesa_df['year'] = mpesa_df['completion_time'].dt.year\n",
    "mpesa_df['month'] = mpesa_df['completion_time'].dt.month\n",
    "mpesa_df['month'] = mpesa_df['month'].apply(lambda x: calendar.month_name[x])\n",
    "\n",
    "mpesa_df['transactions_cohort']= mpesa_df['month'].astype(str) + \".\" + mpesa_df['year'].astype(str)"
   ]
  },
  {
   "cell_type": "code",
   "execution_count": 47,
   "metadata": {},
   "outputs": [
    {
     "data": {
      "text/html": [
       "<div>\n",
       "<style scoped>\n",
       "    .dataframe tbody tr th:only-of-type {\n",
       "        vertical-align: middle;\n",
       "    }\n",
       "\n",
       "    .dataframe tbody tr th {\n",
       "        vertical-align: top;\n",
       "    }\n",
       "\n",
       "    .dataframe thead th {\n",
       "        text-align: right;\n",
       "    }\n",
       "</style>\n",
       "<table border=\"1\" class=\"dataframe\">\n",
       "  <thead>\n",
       "    <tr style=\"text-align: right;\">\n",
       "      <th></th>\n",
       "      <th>receipt_no</th>\n",
       "      <th>completion_time</th>\n",
       "      <th>details</th>\n",
       "      <th>status</th>\n",
       "      <th>paid_in</th>\n",
       "      <th>withdrawn</th>\n",
       "      <th>balance</th>\n",
       "      <th>year</th>\n",
       "      <th>month</th>\n",
       "      <th>transactions.group</th>\n",
       "      <th>transactions_cohort</th>\n",
       "    </tr>\n",
       "  </thead>\n",
       "  <tbody>\n",
       "    <tr>\n",
       "      <th>1596</th>\n",
       "      <td>NLL6TDOVMM</td>\n",
       "      <td>2019-12-21 07:07:14</td>\n",
       "      <td>Airtime Purchase</td>\n",
       "      <td>Completed</td>\n",
       "      <td>0.0</td>\n",
       "      <td>100.0</td>\n",
       "      <td>31000.46</td>\n",
       "      <td>2019</td>\n",
       "      <td>December</td>\n",
       "      <td>airtime</td>\n",
       "      <td>December.2019</td>\n",
       "    </tr>\n",
       "    <tr>\n",
       "      <th>1595</th>\n",
       "      <td>NLL1TEOQH1</td>\n",
       "      <td>2019-12-21 08:05:26</td>\n",
       "      <td>Customer Withdrawal At Agent Till 233409 - Natsars Ltd Zimmerman Area Behind Co-op Bank</td>\n",
       "      <td>Completed</td>\n",
       "      <td>0.0</td>\n",
       "      <td>15000.0</td>\n",
       "      <td>16000.46</td>\n",
       "      <td>2019</td>\n",
       "      <td>December</td>\n",
       "      <td>withdrawals</td>\n",
       "      <td>December.2019</td>\n",
       "    </tr>\n",
       "    <tr>\n",
       "      <th>1594</th>\n",
       "      <td>NLL1TEOQH1</td>\n",
       "      <td>2019-12-21 08:05:26</td>\n",
       "      <td>Withdrawal Charge</td>\n",
       "      <td>Completed</td>\n",
       "      <td>0.0</td>\n",
       "      <td>162.0</td>\n",
       "      <td>15838.46</td>\n",
       "      <td>2019</td>\n",
       "      <td>December</td>\n",
       "      <td>withdrawal_charge</td>\n",
       "      <td>December.2019</td>\n",
       "    </tr>\n",
       "    <tr>\n",
       "      <th>1593</th>\n",
       "      <td>NLL7U6LEUV</td>\n",
       "      <td>2019-12-21 22:19:36</td>\n",
       "      <td>Customer Transfer to 254724775068 - CALEB CHERUIYOT BIEGON</td>\n",
       "      <td>Completed</td>\n",
       "      <td>0.0</td>\n",
       "      <td>2028.0</td>\n",
       "      <td>13810.46</td>\n",
       "      <td>2019</td>\n",
       "      <td>December</td>\n",
       "      <td>customer_transfer</td>\n",
       "      <td>December.2019</td>\n",
       "    </tr>\n",
       "    <tr>\n",
       "      <th>1592</th>\n",
       "      <td>NLL7U6LEUV</td>\n",
       "      <td>2019-12-21 22:19:36</td>\n",
       "      <td>Customer Transfer of Funds Charge</td>\n",
       "      <td>Completed</td>\n",
       "      <td>0.0</td>\n",
       "      <td>41.0</td>\n",
       "      <td>13769.46</td>\n",
       "      <td>2019</td>\n",
       "      <td>December</td>\n",
       "      <td>funds_charge</td>\n",
       "      <td>December.2019</td>\n",
       "    </tr>\n",
       "  </tbody>\n",
       "</table>\n",
       "</div>"
      ],
      "text/plain": [
       "0     receipt_no     completion_time  \\\n",
       "1596  NLL6TDOVMM 2019-12-21 07:07:14   \n",
       "1595  NLL1TEOQH1 2019-12-21 08:05:26   \n",
       "1594  NLL1TEOQH1 2019-12-21 08:05:26   \n",
       "1593  NLL7U6LEUV 2019-12-21 22:19:36   \n",
       "1592  NLL7U6LEUV 2019-12-21 22:19:36   \n",
       "\n",
       "0                                                                                     details  \\\n",
       "1596  Airtime Purchase                                                                          \n",
       "1595  Customer Withdrawal At Agent Till 233409 - Natsars Ltd Zimmerman Area Behind Co-op Bank   \n",
       "1594  Withdrawal Charge                                                                         \n",
       "1593  Customer Transfer to 254724775068 - CALEB CHERUIYOT BIEGON                                \n",
       "1592  Customer Transfer of Funds Charge                                                         \n",
       "\n",
       "0        status  paid_in  withdrawn   balance  year     month  \\\n",
       "1596  Completed  0.0      100.0      31000.46  2019  December   \n",
       "1595  Completed  0.0      15000.0    16000.46  2019  December   \n",
       "1594  Completed  0.0      162.0      15838.46  2019  December   \n",
       "1593  Completed  0.0      2028.0     13810.46  2019  December   \n",
       "1592  Completed  0.0      41.0       13769.46  2019  December   \n",
       "\n",
       "0    transactions.group transactions_cohort  \n",
       "1596  airtime            December.2019       \n",
       "1595  withdrawals        December.2019       \n",
       "1594  withdrawal_charge  December.2019       \n",
       "1593  customer_transfer  December.2019       \n",
       "1592  funds_charge       December.2019       "
      ]
     },
     "execution_count": 47,
     "metadata": {},
     "output_type": "execute_result"
    }
   ],
   "source": [
    "#sorting df by date\n",
    "mpesa_df=mpesa_df.sort_values(by=['completion_time'],ascending =True)\n",
    "mpesa_df.head()"
   ]
  },
  {
   "cell_type": "code",
   "execution_count": 48,
   "metadata": {},
   "outputs": [],
   "source": [
    "#group sum\n",
    "#mpesa_df['pay_bill_charges'] = np.where((mpesa_df['details'].str.contains('Pay Bill Charge')),'paybill', 'Non_paybill')"
   ]
  },
  {
   "cell_type": "code",
   "execution_count": 49,
   "metadata": {},
   "outputs": [],
   "source": [
    "#mpesa_df['customer_transfers'] = np.where((mpesa_df['details'].str.contains('Customer Transfer to')),'customer_transfer', 'Non_customer_transfer')"
   ]
  },
  {
   "cell_type": "code",
   "execution_count": 50,
   "metadata": {},
   "outputs": [],
   "source": [
    "mpesa_df['withdrawn'] = abs(mpesa_df['withdrawn'])"
   ]
  },
  {
   "cell_type": "code",
   "execution_count": 51,
   "metadata": {},
   "outputs": [
    {
     "data": {
      "text/html": [
       "<div>\n",
       "<style scoped>\n",
       "    .dataframe tbody tr th:only-of-type {\n",
       "        vertical-align: middle;\n",
       "    }\n",
       "\n",
       "    .dataframe tbody tr th {\n",
       "        vertical-align: top;\n",
       "    }\n",
       "\n",
       "    .dataframe thead th {\n",
       "        text-align: right;\n",
       "    }\n",
       "</style>\n",
       "<table border=\"1\" class=\"dataframe\">\n",
       "  <thead>\n",
       "    <tr style=\"text-align: right;\">\n",
       "      <th></th>\n",
       "      <th>receipt_no</th>\n",
       "      <th>completion_time</th>\n",
       "      <th>details</th>\n",
       "      <th>status</th>\n",
       "      <th>paid_in</th>\n",
       "      <th>withdrawn</th>\n",
       "      <th>balance</th>\n",
       "      <th>year</th>\n",
       "      <th>month</th>\n",
       "      <th>transactions.group</th>\n",
       "      <th>transactions_cohort</th>\n",
       "    </tr>\n",
       "  </thead>\n",
       "  <tbody>\n",
       "    <tr>\n",
       "      <th>1596</th>\n",
       "      <td>NLL6TDOVMM</td>\n",
       "      <td>2019-12-21 07:07:14</td>\n",
       "      <td>Airtime Purchase</td>\n",
       "      <td>Completed</td>\n",
       "      <td>0.0</td>\n",
       "      <td>100.0</td>\n",
       "      <td>31000.46</td>\n",
       "      <td>2019</td>\n",
       "      <td>December</td>\n",
       "      <td>airtime</td>\n",
       "      <td>December.2019</td>\n",
       "    </tr>\n",
       "    <tr>\n",
       "      <th>1595</th>\n",
       "      <td>NLL1TEOQH1</td>\n",
       "      <td>2019-12-21 08:05:26</td>\n",
       "      <td>Customer Withdrawal At Agent Till 233409 - Natsars Ltd Zimmerman Area Behind Co-op Bank</td>\n",
       "      <td>Completed</td>\n",
       "      <td>0.0</td>\n",
       "      <td>15000.0</td>\n",
       "      <td>16000.46</td>\n",
       "      <td>2019</td>\n",
       "      <td>December</td>\n",
       "      <td>withdrawals</td>\n",
       "      <td>December.2019</td>\n",
       "    </tr>\n",
       "    <tr>\n",
       "      <th>1594</th>\n",
       "      <td>NLL1TEOQH1</td>\n",
       "      <td>2019-12-21 08:05:26</td>\n",
       "      <td>Withdrawal Charge</td>\n",
       "      <td>Completed</td>\n",
       "      <td>0.0</td>\n",
       "      <td>162.0</td>\n",
       "      <td>15838.46</td>\n",
       "      <td>2019</td>\n",
       "      <td>December</td>\n",
       "      <td>withdrawal_charge</td>\n",
       "      <td>December.2019</td>\n",
       "    </tr>\n",
       "    <tr>\n",
       "      <th>1593</th>\n",
       "      <td>NLL7U6LEUV</td>\n",
       "      <td>2019-12-21 22:19:36</td>\n",
       "      <td>Customer Transfer to 254724775068 - CALEB CHERUIYOT BIEGON</td>\n",
       "      <td>Completed</td>\n",
       "      <td>0.0</td>\n",
       "      <td>2028.0</td>\n",
       "      <td>13810.46</td>\n",
       "      <td>2019</td>\n",
       "      <td>December</td>\n",
       "      <td>customer_transfer</td>\n",
       "      <td>December.2019</td>\n",
       "    </tr>\n",
       "    <tr>\n",
       "      <th>1592</th>\n",
       "      <td>NLL7U6LEUV</td>\n",
       "      <td>2019-12-21 22:19:36</td>\n",
       "      <td>Customer Transfer of Funds Charge</td>\n",
       "      <td>Completed</td>\n",
       "      <td>0.0</td>\n",
       "      <td>41.0</td>\n",
       "      <td>13769.46</td>\n",
       "      <td>2019</td>\n",
       "      <td>December</td>\n",
       "      <td>funds_charge</td>\n",
       "      <td>December.2019</td>\n",
       "    </tr>\n",
       "  </tbody>\n",
       "</table>\n",
       "</div>"
      ],
      "text/plain": [
       "0     receipt_no     completion_time  \\\n",
       "1596  NLL6TDOVMM 2019-12-21 07:07:14   \n",
       "1595  NLL1TEOQH1 2019-12-21 08:05:26   \n",
       "1594  NLL1TEOQH1 2019-12-21 08:05:26   \n",
       "1593  NLL7U6LEUV 2019-12-21 22:19:36   \n",
       "1592  NLL7U6LEUV 2019-12-21 22:19:36   \n",
       "\n",
       "0                                                                                     details  \\\n",
       "1596  Airtime Purchase                                                                          \n",
       "1595  Customer Withdrawal At Agent Till 233409 - Natsars Ltd Zimmerman Area Behind Co-op Bank   \n",
       "1594  Withdrawal Charge                                                                         \n",
       "1593  Customer Transfer to 254724775068 - CALEB CHERUIYOT BIEGON                                \n",
       "1592  Customer Transfer of Funds Charge                                                         \n",
       "\n",
       "0        status  paid_in  withdrawn   balance  year     month  \\\n",
       "1596  Completed  0.0      100.0      31000.46  2019  December   \n",
       "1595  Completed  0.0      15000.0    16000.46  2019  December   \n",
       "1594  Completed  0.0      162.0      15838.46  2019  December   \n",
       "1593  Completed  0.0      2028.0     13810.46  2019  December   \n",
       "1592  Completed  0.0      41.0       13769.46  2019  December   \n",
       "\n",
       "0    transactions.group transactions_cohort  \n",
       "1596  airtime            December.2019       \n",
       "1595  withdrawals        December.2019       \n",
       "1594  withdrawal_charge  December.2019       \n",
       "1593  customer_transfer  December.2019       \n",
       "1592  funds_charge       December.2019       "
      ]
     },
     "execution_count": 51,
     "metadata": {},
     "output_type": "execute_result"
    }
   ],
   "source": [
    "mpesa_df.head()"
   ]
  },
  {
   "cell_type": "code",
   "execution_count": 54,
   "metadata": {},
   "outputs": [],
   "source": [
    "text_group = []\n",
    "for index, row in mpesa_df.iterrows():\n",
    "    if 'Funds Charge' in row['details']:\n",
    "        text_group.append('funds_charge')\n",
    "    elif 'Business Payment from' in row['details']:\n",
    "        text_group.append('business_deposit')\n",
    "    elif 'Loan Repayment' in row['details']:\n",
    "        text_group.append('loan_payment')\n",
    "    elif 'Receive International Transfer From' in row['details']:\n",
    "        text_group.append('international_deposits')\n",
    "    elif 'Airtime' in row['details']:\n",
    "        text_group.append('airtime')\n",
    "    elif 'Customer Transfer to' in row['details']:\n",
    "        text_group.append('customer_transfer')\n",
    "    elif 'Customer Transfer Fuliza' in row['details']:\n",
    "        text_group.append('fuliza')   \n",
    "    elif 'Customer Withdrawal At' in row['details']:\n",
    "        text_group.append('withdrawals')\n",
    "    elif 'Withdrawal Charge' in row['details']: \n",
    "        text_group.append('withdrawal_charge')\n",
    "    elif 'Buy Bundles' in row['details']: \n",
    "        text_group.append('bundles')\n",
    "    elif 'Pay Bill' in row['details']:\n",
    "        text_group.append('bill_payments')\n",
    "    elif 'Pay Bill Charge' in row['details']:\n",
    "        text_group.append('bill_charges')\n",
    "    elif 'Merchant Payment' in row['details']: \n",
    "        text_group.append('merchant_payment')\n",
    "    elif 'Funds received from' in row['details']: \n",
    "        text_group.append('deposit_sender')\n",
    "    elif 'OverDraft' in row['details']: \n",
    "        text_group.append('overdraft')\n",
    "    elif 'Promotion Payment from' in row['details']: \n",
    "        text_group.append('deposit_promotion')\n",
    "    elif 'Deposit of Funds at ' in row['details']: \n",
    "        text_group.append('deposits')\n",
    "    elif 'M-Shwari Deposit' in row['details']: \n",
    "        text_group.append('mshwari_deposits')\n",
    "    elif 'M-Shwari Withdraw' in row['details']: \n",
    "        text_group.append('mshwari_withdrawals ')\n",
    "    elif 'Pay Merchant Charge' in row['details']: \n",
    "        text_group.append('mechant_charges')\n",
    "    elif 'Reversal' in row['details']: \n",
    "        text_group.append('reversal')\n",
    "    elif 'M-Shwari Lock Deposit' in row['details']: \n",
    "        text_group.append('mshwari_deposit')\n",
    "    elif 'M-Shwari Loan Disburse' in row['details']: \n",
    "        text_group.append('mshwari_loan')\n",
    "    else :\n",
    "        text_group.append('error')\n",
    "        \n",
    "mpesa_df['transactions.group'] = text_group\n",
    "        "
   ]
  },
  {
   "cell_type": "code",
   "execution_count": 55,
   "metadata": {},
   "outputs": [
    {
     "data": {
      "text/html": [
       "<div>\n",
       "<style scoped>\n",
       "    .dataframe tbody tr th:only-of-type {\n",
       "        vertical-align: middle;\n",
       "    }\n",
       "\n",
       "    .dataframe tbody tr th {\n",
       "        vertical-align: top;\n",
       "    }\n",
       "\n",
       "    .dataframe thead th {\n",
       "        text-align: right;\n",
       "    }\n",
       "</style>\n",
       "<table border=\"1\" class=\"dataframe\">\n",
       "  <thead>\n",
       "    <tr style=\"text-align: right;\">\n",
       "      <th></th>\n",
       "      <th>receipt_no</th>\n",
       "      <th>completion_time</th>\n",
       "      <th>details</th>\n",
       "      <th>status</th>\n",
       "      <th>paid_in</th>\n",
       "      <th>withdrawn</th>\n",
       "      <th>balance</th>\n",
       "      <th>year</th>\n",
       "      <th>month</th>\n",
       "      <th>transactions.group</th>\n",
       "      <th>transactions_cohort</th>\n",
       "    </tr>\n",
       "  </thead>\n",
       "  <tbody>\n",
       "  </tbody>\n",
       "</table>\n",
       "</div>"
      ],
      "text/plain": [
       "Empty DataFrame\n",
       "Columns: [receipt_no, completion_time, details, status, paid_in, withdrawn, balance, year, month, transactions.group, transactions_cohort]\n",
       "Index: []"
      ]
     },
     "execution_count": 55,
     "metadata": {},
     "output_type": "execute_result"
    }
   ],
   "source": [
    "mpesa_df[mpesa_df['transactions.group']=='error']"
   ]
  },
  {
   "cell_type": "code",
   "execution_count": 56,
   "metadata": {},
   "outputs": [
    {
     "data": {
      "text/html": [
       "<div>\n",
       "<style scoped>\n",
       "    .dataframe tbody tr th:only-of-type {\n",
       "        vertical-align: middle;\n",
       "    }\n",
       "\n",
       "    .dataframe tbody tr th {\n",
       "        vertical-align: top;\n",
       "    }\n",
       "\n",
       "    .dataframe thead th {\n",
       "        text-align: right;\n",
       "    }\n",
       "</style>\n",
       "<table border=\"1\" class=\"dataframe\">\n",
       "  <thead>\n",
       "    <tr style=\"text-align: right;\">\n",
       "      <th></th>\n",
       "      <th>receipt_no</th>\n",
       "      <th>completion_time</th>\n",
       "      <th>details</th>\n",
       "      <th>status</th>\n",
       "      <th>paid_in</th>\n",
       "      <th>withdrawn</th>\n",
       "      <th>balance</th>\n",
       "      <th>year</th>\n",
       "      <th>month</th>\n",
       "      <th>transactions.group</th>\n",
       "      <th>transactions_cohort</th>\n",
       "    </tr>\n",
       "  </thead>\n",
       "  <tbody>\n",
       "    <tr>\n",
       "      <th>1596</th>\n",
       "      <td>NLL6TDOVMM</td>\n",
       "      <td>2019-12-21 07:07:14</td>\n",
       "      <td>Airtime Purchase</td>\n",
       "      <td>Completed</td>\n",
       "      <td>0.0</td>\n",
       "      <td>100.0</td>\n",
       "      <td>31000.46</td>\n",
       "      <td>2019</td>\n",
       "      <td>December</td>\n",
       "      <td>airtime</td>\n",
       "      <td>December.2019</td>\n",
       "    </tr>\n",
       "    <tr>\n",
       "      <th>1595</th>\n",
       "      <td>NLL1TEOQH1</td>\n",
       "      <td>2019-12-21 08:05:26</td>\n",
       "      <td>Customer Withdrawal At Agent Till 233409 - Natsars Ltd Zimmerman Area Behind Co-op Bank</td>\n",
       "      <td>Completed</td>\n",
       "      <td>0.0</td>\n",
       "      <td>15000.0</td>\n",
       "      <td>16000.46</td>\n",
       "      <td>2019</td>\n",
       "      <td>December</td>\n",
       "      <td>withdrawals</td>\n",
       "      <td>December.2019</td>\n",
       "    </tr>\n",
       "    <tr>\n",
       "      <th>1594</th>\n",
       "      <td>NLL1TEOQH1</td>\n",
       "      <td>2019-12-21 08:05:26</td>\n",
       "      <td>Withdrawal Charge</td>\n",
       "      <td>Completed</td>\n",
       "      <td>0.0</td>\n",
       "      <td>162.0</td>\n",
       "      <td>15838.46</td>\n",
       "      <td>2019</td>\n",
       "      <td>December</td>\n",
       "      <td>withdrawal_charge</td>\n",
       "      <td>December.2019</td>\n",
       "    </tr>\n",
       "    <tr>\n",
       "      <th>1593</th>\n",
       "      <td>NLL7U6LEUV</td>\n",
       "      <td>2019-12-21 22:19:36</td>\n",
       "      <td>Customer Transfer to 254724775068 - CALEB CHERUIYOT BIEGON</td>\n",
       "      <td>Completed</td>\n",
       "      <td>0.0</td>\n",
       "      <td>2028.0</td>\n",
       "      <td>13810.46</td>\n",
       "      <td>2019</td>\n",
       "      <td>December</td>\n",
       "      <td>customer_transfer</td>\n",
       "      <td>December.2019</td>\n",
       "    </tr>\n",
       "    <tr>\n",
       "      <th>1592</th>\n",
       "      <td>NLL7U6LEUV</td>\n",
       "      <td>2019-12-21 22:19:36</td>\n",
       "      <td>Customer Transfer of Funds Charge</td>\n",
       "      <td>Completed</td>\n",
       "      <td>0.0</td>\n",
       "      <td>41.0</td>\n",
       "      <td>13769.46</td>\n",
       "      <td>2019</td>\n",
       "      <td>December</td>\n",
       "      <td>funds_charge</td>\n",
       "      <td>December.2019</td>\n",
       "    </tr>\n",
       "  </tbody>\n",
       "</table>\n",
       "</div>"
      ],
      "text/plain": [
       "0     receipt_no     completion_time  \\\n",
       "1596  NLL6TDOVMM 2019-12-21 07:07:14   \n",
       "1595  NLL1TEOQH1 2019-12-21 08:05:26   \n",
       "1594  NLL1TEOQH1 2019-12-21 08:05:26   \n",
       "1593  NLL7U6LEUV 2019-12-21 22:19:36   \n",
       "1592  NLL7U6LEUV 2019-12-21 22:19:36   \n",
       "\n",
       "0                                                                                     details  \\\n",
       "1596  Airtime Purchase                                                                          \n",
       "1595  Customer Withdrawal At Agent Till 233409 - Natsars Ltd Zimmerman Area Behind Co-op Bank   \n",
       "1594  Withdrawal Charge                                                                         \n",
       "1593  Customer Transfer to 254724775068 - CALEB CHERUIYOT BIEGON                                \n",
       "1592  Customer Transfer of Funds Charge                                                         \n",
       "\n",
       "0        status  paid_in  withdrawn   balance  year     month  \\\n",
       "1596  Completed  0.0      100.0      31000.46  2019  December   \n",
       "1595  Completed  0.0      15000.0    16000.46  2019  December   \n",
       "1594  Completed  0.0      162.0      15838.46  2019  December   \n",
       "1593  Completed  0.0      2028.0     13810.46  2019  December   \n",
       "1592  Completed  0.0      41.0       13769.46  2019  December   \n",
       "\n",
       "0    transactions.group transactions_cohort  \n",
       "1596  airtime            December.2019       \n",
       "1595  withdrawals        December.2019       \n",
       "1594  withdrawal_charge  December.2019       \n",
       "1593  customer_transfer  December.2019       \n",
       "1592  funds_charge       December.2019       "
      ]
     },
     "execution_count": 56,
     "metadata": {},
     "output_type": "execute_result"
    }
   ],
   "source": [
    "mpesa_df.head()"
   ]
  },
  {
   "cell_type": "code",
   "execution_count": 57,
   "metadata": {},
   "outputs": [
    {
     "data": {
      "text/html": [
       "<div>\n",
       "<style scoped>\n",
       "    .dataframe tbody tr th:only-of-type {\n",
       "        vertical-align: middle;\n",
       "    }\n",
       "\n",
       "    .dataframe tbody tr th {\n",
       "        vertical-align: top;\n",
       "    }\n",
       "\n",
       "    .dataframe thead th {\n",
       "        text-align: right;\n",
       "    }\n",
       "</style>\n",
       "<table border=\"1\" class=\"dataframe\">\n",
       "  <thead>\n",
       "    <tr style=\"text-align: right;\">\n",
       "      <th></th>\n",
       "      <th>transactions.group</th>\n",
       "      <th>April.2020</th>\n",
       "      <th>August.2020</th>\n",
       "      <th>December.2019</th>\n",
       "      <th>December.2020</th>\n",
       "      <th>February.2020</th>\n",
       "      <th>January.2020</th>\n",
       "      <th>July.2020</th>\n",
       "      <th>June.2020</th>\n",
       "      <th>March.2020</th>\n",
       "      <th>May.2020</th>\n",
       "      <th>November.2020</th>\n",
       "      <th>October.2020</th>\n",
       "      <th>September.2020</th>\n",
       "      <th>Grand Total</th>\n",
       "    </tr>\n",
       "  </thead>\n",
       "  <tbody>\n",
       "    <tr>\n",
       "      <th>21</th>\n",
       "      <td>withdrawals</td>\n",
       "      <td>30350.00</td>\n",
       "      <td>28200.00</td>\n",
       "      <td>25800.00</td>\n",
       "      <td>20600.00</td>\n",
       "      <td>18700.00</td>\n",
       "      <td>41350.00</td>\n",
       "      <td>27850.00</td>\n",
       "      <td>2500.00</td>\n",
       "      <td>6650.00</td>\n",
       "      <td>18500.00</td>\n",
       "      <td>62700.00</td>\n",
       "      <td>46500.00</td>\n",
       "      <td>10700.00</td>\n",
       "      <td>340400.00</td>\n",
       "    </tr>\n",
       "    <tr>\n",
       "      <th>20</th>\n",
       "      <td>withdrawal_charge</td>\n",
       "      <td>302.00</td>\n",
       "      <td>446.00</td>\n",
       "      <td>324.00</td>\n",
       "      <td>308.00</td>\n",
       "      <td>301.00</td>\n",
       "      <td>467.00</td>\n",
       "      <td>367.00</td>\n",
       "      <td>55.00</td>\n",
       "      <td>112.00</td>\n",
       "      <td>296.00</td>\n",
       "      <td>683.00</td>\n",
       "      <td>587.00</td>\n",
       "      <td>162.00</td>\n",
       "      <td>4410.00</td>\n",
       "    </tr>\n",
       "    <tr>\n",
       "      <th>19</th>\n",
       "      <td>reversal</td>\n",
       "      <td>0.00</td>\n",
       "      <td>0.00</td>\n",
       "      <td>0.00</td>\n",
       "      <td>0.00</td>\n",
       "      <td>0.00</td>\n",
       "      <td>0.00</td>\n",
       "      <td>0.00</td>\n",
       "      <td>0.00</td>\n",
       "      <td>0.00</td>\n",
       "      <td>0.00</td>\n",
       "      <td>0.00</td>\n",
       "      <td>300.00</td>\n",
       "      <td>0.00</td>\n",
       "      <td>300.00</td>\n",
       "    </tr>\n",
       "    <tr>\n",
       "      <th>15</th>\n",
       "      <td>mshwari_deposits</td>\n",
       "      <td>25000.00</td>\n",
       "      <td>0.00</td>\n",
       "      <td>0.00</td>\n",
       "      <td>0.00</td>\n",
       "      <td>0.00</td>\n",
       "      <td>0.00</td>\n",
       "      <td>18060.00</td>\n",
       "      <td>0.00</td>\n",
       "      <td>0.00</td>\n",
       "      <td>2000.00</td>\n",
       "      <td>38000.00</td>\n",
       "      <td>51200.00</td>\n",
       "      <td>5000.00</td>\n",
       "      <td>139260.00</td>\n",
       "    </tr>\n",
       "    <tr>\n",
       "      <th>14</th>\n",
       "      <td>mshwari_deposit</td>\n",
       "      <td>0.00</td>\n",
       "      <td>0.00</td>\n",
       "      <td>0.00</td>\n",
       "      <td>0.00</td>\n",
       "      <td>0.00</td>\n",
       "      <td>0.00</td>\n",
       "      <td>0.00</td>\n",
       "      <td>3000.00</td>\n",
       "      <td>0.00</td>\n",
       "      <td>0.00</td>\n",
       "      <td>0.00</td>\n",
       "      <td>0.00</td>\n",
       "      <td>0.00</td>\n",
       "      <td>3000.00</td>\n",
       "    </tr>\n",
       "    <tr>\n",
       "      <th>13</th>\n",
       "      <td>merchant_payment</td>\n",
       "      <td>12737.00</td>\n",
       "      <td>33912.00</td>\n",
       "      <td>2500.00</td>\n",
       "      <td>15200.00</td>\n",
       "      <td>7031.00</td>\n",
       "      <td>7607.00</td>\n",
       "      <td>52030.00</td>\n",
       "      <td>13578.00</td>\n",
       "      <td>322.00</td>\n",
       "      <td>9328.00</td>\n",
       "      <td>30048.00</td>\n",
       "      <td>15951.00</td>\n",
       "      <td>15784.00</td>\n",
       "      <td>216028.00</td>\n",
       "    </tr>\n",
       "    <tr>\n",
       "      <th>12</th>\n",
       "      <td>mechant_charges</td>\n",
       "      <td>0.00</td>\n",
       "      <td>0.00</td>\n",
       "      <td>0.00</td>\n",
       "      <td>0.00</td>\n",
       "      <td>0.00</td>\n",
       "      <td>0.00</td>\n",
       "      <td>0.00</td>\n",
       "      <td>10.00</td>\n",
       "      <td>0.00</td>\n",
       "      <td>0.00</td>\n",
       "      <td>0.00</td>\n",
       "      <td>0.00</td>\n",
       "      <td>0.00</td>\n",
       "      <td>10.00</td>\n",
       "    </tr>\n",
       "    <tr>\n",
       "      <th>11</th>\n",
       "      <td>loan_payment</td>\n",
       "      <td>3873.04</td>\n",
       "      <td>216.38</td>\n",
       "      <td>3483.31</td>\n",
       "      <td>4664.95</td>\n",
       "      <td>22168.69</td>\n",
       "      <td>13575.43</td>\n",
       "      <td>2001.23</td>\n",
       "      <td>1954.41</td>\n",
       "      <td>15226.92</td>\n",
       "      <td>1147.51</td>\n",
       "      <td>132.91</td>\n",
       "      <td>1081.21</td>\n",
       "      <td>2295.75</td>\n",
       "      <td>71821.74</td>\n",
       "    </tr>\n",
       "    <tr>\n",
       "      <th>9</th>\n",
       "      <td>funds_charge</td>\n",
       "      <td>490.00</td>\n",
       "      <td>364.00</td>\n",
       "      <td>502.00</td>\n",
       "      <td>359.00</td>\n",
       "      <td>935.00</td>\n",
       "      <td>734.00</td>\n",
       "      <td>564.00</td>\n",
       "      <td>384.00</td>\n",
       "      <td>703.00</td>\n",
       "      <td>230.00</td>\n",
       "      <td>598.00</td>\n",
       "      <td>522.00</td>\n",
       "      <td>390.00</td>\n",
       "      <td>6775.00</td>\n",
       "    </tr>\n",
       "    <tr>\n",
       "      <th>8</th>\n",
       "      <td>fuliza</td>\n",
       "      <td>300.00</td>\n",
       "      <td>330.00</td>\n",
       "      <td>13350.00</td>\n",
       "      <td>1270.00</td>\n",
       "      <td>12865.00</td>\n",
       "      <td>8044.00</td>\n",
       "      <td>0.00</td>\n",
       "      <td>3028.00</td>\n",
       "      <td>6590.00</td>\n",
       "      <td>0.00</td>\n",
       "      <td>0.00</td>\n",
       "      <td>500.00</td>\n",
       "      <td>5280.00</td>\n",
       "      <td>51557.00</td>\n",
       "    </tr>\n",
       "    <tr>\n",
       "      <th>4</th>\n",
       "      <td>customer_transfer</td>\n",
       "      <td>41801.00</td>\n",
       "      <td>26017.00</td>\n",
       "      <td>34924.00</td>\n",
       "      <td>31192.00</td>\n",
       "      <td>35750.00</td>\n",
       "      <td>35541.00</td>\n",
       "      <td>32885.00</td>\n",
       "      <td>29018.00</td>\n",
       "      <td>35252.00</td>\n",
       "      <td>26509.00</td>\n",
       "      <td>56442.00</td>\n",
       "      <td>55868.00</td>\n",
       "      <td>35855.00</td>\n",
       "      <td>477054.00</td>\n",
       "    </tr>\n",
       "    <tr>\n",
       "      <th>2</th>\n",
       "      <td>bundles</td>\n",
       "      <td>0.00</td>\n",
       "      <td>0.00</td>\n",
       "      <td>1999.00</td>\n",
       "      <td>0.00</td>\n",
       "      <td>4797.00</td>\n",
       "      <td>5045.00</td>\n",
       "      <td>0.00</td>\n",
       "      <td>0.00</td>\n",
       "      <td>1000.00</td>\n",
       "      <td>0.00</td>\n",
       "      <td>0.00</td>\n",
       "      <td>0.00</td>\n",
       "      <td>0.00</td>\n",
       "      <td>12841.00</td>\n",
       "    </tr>\n",
       "    <tr>\n",
       "      <th>1</th>\n",
       "      <td>bill_payments</td>\n",
       "      <td>26954.00</td>\n",
       "      <td>9843.00</td>\n",
       "      <td>1500.00</td>\n",
       "      <td>49861.00</td>\n",
       "      <td>14966.00</td>\n",
       "      <td>31947.00</td>\n",
       "      <td>27262.00</td>\n",
       "      <td>12392.00</td>\n",
       "      <td>29693.00</td>\n",
       "      <td>15874.00</td>\n",
       "      <td>75475.00</td>\n",
       "      <td>43682.00</td>\n",
       "      <td>36720.00</td>\n",
       "      <td>376169.00</td>\n",
       "    </tr>\n",
       "    <tr>\n",
       "      <th>0</th>\n",
       "      <td>airtime</td>\n",
       "      <td>785.00</td>\n",
       "      <td>220.00</td>\n",
       "      <td>2050.00</td>\n",
       "      <td>550.00</td>\n",
       "      <td>2370.00</td>\n",
       "      <td>1250.00</td>\n",
       "      <td>880.00</td>\n",
       "      <td>410.00</td>\n",
       "      <td>1450.00</td>\n",
       "      <td>275.00</td>\n",
       "      <td>655.00</td>\n",
       "      <td>495.00</td>\n",
       "      <td>920.00</td>\n",
       "      <td>12310.00</td>\n",
       "    </tr>\n",
       "    <tr>\n",
       "      <th>22</th>\n",
       "      <td>Grand Total</td>\n",
       "      <td>142592.04</td>\n",
       "      <td>99548.38</td>\n",
       "      <td>86432.31</td>\n",
       "      <td>124004.95</td>\n",
       "      <td>119883.69</td>\n",
       "      <td>145560.43</td>\n",
       "      <td>161899.23</td>\n",
       "      <td>66329.41</td>\n",
       "      <td>96998.92</td>\n",
       "      <td>74159.51</td>\n",
       "      <td>264733.91</td>\n",
       "      <td>216686.21</td>\n",
       "      <td>113106.75</td>\n",
       "      <td>1711935.74</td>\n",
       "    </tr>\n",
       "  </tbody>\n",
       "</table>\n",
       "</div>"
      ],
      "text/plain": [
       "   transactions.group  April.2020  August.2020  December.2019  December.2020  \\\n",
       "21  withdrawals        30350.00    28200.00     25800.00       20600.00        \n",
       "20  withdrawal_charge  302.00      446.00       324.00         308.00          \n",
       "19  reversal           0.00        0.00         0.00           0.00            \n",
       "15  mshwari_deposits   25000.00    0.00         0.00           0.00            \n",
       "14  mshwari_deposit    0.00        0.00         0.00           0.00            \n",
       "13  merchant_payment   12737.00    33912.00     2500.00        15200.00        \n",
       "12  mechant_charges    0.00        0.00         0.00           0.00            \n",
       "11  loan_payment       3873.04     216.38       3483.31        4664.95         \n",
       "9   funds_charge       490.00      364.00       502.00         359.00          \n",
       "8   fuliza             300.00      330.00       13350.00       1270.00         \n",
       "4   customer_transfer  41801.00    26017.00     34924.00       31192.00        \n",
       "2   bundles            0.00        0.00         1999.00        0.00            \n",
       "1   bill_payments      26954.00    9843.00      1500.00        49861.00        \n",
       "0   airtime            785.00      220.00       2050.00        550.00          \n",
       "22  Grand Total        142592.04   99548.38     86432.31       124004.95       \n",
       "\n",
       "    February.2020  January.2020  July.2020  June.2020  March.2020  May.2020  \\\n",
       "21  18700.00       41350.00      27850.00   2500.00    6650.00     18500.00   \n",
       "20  301.00         467.00        367.00     55.00      112.00      296.00     \n",
       "19  0.00           0.00          0.00       0.00       0.00        0.00       \n",
       "15  0.00           0.00          18060.00   0.00       0.00        2000.00    \n",
       "14  0.00           0.00          0.00       3000.00    0.00        0.00       \n",
       "13  7031.00        7607.00       52030.00   13578.00   322.00      9328.00    \n",
       "12  0.00           0.00          0.00       10.00      0.00        0.00       \n",
       "11  22168.69       13575.43      2001.23    1954.41    15226.92    1147.51    \n",
       "9   935.00         734.00        564.00     384.00     703.00      230.00     \n",
       "8   12865.00       8044.00       0.00       3028.00    6590.00     0.00       \n",
       "4   35750.00       35541.00      32885.00   29018.00   35252.00    26509.00   \n",
       "2   4797.00        5045.00       0.00       0.00       1000.00     0.00       \n",
       "1   14966.00       31947.00      27262.00   12392.00   29693.00    15874.00   \n",
       "0   2370.00        1250.00       880.00     410.00     1450.00     275.00     \n",
       "22  119883.69      145560.43     161899.23  66329.41   96998.92    74159.51   \n",
       "\n",
       "    November.2020  October.2020  September.2020  Grand Total  \n",
       "21  62700.00       46500.00      10700.00        340400.00    \n",
       "20  683.00         587.00        162.00          4410.00      \n",
       "19  0.00           300.00        0.00            300.00       \n",
       "15  38000.00       51200.00      5000.00         139260.00    \n",
       "14  0.00           0.00          0.00            3000.00      \n",
       "13  30048.00       15951.00      15784.00        216028.00    \n",
       "12  0.00           0.00          0.00            10.00        \n",
       "11  132.91         1081.21       2295.75         71821.74     \n",
       "9   598.00         522.00        390.00          6775.00      \n",
       "8   0.00           500.00        5280.00         51557.00     \n",
       "4   56442.00       55868.00      35855.00        477054.00    \n",
       "2   0.00           0.00          0.00            12841.00     \n",
       "1   75475.00       43682.00      36720.00        376169.00    \n",
       "0   655.00         495.00        920.00          12310.00     \n",
       "22  264733.91      216686.21     113106.75       1711935.74   "
      ]
     },
     "execution_count": 57,
     "metadata": {},
     "output_type": "execute_result"
    }
   ],
   "source": [
    "#undersanding the performance of various transactions groups over time\n",
    "table_withdrawals = pd.pivot_table(mpesa_df,index=['transactions.group'],columns = ['transactions_cohort'],\n",
    "                       values = ['withdrawn'],aggfunc={'withdrawn':np.sum},\n",
    "                      margins=True,margins_name='Grand Total').reset_index()\n",
    "\n",
    "\n",
    "table_withdrawals.columns = [' '.join(col).strip() for col in table_withdrawals.columns.values]\n",
    "table_withdrawals = table_withdrawals.sort_values('transactions.group', ascending=False)\n",
    "table_withdrawals.columns = table_withdrawals.columns.str.replace(\"withdrawn \", \"\")\n",
    "table_withdrawals = table_withdrawals[table_withdrawals['Grand Total'] !=0].fillna(0)\n",
    "\n",
    "# #columns ordering\n",
    "#table_withdrawals = table_withdrawals[['transactions.group','March', 'April', 'May', 'June', 'July', 'August','Grand Total']]\n",
    "\n",
    "table_withdrawals"
   ]
  },
  {
   "cell_type": "code",
   "execution_count": 59,
   "metadata": {},
   "outputs": [
    {
     "data": {
      "text/html": [
       "<div>\n",
       "<style scoped>\n",
       "    .dataframe tbody tr th:only-of-type {\n",
       "        vertical-align: middle;\n",
       "    }\n",
       "\n",
       "    .dataframe tbody tr th {\n",
       "        vertical-align: top;\n",
       "    }\n",
       "\n",
       "    .dataframe thead th {\n",
       "        text-align: right;\n",
       "    }\n",
       "</style>\n",
       "<table border=\"1\" class=\"dataframe\">\n",
       "  <thead>\n",
       "    <tr style=\"text-align: right;\">\n",
       "      <th></th>\n",
       "      <th>transactions.group</th>\n",
       "      <th>April.2020</th>\n",
       "      <th>August.2020</th>\n",
       "      <th>December.2019</th>\n",
       "      <th>December.2020</th>\n",
       "      <th>February.2020</th>\n",
       "      <th>January.2020</th>\n",
       "      <th>July.2020</th>\n",
       "      <th>June.2020</th>\n",
       "      <th>March.2020</th>\n",
       "      <th>May.2020</th>\n",
       "      <th>November.2020</th>\n",
       "      <th>October.2020</th>\n",
       "      <th>September.2020</th>\n",
       "      <th>Grand Total</th>\n",
       "    </tr>\n",
       "  </thead>\n",
       "  <tbody>\n",
       "    <tr>\n",
       "      <th>19</th>\n",
       "      <td>reversal</td>\n",
       "      <td>0.00</td>\n",
       "      <td>0.00</td>\n",
       "      <td>0.00</td>\n",
       "      <td>0.00</td>\n",
       "      <td>0.00</td>\n",
       "      <td>0.00</td>\n",
       "      <td>100.00</td>\n",
       "      <td>0.00</td>\n",
       "      <td>0.00</td>\n",
       "      <td>0.00</td>\n",
       "      <td>0.00</td>\n",
       "      <td>0.00</td>\n",
       "      <td>0.0</td>\n",
       "      <td>100.0</td>\n",
       "    </tr>\n",
       "    <tr>\n",
       "      <th>18</th>\n",
       "      <td>overdraft</td>\n",
       "      <td>911.26</td>\n",
       "      <td>214.23</td>\n",
       "      <td>3443.86</td>\n",
       "      <td>4618.74</td>\n",
       "      <td>10663.69</td>\n",
       "      <td>7110.42</td>\n",
       "      <td>1981.41</td>\n",
       "      <td>1935.05</td>\n",
       "      <td>8688.92</td>\n",
       "      <td>1126.24</td>\n",
       "      <td>131.59</td>\n",
       "      <td>1060.59</td>\n",
       "      <td>2273.0</td>\n",
       "      <td>44159.0</td>\n",
       "    </tr>\n",
       "    <tr>\n",
       "      <th>17</th>\n",
       "      <td>mshwari_withdrawals</td>\n",
       "      <td>0.00</td>\n",
       "      <td>0.00</td>\n",
       "      <td>0.00</td>\n",
       "      <td>0.00</td>\n",
       "      <td>0.00</td>\n",
       "      <td>0.00</td>\n",
       "      <td>18000.00</td>\n",
       "      <td>500.00</td>\n",
       "      <td>0.00</td>\n",
       "      <td>0.00</td>\n",
       "      <td>38050.00</td>\n",
       "      <td>51200.00</td>\n",
       "      <td>20300.0</td>\n",
       "      <td>128050.0</td>\n",
       "    </tr>\n",
       "    <tr>\n",
       "      <th>16</th>\n",
       "      <td>mshwari_loan</td>\n",
       "      <td>0.00</td>\n",
       "      <td>5000.00</td>\n",
       "      <td>0.00</td>\n",
       "      <td>0.00</td>\n",
       "      <td>8300.00</td>\n",
       "      <td>8300.00</td>\n",
       "      <td>0.00</td>\n",
       "      <td>0.00</td>\n",
       "      <td>8300.00</td>\n",
       "      <td>0.00</td>\n",
       "      <td>0.00</td>\n",
       "      <td>0.00</td>\n",
       "      <td>0.0</td>\n",
       "      <td>29900.0</td>\n",
       "    </tr>\n",
       "    <tr>\n",
       "      <th>10</th>\n",
       "      <td>international_deposits</td>\n",
       "      <td>0.00</td>\n",
       "      <td>0.00</td>\n",
       "      <td>0.00</td>\n",
       "      <td>5632.00</td>\n",
       "      <td>0.00</td>\n",
       "      <td>0.00</td>\n",
       "      <td>0.00</td>\n",
       "      <td>0.00</td>\n",
       "      <td>0.00</td>\n",
       "      <td>0.00</td>\n",
       "      <td>0.00</td>\n",
       "      <td>0.00</td>\n",
       "      <td>0.0</td>\n",
       "      <td>5632.0</td>\n",
       "    </tr>\n",
       "    <tr>\n",
       "      <th>7</th>\n",
       "      <td>deposits</td>\n",
       "      <td>0.00</td>\n",
       "      <td>10000.00</td>\n",
       "      <td>0.00</td>\n",
       "      <td>0.00</td>\n",
       "      <td>35000.00</td>\n",
       "      <td>0.00</td>\n",
       "      <td>0.00</td>\n",
       "      <td>0.00</td>\n",
       "      <td>35000.00</td>\n",
       "      <td>0.00</td>\n",
       "      <td>0.00</td>\n",
       "      <td>0.00</td>\n",
       "      <td>10000.0</td>\n",
       "      <td>90000.0</td>\n",
       "    </tr>\n",
       "    <tr>\n",
       "      <th>6</th>\n",
       "      <td>deposit_sender</td>\n",
       "      <td>33050.00</td>\n",
       "      <td>4008.00</td>\n",
       "      <td>42890.00</td>\n",
       "      <td>24830.00</td>\n",
       "      <td>34120.00</td>\n",
       "      <td>46930.00</td>\n",
       "      <td>37190.00</td>\n",
       "      <td>7780.00</td>\n",
       "      <td>1210.00</td>\n",
       "      <td>12050.00</td>\n",
       "      <td>63180.00</td>\n",
       "      <td>51884.00</td>\n",
       "      <td>1000.0</td>\n",
       "      <td>360122.0</td>\n",
       "    </tr>\n",
       "    <tr>\n",
       "      <th>5</th>\n",
       "      <td>deposit_promotion</td>\n",
       "      <td>0.00</td>\n",
       "      <td>0.00</td>\n",
       "      <td>0.00</td>\n",
       "      <td>0.00</td>\n",
       "      <td>2050.00</td>\n",
       "      <td>4080.00</td>\n",
       "      <td>0.00</td>\n",
       "      <td>0.00</td>\n",
       "      <td>0.00</td>\n",
       "      <td>0.00</td>\n",
       "      <td>2000.00</td>\n",
       "      <td>0.00</td>\n",
       "      <td>0.0</td>\n",
       "      <td>8130.0</td>\n",
       "    </tr>\n",
       "    <tr>\n",
       "      <th>3</th>\n",
       "      <td>business_deposit</td>\n",
       "      <td>109500.00</td>\n",
       "      <td>77000.00</td>\n",
       "      <td>14788.00</td>\n",
       "      <td>87880.00</td>\n",
       "      <td>29750.00</td>\n",
       "      <td>73350.00</td>\n",
       "      <td>108080.00</td>\n",
       "      <td>57000.00</td>\n",
       "      <td>43800.00</td>\n",
       "      <td>60880.00</td>\n",
       "      <td>162450.00</td>\n",
       "      <td>110550.00</td>\n",
       "      <td>80000.0</td>\n",
       "      <td>1015028.0</td>\n",
       "    </tr>\n",
       "    <tr>\n",
       "      <th>22</th>\n",
       "      <td>Grand Total</td>\n",
       "      <td>143461.26</td>\n",
       "      <td>96222.23</td>\n",
       "      <td>61121.86</td>\n",
       "      <td>122960.74</td>\n",
       "      <td>119883.69</td>\n",
       "      <td>139770.42</td>\n",
       "      <td>165351.41</td>\n",
       "      <td>67215.05</td>\n",
       "      <td>96998.92</td>\n",
       "      <td>74056.24</td>\n",
       "      <td>265811.59</td>\n",
       "      <td>214694.59</td>\n",
       "      <td>113573.0</td>\n",
       "      <td>1681121.0</td>\n",
       "    </tr>\n",
       "  </tbody>\n",
       "</table>\n",
       "</div>"
      ],
      "text/plain": [
       "        transactions.group  April.2020  August.2020  December.2019  \\\n",
       "19  reversal                0.00        0.00         0.00            \n",
       "18  overdraft               911.26      214.23       3443.86         \n",
       "17  mshwari_withdrawals     0.00        0.00         0.00            \n",
       "16  mshwari_loan            0.00        5000.00      0.00            \n",
       "10  international_deposits  0.00        0.00         0.00            \n",
       "7   deposits                0.00        10000.00     0.00            \n",
       "6   deposit_sender          33050.00    4008.00      42890.00        \n",
       "5   deposit_promotion       0.00        0.00         0.00            \n",
       "3   business_deposit        109500.00   77000.00     14788.00        \n",
       "22  Grand Total             143461.26   96222.23     61121.86        \n",
       "\n",
       "    December.2020  February.2020  January.2020  July.2020  June.2020  \\\n",
       "19  0.00           0.00           0.00          100.00     0.00        \n",
       "18  4618.74        10663.69       7110.42       1981.41    1935.05     \n",
       "17  0.00           0.00           0.00          18000.00   500.00      \n",
       "16  0.00           8300.00        8300.00       0.00       0.00        \n",
       "10  5632.00        0.00           0.00          0.00       0.00        \n",
       "7   0.00           35000.00       0.00          0.00       0.00        \n",
       "6   24830.00       34120.00       46930.00      37190.00   7780.00     \n",
       "5   0.00           2050.00        4080.00       0.00       0.00        \n",
       "3   87880.00       29750.00       73350.00      108080.00  57000.00    \n",
       "22  122960.74      119883.69      139770.42     165351.41  67215.05    \n",
       "\n",
       "    March.2020  May.2020  November.2020  October.2020  September.2020  \\\n",
       "19  0.00        0.00      0.00           0.00          0.0              \n",
       "18  8688.92     1126.24   131.59         1060.59       2273.0           \n",
       "17  0.00        0.00      38050.00       51200.00      20300.0          \n",
       "16  8300.00     0.00      0.00           0.00          0.0              \n",
       "10  0.00        0.00      0.00           0.00          0.0              \n",
       "7   35000.00    0.00      0.00           0.00          10000.0          \n",
       "6   1210.00     12050.00  63180.00       51884.00      1000.0           \n",
       "5   0.00        0.00      2000.00        0.00          0.0              \n",
       "3   43800.00    60880.00  162450.00      110550.00     80000.0          \n",
       "22  96998.92    74056.24  265811.59      214694.59     113573.0         \n",
       "\n",
       "    Grand Total  \n",
       "19  100.0        \n",
       "18  44159.0      \n",
       "17  128050.0     \n",
       "16  29900.0      \n",
       "10  5632.0       \n",
       "7   90000.0      \n",
       "6   360122.0     \n",
       "5   8130.0       \n",
       "3   1015028.0    \n",
       "22  1681121.0    "
      ]
     },
     "execution_count": 59,
     "metadata": {},
     "output_type": "execute_result"
    }
   ],
   "source": [
    "#undersanding the performance of various transactions groups over time\n",
    "table_deposits = pd.pivot_table(mpesa_df,index=['transactions.group'],columns = ['transactions_cohort'],\n",
    "                       values = ['paid_in'],aggfunc={'paid_in':np.sum},\n",
    "                      margins=True,margins_name='Grand Total').reset_index()\n",
    "\n",
    "\n",
    "table_deposits.columns = [' '.join(col).strip() for col in table_deposits.columns.values]\n",
    "table_deposits = table_deposits.sort_values('transactions.group', ascending=False)\n",
    "table_deposits.columns = table_deposits.columns.str.replace(\"paid_in \", \"\")\n",
    "table_deposits = table_deposits[table_deposits['Grand Total'] !=0].fillna(0)\n",
    "\n",
    "#columns reordering\n",
    "#table_deposits = table_deposits[['transactions.group','March', 'April', 'May', 'June', 'July', 'August','Grand Total']]\n",
    "\n",
    "\n",
    "table_deposits"
   ]
  },
  {
   "cell_type": "code",
   "execution_count": 61,
   "metadata": {},
   "outputs": [
    {
     "data": {
      "text/html": [
       "<div>\n",
       "<style scoped>\n",
       "    .dataframe tbody tr th:only-of-type {\n",
       "        vertical-align: middle;\n",
       "    }\n",
       "\n",
       "    .dataframe tbody tr th {\n",
       "        vertical-align: top;\n",
       "    }\n",
       "\n",
       "    .dataframe thead th {\n",
       "        text-align: right;\n",
       "    }\n",
       "</style>\n",
       "<table border=\"1\" class=\"dataframe\">\n",
       "  <thead>\n",
       "    <tr style=\"text-align: right;\">\n",
       "      <th></th>\n",
       "      <th>transactions_cohort</th>\n",
       "      <th>transactions.group</th>\n",
       "      <th>withdrawn count</th>\n",
       "      <th>withdrawn sum</th>\n",
       "      <th>paid_in sum</th>\n",
       "    </tr>\n",
       "  </thead>\n",
       "  <tbody>\n",
       "    <tr>\n",
       "      <th>0</th>\n",
       "      <td>April.2020</td>\n",
       "      <td>airtime</td>\n",
       "      <td>9</td>\n",
       "      <td>785.00</td>\n",
       "      <td>0.00</td>\n",
       "    </tr>\n",
       "    <tr>\n",
       "      <th>1</th>\n",
       "      <td>April.2020</td>\n",
       "      <td>bill_payments</td>\n",
       "      <td>27</td>\n",
       "      <td>26954.00</td>\n",
       "      <td>0.00</td>\n",
       "    </tr>\n",
       "    <tr>\n",
       "      <th>2</th>\n",
       "      <td>April.2020</td>\n",
       "      <td>business_deposit</td>\n",
       "      <td>5</td>\n",
       "      <td>0.00</td>\n",
       "      <td>109500.00</td>\n",
       "    </tr>\n",
       "    <tr>\n",
       "      <th>3</th>\n",
       "      <td>April.2020</td>\n",
       "      <td>customer_transfer</td>\n",
       "      <td>24</td>\n",
       "      <td>41801.00</td>\n",
       "      <td>0.00</td>\n",
       "    </tr>\n",
       "    <tr>\n",
       "      <th>4</th>\n",
       "      <td>April.2020</td>\n",
       "      <td>deposit_sender</td>\n",
       "      <td>4</td>\n",
       "      <td>0.00</td>\n",
       "      <td>33050.00</td>\n",
       "    </tr>\n",
       "    <tr>\n",
       "      <th>5</th>\n",
       "      <td>April.2020</td>\n",
       "      <td>fuliza</td>\n",
       "      <td>1</td>\n",
       "      <td>300.00</td>\n",
       "      <td>0.00</td>\n",
       "    </tr>\n",
       "    <tr>\n",
       "      <th>6</th>\n",
       "      <td>April.2020</td>\n",
       "      <td>funds_charge</td>\n",
       "      <td>8</td>\n",
       "      <td>490.00</td>\n",
       "      <td>0.00</td>\n",
       "    </tr>\n",
       "    <tr>\n",
       "      <th>7</th>\n",
       "      <td>April.2020</td>\n",
       "      <td>loan_payment</td>\n",
       "      <td>3</td>\n",
       "      <td>3873.04</td>\n",
       "      <td>0.00</td>\n",
       "    </tr>\n",
       "    <tr>\n",
       "      <th>8</th>\n",
       "      <td>April.2020</td>\n",
       "      <td>merchant_payment</td>\n",
       "      <td>10</td>\n",
       "      <td>12737.00</td>\n",
       "      <td>0.00</td>\n",
       "    </tr>\n",
       "    <tr>\n",
       "      <th>9</th>\n",
       "      <td>April.2020</td>\n",
       "      <td>mshwari_deposits</td>\n",
       "      <td>1</td>\n",
       "      <td>25000.00</td>\n",
       "      <td>0.00</td>\n",
       "    </tr>\n",
       "    <tr>\n",
       "      <th>10</th>\n",
       "      <td>April.2020</td>\n",
       "      <td>overdraft</td>\n",
       "      <td>3</td>\n",
       "      <td>0.00</td>\n",
       "      <td>911.26</td>\n",
       "    </tr>\n",
       "    <tr>\n",
       "      <th>11</th>\n",
       "      <td>April.2020</td>\n",
       "      <td>withdrawal_charge</td>\n",
       "      <td>5</td>\n",
       "      <td>302.00</td>\n",
       "      <td>0.00</td>\n",
       "    </tr>\n",
       "    <tr>\n",
       "      <th>12</th>\n",
       "      <td>April.2020</td>\n",
       "      <td>withdrawals</td>\n",
       "      <td>5</td>\n",
       "      <td>30350.00</td>\n",
       "      <td>0.00</td>\n",
       "    </tr>\n",
       "    <tr>\n",
       "      <th>13</th>\n",
       "      <td>August.2020</td>\n",
       "      <td>airtime</td>\n",
       "      <td>5</td>\n",
       "      <td>220.00</td>\n",
       "      <td>0.00</td>\n",
       "    </tr>\n",
       "    <tr>\n",
       "      <th>14</th>\n",
       "      <td>August.2020</td>\n",
       "      <td>bill_payments</td>\n",
       "      <td>13</td>\n",
       "      <td>9843.00</td>\n",
       "      <td>0.00</td>\n",
       "    </tr>\n",
       "    <tr>\n",
       "      <th>15</th>\n",
       "      <td>August.2020</td>\n",
       "      <td>business_deposit</td>\n",
       "      <td>8</td>\n",
       "      <td>0.00</td>\n",
       "      <td>77000.00</td>\n",
       "    </tr>\n",
       "    <tr>\n",
       "      <th>16</th>\n",
       "      <td>August.2020</td>\n",
       "      <td>customer_transfer</td>\n",
       "      <td>22</td>\n",
       "      <td>26017.00</td>\n",
       "      <td>0.00</td>\n",
       "    </tr>\n",
       "    <tr>\n",
       "      <th>17</th>\n",
       "      <td>August.2020</td>\n",
       "      <td>deposit_sender</td>\n",
       "      <td>3</td>\n",
       "      <td>0.00</td>\n",
       "      <td>4008.00</td>\n",
       "    </tr>\n",
       "    <tr>\n",
       "      <th>18</th>\n",
       "      <td>August.2020</td>\n",
       "      <td>deposits</td>\n",
       "      <td>1</td>\n",
       "      <td>0.00</td>\n",
       "      <td>10000.00</td>\n",
       "    </tr>\n",
       "    <tr>\n",
       "      <th>19</th>\n",
       "      <td>August.2020</td>\n",
       "      <td>fuliza</td>\n",
       "      <td>1</td>\n",
       "      <td>330.00</td>\n",
       "      <td>0.00</td>\n",
       "    </tr>\n",
       "    <tr>\n",
       "      <th>20</th>\n",
       "      <td>August.2020</td>\n",
       "      <td>funds_charge</td>\n",
       "      <td>8</td>\n",
       "      <td>364.00</td>\n",
       "      <td>0.00</td>\n",
       "    </tr>\n",
       "    <tr>\n",
       "      <th>21</th>\n",
       "      <td>August.2020</td>\n",
       "      <td>loan_payment</td>\n",
       "      <td>1</td>\n",
       "      <td>216.38</td>\n",
       "      <td>0.00</td>\n",
       "    </tr>\n",
       "    <tr>\n",
       "      <th>22</th>\n",
       "      <td>August.2020</td>\n",
       "      <td>merchant_payment</td>\n",
       "      <td>18</td>\n",
       "      <td>33912.00</td>\n",
       "      <td>0.00</td>\n",
       "    </tr>\n",
       "    <tr>\n",
       "      <th>23</th>\n",
       "      <td>August.2020</td>\n",
       "      <td>mshwari_loan</td>\n",
       "      <td>1</td>\n",
       "      <td>0.00</td>\n",
       "      <td>5000.00</td>\n",
       "    </tr>\n",
       "    <tr>\n",
       "      <th>24</th>\n",
       "      <td>August.2020</td>\n",
       "      <td>overdraft</td>\n",
       "      <td>1</td>\n",
       "      <td>0.00</td>\n",
       "      <td>214.23</td>\n",
       "    </tr>\n",
       "    <tr>\n",
       "      <th>25</th>\n",
       "      <td>August.2020</td>\n",
       "      <td>withdrawal_charge</td>\n",
       "      <td>13</td>\n",
       "      <td>446.00</td>\n",
       "      <td>0.00</td>\n",
       "    </tr>\n",
       "    <tr>\n",
       "      <th>26</th>\n",
       "      <td>August.2020</td>\n",
       "      <td>withdrawals</td>\n",
       "      <td>13</td>\n",
       "      <td>28200.00</td>\n",
       "      <td>0.00</td>\n",
       "    </tr>\n",
       "    <tr>\n",
       "      <th>27</th>\n",
       "      <td>December.2019</td>\n",
       "      <td>airtime</td>\n",
       "      <td>4</td>\n",
       "      <td>2050.00</td>\n",
       "      <td>0.00</td>\n",
       "    </tr>\n",
       "    <tr>\n",
       "      <th>28</th>\n",
       "      <td>December.2019</td>\n",
       "      <td>bill_payments</td>\n",
       "      <td>3</td>\n",
       "      <td>1500.00</td>\n",
       "      <td>0.00</td>\n",
       "    </tr>\n",
       "    <tr>\n",
       "      <th>29</th>\n",
       "      <td>December.2019</td>\n",
       "      <td>bundles</td>\n",
       "      <td>2</td>\n",
       "      <td>1999.00</td>\n",
       "      <td>0.00</td>\n",
       "    </tr>\n",
       "    <tr>\n",
       "      <th>30</th>\n",
       "      <td>December.2019</td>\n",
       "      <td>business_deposit</td>\n",
       "      <td>6</td>\n",
       "      <td>0.00</td>\n",
       "      <td>14788.00</td>\n",
       "    </tr>\n",
       "    <tr>\n",
       "      <th>31</th>\n",
       "      <td>December.2019</td>\n",
       "      <td>customer_transfer</td>\n",
       "      <td>9</td>\n",
       "      <td>34924.00</td>\n",
       "      <td>0.00</td>\n",
       "    </tr>\n",
       "    <tr>\n",
       "      <th>32</th>\n",
       "      <td>December.2019</td>\n",
       "      <td>deposit_sender</td>\n",
       "      <td>14</td>\n",
       "      <td>0.00</td>\n",
       "      <td>42890.00</td>\n",
       "    </tr>\n",
       "    <tr>\n",
       "      <th>33</th>\n",
       "      <td>December.2019</td>\n",
       "      <td>fuliza</td>\n",
       "      <td>2</td>\n",
       "      <td>13350.00</td>\n",
       "      <td>0.00</td>\n",
       "    </tr>\n",
       "    <tr>\n",
       "      <th>34</th>\n",
       "      <td>December.2019</td>\n",
       "      <td>funds_charge</td>\n",
       "      <td>9</td>\n",
       "      <td>502.00</td>\n",
       "      <td>0.00</td>\n",
       "    </tr>\n",
       "    <tr>\n",
       "      <th>35</th>\n",
       "      <td>December.2019</td>\n",
       "      <td>loan_payment</td>\n",
       "      <td>4</td>\n",
       "      <td>3483.31</td>\n",
       "      <td>0.00</td>\n",
       "    </tr>\n",
       "    <tr>\n",
       "      <th>36</th>\n",
       "      <td>December.2019</td>\n",
       "      <td>merchant_payment</td>\n",
       "      <td>1</td>\n",
       "      <td>2500.00</td>\n",
       "      <td>0.00</td>\n",
       "    </tr>\n",
       "    <tr>\n",
       "      <th>37</th>\n",
       "      <td>December.2019</td>\n",
       "      <td>overdraft</td>\n",
       "      <td>2</td>\n",
       "      <td>0.00</td>\n",
       "      <td>3443.86</td>\n",
       "    </tr>\n",
       "    <tr>\n",
       "      <th>38</th>\n",
       "      <td>December.2019</td>\n",
       "      <td>withdrawal_charge</td>\n",
       "      <td>4</td>\n",
       "      <td>324.00</td>\n",
       "      <td>0.00</td>\n",
       "    </tr>\n",
       "    <tr>\n",
       "      <th>39</th>\n",
       "      <td>December.2019</td>\n",
       "      <td>withdrawals</td>\n",
       "      <td>4</td>\n",
       "      <td>25800.00</td>\n",
       "      <td>0.00</td>\n",
       "    </tr>\n",
       "    <tr>\n",
       "      <th>40</th>\n",
       "      <td>December.2020</td>\n",
       "      <td>airtime</td>\n",
       "      <td>6</td>\n",
       "      <td>550.00</td>\n",
       "      <td>0.00</td>\n",
       "    </tr>\n",
       "    <tr>\n",
       "      <th>41</th>\n",
       "      <td>December.2020</td>\n",
       "      <td>bill_payments</td>\n",
       "      <td>32</td>\n",
       "      <td>49861.00</td>\n",
       "      <td>0.00</td>\n",
       "    </tr>\n",
       "    <tr>\n",
       "      <th>42</th>\n",
       "      <td>December.2020</td>\n",
       "      <td>business_deposit</td>\n",
       "      <td>11</td>\n",
       "      <td>0.00</td>\n",
       "      <td>87880.00</td>\n",
       "    </tr>\n",
       "    <tr>\n",
       "      <th>43</th>\n",
       "      <td>December.2020</td>\n",
       "      <td>customer_transfer</td>\n",
       "      <td>24</td>\n",
       "      <td>31192.00</td>\n",
       "      <td>0.00</td>\n",
       "    </tr>\n",
       "    <tr>\n",
       "      <th>44</th>\n",
       "      <td>December.2020</td>\n",
       "      <td>deposit_sender</td>\n",
       "      <td>11</td>\n",
       "      <td>0.00</td>\n",
       "      <td>24830.00</td>\n",
       "    </tr>\n",
       "    <tr>\n",
       "      <th>45</th>\n",
       "      <td>December.2020</td>\n",
       "      <td>fuliza</td>\n",
       "      <td>3</td>\n",
       "      <td>1270.00</td>\n",
       "      <td>0.00</td>\n",
       "    </tr>\n",
       "    <tr>\n",
       "      <th>46</th>\n",
       "      <td>December.2020</td>\n",
       "      <td>funds_charge</td>\n",
       "      <td>8</td>\n",
       "      <td>359.00</td>\n",
       "      <td>0.00</td>\n",
       "    </tr>\n",
       "    <tr>\n",
       "      <th>47</th>\n",
       "      <td>December.2020</td>\n",
       "      <td>international_deposits</td>\n",
       "      <td>2</td>\n",
       "      <td>0.00</td>\n",
       "      <td>5632.00</td>\n",
       "    </tr>\n",
       "    <tr>\n",
       "      <th>48</th>\n",
       "      <td>December.2020</td>\n",
       "      <td>loan_payment</td>\n",
       "      <td>5</td>\n",
       "      <td>4664.95</td>\n",
       "      <td>0.00</td>\n",
       "    </tr>\n",
       "    <tr>\n",
       "      <th>49</th>\n",
       "      <td>December.2020</td>\n",
       "      <td>merchant_payment</td>\n",
       "      <td>19</td>\n",
       "      <td>15200.00</td>\n",
       "      <td>0.00</td>\n",
       "    </tr>\n",
       "    <tr>\n",
       "      <th>50</th>\n",
       "      <td>December.2020</td>\n",
       "      <td>overdraft</td>\n",
       "      <td>6</td>\n",
       "      <td>0.00</td>\n",
       "      <td>4618.74</td>\n",
       "    </tr>\n",
       "    <tr>\n",
       "      <th>51</th>\n",
       "      <td>December.2020</td>\n",
       "      <td>withdrawal_charge</td>\n",
       "      <td>9</td>\n",
       "      <td>308.00</td>\n",
       "      <td>0.00</td>\n",
       "    </tr>\n",
       "    <tr>\n",
       "      <th>52</th>\n",
       "      <td>December.2020</td>\n",
       "      <td>withdrawals</td>\n",
       "      <td>9</td>\n",
       "      <td>20600.00</td>\n",
       "      <td>0.00</td>\n",
       "    </tr>\n",
       "    <tr>\n",
       "      <th>53</th>\n",
       "      <td>February.2020</td>\n",
       "      <td>airtime</td>\n",
       "      <td>10</td>\n",
       "      <td>2370.00</td>\n",
       "      <td>0.00</td>\n",
       "    </tr>\n",
       "    <tr>\n",
       "      <th>54</th>\n",
       "      <td>February.2020</td>\n",
       "      <td>bill_payments</td>\n",
       "      <td>20</td>\n",
       "      <td>14966.00</td>\n",
       "      <td>0.00</td>\n",
       "    </tr>\n",
       "    <tr>\n",
       "      <th>55</th>\n",
       "      <td>February.2020</td>\n",
       "      <td>bundles</td>\n",
       "      <td>4</td>\n",
       "      <td>4797.00</td>\n",
       "      <td>0.00</td>\n",
       "    </tr>\n",
       "    <tr>\n",
       "      <th>56</th>\n",
       "      <td>February.2020</td>\n",
       "      <td>business_deposit</td>\n",
       "      <td>9</td>\n",
       "      <td>0.00</td>\n",
       "      <td>29750.00</td>\n",
       "    </tr>\n",
       "    <tr>\n",
       "      <th>57</th>\n",
       "      <td>February.2020</td>\n",
       "      <td>customer_transfer</td>\n",
       "      <td>21</td>\n",
       "      <td>35750.00</td>\n",
       "      <td>0.00</td>\n",
       "    </tr>\n",
       "    <tr>\n",
       "      <th>58</th>\n",
       "      <td>February.2020</td>\n",
       "      <td>deposit_promotion</td>\n",
       "      <td>1</td>\n",
       "      <td>0.00</td>\n",
       "      <td>2050.00</td>\n",
       "    </tr>\n",
       "    <tr>\n",
       "      <th>59</th>\n",
       "      <td>February.2020</td>\n",
       "      <td>deposit_sender</td>\n",
       "      <td>7</td>\n",
       "      <td>0.00</td>\n",
       "      <td>34120.00</td>\n",
       "    </tr>\n",
       "    <tr>\n",
       "      <th>60</th>\n",
       "      <td>February.2020</td>\n",
       "      <td>deposits</td>\n",
       "      <td>2</td>\n",
       "      <td>0.00</td>\n",
       "      <td>35000.00</td>\n",
       "    </tr>\n",
       "    <tr>\n",
       "      <th>61</th>\n",
       "      <td>February.2020</td>\n",
       "      <td>fuliza</td>\n",
       "      <td>9</td>\n",
       "      <td>12865.00</td>\n",
       "      <td>0.00</td>\n",
       "    </tr>\n",
       "    <tr>\n",
       "      <th>62</th>\n",
       "      <td>February.2020</td>\n",
       "      <td>funds_charge</td>\n",
       "      <td>28</td>\n",
       "      <td>935.00</td>\n",
       "      <td>0.00</td>\n",
       "    </tr>\n",
       "    <tr>\n",
       "      <th>63</th>\n",
       "      <td>February.2020</td>\n",
       "      <td>loan_payment</td>\n",
       "      <td>8</td>\n",
       "      <td>22168.69</td>\n",
       "      <td>0.00</td>\n",
       "    </tr>\n",
       "    <tr>\n",
       "      <th>64</th>\n",
       "      <td>February.2020</td>\n",
       "      <td>merchant_payment</td>\n",
       "      <td>5</td>\n",
       "      <td>7031.00</td>\n",
       "      <td>0.00</td>\n",
       "    </tr>\n",
       "    <tr>\n",
       "      <th>65</th>\n",
       "      <td>February.2020</td>\n",
       "      <td>mshwari_loan</td>\n",
       "      <td>1</td>\n",
       "      <td>0.00</td>\n",
       "      <td>8300.00</td>\n",
       "    </tr>\n",
       "    <tr>\n",
       "      <th>66</th>\n",
       "      <td>February.2020</td>\n",
       "      <td>overdraft</td>\n",
       "      <td>11</td>\n",
       "      <td>0.00</td>\n",
       "      <td>10663.69</td>\n",
       "    </tr>\n",
       "    <tr>\n",
       "      <th>67</th>\n",
       "      <td>February.2020</td>\n",
       "      <td>withdrawal_charge</td>\n",
       "      <td>6</td>\n",
       "      <td>301.00</td>\n",
       "      <td>0.00</td>\n",
       "    </tr>\n",
       "    <tr>\n",
       "      <th>68</th>\n",
       "      <td>February.2020</td>\n",
       "      <td>withdrawals</td>\n",
       "      <td>5</td>\n",
       "      <td>18700.00</td>\n",
       "      <td>0.00</td>\n",
       "    </tr>\n",
       "    <tr>\n",
       "      <th>69</th>\n",
       "      <td>January.2020</td>\n",
       "      <td>airtime</td>\n",
       "      <td>11</td>\n",
       "      <td>1250.00</td>\n",
       "      <td>0.00</td>\n",
       "    </tr>\n",
       "    <tr>\n",
       "      <th>70</th>\n",
       "      <td>January.2020</td>\n",
       "      <td>bill_payments</td>\n",
       "      <td>18</td>\n",
       "      <td>31947.00</td>\n",
       "      <td>0.00</td>\n",
       "    </tr>\n",
       "    <tr>\n",
       "      <th>71</th>\n",
       "      <td>January.2020</td>\n",
       "      <td>bundles</td>\n",
       "      <td>6</td>\n",
       "      <td>5045.00</td>\n",
       "      <td>0.00</td>\n",
       "    </tr>\n",
       "    <tr>\n",
       "      <th>72</th>\n",
       "      <td>January.2020</td>\n",
       "      <td>business_deposit</td>\n",
       "      <td>5</td>\n",
       "      <td>0.00</td>\n",
       "      <td>73350.00</td>\n",
       "    </tr>\n",
       "    <tr>\n",
       "      <th>73</th>\n",
       "      <td>January.2020</td>\n",
       "      <td>customer_transfer</td>\n",
       "      <td>38</td>\n",
       "      <td>35541.00</td>\n",
       "      <td>0.00</td>\n",
       "    </tr>\n",
       "    <tr>\n",
       "      <th>74</th>\n",
       "      <td>January.2020</td>\n",
       "      <td>deposit_promotion</td>\n",
       "      <td>2</td>\n",
       "      <td>0.00</td>\n",
       "      <td>4080.00</td>\n",
       "    </tr>\n",
       "    <tr>\n",
       "      <th>75</th>\n",
       "      <td>January.2020</td>\n",
       "      <td>deposit_sender</td>\n",
       "      <td>7</td>\n",
       "      <td>0.00</td>\n",
       "      <td>46930.00</td>\n",
       "    </tr>\n",
       "    <tr>\n",
       "      <th>76</th>\n",
       "      <td>January.2020</td>\n",
       "      <td>fuliza</td>\n",
       "      <td>6</td>\n",
       "      <td>8044.00</td>\n",
       "      <td>0.00</td>\n",
       "    </tr>\n",
       "    <tr>\n",
       "      <th>77</th>\n",
       "      <td>January.2020</td>\n",
       "      <td>funds_charge</td>\n",
       "      <td>23</td>\n",
       "      <td>734.00</td>\n",
       "      <td>0.00</td>\n",
       "    </tr>\n",
       "    <tr>\n",
       "      <th>78</th>\n",
       "      <td>January.2020</td>\n",
       "      <td>loan_payment</td>\n",
       "      <td>3</td>\n",
       "      <td>13575.43</td>\n",
       "      <td>0.00</td>\n",
       "    </tr>\n",
       "    <tr>\n",
       "      <th>79</th>\n",
       "      <td>January.2020</td>\n",
       "      <td>merchant_payment</td>\n",
       "      <td>9</td>\n",
       "      <td>7607.00</td>\n",
       "      <td>0.00</td>\n",
       "    </tr>\n",
       "    <tr>\n",
       "      <th>80</th>\n",
       "      <td>January.2020</td>\n",
       "      <td>mshwari_loan</td>\n",
       "      <td>1</td>\n",
       "      <td>0.00</td>\n",
       "      <td>8300.00</td>\n",
       "    </tr>\n",
       "    <tr>\n",
       "      <th>81</th>\n",
       "      <td>January.2020</td>\n",
       "      <td>overdraft</td>\n",
       "      <td>6</td>\n",
       "      <td>0.00</td>\n",
       "      <td>7110.42</td>\n",
       "    </tr>\n",
       "    <tr>\n",
       "      <th>82</th>\n",
       "      <td>January.2020</td>\n",
       "      <td>withdrawal_charge</td>\n",
       "      <td>11</td>\n",
       "      <td>467.00</td>\n",
       "      <td>0.00</td>\n",
       "    </tr>\n",
       "    <tr>\n",
       "      <th>83</th>\n",
       "      <td>January.2020</td>\n",
       "      <td>withdrawals</td>\n",
       "      <td>11</td>\n",
       "      <td>41350.00</td>\n",
       "      <td>0.00</td>\n",
       "    </tr>\n",
       "    <tr>\n",
       "      <th>84</th>\n",
       "      <td>July.2020</td>\n",
       "      <td>airtime</td>\n",
       "      <td>10</td>\n",
       "      <td>880.00</td>\n",
       "      <td>0.00</td>\n",
       "    </tr>\n",
       "    <tr>\n",
       "      <th>85</th>\n",
       "      <td>July.2020</td>\n",
       "      <td>bill_payments</td>\n",
       "      <td>22</td>\n",
       "      <td>27262.00</td>\n",
       "      <td>0.00</td>\n",
       "    </tr>\n",
       "    <tr>\n",
       "      <th>86</th>\n",
       "      <td>July.2020</td>\n",
       "      <td>business_deposit</td>\n",
       "      <td>9</td>\n",
       "      <td>0.00</td>\n",
       "      <td>108080.00</td>\n",
       "    </tr>\n",
       "    <tr>\n",
       "      <th>87</th>\n",
       "      <td>July.2020</td>\n",
       "      <td>customer_transfer</td>\n",
       "      <td>16</td>\n",
       "      <td>32885.00</td>\n",
       "      <td>0.00</td>\n",
       "    </tr>\n",
       "    <tr>\n",
       "      <th>88</th>\n",
       "      <td>July.2020</td>\n",
       "      <td>deposit_sender</td>\n",
       "      <td>14</td>\n",
       "      <td>0.00</td>\n",
       "      <td>37190.00</td>\n",
       "    </tr>\n",
       "    <tr>\n",
       "      <th>89</th>\n",
       "      <td>July.2020</td>\n",
       "      <td>funds_charge</td>\n",
       "      <td>12</td>\n",
       "      <td>564.00</td>\n",
       "      <td>0.00</td>\n",
       "    </tr>\n",
       "    <tr>\n",
       "      <th>90</th>\n",
       "      <td>July.2020</td>\n",
       "      <td>loan_payment</td>\n",
       "      <td>1</td>\n",
       "      <td>2001.23</td>\n",
       "      <td>0.00</td>\n",
       "    </tr>\n",
       "    <tr>\n",
       "      <th>91</th>\n",
       "      <td>July.2020</td>\n",
       "      <td>merchant_payment</td>\n",
       "      <td>14</td>\n",
       "      <td>52030.00</td>\n",
       "      <td>0.00</td>\n",
       "    </tr>\n",
       "    <tr>\n",
       "      <th>92</th>\n",
       "      <td>July.2020</td>\n",
       "      <td>mshwari_deposits</td>\n",
       "      <td>2</td>\n",
       "      <td>18060.00</td>\n",
       "      <td>0.00</td>\n",
       "    </tr>\n",
       "    <tr>\n",
       "      <th>93</th>\n",
       "      <td>July.2020</td>\n",
       "      <td>mshwari_withdrawals</td>\n",
       "      <td>5</td>\n",
       "      <td>0.00</td>\n",
       "      <td>18000.00</td>\n",
       "    </tr>\n",
       "    <tr>\n",
       "      <th>94</th>\n",
       "      <td>July.2020</td>\n",
       "      <td>overdraft</td>\n",
       "      <td>1</td>\n",
       "      <td>0.00</td>\n",
       "      <td>1981.41</td>\n",
       "    </tr>\n",
       "    <tr>\n",
       "      <th>95</th>\n",
       "      <td>July.2020</td>\n",
       "      <td>reversal</td>\n",
       "      <td>1</td>\n",
       "      <td>0.00</td>\n",
       "      <td>100.00</td>\n",
       "    </tr>\n",
       "    <tr>\n",
       "      <th>96</th>\n",
       "      <td>July.2020</td>\n",
       "      <td>withdrawal_charge</td>\n",
       "      <td>7</td>\n",
       "      <td>367.00</td>\n",
       "      <td>0.00</td>\n",
       "    </tr>\n",
       "    <tr>\n",
       "      <th>97</th>\n",
       "      <td>July.2020</td>\n",
       "      <td>withdrawals</td>\n",
       "      <td>7</td>\n",
       "      <td>27850.00</td>\n",
       "      <td>0.00</td>\n",
       "    </tr>\n",
       "    <tr>\n",
       "      <th>98</th>\n",
       "      <td>June.2020</td>\n",
       "      <td>airtime</td>\n",
       "      <td>5</td>\n",
       "      <td>410.00</td>\n",
       "      <td>0.00</td>\n",
       "    </tr>\n",
       "    <tr>\n",
       "      <th>99</th>\n",
       "      <td>June.2020</td>\n",
       "      <td>bill_payments</td>\n",
       "      <td>12</td>\n",
       "      <td>12392.00</td>\n",
       "      <td>0.00</td>\n",
       "    </tr>\n",
       "    <tr>\n",
       "      <th>100</th>\n",
       "      <td>June.2020</td>\n",
       "      <td>business_deposit</td>\n",
       "      <td>7</td>\n",
       "      <td>0.00</td>\n",
       "      <td>57000.00</td>\n",
       "    </tr>\n",
       "    <tr>\n",
       "      <th>101</th>\n",
       "      <td>June.2020</td>\n",
       "      <td>customer_transfer</td>\n",
       "      <td>24</td>\n",
       "      <td>29018.00</td>\n",
       "      <td>0.00</td>\n",
       "    </tr>\n",
       "    <tr>\n",
       "      <th>102</th>\n",
       "      <td>June.2020</td>\n",
       "      <td>deposit_sender</td>\n",
       "      <td>5</td>\n",
       "      <td>0.00</td>\n",
       "      <td>7780.00</td>\n",
       "    </tr>\n",
       "    <tr>\n",
       "      <th>103</th>\n",
       "      <td>June.2020</td>\n",
       "      <td>fuliza</td>\n",
       "      <td>1</td>\n",
       "      <td>3028.00</td>\n",
       "      <td>0.00</td>\n",
       "    </tr>\n",
       "    <tr>\n",
       "      <th>104</th>\n",
       "      <td>June.2020</td>\n",
       "      <td>funds_charge</td>\n",
       "      <td>8</td>\n",
       "      <td>384.00</td>\n",
       "      <td>0.00</td>\n",
       "    </tr>\n",
       "    <tr>\n",
       "      <th>105</th>\n",
       "      <td>June.2020</td>\n",
       "      <td>loan_payment</td>\n",
       "      <td>1</td>\n",
       "      <td>1954.41</td>\n",
       "      <td>0.00</td>\n",
       "    </tr>\n",
       "    <tr>\n",
       "      <th>106</th>\n",
       "      <td>June.2020</td>\n",
       "      <td>mechant_charges</td>\n",
       "      <td>1</td>\n",
       "      <td>10.00</td>\n",
       "      <td>0.00</td>\n",
       "    </tr>\n",
       "    <tr>\n",
       "      <th>107</th>\n",
       "      <td>June.2020</td>\n",
       "      <td>merchant_payment</td>\n",
       "      <td>7</td>\n",
       "      <td>13578.00</td>\n",
       "      <td>0.00</td>\n",
       "    </tr>\n",
       "    <tr>\n",
       "      <th>108</th>\n",
       "      <td>June.2020</td>\n",
       "      <td>mshwari_deposit</td>\n",
       "      <td>1</td>\n",
       "      <td>3000.00</td>\n",
       "      <td>0.00</td>\n",
       "    </tr>\n",
       "    <tr>\n",
       "      <th>109</th>\n",
       "      <td>June.2020</td>\n",
       "      <td>mshwari_withdrawals</td>\n",
       "      <td>1</td>\n",
       "      <td>0.00</td>\n",
       "      <td>500.00</td>\n",
       "    </tr>\n",
       "    <tr>\n",
       "      <th>110</th>\n",
       "      <td>June.2020</td>\n",
       "      <td>overdraft</td>\n",
       "      <td>1</td>\n",
       "      <td>0.00</td>\n",
       "      <td>1935.05</td>\n",
       "    </tr>\n",
       "    <tr>\n",
       "      <th>111</th>\n",
       "      <td>June.2020</td>\n",
       "      <td>withdrawal_charge</td>\n",
       "      <td>2</td>\n",
       "      <td>55.00</td>\n",
       "      <td>0.00</td>\n",
       "    </tr>\n",
       "    <tr>\n",
       "      <th>112</th>\n",
       "      <td>June.2020</td>\n",
       "      <td>withdrawals</td>\n",
       "      <td>2</td>\n",
       "      <td>2500.00</td>\n",
       "      <td>0.00</td>\n",
       "    </tr>\n",
       "    <tr>\n",
       "      <th>113</th>\n",
       "      <td>March.2020</td>\n",
       "      <td>airtime</td>\n",
       "      <td>6</td>\n",
       "      <td>1450.00</td>\n",
       "      <td>0.00</td>\n",
       "    </tr>\n",
       "    <tr>\n",
       "      <th>114</th>\n",
       "      <td>March.2020</td>\n",
       "      <td>bill_payments</td>\n",
       "      <td>26</td>\n",
       "      <td>29693.00</td>\n",
       "      <td>0.00</td>\n",
       "    </tr>\n",
       "    <tr>\n",
       "      <th>115</th>\n",
       "      <td>March.2020</td>\n",
       "      <td>bundles</td>\n",
       "      <td>1</td>\n",
       "      <td>1000.00</td>\n",
       "      <td>0.00</td>\n",
       "    </tr>\n",
       "    <tr>\n",
       "      <th>116</th>\n",
       "      <td>March.2020</td>\n",
       "      <td>business_deposit</td>\n",
       "      <td>6</td>\n",
       "      <td>0.00</td>\n",
       "      <td>43800.00</td>\n",
       "    </tr>\n",
       "    <tr>\n",
       "      <th>117</th>\n",
       "      <td>March.2020</td>\n",
       "      <td>customer_transfer</td>\n",
       "      <td>24</td>\n",
       "      <td>35252.00</td>\n",
       "      <td>0.00</td>\n",
       "    </tr>\n",
       "    <tr>\n",
       "      <th>118</th>\n",
       "      <td>March.2020</td>\n",
       "      <td>deposit_sender</td>\n",
       "      <td>2</td>\n",
       "      <td>0.00</td>\n",
       "      <td>1210.00</td>\n",
       "    </tr>\n",
       "    <tr>\n",
       "      <th>119</th>\n",
       "      <td>March.2020</td>\n",
       "      <td>deposits</td>\n",
       "      <td>2</td>\n",
       "      <td>0.00</td>\n",
       "      <td>35000.00</td>\n",
       "    </tr>\n",
       "    <tr>\n",
       "      <th>120</th>\n",
       "      <td>March.2020</td>\n",
       "      <td>fuliza</td>\n",
       "      <td>8</td>\n",
       "      <td>6590.00</td>\n",
       "      <td>0.00</td>\n",
       "    </tr>\n",
       "    <tr>\n",
       "      <th>121</th>\n",
       "      <td>March.2020</td>\n",
       "      <td>funds_charge</td>\n",
       "      <td>23</td>\n",
       "      <td>703.00</td>\n",
       "      <td>0.00</td>\n",
       "    </tr>\n",
       "    <tr>\n",
       "      <th>122</th>\n",
       "      <td>March.2020</td>\n",
       "      <td>loan_payment</td>\n",
       "      <td>4</td>\n",
       "      <td>15226.92</td>\n",
       "      <td>0.00</td>\n",
       "    </tr>\n",
       "    <tr>\n",
       "      <th>123</th>\n",
       "      <td>March.2020</td>\n",
       "      <td>merchant_payment</td>\n",
       "      <td>1</td>\n",
       "      <td>322.00</td>\n",
       "      <td>0.00</td>\n",
       "    </tr>\n",
       "    <tr>\n",
       "      <th>124</th>\n",
       "      <td>March.2020</td>\n",
       "      <td>mshwari_loan</td>\n",
       "      <td>1</td>\n",
       "      <td>0.00</td>\n",
       "      <td>8300.00</td>\n",
       "    </tr>\n",
       "    <tr>\n",
       "      <th>125</th>\n",
       "      <td>March.2020</td>\n",
       "      <td>overdraft</td>\n",
       "      <td>12</td>\n",
       "      <td>0.00</td>\n",
       "      <td>8688.92</td>\n",
       "    </tr>\n",
       "    <tr>\n",
       "      <th>126</th>\n",
       "      <td>March.2020</td>\n",
       "      <td>withdrawal_charge</td>\n",
       "      <td>2</td>\n",
       "      <td>112.00</td>\n",
       "      <td>0.00</td>\n",
       "    </tr>\n",
       "    <tr>\n",
       "      <th>127</th>\n",
       "      <td>March.2020</td>\n",
       "      <td>withdrawals</td>\n",
       "      <td>2</td>\n",
       "      <td>6650.00</td>\n",
       "      <td>0.00</td>\n",
       "    </tr>\n",
       "    <tr>\n",
       "      <th>128</th>\n",
       "      <td>May.2020</td>\n",
       "      <td>airtime</td>\n",
       "      <td>4</td>\n",
       "      <td>275.00</td>\n",
       "      <td>0.00</td>\n",
       "    </tr>\n",
       "    <tr>\n",
       "      <th>129</th>\n",
       "      <td>May.2020</td>\n",
       "      <td>bill_payments</td>\n",
       "      <td>27</td>\n",
       "      <td>15874.00</td>\n",
       "      <td>0.00</td>\n",
       "    </tr>\n",
       "    <tr>\n",
       "      <th>130</th>\n",
       "      <td>May.2020</td>\n",
       "      <td>business_deposit</td>\n",
       "      <td>12</td>\n",
       "      <td>0.00</td>\n",
       "      <td>60880.00</td>\n",
       "    </tr>\n",
       "    <tr>\n",
       "      <th>131</th>\n",
       "      <td>May.2020</td>\n",
       "      <td>customer_transfer</td>\n",
       "      <td>23</td>\n",
       "      <td>26509.00</td>\n",
       "      <td>0.00</td>\n",
       "    </tr>\n",
       "    <tr>\n",
       "      <th>132</th>\n",
       "      <td>May.2020</td>\n",
       "      <td>deposit_sender</td>\n",
       "      <td>1</td>\n",
       "      <td>0.00</td>\n",
       "      <td>12050.00</td>\n",
       "    </tr>\n",
       "    <tr>\n",
       "      <th>133</th>\n",
       "      <td>May.2020</td>\n",
       "      <td>funds_charge</td>\n",
       "      <td>4</td>\n",
       "      <td>230.00</td>\n",
       "      <td>0.00</td>\n",
       "    </tr>\n",
       "    <tr>\n",
       "      <th>134</th>\n",
       "      <td>May.2020</td>\n",
       "      <td>loan_payment</td>\n",
       "      <td>2</td>\n",
       "      <td>1147.51</td>\n",
       "      <td>0.00</td>\n",
       "    </tr>\n",
       "    <tr>\n",
       "      <th>135</th>\n",
       "      <td>May.2020</td>\n",
       "      <td>merchant_payment</td>\n",
       "      <td>6</td>\n",
       "      <td>9328.00</td>\n",
       "      <td>0.00</td>\n",
       "    </tr>\n",
       "    <tr>\n",
       "      <th>136</th>\n",
       "      <td>May.2020</td>\n",
       "      <td>mshwari_deposits</td>\n",
       "      <td>1</td>\n",
       "      <td>2000.00</td>\n",
       "      <td>0.00</td>\n",
       "    </tr>\n",
       "    <tr>\n",
       "      <th>137</th>\n",
       "      <td>May.2020</td>\n",
       "      <td>overdraft</td>\n",
       "      <td>3</td>\n",
       "      <td>0.00</td>\n",
       "      <td>1126.24</td>\n",
       "    </tr>\n",
       "    <tr>\n",
       "      <th>138</th>\n",
       "      <td>May.2020</td>\n",
       "      <td>withdrawal_charge</td>\n",
       "      <td>5</td>\n",
       "      <td>296.00</td>\n",
       "      <td>0.00</td>\n",
       "    </tr>\n",
       "    <tr>\n",
       "      <th>139</th>\n",
       "      <td>May.2020</td>\n",
       "      <td>withdrawals</td>\n",
       "      <td>5</td>\n",
       "      <td>18500.00</td>\n",
       "      <td>0.00</td>\n",
       "    </tr>\n",
       "    <tr>\n",
       "      <th>140</th>\n",
       "      <td>November.2020</td>\n",
       "      <td>airtime</td>\n",
       "      <td>8</td>\n",
       "      <td>655.00</td>\n",
       "      <td>0.00</td>\n",
       "    </tr>\n",
       "    <tr>\n",
       "      <th>141</th>\n",
       "      <td>November.2020</td>\n",
       "      <td>bill_payments</td>\n",
       "      <td>28</td>\n",
       "      <td>75475.00</td>\n",
       "      <td>0.00</td>\n",
       "    </tr>\n",
       "    <tr>\n",
       "      <th>142</th>\n",
       "      <td>November.2020</td>\n",
       "      <td>business_deposit</td>\n",
       "      <td>16</td>\n",
       "      <td>0.00</td>\n",
       "      <td>162450.00</td>\n",
       "    </tr>\n",
       "    <tr>\n",
       "      <th>143</th>\n",
       "      <td>November.2020</td>\n",
       "      <td>customer_transfer</td>\n",
       "      <td>43</td>\n",
       "      <td>56442.00</td>\n",
       "      <td>0.00</td>\n",
       "    </tr>\n",
       "    <tr>\n",
       "      <th>144</th>\n",
       "      <td>November.2020</td>\n",
       "      <td>deposit_promotion</td>\n",
       "      <td>1</td>\n",
       "      <td>0.00</td>\n",
       "      <td>2000.00</td>\n",
       "    </tr>\n",
       "    <tr>\n",
       "      <th>145</th>\n",
       "      <td>November.2020</td>\n",
       "      <td>deposit_sender</td>\n",
       "      <td>18</td>\n",
       "      <td>0.00</td>\n",
       "      <td>63180.00</td>\n",
       "    </tr>\n",
       "    <tr>\n",
       "      <th>146</th>\n",
       "      <td>November.2020</td>\n",
       "      <td>funds_charge</td>\n",
       "      <td>11</td>\n",
       "      <td>598.00</td>\n",
       "      <td>0.00</td>\n",
       "    </tr>\n",
       "    <tr>\n",
       "      <th>147</th>\n",
       "      <td>November.2020</td>\n",
       "      <td>loan_payment</td>\n",
       "      <td>2</td>\n",
       "      <td>132.91</td>\n",
       "      <td>0.00</td>\n",
       "    </tr>\n",
       "    <tr>\n",
       "      <th>148</th>\n",
       "      <td>November.2020</td>\n",
       "      <td>merchant_payment</td>\n",
       "      <td>21</td>\n",
       "      <td>30048.00</td>\n",
       "      <td>0.00</td>\n",
       "    </tr>\n",
       "    <tr>\n",
       "      <th>149</th>\n",
       "      <td>November.2020</td>\n",
       "      <td>mshwari_deposits</td>\n",
       "      <td>2</td>\n",
       "      <td>38000.00</td>\n",
       "      <td>0.00</td>\n",
       "    </tr>\n",
       "    <tr>\n",
       "      <th>150</th>\n",
       "      <td>November.2020</td>\n",
       "      <td>mshwari_withdrawals</td>\n",
       "      <td>4</td>\n",
       "      <td>0.00</td>\n",
       "      <td>38050.00</td>\n",
       "    </tr>\n",
       "    <tr>\n",
       "      <th>151</th>\n",
       "      <td>November.2020</td>\n",
       "      <td>overdraft</td>\n",
       "      <td>2</td>\n",
       "      <td>0.00</td>\n",
       "      <td>131.59</td>\n",
       "    </tr>\n",
       "    <tr>\n",
       "      <th>152</th>\n",
       "      <td>November.2020</td>\n",
       "      <td>withdrawal_charge</td>\n",
       "      <td>13</td>\n",
       "      <td>683.00</td>\n",
       "      <td>0.00</td>\n",
       "    </tr>\n",
       "    <tr>\n",
       "      <th>153</th>\n",
       "      <td>November.2020</td>\n",
       "      <td>withdrawals</td>\n",
       "      <td>13</td>\n",
       "      <td>62700.00</td>\n",
       "      <td>0.00</td>\n",
       "    </tr>\n",
       "    <tr>\n",
       "      <th>154</th>\n",
       "      <td>October.2020</td>\n",
       "      <td>airtime</td>\n",
       "      <td>7</td>\n",
       "      <td>495.00</td>\n",
       "      <td>0.00</td>\n",
       "    </tr>\n",
       "    <tr>\n",
       "      <th>155</th>\n",
       "      <td>October.2020</td>\n",
       "      <td>bill_payments</td>\n",
       "      <td>35</td>\n",
       "      <td>43682.00</td>\n",
       "      <td>0.00</td>\n",
       "    </tr>\n",
       "    <tr>\n",
       "      <th>156</th>\n",
       "      <td>October.2020</td>\n",
       "      <td>business_deposit</td>\n",
       "      <td>8</td>\n",
       "      <td>0.00</td>\n",
       "      <td>110550.00</td>\n",
       "    </tr>\n",
       "    <tr>\n",
       "      <th>157</th>\n",
       "      <td>October.2020</td>\n",
       "      <td>customer_transfer</td>\n",
       "      <td>30</td>\n",
       "      <td>55868.00</td>\n",
       "      <td>0.00</td>\n",
       "    </tr>\n",
       "    <tr>\n",
       "      <th>158</th>\n",
       "      <td>October.2020</td>\n",
       "      <td>deposit_sender</td>\n",
       "      <td>14</td>\n",
       "      <td>0.00</td>\n",
       "      <td>51884.00</td>\n",
       "    </tr>\n",
       "    <tr>\n",
       "      <th>159</th>\n",
       "      <td>October.2020</td>\n",
       "      <td>fuliza</td>\n",
       "      <td>1</td>\n",
       "      <td>500.00</td>\n",
       "      <td>0.00</td>\n",
       "    </tr>\n",
       "    <tr>\n",
       "      <th>160</th>\n",
       "      <td>October.2020</td>\n",
       "      <td>funds_charge</td>\n",
       "      <td>9</td>\n",
       "      <td>522.00</td>\n",
       "      <td>0.00</td>\n",
       "    </tr>\n",
       "    <tr>\n",
       "      <th>161</th>\n",
       "      <td>October.2020</td>\n",
       "      <td>loan_payment</td>\n",
       "      <td>2</td>\n",
       "      <td>1081.21</td>\n",
       "      <td>0.00</td>\n",
       "    </tr>\n",
       "    <tr>\n",
       "      <th>162</th>\n",
       "      <td>October.2020</td>\n",
       "      <td>merchant_payment</td>\n",
       "      <td>14</td>\n",
       "      <td>15951.00</td>\n",
       "      <td>0.00</td>\n",
       "    </tr>\n",
       "    <tr>\n",
       "      <th>163</th>\n",
       "      <td>October.2020</td>\n",
       "      <td>mshwari_deposits</td>\n",
       "      <td>3</td>\n",
       "      <td>51200.00</td>\n",
       "      <td>0.00</td>\n",
       "    </tr>\n",
       "    <tr>\n",
       "      <th>164</th>\n",
       "      <td>October.2020</td>\n",
       "      <td>mshwari_withdrawals</td>\n",
       "      <td>6</td>\n",
       "      <td>0.00</td>\n",
       "      <td>51200.00</td>\n",
       "    </tr>\n",
       "    <tr>\n",
       "      <th>165</th>\n",
       "      <td>October.2020</td>\n",
       "      <td>overdraft</td>\n",
       "      <td>3</td>\n",
       "      <td>0.00</td>\n",
       "      <td>1060.59</td>\n",
       "    </tr>\n",
       "    <tr>\n",
       "      <th>166</th>\n",
       "      <td>October.2020</td>\n",
       "      <td>reversal</td>\n",
       "      <td>1</td>\n",
       "      <td>300.00</td>\n",
       "      <td>0.00</td>\n",
       "    </tr>\n",
       "    <tr>\n",
       "      <th>167</th>\n",
       "      <td>October.2020</td>\n",
       "      <td>withdrawal_charge</td>\n",
       "      <td>11</td>\n",
       "      <td>587.00</td>\n",
       "      <td>0.00</td>\n",
       "    </tr>\n",
       "    <tr>\n",
       "      <th>168</th>\n",
       "      <td>October.2020</td>\n",
       "      <td>withdrawals</td>\n",
       "      <td>11</td>\n",
       "      <td>46500.00</td>\n",
       "      <td>0.00</td>\n",
       "    </tr>\n",
       "    <tr>\n",
       "      <th>169</th>\n",
       "      <td>September.2020</td>\n",
       "      <td>airtime</td>\n",
       "      <td>10</td>\n",
       "      <td>920.00</td>\n",
       "      <td>0.00</td>\n",
       "    </tr>\n",
       "    <tr>\n",
       "      <th>170</th>\n",
       "      <td>September.2020</td>\n",
       "      <td>bill_payments</td>\n",
       "      <td>19</td>\n",
       "      <td>36720.00</td>\n",
       "      <td>0.00</td>\n",
       "    </tr>\n",
       "    <tr>\n",
       "      <th>171</th>\n",
       "      <td>September.2020</td>\n",
       "      <td>business_deposit</td>\n",
       "      <td>5</td>\n",
       "      <td>0.00</td>\n",
       "      <td>80000.00</td>\n",
       "    </tr>\n",
       "    <tr>\n",
       "      <th>172</th>\n",
       "      <td>September.2020</td>\n",
       "      <td>customer_transfer</td>\n",
       "      <td>39</td>\n",
       "      <td>35855.00</td>\n",
       "      <td>0.00</td>\n",
       "    </tr>\n",
       "    <tr>\n",
       "      <th>173</th>\n",
       "      <td>September.2020</td>\n",
       "      <td>deposit_sender</td>\n",
       "      <td>1</td>\n",
       "      <td>0.00</td>\n",
       "      <td>1000.00</td>\n",
       "    </tr>\n",
       "    <tr>\n",
       "      <th>174</th>\n",
       "      <td>September.2020</td>\n",
       "      <td>deposits</td>\n",
       "      <td>1</td>\n",
       "      <td>0.00</td>\n",
       "      <td>10000.00</td>\n",
       "    </tr>\n",
       "    <tr>\n",
       "      <th>175</th>\n",
       "      <td>September.2020</td>\n",
       "      <td>fuliza</td>\n",
       "      <td>3</td>\n",
       "      <td>5280.00</td>\n",
       "      <td>0.00</td>\n",
       "    </tr>\n",
       "    <tr>\n",
       "      <th>176</th>\n",
       "      <td>September.2020</td>\n",
       "      <td>funds_charge</td>\n",
       "      <td>9</td>\n",
       "      <td>390.00</td>\n",
       "      <td>0.00</td>\n",
       "    </tr>\n",
       "    <tr>\n",
       "      <th>177</th>\n",
       "      <td>September.2020</td>\n",
       "      <td>loan_payment</td>\n",
       "      <td>3</td>\n",
       "      <td>2295.75</td>\n",
       "      <td>0.00</td>\n",
       "    </tr>\n",
       "    <tr>\n",
       "      <th>178</th>\n",
       "      <td>September.2020</td>\n",
       "      <td>merchant_payment</td>\n",
       "      <td>11</td>\n",
       "      <td>15784.00</td>\n",
       "      <td>0.00</td>\n",
       "    </tr>\n",
       "    <tr>\n",
       "      <th>179</th>\n",
       "      <td>September.2020</td>\n",
       "      <td>mshwari_deposits</td>\n",
       "      <td>1</td>\n",
       "      <td>5000.00</td>\n",
       "      <td>0.00</td>\n",
       "    </tr>\n",
       "    <tr>\n",
       "      <th>180</th>\n",
       "      <td>September.2020</td>\n",
       "      <td>mshwari_withdrawals</td>\n",
       "      <td>5</td>\n",
       "      <td>0.00</td>\n",
       "      <td>20300.00</td>\n",
       "    </tr>\n",
       "    <tr>\n",
       "      <th>181</th>\n",
       "      <td>September.2020</td>\n",
       "      <td>overdraft</td>\n",
       "      <td>5</td>\n",
       "      <td>0.00</td>\n",
       "      <td>2273.00</td>\n",
       "    </tr>\n",
       "    <tr>\n",
       "      <th>182</th>\n",
       "      <td>September.2020</td>\n",
       "      <td>withdrawal_charge</td>\n",
       "      <td>5</td>\n",
       "      <td>162.00</td>\n",
       "      <td>0.00</td>\n",
       "    </tr>\n",
       "    <tr>\n",
       "      <th>183</th>\n",
       "      <td>September.2020</td>\n",
       "      <td>withdrawals</td>\n",
       "      <td>5</td>\n",
       "      <td>10700.00</td>\n",
       "      <td>0.00</td>\n",
       "    </tr>\n",
       "  </tbody>\n",
       "</table>\n",
       "</div>"
      ],
      "text/plain": [
       "    transactions_cohort      transactions.group  withdrawn count  \\\n",
       "0    April.2020          airtime                 9                 \n",
       "1    April.2020          bill_payments           27                \n",
       "2    April.2020          business_deposit        5                 \n",
       "3    April.2020          customer_transfer       24                \n",
       "4    April.2020          deposit_sender          4                 \n",
       "5    April.2020          fuliza                  1                 \n",
       "6    April.2020          funds_charge            8                 \n",
       "7    April.2020          loan_payment            3                 \n",
       "8    April.2020          merchant_payment        10                \n",
       "9    April.2020          mshwari_deposits        1                 \n",
       "10   April.2020          overdraft               3                 \n",
       "11   April.2020          withdrawal_charge       5                 \n",
       "12   April.2020          withdrawals             5                 \n",
       "13   August.2020         airtime                 5                 \n",
       "14   August.2020         bill_payments           13                \n",
       "15   August.2020         business_deposit        8                 \n",
       "16   August.2020         customer_transfer       22                \n",
       "17   August.2020         deposit_sender          3                 \n",
       "18   August.2020         deposits                1                 \n",
       "19   August.2020         fuliza                  1                 \n",
       "20   August.2020         funds_charge            8                 \n",
       "21   August.2020         loan_payment            1                 \n",
       "22   August.2020         merchant_payment        18                \n",
       "23   August.2020         mshwari_loan            1                 \n",
       "24   August.2020         overdraft               1                 \n",
       "25   August.2020         withdrawal_charge       13                \n",
       "26   August.2020         withdrawals             13                \n",
       "27   December.2019       airtime                 4                 \n",
       "28   December.2019       bill_payments           3                 \n",
       "29   December.2019       bundles                 2                 \n",
       "30   December.2019       business_deposit        6                 \n",
       "31   December.2019       customer_transfer       9                 \n",
       "32   December.2019       deposit_sender          14                \n",
       "33   December.2019       fuliza                  2                 \n",
       "34   December.2019       funds_charge            9                 \n",
       "35   December.2019       loan_payment            4                 \n",
       "36   December.2019       merchant_payment        1                 \n",
       "37   December.2019       overdraft               2                 \n",
       "38   December.2019       withdrawal_charge       4                 \n",
       "39   December.2019       withdrawals             4                 \n",
       "40   December.2020       airtime                 6                 \n",
       "41   December.2020       bill_payments           32                \n",
       "42   December.2020       business_deposit        11                \n",
       "43   December.2020       customer_transfer       24                \n",
       "44   December.2020       deposit_sender          11                \n",
       "45   December.2020       fuliza                  3                 \n",
       "46   December.2020       funds_charge            8                 \n",
       "47   December.2020       international_deposits  2                 \n",
       "48   December.2020       loan_payment            5                 \n",
       "49   December.2020       merchant_payment        19                \n",
       "50   December.2020       overdraft               6                 \n",
       "51   December.2020       withdrawal_charge       9                 \n",
       "52   December.2020       withdrawals             9                 \n",
       "53   February.2020       airtime                 10                \n",
       "54   February.2020       bill_payments           20                \n",
       "55   February.2020       bundles                 4                 \n",
       "56   February.2020       business_deposit        9                 \n",
       "57   February.2020       customer_transfer       21                \n",
       "58   February.2020       deposit_promotion       1                 \n",
       "59   February.2020       deposit_sender          7                 \n",
       "60   February.2020       deposits                2                 \n",
       "61   February.2020       fuliza                  9                 \n",
       "62   February.2020       funds_charge            28                \n",
       "63   February.2020       loan_payment            8                 \n",
       "64   February.2020       merchant_payment        5                 \n",
       "65   February.2020       mshwari_loan            1                 \n",
       "66   February.2020       overdraft               11                \n",
       "67   February.2020       withdrawal_charge       6                 \n",
       "68   February.2020       withdrawals             5                 \n",
       "69   January.2020        airtime                 11                \n",
       "70   January.2020        bill_payments           18                \n",
       "71   January.2020        bundles                 6                 \n",
       "72   January.2020        business_deposit        5                 \n",
       "73   January.2020        customer_transfer       38                \n",
       "74   January.2020        deposit_promotion       2                 \n",
       "75   January.2020        deposit_sender          7                 \n",
       "76   January.2020        fuliza                  6                 \n",
       "77   January.2020        funds_charge            23                \n",
       "78   January.2020        loan_payment            3                 \n",
       "79   January.2020        merchant_payment        9                 \n",
       "80   January.2020        mshwari_loan            1                 \n",
       "81   January.2020        overdraft               6                 \n",
       "82   January.2020        withdrawal_charge       11                \n",
       "83   January.2020        withdrawals             11                \n",
       "84   July.2020           airtime                 10                \n",
       "85   July.2020           bill_payments           22                \n",
       "86   July.2020           business_deposit        9                 \n",
       "87   July.2020           customer_transfer       16                \n",
       "88   July.2020           deposit_sender          14                \n",
       "89   July.2020           funds_charge            12                \n",
       "90   July.2020           loan_payment            1                 \n",
       "91   July.2020           merchant_payment        14                \n",
       "92   July.2020           mshwari_deposits        2                 \n",
       "93   July.2020           mshwari_withdrawals     5                 \n",
       "94   July.2020           overdraft               1                 \n",
       "95   July.2020           reversal                1                 \n",
       "96   July.2020           withdrawal_charge       7                 \n",
       "97   July.2020           withdrawals             7                 \n",
       "98   June.2020           airtime                 5                 \n",
       "99   June.2020           bill_payments           12                \n",
       "100  June.2020           business_deposit        7                 \n",
       "101  June.2020           customer_transfer       24                \n",
       "102  June.2020           deposit_sender          5                 \n",
       "103  June.2020           fuliza                  1                 \n",
       "104  June.2020           funds_charge            8                 \n",
       "105  June.2020           loan_payment            1                 \n",
       "106  June.2020           mechant_charges         1                 \n",
       "107  June.2020           merchant_payment        7                 \n",
       "108  June.2020           mshwari_deposit         1                 \n",
       "109  June.2020           mshwari_withdrawals     1                 \n",
       "110  June.2020           overdraft               1                 \n",
       "111  June.2020           withdrawal_charge       2                 \n",
       "112  June.2020           withdrawals             2                 \n",
       "113  March.2020          airtime                 6                 \n",
       "114  March.2020          bill_payments           26                \n",
       "115  March.2020          bundles                 1                 \n",
       "116  March.2020          business_deposit        6                 \n",
       "117  March.2020          customer_transfer       24                \n",
       "118  March.2020          deposit_sender          2                 \n",
       "119  March.2020          deposits                2                 \n",
       "120  March.2020          fuliza                  8                 \n",
       "121  March.2020          funds_charge            23                \n",
       "122  March.2020          loan_payment            4                 \n",
       "123  March.2020          merchant_payment        1                 \n",
       "124  March.2020          mshwari_loan            1                 \n",
       "125  March.2020          overdraft               12                \n",
       "126  March.2020          withdrawal_charge       2                 \n",
       "127  March.2020          withdrawals             2                 \n",
       "128  May.2020            airtime                 4                 \n",
       "129  May.2020            bill_payments           27                \n",
       "130  May.2020            business_deposit        12                \n",
       "131  May.2020            customer_transfer       23                \n",
       "132  May.2020            deposit_sender          1                 \n",
       "133  May.2020            funds_charge            4                 \n",
       "134  May.2020            loan_payment            2                 \n",
       "135  May.2020            merchant_payment        6                 \n",
       "136  May.2020            mshwari_deposits        1                 \n",
       "137  May.2020            overdraft               3                 \n",
       "138  May.2020            withdrawal_charge       5                 \n",
       "139  May.2020            withdrawals             5                 \n",
       "140  November.2020       airtime                 8                 \n",
       "141  November.2020       bill_payments           28                \n",
       "142  November.2020       business_deposit        16                \n",
       "143  November.2020       customer_transfer       43                \n",
       "144  November.2020       deposit_promotion       1                 \n",
       "145  November.2020       deposit_sender          18                \n",
       "146  November.2020       funds_charge            11                \n",
       "147  November.2020       loan_payment            2                 \n",
       "148  November.2020       merchant_payment        21                \n",
       "149  November.2020       mshwari_deposits        2                 \n",
       "150  November.2020       mshwari_withdrawals     4                 \n",
       "151  November.2020       overdraft               2                 \n",
       "152  November.2020       withdrawal_charge       13                \n",
       "153  November.2020       withdrawals             13                \n",
       "154  October.2020        airtime                 7                 \n",
       "155  October.2020        bill_payments           35                \n",
       "156  October.2020        business_deposit        8                 \n",
       "157  October.2020        customer_transfer       30                \n",
       "158  October.2020        deposit_sender          14                \n",
       "159  October.2020        fuliza                  1                 \n",
       "160  October.2020        funds_charge            9                 \n",
       "161  October.2020        loan_payment            2                 \n",
       "162  October.2020        merchant_payment        14                \n",
       "163  October.2020        mshwari_deposits        3                 \n",
       "164  October.2020        mshwari_withdrawals     6                 \n",
       "165  October.2020        overdraft               3                 \n",
       "166  October.2020        reversal                1                 \n",
       "167  October.2020        withdrawal_charge       11                \n",
       "168  October.2020        withdrawals             11                \n",
       "169  September.2020      airtime                 10                \n",
       "170  September.2020      bill_payments           19                \n",
       "171  September.2020      business_deposit        5                 \n",
       "172  September.2020      customer_transfer       39                \n",
       "173  September.2020      deposit_sender          1                 \n",
       "174  September.2020      deposits                1                 \n",
       "175  September.2020      fuliza                  3                 \n",
       "176  September.2020      funds_charge            9                 \n",
       "177  September.2020      loan_payment            3                 \n",
       "178  September.2020      merchant_payment        11                \n",
       "179  September.2020      mshwari_deposits        1                 \n",
       "180  September.2020      mshwari_withdrawals     5                 \n",
       "181  September.2020      overdraft               5                 \n",
       "182  September.2020      withdrawal_charge       5                 \n",
       "183  September.2020      withdrawals             5                 \n",
       "\n",
       "     withdrawn sum  paid_in sum  \n",
       "0    785.00         0.00         \n",
       "1    26954.00       0.00         \n",
       "2    0.00           109500.00    \n",
       "3    41801.00       0.00         \n",
       "4    0.00           33050.00     \n",
       "5    300.00         0.00         \n",
       "6    490.00         0.00         \n",
       "7    3873.04        0.00         \n",
       "8    12737.00       0.00         \n",
       "9    25000.00       0.00         \n",
       "10   0.00           911.26       \n",
       "11   302.00         0.00         \n",
       "12   30350.00       0.00         \n",
       "13   220.00         0.00         \n",
       "14   9843.00        0.00         \n",
       "15   0.00           77000.00     \n",
       "16   26017.00       0.00         \n",
       "17   0.00           4008.00      \n",
       "18   0.00           10000.00     \n",
       "19   330.00         0.00         \n",
       "20   364.00         0.00         \n",
       "21   216.38         0.00         \n",
       "22   33912.00       0.00         \n",
       "23   0.00           5000.00      \n",
       "24   0.00           214.23       \n",
       "25   446.00         0.00         \n",
       "26   28200.00       0.00         \n",
       "27   2050.00        0.00         \n",
       "28   1500.00        0.00         \n",
       "29   1999.00        0.00         \n",
       "30   0.00           14788.00     \n",
       "31   34924.00       0.00         \n",
       "32   0.00           42890.00     \n",
       "33   13350.00       0.00         \n",
       "34   502.00         0.00         \n",
       "35   3483.31        0.00         \n",
       "36   2500.00        0.00         \n",
       "37   0.00           3443.86      \n",
       "38   324.00         0.00         \n",
       "39   25800.00       0.00         \n",
       "40   550.00         0.00         \n",
       "41   49861.00       0.00         \n",
       "42   0.00           87880.00     \n",
       "43   31192.00       0.00         \n",
       "44   0.00           24830.00     \n",
       "45   1270.00        0.00         \n",
       "46   359.00         0.00         \n",
       "47   0.00           5632.00      \n",
       "48   4664.95        0.00         \n",
       "49   15200.00       0.00         \n",
       "50   0.00           4618.74      \n",
       "51   308.00         0.00         \n",
       "52   20600.00       0.00         \n",
       "53   2370.00        0.00         \n",
       "54   14966.00       0.00         \n",
       "55   4797.00        0.00         \n",
       "56   0.00           29750.00     \n",
       "57   35750.00       0.00         \n",
       "58   0.00           2050.00      \n",
       "59   0.00           34120.00     \n",
       "60   0.00           35000.00     \n",
       "61   12865.00       0.00         \n",
       "62   935.00         0.00         \n",
       "63   22168.69       0.00         \n",
       "64   7031.00        0.00         \n",
       "65   0.00           8300.00      \n",
       "66   0.00           10663.69     \n",
       "67   301.00         0.00         \n",
       "68   18700.00       0.00         \n",
       "69   1250.00        0.00         \n",
       "70   31947.00       0.00         \n",
       "71   5045.00        0.00         \n",
       "72   0.00           73350.00     \n",
       "73   35541.00       0.00         \n",
       "74   0.00           4080.00      \n",
       "75   0.00           46930.00     \n",
       "76   8044.00        0.00         \n",
       "77   734.00         0.00         \n",
       "78   13575.43       0.00         \n",
       "79   7607.00        0.00         \n",
       "80   0.00           8300.00      \n",
       "81   0.00           7110.42      \n",
       "82   467.00         0.00         \n",
       "83   41350.00       0.00         \n",
       "84   880.00         0.00         \n",
       "85   27262.00       0.00         \n",
       "86   0.00           108080.00    \n",
       "87   32885.00       0.00         \n",
       "88   0.00           37190.00     \n",
       "89   564.00         0.00         \n",
       "90   2001.23        0.00         \n",
       "91   52030.00       0.00         \n",
       "92   18060.00       0.00         \n",
       "93   0.00           18000.00     \n",
       "94   0.00           1981.41      \n",
       "95   0.00           100.00       \n",
       "96   367.00         0.00         \n",
       "97   27850.00       0.00         \n",
       "98   410.00         0.00         \n",
       "99   12392.00       0.00         \n",
       "100  0.00           57000.00     \n",
       "101  29018.00       0.00         \n",
       "102  0.00           7780.00      \n",
       "103  3028.00        0.00         \n",
       "104  384.00         0.00         \n",
       "105  1954.41        0.00         \n",
       "106  10.00          0.00         \n",
       "107  13578.00       0.00         \n",
       "108  3000.00        0.00         \n",
       "109  0.00           500.00       \n",
       "110  0.00           1935.05      \n",
       "111  55.00          0.00         \n",
       "112  2500.00        0.00         \n",
       "113  1450.00        0.00         \n",
       "114  29693.00       0.00         \n",
       "115  1000.00        0.00         \n",
       "116  0.00           43800.00     \n",
       "117  35252.00       0.00         \n",
       "118  0.00           1210.00      \n",
       "119  0.00           35000.00     \n",
       "120  6590.00        0.00         \n",
       "121  703.00         0.00         \n",
       "122  15226.92       0.00         \n",
       "123  322.00         0.00         \n",
       "124  0.00           8300.00      \n",
       "125  0.00           8688.92      \n",
       "126  112.00         0.00         \n",
       "127  6650.00        0.00         \n",
       "128  275.00         0.00         \n",
       "129  15874.00       0.00         \n",
       "130  0.00           60880.00     \n",
       "131  26509.00       0.00         \n",
       "132  0.00           12050.00     \n",
       "133  230.00         0.00         \n",
       "134  1147.51        0.00         \n",
       "135  9328.00        0.00         \n",
       "136  2000.00        0.00         \n",
       "137  0.00           1126.24      \n",
       "138  296.00         0.00         \n",
       "139  18500.00       0.00         \n",
       "140  655.00         0.00         \n",
       "141  75475.00       0.00         \n",
       "142  0.00           162450.00    \n",
       "143  56442.00       0.00         \n",
       "144  0.00           2000.00      \n",
       "145  0.00           63180.00     \n",
       "146  598.00         0.00         \n",
       "147  132.91         0.00         \n",
       "148  30048.00       0.00         \n",
       "149  38000.00       0.00         \n",
       "150  0.00           38050.00     \n",
       "151  0.00           131.59       \n",
       "152  683.00         0.00         \n",
       "153  62700.00       0.00         \n",
       "154  495.00         0.00         \n",
       "155  43682.00       0.00         \n",
       "156  0.00           110550.00    \n",
       "157  55868.00       0.00         \n",
       "158  0.00           51884.00     \n",
       "159  500.00         0.00         \n",
       "160  522.00         0.00         \n",
       "161  1081.21        0.00         \n",
       "162  15951.00       0.00         \n",
       "163  51200.00       0.00         \n",
       "164  0.00           51200.00     \n",
       "165  0.00           1060.59      \n",
       "166  300.00         0.00         \n",
       "167  587.00         0.00         \n",
       "168  46500.00       0.00         \n",
       "169  920.00         0.00         \n",
       "170  36720.00       0.00         \n",
       "171  0.00           80000.00     \n",
       "172  35855.00       0.00         \n",
       "173  0.00           1000.00      \n",
       "174  0.00           10000.00     \n",
       "175  5280.00        0.00         \n",
       "176  390.00         0.00         \n",
       "177  2295.75        0.00         \n",
       "178  15784.00       0.00         \n",
       "179  5000.00        0.00         \n",
       "180  0.00           20300.00     \n",
       "181  0.00           2273.00      \n",
       "182  162.00         0.00         \n",
       "183  10700.00       0.00         "
      ]
     },
     "execution_count": 61,
     "metadata": {},
     "output_type": "execute_result"
    }
   ],
   "source": [
    "# Group the data frame by month and item and extract a number of stats from each group\n",
    "mpesa_agg =mpesa_df.groupby(['transactions_cohort','transactions.group'], as_index= False).agg({\n",
    "        # Find the min, max, and sum of the duration column\n",
    "        'withdrawn': [\"count\", sum],\n",
    "        # find the number of network type entries\n",
    "        'paid_in': [sum]\n",
    "    }\n",
    ")\n",
    "\n",
    "#mpesa_agg.set_index('transactions.group',inplace= True)\n",
    "#mpesa_agg = mpesa_agg.reset_index()\n",
    "mpesa_agg.columns = [' '.join(col).strip() for col in mpesa_agg.columns.values]\n",
    "#mpesa_agg.loc['Total']= mpesa_agg.sum(numeric_only=True, axis=0)\n",
    "mpesa_agg = mpesa_agg.where(pd.notnull(mpesa_agg), None)\n",
    "mpesa_agg\n"
   ]
  },
  {
   "cell_type": "code",
   "execution_count": 62,
   "metadata": {},
   "outputs": [
    {
     "data": {
      "application/vnd.plotly.v1+json": {
       "config": {
        "plotlyServerURL": "https://plot.ly"
       },
       "data": [
        {
         "branchvalues": "total",
         "domain": {
          "x": [
           0,
           1
          ],
          "y": [
           0,
           1
          ]
         },
         "hovertemplate": "labels=%{label}<br>withdrawn count=%{value}<br>parent=%{parent}<br>id=%{id}<extra></extra>",
         "ids": [
          "April.2020/airtime",
          "August.2020/airtime",
          "December.2019/airtime",
          "December.2020/airtime",
          "February.2020/airtime",
          "January.2020/airtime",
          "July.2020/airtime",
          "June.2020/airtime",
          "March.2020/airtime",
          "May.2020/airtime",
          "November.2020/airtime",
          "October.2020/airtime",
          "September.2020/airtime",
          "April.2020/bill_payments",
          "August.2020/bill_payments",
          "December.2019/bill_payments",
          "December.2020/bill_payments",
          "February.2020/bill_payments",
          "January.2020/bill_payments",
          "July.2020/bill_payments",
          "June.2020/bill_payments",
          "March.2020/bill_payments",
          "May.2020/bill_payments",
          "November.2020/bill_payments",
          "October.2020/bill_payments",
          "September.2020/bill_payments",
          "December.2019/bundles",
          "February.2020/bundles",
          "January.2020/bundles",
          "March.2020/bundles",
          "April.2020/business_deposit",
          "August.2020/business_deposit",
          "December.2019/business_deposit",
          "December.2020/business_deposit",
          "February.2020/business_deposit",
          "January.2020/business_deposit",
          "July.2020/business_deposit",
          "June.2020/business_deposit",
          "March.2020/business_deposit",
          "May.2020/business_deposit",
          "November.2020/business_deposit",
          "October.2020/business_deposit",
          "September.2020/business_deposit",
          "April.2020/customer_transfer",
          "August.2020/customer_transfer",
          "December.2019/customer_transfer",
          "December.2020/customer_transfer",
          "February.2020/customer_transfer",
          "January.2020/customer_transfer",
          "July.2020/customer_transfer",
          "June.2020/customer_transfer",
          "March.2020/customer_transfer",
          "May.2020/customer_transfer",
          "November.2020/customer_transfer",
          "October.2020/customer_transfer",
          "September.2020/customer_transfer",
          "February.2020/deposit_promotion",
          "January.2020/deposit_promotion",
          "November.2020/deposit_promotion",
          "April.2020/deposit_sender",
          "August.2020/deposit_sender",
          "December.2019/deposit_sender",
          "December.2020/deposit_sender",
          "February.2020/deposit_sender",
          "January.2020/deposit_sender",
          "July.2020/deposit_sender",
          "June.2020/deposit_sender",
          "March.2020/deposit_sender",
          "May.2020/deposit_sender",
          "November.2020/deposit_sender",
          "October.2020/deposit_sender",
          "September.2020/deposit_sender",
          "August.2020/deposits",
          "February.2020/deposits",
          "March.2020/deposits",
          "September.2020/deposits",
          "April.2020/fuliza",
          "August.2020/fuliza",
          "December.2019/fuliza",
          "December.2020/fuliza",
          "February.2020/fuliza",
          "January.2020/fuliza",
          "June.2020/fuliza",
          "March.2020/fuliza",
          "October.2020/fuliza",
          "September.2020/fuliza",
          "April.2020/funds_charge",
          "August.2020/funds_charge",
          "December.2019/funds_charge",
          "December.2020/funds_charge",
          "February.2020/funds_charge",
          "January.2020/funds_charge",
          "July.2020/funds_charge",
          "June.2020/funds_charge",
          "March.2020/funds_charge",
          "May.2020/funds_charge",
          "November.2020/funds_charge",
          "October.2020/funds_charge",
          "September.2020/funds_charge",
          "December.2020/international_deposits",
          "April.2020/loan_payment",
          "August.2020/loan_payment",
          "December.2019/loan_payment",
          "December.2020/loan_payment",
          "February.2020/loan_payment",
          "January.2020/loan_payment",
          "July.2020/loan_payment",
          "June.2020/loan_payment",
          "March.2020/loan_payment",
          "May.2020/loan_payment",
          "November.2020/loan_payment",
          "October.2020/loan_payment",
          "September.2020/loan_payment",
          "June.2020/mechant_charges",
          "April.2020/merchant_payment",
          "August.2020/merchant_payment",
          "December.2019/merchant_payment",
          "December.2020/merchant_payment",
          "February.2020/merchant_payment",
          "January.2020/merchant_payment",
          "July.2020/merchant_payment",
          "June.2020/merchant_payment",
          "March.2020/merchant_payment",
          "May.2020/merchant_payment",
          "November.2020/merchant_payment",
          "October.2020/merchant_payment",
          "September.2020/merchant_payment",
          "June.2020/mshwari_deposit",
          "April.2020/mshwari_deposits",
          "July.2020/mshwari_deposits",
          "May.2020/mshwari_deposits",
          "November.2020/mshwari_deposits",
          "October.2020/mshwari_deposits",
          "September.2020/mshwari_deposits",
          "August.2020/mshwari_loan",
          "February.2020/mshwari_loan",
          "January.2020/mshwari_loan",
          "March.2020/mshwari_loan",
          "July.2020/mshwari_withdrawals ",
          "June.2020/mshwari_withdrawals ",
          "November.2020/mshwari_withdrawals ",
          "October.2020/mshwari_withdrawals ",
          "September.2020/mshwari_withdrawals ",
          "April.2020/overdraft",
          "August.2020/overdraft",
          "December.2019/overdraft",
          "December.2020/overdraft",
          "February.2020/overdraft",
          "January.2020/overdraft",
          "July.2020/overdraft",
          "June.2020/overdraft",
          "March.2020/overdraft",
          "May.2020/overdraft",
          "November.2020/overdraft",
          "October.2020/overdraft",
          "September.2020/overdraft",
          "July.2020/reversal",
          "October.2020/reversal",
          "April.2020/withdrawal_charge",
          "August.2020/withdrawal_charge",
          "December.2019/withdrawal_charge",
          "December.2020/withdrawal_charge",
          "February.2020/withdrawal_charge",
          "January.2020/withdrawal_charge",
          "July.2020/withdrawal_charge",
          "June.2020/withdrawal_charge",
          "March.2020/withdrawal_charge",
          "May.2020/withdrawal_charge",
          "November.2020/withdrawal_charge",
          "October.2020/withdrawal_charge",
          "September.2020/withdrawal_charge",
          "April.2020/withdrawals",
          "August.2020/withdrawals",
          "December.2019/withdrawals",
          "December.2020/withdrawals",
          "February.2020/withdrawals",
          "January.2020/withdrawals",
          "July.2020/withdrawals",
          "June.2020/withdrawals",
          "March.2020/withdrawals",
          "May.2020/withdrawals",
          "November.2020/withdrawals",
          "October.2020/withdrawals",
          "September.2020/withdrawals",
          "April.2020",
          "August.2020",
          "December.2019",
          "December.2020",
          "February.2020",
          "January.2020",
          "July.2020",
          "June.2020",
          "March.2020",
          "May.2020",
          "November.2020",
          "October.2020",
          "September.2020"
         ],
         "labels": [
          "airtime",
          "airtime",
          "airtime",
          "airtime",
          "airtime",
          "airtime",
          "airtime",
          "airtime",
          "airtime",
          "airtime",
          "airtime",
          "airtime",
          "airtime",
          "bill_payments",
          "bill_payments",
          "bill_payments",
          "bill_payments",
          "bill_payments",
          "bill_payments",
          "bill_payments",
          "bill_payments",
          "bill_payments",
          "bill_payments",
          "bill_payments",
          "bill_payments",
          "bill_payments",
          "bundles",
          "bundles",
          "bundles",
          "bundles",
          "business_deposit",
          "business_deposit",
          "business_deposit",
          "business_deposit",
          "business_deposit",
          "business_deposit",
          "business_deposit",
          "business_deposit",
          "business_deposit",
          "business_deposit",
          "business_deposit",
          "business_deposit",
          "business_deposit",
          "customer_transfer",
          "customer_transfer",
          "customer_transfer",
          "customer_transfer",
          "customer_transfer",
          "customer_transfer",
          "customer_transfer",
          "customer_transfer",
          "customer_transfer",
          "customer_transfer",
          "customer_transfer",
          "customer_transfer",
          "customer_transfer",
          "deposit_promotion",
          "deposit_promotion",
          "deposit_promotion",
          "deposit_sender",
          "deposit_sender",
          "deposit_sender",
          "deposit_sender",
          "deposit_sender",
          "deposit_sender",
          "deposit_sender",
          "deposit_sender",
          "deposit_sender",
          "deposit_sender",
          "deposit_sender",
          "deposit_sender",
          "deposit_sender",
          "deposits",
          "deposits",
          "deposits",
          "deposits",
          "fuliza",
          "fuliza",
          "fuliza",
          "fuliza",
          "fuliza",
          "fuliza",
          "fuliza",
          "fuliza",
          "fuliza",
          "fuliza",
          "funds_charge",
          "funds_charge",
          "funds_charge",
          "funds_charge",
          "funds_charge",
          "funds_charge",
          "funds_charge",
          "funds_charge",
          "funds_charge",
          "funds_charge",
          "funds_charge",
          "funds_charge",
          "funds_charge",
          "international_deposits",
          "loan_payment",
          "loan_payment",
          "loan_payment",
          "loan_payment",
          "loan_payment",
          "loan_payment",
          "loan_payment",
          "loan_payment",
          "loan_payment",
          "loan_payment",
          "loan_payment",
          "loan_payment",
          "loan_payment",
          "mechant_charges",
          "merchant_payment",
          "merchant_payment",
          "merchant_payment",
          "merchant_payment",
          "merchant_payment",
          "merchant_payment",
          "merchant_payment",
          "merchant_payment",
          "merchant_payment",
          "merchant_payment",
          "merchant_payment",
          "merchant_payment",
          "merchant_payment",
          "mshwari_deposit",
          "mshwari_deposits",
          "mshwari_deposits",
          "mshwari_deposits",
          "mshwari_deposits",
          "mshwari_deposits",
          "mshwari_deposits",
          "mshwari_loan",
          "mshwari_loan",
          "mshwari_loan",
          "mshwari_loan",
          "mshwari_withdrawals ",
          "mshwari_withdrawals ",
          "mshwari_withdrawals ",
          "mshwari_withdrawals ",
          "mshwari_withdrawals ",
          "overdraft",
          "overdraft",
          "overdraft",
          "overdraft",
          "overdraft",
          "overdraft",
          "overdraft",
          "overdraft",
          "overdraft",
          "overdraft",
          "overdraft",
          "overdraft",
          "overdraft",
          "reversal",
          "reversal",
          "withdrawal_charge",
          "withdrawal_charge",
          "withdrawal_charge",
          "withdrawal_charge",
          "withdrawal_charge",
          "withdrawal_charge",
          "withdrawal_charge",
          "withdrawal_charge",
          "withdrawal_charge",
          "withdrawal_charge",
          "withdrawal_charge",
          "withdrawal_charge",
          "withdrawal_charge",
          "withdrawals",
          "withdrawals",
          "withdrawals",
          "withdrawals",
          "withdrawals",
          "withdrawals",
          "withdrawals",
          "withdrawals",
          "withdrawals",
          "withdrawals",
          "withdrawals",
          "withdrawals",
          "withdrawals",
          "April.2020",
          "August.2020",
          "December.2019",
          "December.2020",
          "February.2020",
          "January.2020",
          "July.2020",
          "June.2020",
          "March.2020",
          "May.2020",
          "November.2020",
          "October.2020",
          "September.2020"
         ],
         "name": "",
         "parents": [
          "April.2020",
          "August.2020",
          "December.2019",
          "December.2020",
          "February.2020",
          "January.2020",
          "July.2020",
          "June.2020",
          "March.2020",
          "May.2020",
          "November.2020",
          "October.2020",
          "September.2020",
          "April.2020",
          "August.2020",
          "December.2019",
          "December.2020",
          "February.2020",
          "January.2020",
          "July.2020",
          "June.2020",
          "March.2020",
          "May.2020",
          "November.2020",
          "October.2020",
          "September.2020",
          "December.2019",
          "February.2020",
          "January.2020",
          "March.2020",
          "April.2020",
          "August.2020",
          "December.2019",
          "December.2020",
          "February.2020",
          "January.2020",
          "July.2020",
          "June.2020",
          "March.2020",
          "May.2020",
          "November.2020",
          "October.2020",
          "September.2020",
          "April.2020",
          "August.2020",
          "December.2019",
          "December.2020",
          "February.2020",
          "January.2020",
          "July.2020",
          "June.2020",
          "March.2020",
          "May.2020",
          "November.2020",
          "October.2020",
          "September.2020",
          "February.2020",
          "January.2020",
          "November.2020",
          "April.2020",
          "August.2020",
          "December.2019",
          "December.2020",
          "February.2020",
          "January.2020",
          "July.2020",
          "June.2020",
          "March.2020",
          "May.2020",
          "November.2020",
          "October.2020",
          "September.2020",
          "August.2020",
          "February.2020",
          "March.2020",
          "September.2020",
          "April.2020",
          "August.2020",
          "December.2019",
          "December.2020",
          "February.2020",
          "January.2020",
          "June.2020",
          "March.2020",
          "October.2020",
          "September.2020",
          "April.2020",
          "August.2020",
          "December.2019",
          "December.2020",
          "February.2020",
          "January.2020",
          "July.2020",
          "June.2020",
          "March.2020",
          "May.2020",
          "November.2020",
          "October.2020",
          "September.2020",
          "December.2020",
          "April.2020",
          "August.2020",
          "December.2019",
          "December.2020",
          "February.2020",
          "January.2020",
          "July.2020",
          "June.2020",
          "March.2020",
          "May.2020",
          "November.2020",
          "October.2020",
          "September.2020",
          "June.2020",
          "April.2020",
          "August.2020",
          "December.2019",
          "December.2020",
          "February.2020",
          "January.2020",
          "July.2020",
          "June.2020",
          "March.2020",
          "May.2020",
          "November.2020",
          "October.2020",
          "September.2020",
          "June.2020",
          "April.2020",
          "July.2020",
          "May.2020",
          "November.2020",
          "October.2020",
          "September.2020",
          "August.2020",
          "February.2020",
          "January.2020",
          "March.2020",
          "July.2020",
          "June.2020",
          "November.2020",
          "October.2020",
          "September.2020",
          "April.2020",
          "August.2020",
          "December.2019",
          "December.2020",
          "February.2020",
          "January.2020",
          "July.2020",
          "June.2020",
          "March.2020",
          "May.2020",
          "November.2020",
          "October.2020",
          "September.2020",
          "July.2020",
          "October.2020",
          "April.2020",
          "August.2020",
          "December.2019",
          "December.2020",
          "February.2020",
          "January.2020",
          "July.2020",
          "June.2020",
          "March.2020",
          "May.2020",
          "November.2020",
          "October.2020",
          "September.2020",
          "April.2020",
          "August.2020",
          "December.2019",
          "December.2020",
          "February.2020",
          "January.2020",
          "July.2020",
          "June.2020",
          "March.2020",
          "May.2020",
          "November.2020",
          "October.2020",
          "September.2020",
          "",
          "",
          "",
          "",
          "",
          "",
          "",
          "",
          "",
          "",
          "",
          "",
          ""
         ],
         "type": "treemap",
         "values": [
          9,
          5,
          4,
          6,
          10,
          11,
          10,
          5,
          6,
          4,
          8,
          7,
          10,
          27,
          13,
          3,
          32,
          20,
          18,
          22,
          12,
          26,
          27,
          28,
          35,
          19,
          2,
          4,
          6,
          1,
          5,
          8,
          6,
          11,
          9,
          5,
          9,
          7,
          6,
          12,
          16,
          8,
          5,
          24,
          22,
          9,
          24,
          21,
          38,
          16,
          24,
          24,
          23,
          43,
          30,
          39,
          1,
          2,
          1,
          4,
          3,
          14,
          11,
          7,
          7,
          14,
          5,
          2,
          1,
          18,
          14,
          1,
          1,
          2,
          2,
          1,
          1,
          1,
          2,
          3,
          9,
          6,
          1,
          8,
          1,
          3,
          8,
          8,
          9,
          8,
          28,
          23,
          12,
          8,
          23,
          4,
          11,
          9,
          9,
          2,
          3,
          1,
          4,
          5,
          8,
          3,
          1,
          1,
          4,
          2,
          2,
          2,
          3,
          1,
          10,
          18,
          1,
          19,
          5,
          9,
          14,
          7,
          1,
          6,
          21,
          14,
          11,
          1,
          1,
          2,
          1,
          2,
          3,
          1,
          1,
          1,
          1,
          1,
          5,
          1,
          4,
          6,
          5,
          3,
          1,
          2,
          6,
          11,
          6,
          1,
          1,
          12,
          3,
          2,
          3,
          5,
          1,
          1,
          5,
          13,
          4,
          9,
          6,
          11,
          7,
          2,
          2,
          5,
          13,
          11,
          5,
          5,
          13,
          4,
          9,
          5,
          11,
          7,
          2,
          2,
          5,
          13,
          11,
          5,
          105,
          108,
          64,
          145,
          147,
          157,
          121,
          78,
          120,
          93,
          182,
          155,
          122
         ]
        }
       ],
       "layout": {
        "legend": {
         "tracegroupgap": 0
        },
        "margin": {
         "t": 60
        },
        "template": {
         "data": {
          "bar": [
           {
            "error_x": {
             "color": "#2a3f5f"
            },
            "error_y": {
             "color": "#2a3f5f"
            },
            "marker": {
             "line": {
              "color": "#E5ECF6",
              "width": 0.5
             }
            },
            "type": "bar"
           }
          ],
          "barpolar": [
           {
            "marker": {
             "line": {
              "color": "#E5ECF6",
              "width": 0.5
             }
            },
            "type": "barpolar"
           }
          ],
          "carpet": [
           {
            "aaxis": {
             "endlinecolor": "#2a3f5f",
             "gridcolor": "white",
             "linecolor": "white",
             "minorgridcolor": "white",
             "startlinecolor": "#2a3f5f"
            },
            "baxis": {
             "endlinecolor": "#2a3f5f",
             "gridcolor": "white",
             "linecolor": "white",
             "minorgridcolor": "white",
             "startlinecolor": "#2a3f5f"
            },
            "type": "carpet"
           }
          ],
          "choropleth": [
           {
            "colorbar": {
             "outlinewidth": 0,
             "ticks": ""
            },
            "type": "choropleth"
           }
          ],
          "contour": [
           {
            "colorbar": {
             "outlinewidth": 0,
             "ticks": ""
            },
            "colorscale": [
             [
              0,
              "#0d0887"
             ],
             [
              0.1111111111111111,
              "#46039f"
             ],
             [
              0.2222222222222222,
              "#7201a8"
             ],
             [
              0.3333333333333333,
              "#9c179e"
             ],
             [
              0.4444444444444444,
              "#bd3786"
             ],
             [
              0.5555555555555556,
              "#d8576b"
             ],
             [
              0.6666666666666666,
              "#ed7953"
             ],
             [
              0.7777777777777778,
              "#fb9f3a"
             ],
             [
              0.8888888888888888,
              "#fdca26"
             ],
             [
              1,
              "#f0f921"
             ]
            ],
            "type": "contour"
           }
          ],
          "contourcarpet": [
           {
            "colorbar": {
             "outlinewidth": 0,
             "ticks": ""
            },
            "type": "contourcarpet"
           }
          ],
          "heatmap": [
           {
            "colorbar": {
             "outlinewidth": 0,
             "ticks": ""
            },
            "colorscale": [
             [
              0,
              "#0d0887"
             ],
             [
              0.1111111111111111,
              "#46039f"
             ],
             [
              0.2222222222222222,
              "#7201a8"
             ],
             [
              0.3333333333333333,
              "#9c179e"
             ],
             [
              0.4444444444444444,
              "#bd3786"
             ],
             [
              0.5555555555555556,
              "#d8576b"
             ],
             [
              0.6666666666666666,
              "#ed7953"
             ],
             [
              0.7777777777777778,
              "#fb9f3a"
             ],
             [
              0.8888888888888888,
              "#fdca26"
             ],
             [
              1,
              "#f0f921"
             ]
            ],
            "type": "heatmap"
           }
          ],
          "heatmapgl": [
           {
            "colorbar": {
             "outlinewidth": 0,
             "ticks": ""
            },
            "colorscale": [
             [
              0,
              "#0d0887"
             ],
             [
              0.1111111111111111,
              "#46039f"
             ],
             [
              0.2222222222222222,
              "#7201a8"
             ],
             [
              0.3333333333333333,
              "#9c179e"
             ],
             [
              0.4444444444444444,
              "#bd3786"
             ],
             [
              0.5555555555555556,
              "#d8576b"
             ],
             [
              0.6666666666666666,
              "#ed7953"
             ],
             [
              0.7777777777777778,
              "#fb9f3a"
             ],
             [
              0.8888888888888888,
              "#fdca26"
             ],
             [
              1,
              "#f0f921"
             ]
            ],
            "type": "heatmapgl"
           }
          ],
          "histogram": [
           {
            "marker": {
             "colorbar": {
              "outlinewidth": 0,
              "ticks": ""
             }
            },
            "type": "histogram"
           }
          ],
          "histogram2d": [
           {
            "colorbar": {
             "outlinewidth": 0,
             "ticks": ""
            },
            "colorscale": [
             [
              0,
              "#0d0887"
             ],
             [
              0.1111111111111111,
              "#46039f"
             ],
             [
              0.2222222222222222,
              "#7201a8"
             ],
             [
              0.3333333333333333,
              "#9c179e"
             ],
             [
              0.4444444444444444,
              "#bd3786"
             ],
             [
              0.5555555555555556,
              "#d8576b"
             ],
             [
              0.6666666666666666,
              "#ed7953"
             ],
             [
              0.7777777777777778,
              "#fb9f3a"
             ],
             [
              0.8888888888888888,
              "#fdca26"
             ],
             [
              1,
              "#f0f921"
             ]
            ],
            "type": "histogram2d"
           }
          ],
          "histogram2dcontour": [
           {
            "colorbar": {
             "outlinewidth": 0,
             "ticks": ""
            },
            "colorscale": [
             [
              0,
              "#0d0887"
             ],
             [
              0.1111111111111111,
              "#46039f"
             ],
             [
              0.2222222222222222,
              "#7201a8"
             ],
             [
              0.3333333333333333,
              "#9c179e"
             ],
             [
              0.4444444444444444,
              "#bd3786"
             ],
             [
              0.5555555555555556,
              "#d8576b"
             ],
             [
              0.6666666666666666,
              "#ed7953"
             ],
             [
              0.7777777777777778,
              "#fb9f3a"
             ],
             [
              0.8888888888888888,
              "#fdca26"
             ],
             [
              1,
              "#f0f921"
             ]
            ],
            "type": "histogram2dcontour"
           }
          ],
          "mesh3d": [
           {
            "colorbar": {
             "outlinewidth": 0,
             "ticks": ""
            },
            "type": "mesh3d"
           }
          ],
          "parcoords": [
           {
            "line": {
             "colorbar": {
              "outlinewidth": 0,
              "ticks": ""
             }
            },
            "type": "parcoords"
           }
          ],
          "pie": [
           {
            "automargin": true,
            "type": "pie"
           }
          ],
          "scatter": [
           {
            "marker": {
             "colorbar": {
              "outlinewidth": 0,
              "ticks": ""
             }
            },
            "type": "scatter"
           }
          ],
          "scatter3d": [
           {
            "line": {
             "colorbar": {
              "outlinewidth": 0,
              "ticks": ""
             }
            },
            "marker": {
             "colorbar": {
              "outlinewidth": 0,
              "ticks": ""
             }
            },
            "type": "scatter3d"
           }
          ],
          "scattercarpet": [
           {
            "marker": {
             "colorbar": {
              "outlinewidth": 0,
              "ticks": ""
             }
            },
            "type": "scattercarpet"
           }
          ],
          "scattergeo": [
           {
            "marker": {
             "colorbar": {
              "outlinewidth": 0,
              "ticks": ""
             }
            },
            "type": "scattergeo"
           }
          ],
          "scattergl": [
           {
            "marker": {
             "colorbar": {
              "outlinewidth": 0,
              "ticks": ""
             }
            },
            "type": "scattergl"
           }
          ],
          "scattermapbox": [
           {
            "marker": {
             "colorbar": {
              "outlinewidth": 0,
              "ticks": ""
             }
            },
            "type": "scattermapbox"
           }
          ],
          "scatterpolar": [
           {
            "marker": {
             "colorbar": {
              "outlinewidth": 0,
              "ticks": ""
             }
            },
            "type": "scatterpolar"
           }
          ],
          "scatterpolargl": [
           {
            "marker": {
             "colorbar": {
              "outlinewidth": 0,
              "ticks": ""
             }
            },
            "type": "scatterpolargl"
           }
          ],
          "scatterternary": [
           {
            "marker": {
             "colorbar": {
              "outlinewidth": 0,
              "ticks": ""
             }
            },
            "type": "scatterternary"
           }
          ],
          "surface": [
           {
            "colorbar": {
             "outlinewidth": 0,
             "ticks": ""
            },
            "colorscale": [
             [
              0,
              "#0d0887"
             ],
             [
              0.1111111111111111,
              "#46039f"
             ],
             [
              0.2222222222222222,
              "#7201a8"
             ],
             [
              0.3333333333333333,
              "#9c179e"
             ],
             [
              0.4444444444444444,
              "#bd3786"
             ],
             [
              0.5555555555555556,
              "#d8576b"
             ],
             [
              0.6666666666666666,
              "#ed7953"
             ],
             [
              0.7777777777777778,
              "#fb9f3a"
             ],
             [
              0.8888888888888888,
              "#fdca26"
             ],
             [
              1,
              "#f0f921"
             ]
            ],
            "type": "surface"
           }
          ],
          "table": [
           {
            "cells": {
             "fill": {
              "color": "#EBF0F8"
             },
             "line": {
              "color": "white"
             }
            },
            "header": {
             "fill": {
              "color": "#C8D4E3"
             },
             "line": {
              "color": "white"
             }
            },
            "type": "table"
           }
          ]
         },
         "layout": {
          "annotationdefaults": {
           "arrowcolor": "#2a3f5f",
           "arrowhead": 0,
           "arrowwidth": 1
          },
          "coloraxis": {
           "colorbar": {
            "outlinewidth": 0,
            "ticks": ""
           }
          },
          "colorscale": {
           "diverging": [
            [
             0,
             "#8e0152"
            ],
            [
             0.1,
             "#c51b7d"
            ],
            [
             0.2,
             "#de77ae"
            ],
            [
             0.3,
             "#f1b6da"
            ],
            [
             0.4,
             "#fde0ef"
            ],
            [
             0.5,
             "#f7f7f7"
            ],
            [
             0.6,
             "#e6f5d0"
            ],
            [
             0.7,
             "#b8e186"
            ],
            [
             0.8,
             "#7fbc41"
            ],
            [
             0.9,
             "#4d9221"
            ],
            [
             1,
             "#276419"
            ]
           ],
           "sequential": [
            [
             0,
             "#0d0887"
            ],
            [
             0.1111111111111111,
             "#46039f"
            ],
            [
             0.2222222222222222,
             "#7201a8"
            ],
            [
             0.3333333333333333,
             "#9c179e"
            ],
            [
             0.4444444444444444,
             "#bd3786"
            ],
            [
             0.5555555555555556,
             "#d8576b"
            ],
            [
             0.6666666666666666,
             "#ed7953"
            ],
            [
             0.7777777777777778,
             "#fb9f3a"
            ],
            [
             0.8888888888888888,
             "#fdca26"
            ],
            [
             1,
             "#f0f921"
            ]
           ],
           "sequentialminus": [
            [
             0,
             "#0d0887"
            ],
            [
             0.1111111111111111,
             "#46039f"
            ],
            [
             0.2222222222222222,
             "#7201a8"
            ],
            [
             0.3333333333333333,
             "#9c179e"
            ],
            [
             0.4444444444444444,
             "#bd3786"
            ],
            [
             0.5555555555555556,
             "#d8576b"
            ],
            [
             0.6666666666666666,
             "#ed7953"
            ],
            [
             0.7777777777777778,
             "#fb9f3a"
            ],
            [
             0.8888888888888888,
             "#fdca26"
            ],
            [
             1,
             "#f0f921"
            ]
           ]
          },
          "colorway": [
           "#636efa",
           "#EF553B",
           "#00cc96",
           "#ab63fa",
           "#FFA15A",
           "#19d3f3",
           "#FF6692",
           "#B6E880",
           "#FF97FF",
           "#FECB52"
          ],
          "font": {
           "color": "#2a3f5f"
          },
          "geo": {
           "bgcolor": "white",
           "lakecolor": "white",
           "landcolor": "#E5ECF6",
           "showlakes": true,
           "showland": true,
           "subunitcolor": "white"
          },
          "hoverlabel": {
           "align": "left"
          },
          "hovermode": "closest",
          "mapbox": {
           "style": "light"
          },
          "paper_bgcolor": "white",
          "plot_bgcolor": "#E5ECF6",
          "polar": {
           "angularaxis": {
            "gridcolor": "white",
            "linecolor": "white",
            "ticks": ""
           },
           "bgcolor": "#E5ECF6",
           "radialaxis": {
            "gridcolor": "white",
            "linecolor": "white",
            "ticks": ""
           }
          },
          "scene": {
           "xaxis": {
            "backgroundcolor": "#E5ECF6",
            "gridcolor": "white",
            "gridwidth": 2,
            "linecolor": "white",
            "showbackground": true,
            "ticks": "",
            "zerolinecolor": "white"
           },
           "yaxis": {
            "backgroundcolor": "#E5ECF6",
            "gridcolor": "white",
            "gridwidth": 2,
            "linecolor": "white",
            "showbackground": true,
            "ticks": "",
            "zerolinecolor": "white"
           },
           "zaxis": {
            "backgroundcolor": "#E5ECF6",
            "gridcolor": "white",
            "gridwidth": 2,
            "linecolor": "white",
            "showbackground": true,
            "ticks": "",
            "zerolinecolor": "white"
           }
          },
          "shapedefaults": {
           "line": {
            "color": "#2a3f5f"
           }
          },
          "ternary": {
           "aaxis": {
            "gridcolor": "white",
            "linecolor": "white",
            "ticks": ""
           },
           "baxis": {
            "gridcolor": "white",
            "linecolor": "white",
            "ticks": ""
           },
           "bgcolor": "#E5ECF6",
           "caxis": {
            "gridcolor": "white",
            "linecolor": "white",
            "ticks": ""
           }
          },
          "title": {
           "x": 0.05
          },
          "xaxis": {
           "automargin": true,
           "gridcolor": "white",
           "linecolor": "white",
           "ticks": "",
           "title": {
            "standoff": 15
           },
           "zerolinecolor": "white",
           "zerolinewidth": 2
          },
          "yaxis": {
           "automargin": true,
           "gridcolor": "white",
           "linecolor": "white",
           "ticks": "",
           "title": {
            "standoff": 15
           },
           "zerolinecolor": "white",
           "zerolinewidth": 2
          }
         }
        }
       }
      },
      "text/html": [
       "<div>\n",
       "        \n",
       "        \n",
       "            <div id=\"75a07571-d54c-4bae-adc3-125a1da12408\" class=\"plotly-graph-div\" style=\"height:525px; width:100%;\"></div>\n",
       "            <script type=\"text/javascript\">\n",
       "                require([\"plotly\"], function(Plotly) {\n",
       "                    window.PLOTLYENV=window.PLOTLYENV || {};\n",
       "                    \n",
       "                if (document.getElementById(\"75a07571-d54c-4bae-adc3-125a1da12408\")) {\n",
       "                    Plotly.newPlot(\n",
       "                        '75a07571-d54c-4bae-adc3-125a1da12408',\n",
       "                        [{\"branchvalues\": \"total\", \"domain\": {\"x\": [0.0, 1.0], \"y\": [0.0, 1.0]}, \"hovertemplate\": \"labels=%{label}<br>withdrawn count=%{value}<br>parent=%{parent}<br>id=%{id}<extra></extra>\", \"ids\": [\"April.2020/airtime\", \"August.2020/airtime\", \"December.2019/airtime\", \"December.2020/airtime\", \"February.2020/airtime\", \"January.2020/airtime\", \"July.2020/airtime\", \"June.2020/airtime\", \"March.2020/airtime\", \"May.2020/airtime\", \"November.2020/airtime\", \"October.2020/airtime\", \"September.2020/airtime\", \"April.2020/bill_payments\", \"August.2020/bill_payments\", \"December.2019/bill_payments\", \"December.2020/bill_payments\", \"February.2020/bill_payments\", \"January.2020/bill_payments\", \"July.2020/bill_payments\", \"June.2020/bill_payments\", \"March.2020/bill_payments\", \"May.2020/bill_payments\", \"November.2020/bill_payments\", \"October.2020/bill_payments\", \"September.2020/bill_payments\", \"December.2019/bundles\", \"February.2020/bundles\", \"January.2020/bundles\", \"March.2020/bundles\", \"April.2020/business_deposit\", \"August.2020/business_deposit\", \"December.2019/business_deposit\", \"December.2020/business_deposit\", \"February.2020/business_deposit\", \"January.2020/business_deposit\", \"July.2020/business_deposit\", \"June.2020/business_deposit\", \"March.2020/business_deposit\", \"May.2020/business_deposit\", \"November.2020/business_deposit\", \"October.2020/business_deposit\", \"September.2020/business_deposit\", \"April.2020/customer_transfer\", \"August.2020/customer_transfer\", \"December.2019/customer_transfer\", \"December.2020/customer_transfer\", \"February.2020/customer_transfer\", \"January.2020/customer_transfer\", \"July.2020/customer_transfer\", \"June.2020/customer_transfer\", \"March.2020/customer_transfer\", \"May.2020/customer_transfer\", \"November.2020/customer_transfer\", \"October.2020/customer_transfer\", \"September.2020/customer_transfer\", \"February.2020/deposit_promotion\", \"January.2020/deposit_promotion\", \"November.2020/deposit_promotion\", \"April.2020/deposit_sender\", \"August.2020/deposit_sender\", \"December.2019/deposit_sender\", \"December.2020/deposit_sender\", \"February.2020/deposit_sender\", \"January.2020/deposit_sender\", \"July.2020/deposit_sender\", \"June.2020/deposit_sender\", \"March.2020/deposit_sender\", \"May.2020/deposit_sender\", \"November.2020/deposit_sender\", \"October.2020/deposit_sender\", \"September.2020/deposit_sender\", \"August.2020/deposits\", \"February.2020/deposits\", \"March.2020/deposits\", \"September.2020/deposits\", \"April.2020/fuliza\", \"August.2020/fuliza\", \"December.2019/fuliza\", \"December.2020/fuliza\", \"February.2020/fuliza\", \"January.2020/fuliza\", \"June.2020/fuliza\", \"March.2020/fuliza\", \"October.2020/fuliza\", \"September.2020/fuliza\", \"April.2020/funds_charge\", \"August.2020/funds_charge\", \"December.2019/funds_charge\", \"December.2020/funds_charge\", \"February.2020/funds_charge\", \"January.2020/funds_charge\", \"July.2020/funds_charge\", \"June.2020/funds_charge\", \"March.2020/funds_charge\", \"May.2020/funds_charge\", \"November.2020/funds_charge\", \"October.2020/funds_charge\", \"September.2020/funds_charge\", \"December.2020/international_deposits\", \"April.2020/loan_payment\", \"August.2020/loan_payment\", \"December.2019/loan_payment\", \"December.2020/loan_payment\", \"February.2020/loan_payment\", \"January.2020/loan_payment\", \"July.2020/loan_payment\", \"June.2020/loan_payment\", \"March.2020/loan_payment\", \"May.2020/loan_payment\", \"November.2020/loan_payment\", \"October.2020/loan_payment\", \"September.2020/loan_payment\", \"June.2020/mechant_charges\", \"April.2020/merchant_payment\", \"August.2020/merchant_payment\", \"December.2019/merchant_payment\", \"December.2020/merchant_payment\", \"February.2020/merchant_payment\", \"January.2020/merchant_payment\", \"July.2020/merchant_payment\", \"June.2020/merchant_payment\", \"March.2020/merchant_payment\", \"May.2020/merchant_payment\", \"November.2020/merchant_payment\", \"October.2020/merchant_payment\", \"September.2020/merchant_payment\", \"June.2020/mshwari_deposit\", \"April.2020/mshwari_deposits\", \"July.2020/mshwari_deposits\", \"May.2020/mshwari_deposits\", \"November.2020/mshwari_deposits\", \"October.2020/mshwari_deposits\", \"September.2020/mshwari_deposits\", \"August.2020/mshwari_loan\", \"February.2020/mshwari_loan\", \"January.2020/mshwari_loan\", \"March.2020/mshwari_loan\", \"July.2020/mshwari_withdrawals \", \"June.2020/mshwari_withdrawals \", \"November.2020/mshwari_withdrawals \", \"October.2020/mshwari_withdrawals \", \"September.2020/mshwari_withdrawals \", \"April.2020/overdraft\", \"August.2020/overdraft\", \"December.2019/overdraft\", \"December.2020/overdraft\", \"February.2020/overdraft\", \"January.2020/overdraft\", \"July.2020/overdraft\", \"June.2020/overdraft\", \"March.2020/overdraft\", \"May.2020/overdraft\", \"November.2020/overdraft\", \"October.2020/overdraft\", \"September.2020/overdraft\", \"July.2020/reversal\", \"October.2020/reversal\", \"April.2020/withdrawal_charge\", \"August.2020/withdrawal_charge\", \"December.2019/withdrawal_charge\", \"December.2020/withdrawal_charge\", \"February.2020/withdrawal_charge\", \"January.2020/withdrawal_charge\", \"July.2020/withdrawal_charge\", \"June.2020/withdrawal_charge\", \"March.2020/withdrawal_charge\", \"May.2020/withdrawal_charge\", \"November.2020/withdrawal_charge\", \"October.2020/withdrawal_charge\", \"September.2020/withdrawal_charge\", \"April.2020/withdrawals\", \"August.2020/withdrawals\", \"December.2019/withdrawals\", \"December.2020/withdrawals\", \"February.2020/withdrawals\", \"January.2020/withdrawals\", \"July.2020/withdrawals\", \"June.2020/withdrawals\", \"March.2020/withdrawals\", \"May.2020/withdrawals\", \"November.2020/withdrawals\", \"October.2020/withdrawals\", \"September.2020/withdrawals\", \"April.2020\", \"August.2020\", \"December.2019\", \"December.2020\", \"February.2020\", \"January.2020\", \"July.2020\", \"June.2020\", \"March.2020\", \"May.2020\", \"November.2020\", \"October.2020\", \"September.2020\"], \"labels\": [\"airtime\", \"airtime\", \"airtime\", \"airtime\", \"airtime\", \"airtime\", \"airtime\", \"airtime\", \"airtime\", \"airtime\", \"airtime\", \"airtime\", \"airtime\", \"bill_payments\", \"bill_payments\", \"bill_payments\", \"bill_payments\", \"bill_payments\", \"bill_payments\", \"bill_payments\", \"bill_payments\", \"bill_payments\", \"bill_payments\", \"bill_payments\", \"bill_payments\", \"bill_payments\", \"bundles\", \"bundles\", \"bundles\", \"bundles\", \"business_deposit\", \"business_deposit\", \"business_deposit\", \"business_deposit\", \"business_deposit\", \"business_deposit\", \"business_deposit\", \"business_deposit\", \"business_deposit\", \"business_deposit\", \"business_deposit\", \"business_deposit\", \"business_deposit\", \"customer_transfer\", \"customer_transfer\", \"customer_transfer\", \"customer_transfer\", \"customer_transfer\", \"customer_transfer\", \"customer_transfer\", \"customer_transfer\", \"customer_transfer\", \"customer_transfer\", \"customer_transfer\", \"customer_transfer\", \"customer_transfer\", \"deposit_promotion\", \"deposit_promotion\", \"deposit_promotion\", \"deposit_sender\", \"deposit_sender\", \"deposit_sender\", \"deposit_sender\", \"deposit_sender\", \"deposit_sender\", \"deposit_sender\", \"deposit_sender\", \"deposit_sender\", \"deposit_sender\", \"deposit_sender\", \"deposit_sender\", \"deposit_sender\", \"deposits\", \"deposits\", \"deposits\", \"deposits\", \"fuliza\", \"fuliza\", \"fuliza\", \"fuliza\", \"fuliza\", \"fuliza\", \"fuliza\", \"fuliza\", \"fuliza\", \"fuliza\", \"funds_charge\", \"funds_charge\", \"funds_charge\", \"funds_charge\", \"funds_charge\", \"funds_charge\", \"funds_charge\", \"funds_charge\", \"funds_charge\", \"funds_charge\", \"funds_charge\", \"funds_charge\", \"funds_charge\", \"international_deposits\", \"loan_payment\", \"loan_payment\", \"loan_payment\", \"loan_payment\", \"loan_payment\", \"loan_payment\", \"loan_payment\", \"loan_payment\", \"loan_payment\", \"loan_payment\", \"loan_payment\", \"loan_payment\", \"loan_payment\", \"mechant_charges\", \"merchant_payment\", \"merchant_payment\", \"merchant_payment\", \"merchant_payment\", \"merchant_payment\", \"merchant_payment\", \"merchant_payment\", \"merchant_payment\", \"merchant_payment\", \"merchant_payment\", \"merchant_payment\", \"merchant_payment\", \"merchant_payment\", \"mshwari_deposit\", \"mshwari_deposits\", \"mshwari_deposits\", \"mshwari_deposits\", \"mshwari_deposits\", \"mshwari_deposits\", \"mshwari_deposits\", \"mshwari_loan\", \"mshwari_loan\", \"mshwari_loan\", \"mshwari_loan\", \"mshwari_withdrawals \", \"mshwari_withdrawals \", \"mshwari_withdrawals \", \"mshwari_withdrawals \", \"mshwari_withdrawals \", \"overdraft\", \"overdraft\", \"overdraft\", \"overdraft\", \"overdraft\", \"overdraft\", \"overdraft\", \"overdraft\", \"overdraft\", \"overdraft\", \"overdraft\", \"overdraft\", \"overdraft\", \"reversal\", \"reversal\", \"withdrawal_charge\", \"withdrawal_charge\", \"withdrawal_charge\", \"withdrawal_charge\", \"withdrawal_charge\", \"withdrawal_charge\", \"withdrawal_charge\", \"withdrawal_charge\", \"withdrawal_charge\", \"withdrawal_charge\", \"withdrawal_charge\", \"withdrawal_charge\", \"withdrawal_charge\", \"withdrawals\", \"withdrawals\", \"withdrawals\", \"withdrawals\", \"withdrawals\", \"withdrawals\", \"withdrawals\", \"withdrawals\", \"withdrawals\", \"withdrawals\", \"withdrawals\", \"withdrawals\", \"withdrawals\", \"April.2020\", \"August.2020\", \"December.2019\", \"December.2020\", \"February.2020\", \"January.2020\", \"July.2020\", \"June.2020\", \"March.2020\", \"May.2020\", \"November.2020\", \"October.2020\", \"September.2020\"], \"name\": \"\", \"parents\": [\"April.2020\", \"August.2020\", \"December.2019\", \"December.2020\", \"February.2020\", \"January.2020\", \"July.2020\", \"June.2020\", \"March.2020\", \"May.2020\", \"November.2020\", \"October.2020\", \"September.2020\", \"April.2020\", \"August.2020\", \"December.2019\", \"December.2020\", \"February.2020\", \"January.2020\", \"July.2020\", \"June.2020\", \"March.2020\", \"May.2020\", \"November.2020\", \"October.2020\", \"September.2020\", \"December.2019\", \"February.2020\", \"January.2020\", \"March.2020\", \"April.2020\", \"August.2020\", \"December.2019\", \"December.2020\", \"February.2020\", \"January.2020\", \"July.2020\", \"June.2020\", \"March.2020\", \"May.2020\", \"November.2020\", \"October.2020\", \"September.2020\", \"April.2020\", \"August.2020\", \"December.2019\", \"December.2020\", \"February.2020\", \"January.2020\", \"July.2020\", \"June.2020\", \"March.2020\", \"May.2020\", \"November.2020\", \"October.2020\", \"September.2020\", \"February.2020\", \"January.2020\", \"November.2020\", \"April.2020\", \"August.2020\", \"December.2019\", \"December.2020\", \"February.2020\", \"January.2020\", \"July.2020\", \"June.2020\", \"March.2020\", \"May.2020\", \"November.2020\", \"October.2020\", \"September.2020\", \"August.2020\", \"February.2020\", \"March.2020\", \"September.2020\", \"April.2020\", \"August.2020\", \"December.2019\", \"December.2020\", \"February.2020\", \"January.2020\", \"June.2020\", \"March.2020\", \"October.2020\", \"September.2020\", \"April.2020\", \"August.2020\", \"December.2019\", \"December.2020\", \"February.2020\", \"January.2020\", \"July.2020\", \"June.2020\", \"March.2020\", \"May.2020\", \"November.2020\", \"October.2020\", \"September.2020\", \"December.2020\", \"April.2020\", \"August.2020\", \"December.2019\", \"December.2020\", \"February.2020\", \"January.2020\", \"July.2020\", \"June.2020\", \"March.2020\", \"May.2020\", \"November.2020\", \"October.2020\", \"September.2020\", \"June.2020\", \"April.2020\", \"August.2020\", \"December.2019\", \"December.2020\", \"February.2020\", \"January.2020\", \"July.2020\", \"June.2020\", \"March.2020\", \"May.2020\", \"November.2020\", \"October.2020\", \"September.2020\", \"June.2020\", \"April.2020\", \"July.2020\", \"May.2020\", \"November.2020\", \"October.2020\", \"September.2020\", \"August.2020\", \"February.2020\", \"January.2020\", \"March.2020\", \"July.2020\", \"June.2020\", \"November.2020\", \"October.2020\", \"September.2020\", \"April.2020\", \"August.2020\", \"December.2019\", \"December.2020\", \"February.2020\", \"January.2020\", \"July.2020\", \"June.2020\", \"March.2020\", \"May.2020\", \"November.2020\", \"October.2020\", \"September.2020\", \"July.2020\", \"October.2020\", \"April.2020\", \"August.2020\", \"December.2019\", \"December.2020\", \"February.2020\", \"January.2020\", \"July.2020\", \"June.2020\", \"March.2020\", \"May.2020\", \"November.2020\", \"October.2020\", \"September.2020\", \"April.2020\", \"August.2020\", \"December.2019\", \"December.2020\", \"February.2020\", \"January.2020\", \"July.2020\", \"June.2020\", \"March.2020\", \"May.2020\", \"November.2020\", \"October.2020\", \"September.2020\", \"\", \"\", \"\", \"\", \"\", \"\", \"\", \"\", \"\", \"\", \"\", \"\", \"\"], \"type\": \"treemap\", \"values\": [9, 5, 4, 6, 10, 11, 10, 5, 6, 4, 8, 7, 10, 27, 13, 3, 32, 20, 18, 22, 12, 26, 27, 28, 35, 19, 2, 4, 6, 1, 5, 8, 6, 11, 9, 5, 9, 7, 6, 12, 16, 8, 5, 24, 22, 9, 24, 21, 38, 16, 24, 24, 23, 43, 30, 39, 1, 2, 1, 4, 3, 14, 11, 7, 7, 14, 5, 2, 1, 18, 14, 1, 1, 2, 2, 1, 1, 1, 2, 3, 9, 6, 1, 8, 1, 3, 8, 8, 9, 8, 28, 23, 12, 8, 23, 4, 11, 9, 9, 2, 3, 1, 4, 5, 8, 3, 1, 1, 4, 2, 2, 2, 3, 1, 10, 18, 1, 19, 5, 9, 14, 7, 1, 6, 21, 14, 11, 1, 1, 2, 1, 2, 3, 1, 1, 1, 1, 1, 5, 1, 4, 6, 5, 3, 1, 2, 6, 11, 6, 1, 1, 12, 3, 2, 3, 5, 1, 1, 5, 13, 4, 9, 6, 11, 7, 2, 2, 5, 13, 11, 5, 5, 13, 4, 9, 5, 11, 7, 2, 2, 5, 13, 11, 5, 105, 108, 64, 145, 147, 157, 121, 78, 120, 93, 182, 155, 122]}],\n",
       "                        {\"legend\": {\"tracegroupgap\": 0}, \"margin\": {\"t\": 60}, \"template\": {\"data\": {\"bar\": [{\"error_x\": {\"color\": \"#2a3f5f\"}, \"error_y\": {\"color\": \"#2a3f5f\"}, \"marker\": {\"line\": {\"color\": \"#E5ECF6\", \"width\": 0.5}}, \"type\": \"bar\"}], \"barpolar\": [{\"marker\": {\"line\": {\"color\": \"#E5ECF6\", \"width\": 0.5}}, \"type\": \"barpolar\"}], \"carpet\": [{\"aaxis\": {\"endlinecolor\": \"#2a3f5f\", \"gridcolor\": \"white\", \"linecolor\": \"white\", \"minorgridcolor\": \"white\", \"startlinecolor\": \"#2a3f5f\"}, \"baxis\": {\"endlinecolor\": \"#2a3f5f\", \"gridcolor\": \"white\", \"linecolor\": \"white\", \"minorgridcolor\": \"white\", \"startlinecolor\": \"#2a3f5f\"}, \"type\": \"carpet\"}], \"choropleth\": [{\"colorbar\": {\"outlinewidth\": 0, \"ticks\": \"\"}, \"type\": \"choropleth\"}], \"contour\": [{\"colorbar\": {\"outlinewidth\": 0, \"ticks\": \"\"}, \"colorscale\": [[0.0, \"#0d0887\"], [0.1111111111111111, \"#46039f\"], [0.2222222222222222, \"#7201a8\"], [0.3333333333333333, \"#9c179e\"], [0.4444444444444444, \"#bd3786\"], [0.5555555555555556, \"#d8576b\"], [0.6666666666666666, \"#ed7953\"], [0.7777777777777778, \"#fb9f3a\"], [0.8888888888888888, \"#fdca26\"], [1.0, \"#f0f921\"]], \"type\": \"contour\"}], \"contourcarpet\": [{\"colorbar\": {\"outlinewidth\": 0, \"ticks\": \"\"}, \"type\": \"contourcarpet\"}], \"heatmap\": [{\"colorbar\": {\"outlinewidth\": 0, \"ticks\": \"\"}, \"colorscale\": [[0.0, \"#0d0887\"], [0.1111111111111111, \"#46039f\"], [0.2222222222222222, \"#7201a8\"], [0.3333333333333333, \"#9c179e\"], [0.4444444444444444, \"#bd3786\"], [0.5555555555555556, \"#d8576b\"], [0.6666666666666666, \"#ed7953\"], [0.7777777777777778, \"#fb9f3a\"], [0.8888888888888888, \"#fdca26\"], [1.0, \"#f0f921\"]], \"type\": \"heatmap\"}], \"heatmapgl\": [{\"colorbar\": {\"outlinewidth\": 0, \"ticks\": \"\"}, \"colorscale\": [[0.0, \"#0d0887\"], [0.1111111111111111, \"#46039f\"], [0.2222222222222222, \"#7201a8\"], [0.3333333333333333, \"#9c179e\"], [0.4444444444444444, \"#bd3786\"], [0.5555555555555556, \"#d8576b\"], [0.6666666666666666, \"#ed7953\"], [0.7777777777777778, \"#fb9f3a\"], [0.8888888888888888, \"#fdca26\"], [1.0, \"#f0f921\"]], \"type\": \"heatmapgl\"}], \"histogram\": [{\"marker\": {\"colorbar\": {\"outlinewidth\": 0, \"ticks\": \"\"}}, \"type\": \"histogram\"}], \"histogram2d\": [{\"colorbar\": {\"outlinewidth\": 0, \"ticks\": \"\"}, \"colorscale\": [[0.0, \"#0d0887\"], [0.1111111111111111, \"#46039f\"], [0.2222222222222222, \"#7201a8\"], [0.3333333333333333, \"#9c179e\"], [0.4444444444444444, \"#bd3786\"], [0.5555555555555556, \"#d8576b\"], [0.6666666666666666, \"#ed7953\"], [0.7777777777777778, \"#fb9f3a\"], [0.8888888888888888, \"#fdca26\"], [1.0, \"#f0f921\"]], \"type\": \"histogram2d\"}], \"histogram2dcontour\": [{\"colorbar\": {\"outlinewidth\": 0, \"ticks\": \"\"}, \"colorscale\": [[0.0, \"#0d0887\"], [0.1111111111111111, \"#46039f\"], [0.2222222222222222, \"#7201a8\"], [0.3333333333333333, \"#9c179e\"], [0.4444444444444444, \"#bd3786\"], [0.5555555555555556, \"#d8576b\"], [0.6666666666666666, \"#ed7953\"], [0.7777777777777778, \"#fb9f3a\"], [0.8888888888888888, \"#fdca26\"], [1.0, \"#f0f921\"]], \"type\": \"histogram2dcontour\"}], \"mesh3d\": [{\"colorbar\": {\"outlinewidth\": 0, \"ticks\": \"\"}, \"type\": \"mesh3d\"}], \"parcoords\": [{\"line\": {\"colorbar\": {\"outlinewidth\": 0, \"ticks\": \"\"}}, \"type\": \"parcoords\"}], \"pie\": [{\"automargin\": true, \"type\": \"pie\"}], \"scatter\": [{\"marker\": {\"colorbar\": {\"outlinewidth\": 0, \"ticks\": \"\"}}, \"type\": \"scatter\"}], \"scatter3d\": [{\"line\": {\"colorbar\": {\"outlinewidth\": 0, \"ticks\": \"\"}}, \"marker\": {\"colorbar\": {\"outlinewidth\": 0, \"ticks\": \"\"}}, \"type\": \"scatter3d\"}], \"scattercarpet\": [{\"marker\": {\"colorbar\": {\"outlinewidth\": 0, \"ticks\": \"\"}}, \"type\": \"scattercarpet\"}], \"scattergeo\": [{\"marker\": {\"colorbar\": {\"outlinewidth\": 0, \"ticks\": \"\"}}, \"type\": \"scattergeo\"}], \"scattergl\": [{\"marker\": {\"colorbar\": {\"outlinewidth\": 0, \"ticks\": \"\"}}, \"type\": \"scattergl\"}], \"scattermapbox\": [{\"marker\": {\"colorbar\": {\"outlinewidth\": 0, \"ticks\": \"\"}}, \"type\": \"scattermapbox\"}], \"scatterpolar\": [{\"marker\": {\"colorbar\": {\"outlinewidth\": 0, \"ticks\": \"\"}}, \"type\": \"scatterpolar\"}], \"scatterpolargl\": [{\"marker\": {\"colorbar\": {\"outlinewidth\": 0, \"ticks\": \"\"}}, \"type\": \"scatterpolargl\"}], \"scatterternary\": [{\"marker\": {\"colorbar\": {\"outlinewidth\": 0, \"ticks\": \"\"}}, \"type\": \"scatterternary\"}], \"surface\": [{\"colorbar\": {\"outlinewidth\": 0, \"ticks\": \"\"}, \"colorscale\": [[0.0, \"#0d0887\"], [0.1111111111111111, \"#46039f\"], [0.2222222222222222, \"#7201a8\"], [0.3333333333333333, \"#9c179e\"], [0.4444444444444444, \"#bd3786\"], [0.5555555555555556, \"#d8576b\"], [0.6666666666666666, \"#ed7953\"], [0.7777777777777778, \"#fb9f3a\"], [0.8888888888888888, \"#fdca26\"], [1.0, \"#f0f921\"]], \"type\": \"surface\"}], \"table\": [{\"cells\": {\"fill\": {\"color\": \"#EBF0F8\"}, \"line\": {\"color\": \"white\"}}, \"header\": {\"fill\": {\"color\": \"#C8D4E3\"}, \"line\": {\"color\": \"white\"}}, \"type\": \"table\"}]}, \"layout\": {\"annotationdefaults\": {\"arrowcolor\": \"#2a3f5f\", \"arrowhead\": 0, \"arrowwidth\": 1}, \"coloraxis\": {\"colorbar\": {\"outlinewidth\": 0, \"ticks\": \"\"}}, \"colorscale\": {\"diverging\": [[0, \"#8e0152\"], [0.1, \"#c51b7d\"], [0.2, \"#de77ae\"], [0.3, \"#f1b6da\"], [0.4, \"#fde0ef\"], [0.5, \"#f7f7f7\"], [0.6, \"#e6f5d0\"], [0.7, \"#b8e186\"], [0.8, \"#7fbc41\"], [0.9, \"#4d9221\"], [1, \"#276419\"]], \"sequential\": [[0.0, \"#0d0887\"], [0.1111111111111111, \"#46039f\"], [0.2222222222222222, \"#7201a8\"], [0.3333333333333333, \"#9c179e\"], [0.4444444444444444, \"#bd3786\"], [0.5555555555555556, \"#d8576b\"], [0.6666666666666666, \"#ed7953\"], [0.7777777777777778, \"#fb9f3a\"], [0.8888888888888888, \"#fdca26\"], [1.0, \"#f0f921\"]], \"sequentialminus\": [[0.0, \"#0d0887\"], [0.1111111111111111, \"#46039f\"], [0.2222222222222222, \"#7201a8\"], [0.3333333333333333, \"#9c179e\"], [0.4444444444444444, \"#bd3786\"], [0.5555555555555556, \"#d8576b\"], [0.6666666666666666, \"#ed7953\"], [0.7777777777777778, \"#fb9f3a\"], [0.8888888888888888, \"#fdca26\"], [1.0, \"#f0f921\"]]}, \"colorway\": [\"#636efa\", \"#EF553B\", \"#00cc96\", \"#ab63fa\", \"#FFA15A\", \"#19d3f3\", \"#FF6692\", \"#B6E880\", \"#FF97FF\", \"#FECB52\"], \"font\": {\"color\": \"#2a3f5f\"}, \"geo\": {\"bgcolor\": \"white\", \"lakecolor\": \"white\", \"landcolor\": \"#E5ECF6\", \"showlakes\": true, \"showland\": true, \"subunitcolor\": \"white\"}, \"hoverlabel\": {\"align\": \"left\"}, \"hovermode\": \"closest\", \"mapbox\": {\"style\": \"light\"}, \"paper_bgcolor\": \"white\", \"plot_bgcolor\": \"#E5ECF6\", \"polar\": {\"angularaxis\": {\"gridcolor\": \"white\", \"linecolor\": \"white\", \"ticks\": \"\"}, \"bgcolor\": \"#E5ECF6\", \"radialaxis\": {\"gridcolor\": \"white\", \"linecolor\": \"white\", \"ticks\": \"\"}}, \"scene\": {\"xaxis\": {\"backgroundcolor\": \"#E5ECF6\", \"gridcolor\": \"white\", \"gridwidth\": 2, \"linecolor\": \"white\", \"showbackground\": true, \"ticks\": \"\", \"zerolinecolor\": \"white\"}, \"yaxis\": {\"backgroundcolor\": \"#E5ECF6\", \"gridcolor\": \"white\", \"gridwidth\": 2, \"linecolor\": \"white\", \"showbackground\": true, \"ticks\": \"\", \"zerolinecolor\": \"white\"}, \"zaxis\": {\"backgroundcolor\": \"#E5ECF6\", \"gridcolor\": \"white\", \"gridwidth\": 2, \"linecolor\": \"white\", \"showbackground\": true, \"ticks\": \"\", \"zerolinecolor\": \"white\"}}, \"shapedefaults\": {\"line\": {\"color\": \"#2a3f5f\"}}, \"ternary\": {\"aaxis\": {\"gridcolor\": \"white\", \"linecolor\": \"white\", \"ticks\": \"\"}, \"baxis\": {\"gridcolor\": \"white\", \"linecolor\": \"white\", \"ticks\": \"\"}, \"bgcolor\": \"#E5ECF6\", \"caxis\": {\"gridcolor\": \"white\", \"linecolor\": \"white\", \"ticks\": \"\"}}, \"title\": {\"x\": 0.05}, \"xaxis\": {\"automargin\": true, \"gridcolor\": \"white\", \"linecolor\": \"white\", \"ticks\": \"\", \"title\": {\"standoff\": 15}, \"zerolinecolor\": \"white\", \"zerolinewidth\": 2}, \"yaxis\": {\"automargin\": true, \"gridcolor\": \"white\", \"linecolor\": \"white\", \"ticks\": \"\", \"title\": {\"standoff\": 15}, \"zerolinecolor\": \"white\", \"zerolinewidth\": 2}}}},\n",
       "                        {\"responsive\": true}\n",
       "                    ).then(function(){\n",
       "                            \n",
       "var gd = document.getElementById('75a07571-d54c-4bae-adc3-125a1da12408');\n",
       "var x = new MutationObserver(function (mutations, observer) {{\n",
       "        var display = window.getComputedStyle(gd).display;\n",
       "        if (!display || display === 'none') {{\n",
       "            console.log([gd, 'removed!']);\n",
       "            Plotly.purge(gd);\n",
       "            observer.disconnect();\n",
       "        }}\n",
       "}});\n",
       "\n",
       "// Listen for the removal of the full notebook cells\n",
       "var notebookContainer = gd.closest('#notebook-container');\n",
       "if (notebookContainer) {{\n",
       "    x.observe(notebookContainer, {childList: true});\n",
       "}}\n",
       "\n",
       "// Listen for the clearing of the current output cell\n",
       "var outputEl = gd.closest('.output');\n",
       "if (outputEl) {{\n",
       "    x.observe(outputEl, {childList: true});\n",
       "}}\n",
       "\n",
       "                        })\n",
       "                };\n",
       "                });\n",
       "            </script>\n",
       "        </div>"
      ]
     },
     "metadata": {},
     "output_type": "display_data"
    }
   ],
   "source": [
    "fig = px.treemap(mpesa_agg, path=['transactions_cohort', 'transactions.group'], values='withdrawn count')\n",
    "#fig = px.histogram(mpesa_agg, x='withdrawn count',color = \"month\", title='Rating distribution')\n",
    "fig.show()"
   ]
  },
  {
   "cell_type": "code",
   "execution_count": 63,
   "metadata": {},
   "outputs": [
    {
     "data": {
      "application/vnd.plotly.v1+json": {
       "config": {
        "plotlyServerURL": "https://plot.ly"
       },
       "data": [
        {
         "branchvalues": "total",
         "customdata": [
          [
           785
          ],
          [
           220
          ],
          [
           2050
          ],
          [
           550
          ],
          [
           2370
          ],
          [
           1250
          ],
          [
           880
          ],
          [
           410
          ],
          [
           1450
          ],
          [
           275
          ],
          [
           655
          ],
          [
           495
          ],
          [
           920
          ],
          [
           26954
          ],
          [
           9843
          ],
          [
           1500
          ],
          [
           49861
          ],
          [
           14966
          ],
          [
           31947
          ],
          [
           27262
          ],
          [
           12392
          ],
          [
           29693
          ],
          [
           15874
          ],
          [
           75475
          ],
          [
           43682
          ],
          [
           36720
          ],
          [
           1999
          ],
          [
           4797
          ],
          [
           5045
          ],
          [
           1000
          ],
          [
           0
          ],
          [
           0
          ],
          [
           0
          ],
          [
           0
          ],
          [
           0
          ],
          [
           0
          ],
          [
           0
          ],
          [
           0
          ],
          [
           0
          ],
          [
           0
          ],
          [
           0
          ],
          [
           0
          ],
          [
           0
          ],
          [
           41801
          ],
          [
           26017
          ],
          [
           34924
          ],
          [
           31192
          ],
          [
           35750
          ],
          [
           35541
          ],
          [
           32885
          ],
          [
           29018
          ],
          [
           35252
          ],
          [
           26509
          ],
          [
           56442
          ],
          [
           55868
          ],
          [
           35855
          ],
          [
           0
          ],
          [
           0
          ],
          [
           0
          ],
          [
           0
          ],
          [
           0
          ],
          [
           0
          ],
          [
           0
          ],
          [
           0
          ],
          [
           0
          ],
          [
           0
          ],
          [
           0
          ],
          [
           0
          ],
          [
           0
          ],
          [
           0
          ],
          [
           0
          ],
          [
           0
          ],
          [
           0
          ],
          [
           0
          ],
          [
           0
          ],
          [
           0
          ],
          [
           300
          ],
          [
           330
          ],
          [
           13350
          ],
          [
           1270
          ],
          [
           12865
          ],
          [
           8044
          ],
          [
           3028
          ],
          [
           6590
          ],
          [
           500
          ],
          [
           5280
          ],
          [
           490
          ],
          [
           364
          ],
          [
           502
          ],
          [
           359
          ],
          [
           935
          ],
          [
           734
          ],
          [
           564
          ],
          [
           384
          ],
          [
           703
          ],
          [
           230
          ],
          [
           598
          ],
          [
           522
          ],
          [
           390
          ],
          [
           0
          ],
          [
           3873.0399999999995
          ],
          [
           216.38
          ],
          [
           3483.3100000000004
          ],
          [
           4664.95
          ],
          [
           22168.69
          ],
          [
           13575.429999999998
          ],
          [
           2001.23
          ],
          [
           1954.41
          ],
          [
           15226.92
          ],
          [
           1147.51
          ],
          [
           132.91
          ],
          [
           1081.21
          ],
          [
           2295.75
          ],
          [
           10
          ],
          [
           12737
          ],
          [
           33912
          ],
          [
           2500
          ],
          [
           15200
          ],
          [
           7031
          ],
          [
           7607
          ],
          [
           52030
          ],
          [
           13578
          ],
          [
           322
          ],
          [
           9328
          ],
          [
           30048
          ],
          [
           15951
          ],
          [
           15784
          ],
          [
           3000
          ],
          [
           25000
          ],
          [
           18060
          ],
          [
           2000
          ],
          [
           38000
          ],
          [
           51200
          ],
          [
           5000
          ],
          [
           0
          ],
          [
           0
          ],
          [
           0
          ],
          [
           0
          ],
          [
           0
          ],
          [
           0
          ],
          [
           0
          ],
          [
           0
          ],
          [
           0
          ],
          [
           0
          ],
          [
           0
          ],
          [
           0
          ],
          [
           0
          ],
          [
           0
          ],
          [
           0
          ],
          [
           0
          ],
          [
           0
          ],
          [
           0
          ],
          [
           0
          ],
          [
           0
          ],
          [
           0
          ],
          [
           0
          ],
          [
           0
          ],
          [
           300
          ],
          [
           302
          ],
          [
           446
          ],
          [
           324
          ],
          [
           308
          ],
          [
           301
          ],
          [
           467
          ],
          [
           367
          ],
          [
           55
          ],
          [
           112
          ],
          [
           296
          ],
          [
           683
          ],
          [
           587
          ],
          [
           162
          ],
          [
           30350
          ],
          [
           28200
          ],
          [
           25800
          ],
          [
           20600
          ],
          [
           18700
          ],
          [
           41350
          ],
          [
           27850
          ],
          [
           2500
          ],
          [
           6650
          ],
          [
           18500
          ],
          [
           62700
          ],
          [
           46500
          ],
          [
           10700
          ],
          [
           19614.439238095238
          ],
          [
           15626.901666666665
          ],
          [
           7549.394375
          ],
          [
           19685.78448275862
          ],
          [
           10494.785850340137
          ],
          [
           16585.645159235668
          ],
          [
           17401.258099173552
          ],
          [
           12287.261666666667
          ],
          [
           14761.739
          ],
          [
           12844.817419354838
          ],
          [
           33425.14736263736
          ],
          [
           26521.976903225805
          ],
          [
           19380.29713114754
          ]
         ],
         "domain": {
          "x": [
           0,
           1
          ],
          "y": [
           0,
           1
          ]
         },
         "hovertemplate": "%{label}<br>%{value}",
         "ids": [
          "April.2020/airtime",
          "August.2020/airtime",
          "December.2019/airtime",
          "December.2020/airtime",
          "February.2020/airtime",
          "January.2020/airtime",
          "July.2020/airtime",
          "June.2020/airtime",
          "March.2020/airtime",
          "May.2020/airtime",
          "November.2020/airtime",
          "October.2020/airtime",
          "September.2020/airtime",
          "April.2020/bill_payments",
          "August.2020/bill_payments",
          "December.2019/bill_payments",
          "December.2020/bill_payments",
          "February.2020/bill_payments",
          "January.2020/bill_payments",
          "July.2020/bill_payments",
          "June.2020/bill_payments",
          "March.2020/bill_payments",
          "May.2020/bill_payments",
          "November.2020/bill_payments",
          "October.2020/bill_payments",
          "September.2020/bill_payments",
          "December.2019/bundles",
          "February.2020/bundles",
          "January.2020/bundles",
          "March.2020/bundles",
          "April.2020/business_deposit",
          "August.2020/business_deposit",
          "December.2019/business_deposit",
          "December.2020/business_deposit",
          "February.2020/business_deposit",
          "January.2020/business_deposit",
          "July.2020/business_deposit",
          "June.2020/business_deposit",
          "March.2020/business_deposit",
          "May.2020/business_deposit",
          "November.2020/business_deposit",
          "October.2020/business_deposit",
          "September.2020/business_deposit",
          "April.2020/customer_transfer",
          "August.2020/customer_transfer",
          "December.2019/customer_transfer",
          "December.2020/customer_transfer",
          "February.2020/customer_transfer",
          "January.2020/customer_transfer",
          "July.2020/customer_transfer",
          "June.2020/customer_transfer",
          "March.2020/customer_transfer",
          "May.2020/customer_transfer",
          "November.2020/customer_transfer",
          "October.2020/customer_transfer",
          "September.2020/customer_transfer",
          "February.2020/deposit_promotion",
          "January.2020/deposit_promotion",
          "November.2020/deposit_promotion",
          "April.2020/deposit_sender",
          "August.2020/deposit_sender",
          "December.2019/deposit_sender",
          "December.2020/deposit_sender",
          "February.2020/deposit_sender",
          "January.2020/deposit_sender",
          "July.2020/deposit_sender",
          "June.2020/deposit_sender",
          "March.2020/deposit_sender",
          "May.2020/deposit_sender",
          "November.2020/deposit_sender",
          "October.2020/deposit_sender",
          "September.2020/deposit_sender",
          "August.2020/deposits",
          "February.2020/deposits",
          "March.2020/deposits",
          "September.2020/deposits",
          "April.2020/fuliza",
          "August.2020/fuliza",
          "December.2019/fuliza",
          "December.2020/fuliza",
          "February.2020/fuliza",
          "January.2020/fuliza",
          "June.2020/fuliza",
          "March.2020/fuliza",
          "October.2020/fuliza",
          "September.2020/fuliza",
          "April.2020/funds_charge",
          "August.2020/funds_charge",
          "December.2019/funds_charge",
          "December.2020/funds_charge",
          "February.2020/funds_charge",
          "January.2020/funds_charge",
          "July.2020/funds_charge",
          "June.2020/funds_charge",
          "March.2020/funds_charge",
          "May.2020/funds_charge",
          "November.2020/funds_charge",
          "October.2020/funds_charge",
          "September.2020/funds_charge",
          "December.2020/international_deposits",
          "April.2020/loan_payment",
          "August.2020/loan_payment",
          "December.2019/loan_payment",
          "December.2020/loan_payment",
          "February.2020/loan_payment",
          "January.2020/loan_payment",
          "July.2020/loan_payment",
          "June.2020/loan_payment",
          "March.2020/loan_payment",
          "May.2020/loan_payment",
          "November.2020/loan_payment",
          "October.2020/loan_payment",
          "September.2020/loan_payment",
          "June.2020/mechant_charges",
          "April.2020/merchant_payment",
          "August.2020/merchant_payment",
          "December.2019/merchant_payment",
          "December.2020/merchant_payment",
          "February.2020/merchant_payment",
          "January.2020/merchant_payment",
          "July.2020/merchant_payment",
          "June.2020/merchant_payment",
          "March.2020/merchant_payment",
          "May.2020/merchant_payment",
          "November.2020/merchant_payment",
          "October.2020/merchant_payment",
          "September.2020/merchant_payment",
          "June.2020/mshwari_deposit",
          "April.2020/mshwari_deposits",
          "July.2020/mshwari_deposits",
          "May.2020/mshwari_deposits",
          "November.2020/mshwari_deposits",
          "October.2020/mshwari_deposits",
          "September.2020/mshwari_deposits",
          "August.2020/mshwari_loan",
          "February.2020/mshwari_loan",
          "January.2020/mshwari_loan",
          "March.2020/mshwari_loan",
          "July.2020/mshwari_withdrawals ",
          "June.2020/mshwari_withdrawals ",
          "November.2020/mshwari_withdrawals ",
          "October.2020/mshwari_withdrawals ",
          "September.2020/mshwari_withdrawals ",
          "April.2020/overdraft",
          "August.2020/overdraft",
          "December.2019/overdraft",
          "December.2020/overdraft",
          "February.2020/overdraft",
          "January.2020/overdraft",
          "July.2020/overdraft",
          "June.2020/overdraft",
          "March.2020/overdraft",
          "May.2020/overdraft",
          "November.2020/overdraft",
          "October.2020/overdraft",
          "September.2020/overdraft",
          "July.2020/reversal",
          "October.2020/reversal",
          "April.2020/withdrawal_charge",
          "August.2020/withdrawal_charge",
          "December.2019/withdrawal_charge",
          "December.2020/withdrawal_charge",
          "February.2020/withdrawal_charge",
          "January.2020/withdrawal_charge",
          "July.2020/withdrawal_charge",
          "June.2020/withdrawal_charge",
          "March.2020/withdrawal_charge",
          "May.2020/withdrawal_charge",
          "November.2020/withdrawal_charge",
          "October.2020/withdrawal_charge",
          "September.2020/withdrawal_charge",
          "April.2020/withdrawals",
          "August.2020/withdrawals",
          "December.2019/withdrawals",
          "December.2020/withdrawals",
          "February.2020/withdrawals",
          "January.2020/withdrawals",
          "July.2020/withdrawals",
          "June.2020/withdrawals",
          "March.2020/withdrawals",
          "May.2020/withdrawals",
          "November.2020/withdrawals",
          "October.2020/withdrawals",
          "September.2020/withdrawals",
          "April.2020",
          "August.2020",
          "December.2019",
          "December.2020",
          "February.2020",
          "January.2020",
          "July.2020",
          "June.2020",
          "March.2020",
          "May.2020",
          "November.2020",
          "October.2020",
          "September.2020"
         ],
         "labels": [
          "airtime",
          "airtime",
          "airtime",
          "airtime",
          "airtime",
          "airtime",
          "airtime",
          "airtime",
          "airtime",
          "airtime",
          "airtime",
          "airtime",
          "airtime",
          "bill_payments",
          "bill_payments",
          "bill_payments",
          "bill_payments",
          "bill_payments",
          "bill_payments",
          "bill_payments",
          "bill_payments",
          "bill_payments",
          "bill_payments",
          "bill_payments",
          "bill_payments",
          "bill_payments",
          "bundles",
          "bundles",
          "bundles",
          "bundles",
          "business_deposit",
          "business_deposit",
          "business_deposit",
          "business_deposit",
          "business_deposit",
          "business_deposit",
          "business_deposit",
          "business_deposit",
          "business_deposit",
          "business_deposit",
          "business_deposit",
          "business_deposit",
          "business_deposit",
          "customer_transfer",
          "customer_transfer",
          "customer_transfer",
          "customer_transfer",
          "customer_transfer",
          "customer_transfer",
          "customer_transfer",
          "customer_transfer",
          "customer_transfer",
          "customer_transfer",
          "customer_transfer",
          "customer_transfer",
          "customer_transfer",
          "deposit_promotion",
          "deposit_promotion",
          "deposit_promotion",
          "deposit_sender",
          "deposit_sender",
          "deposit_sender",
          "deposit_sender",
          "deposit_sender",
          "deposit_sender",
          "deposit_sender",
          "deposit_sender",
          "deposit_sender",
          "deposit_sender",
          "deposit_sender",
          "deposit_sender",
          "deposit_sender",
          "deposits",
          "deposits",
          "deposits",
          "deposits",
          "fuliza",
          "fuliza",
          "fuliza",
          "fuliza",
          "fuliza",
          "fuliza",
          "fuliza",
          "fuliza",
          "fuliza",
          "fuliza",
          "funds_charge",
          "funds_charge",
          "funds_charge",
          "funds_charge",
          "funds_charge",
          "funds_charge",
          "funds_charge",
          "funds_charge",
          "funds_charge",
          "funds_charge",
          "funds_charge",
          "funds_charge",
          "funds_charge",
          "international_deposits",
          "loan_payment",
          "loan_payment",
          "loan_payment",
          "loan_payment",
          "loan_payment",
          "loan_payment",
          "loan_payment",
          "loan_payment",
          "loan_payment",
          "loan_payment",
          "loan_payment",
          "loan_payment",
          "loan_payment",
          "mechant_charges",
          "merchant_payment",
          "merchant_payment",
          "merchant_payment",
          "merchant_payment",
          "merchant_payment",
          "merchant_payment",
          "merchant_payment",
          "merchant_payment",
          "merchant_payment",
          "merchant_payment",
          "merchant_payment",
          "merchant_payment",
          "merchant_payment",
          "mshwari_deposit",
          "mshwari_deposits",
          "mshwari_deposits",
          "mshwari_deposits",
          "mshwari_deposits",
          "mshwari_deposits",
          "mshwari_deposits",
          "mshwari_loan",
          "mshwari_loan",
          "mshwari_loan",
          "mshwari_loan",
          "mshwari_withdrawals ",
          "mshwari_withdrawals ",
          "mshwari_withdrawals ",
          "mshwari_withdrawals ",
          "mshwari_withdrawals ",
          "overdraft",
          "overdraft",
          "overdraft",
          "overdraft",
          "overdraft",
          "overdraft",
          "overdraft",
          "overdraft",
          "overdraft",
          "overdraft",
          "overdraft",
          "overdraft",
          "overdraft",
          "reversal",
          "reversal",
          "withdrawal_charge",
          "withdrawal_charge",
          "withdrawal_charge",
          "withdrawal_charge",
          "withdrawal_charge",
          "withdrawal_charge",
          "withdrawal_charge",
          "withdrawal_charge",
          "withdrawal_charge",
          "withdrawal_charge",
          "withdrawal_charge",
          "withdrawal_charge",
          "withdrawal_charge",
          "withdrawals",
          "withdrawals",
          "withdrawals",
          "withdrawals",
          "withdrawals",
          "withdrawals",
          "withdrawals",
          "withdrawals",
          "withdrawals",
          "withdrawals",
          "withdrawals",
          "withdrawals",
          "withdrawals",
          "April.2020",
          "August.2020",
          "December.2019",
          "December.2020",
          "February.2020",
          "January.2020",
          "July.2020",
          "June.2020",
          "March.2020",
          "May.2020",
          "November.2020",
          "October.2020",
          "September.2020"
         ],
         "marker": {
          "coloraxis": "coloraxis",
          "colors": [
           785,
           220,
           2050,
           550,
           2370,
           1250,
           880,
           410,
           1450,
           275,
           655,
           495,
           920,
           26954,
           9843,
           1500,
           49861,
           14966,
           31947,
           27262,
           12392,
           29693,
           15874,
           75475,
           43682,
           36720,
           1999,
           4797,
           5045,
           1000,
           0,
           0,
           0,
           0,
           0,
           0,
           0,
           0,
           0,
           0,
           0,
           0,
           0,
           41801,
           26017,
           34924,
           31192,
           35750,
           35541,
           32885,
           29018,
           35252,
           26509,
           56442,
           55868,
           35855,
           0,
           0,
           0,
           0,
           0,
           0,
           0,
           0,
           0,
           0,
           0,
           0,
           0,
           0,
           0,
           0,
           0,
           0,
           0,
           0,
           300,
           330,
           13350,
           1270,
           12865,
           8044,
           3028,
           6590,
           500,
           5280,
           490,
           364,
           502,
           359,
           935,
           734,
           564,
           384,
           703,
           230,
           598,
           522,
           390,
           0,
           3873.0399999999995,
           216.38,
           3483.3100000000004,
           4664.95,
           22168.69,
           13575.429999999998,
           2001.23,
           1954.41,
           15226.92,
           1147.51,
           132.91,
           1081.21,
           2295.75,
           10,
           12737,
           33912,
           2500,
           15200,
           7031,
           7607,
           52030,
           13578,
           322,
           9328,
           30048,
           15951,
           15784,
           3000,
           25000,
           18060,
           2000,
           38000,
           51200,
           5000,
           0,
           0,
           0,
           0,
           0,
           0,
           0,
           0,
           0,
           0,
           0,
           0,
           0,
           0,
           0,
           0,
           0,
           0,
           0,
           0,
           0,
           0,
           0,
           300,
           302,
           446,
           324,
           308,
           301,
           467,
           367,
           55,
           112,
           296,
           683,
           587,
           162,
           30350,
           28200,
           25800,
           20600,
           18700,
           41350,
           27850,
           2500,
           6650,
           18500,
           62700,
           46500,
           10700,
           19614.439238095238,
           15626.901666666665,
           7549.394375,
           19685.78448275862,
           10494.785850340137,
           16585.645159235668,
           17401.258099173552,
           12287.261666666667,
           14761.739,
           12844.817419354838,
           33425.14736263736,
           26521.976903225805,
           19380.29713114754
          ]
         },
         "name": "",
         "parents": [
          "April.2020",
          "August.2020",
          "December.2019",
          "December.2020",
          "February.2020",
          "January.2020",
          "July.2020",
          "June.2020",
          "March.2020",
          "May.2020",
          "November.2020",
          "October.2020",
          "September.2020",
          "April.2020",
          "August.2020",
          "December.2019",
          "December.2020",
          "February.2020",
          "January.2020",
          "July.2020",
          "June.2020",
          "March.2020",
          "May.2020",
          "November.2020",
          "October.2020",
          "September.2020",
          "December.2019",
          "February.2020",
          "January.2020",
          "March.2020",
          "April.2020",
          "August.2020",
          "December.2019",
          "December.2020",
          "February.2020",
          "January.2020",
          "July.2020",
          "June.2020",
          "March.2020",
          "May.2020",
          "November.2020",
          "October.2020",
          "September.2020",
          "April.2020",
          "August.2020",
          "December.2019",
          "December.2020",
          "February.2020",
          "January.2020",
          "July.2020",
          "June.2020",
          "March.2020",
          "May.2020",
          "November.2020",
          "October.2020",
          "September.2020",
          "February.2020",
          "January.2020",
          "November.2020",
          "April.2020",
          "August.2020",
          "December.2019",
          "December.2020",
          "February.2020",
          "January.2020",
          "July.2020",
          "June.2020",
          "March.2020",
          "May.2020",
          "November.2020",
          "October.2020",
          "September.2020",
          "August.2020",
          "February.2020",
          "March.2020",
          "September.2020",
          "April.2020",
          "August.2020",
          "December.2019",
          "December.2020",
          "February.2020",
          "January.2020",
          "June.2020",
          "March.2020",
          "October.2020",
          "September.2020",
          "April.2020",
          "August.2020",
          "December.2019",
          "December.2020",
          "February.2020",
          "January.2020",
          "July.2020",
          "June.2020",
          "March.2020",
          "May.2020",
          "November.2020",
          "October.2020",
          "September.2020",
          "December.2020",
          "April.2020",
          "August.2020",
          "December.2019",
          "December.2020",
          "February.2020",
          "January.2020",
          "July.2020",
          "June.2020",
          "March.2020",
          "May.2020",
          "November.2020",
          "October.2020",
          "September.2020",
          "June.2020",
          "April.2020",
          "August.2020",
          "December.2019",
          "December.2020",
          "February.2020",
          "January.2020",
          "July.2020",
          "June.2020",
          "March.2020",
          "May.2020",
          "November.2020",
          "October.2020",
          "September.2020",
          "June.2020",
          "April.2020",
          "July.2020",
          "May.2020",
          "November.2020",
          "October.2020",
          "September.2020",
          "August.2020",
          "February.2020",
          "January.2020",
          "March.2020",
          "July.2020",
          "June.2020",
          "November.2020",
          "October.2020",
          "September.2020",
          "April.2020",
          "August.2020",
          "December.2019",
          "December.2020",
          "February.2020",
          "January.2020",
          "July.2020",
          "June.2020",
          "March.2020",
          "May.2020",
          "November.2020",
          "October.2020",
          "September.2020",
          "July.2020",
          "October.2020",
          "April.2020",
          "August.2020",
          "December.2019",
          "December.2020",
          "February.2020",
          "January.2020",
          "July.2020",
          "June.2020",
          "March.2020",
          "May.2020",
          "November.2020",
          "October.2020",
          "September.2020",
          "April.2020",
          "August.2020",
          "December.2019",
          "December.2020",
          "February.2020",
          "January.2020",
          "July.2020",
          "June.2020",
          "March.2020",
          "May.2020",
          "November.2020",
          "October.2020",
          "September.2020",
          "",
          "",
          "",
          "",
          "",
          "",
          "",
          "",
          "",
          "",
          "",
          "",
          ""
         ],
         "textinfo": "label+text+value",
         "type": "treemap",
         "values": [
          9,
          5,
          4,
          6,
          10,
          11,
          10,
          5,
          6,
          4,
          8,
          7,
          10,
          27,
          13,
          3,
          32,
          20,
          18,
          22,
          12,
          26,
          27,
          28,
          35,
          19,
          2,
          4,
          6,
          1,
          5,
          8,
          6,
          11,
          9,
          5,
          9,
          7,
          6,
          12,
          16,
          8,
          5,
          24,
          22,
          9,
          24,
          21,
          38,
          16,
          24,
          24,
          23,
          43,
          30,
          39,
          1,
          2,
          1,
          4,
          3,
          14,
          11,
          7,
          7,
          14,
          5,
          2,
          1,
          18,
          14,
          1,
          1,
          2,
          2,
          1,
          1,
          1,
          2,
          3,
          9,
          6,
          1,
          8,
          1,
          3,
          8,
          8,
          9,
          8,
          28,
          23,
          12,
          8,
          23,
          4,
          11,
          9,
          9,
          2,
          3,
          1,
          4,
          5,
          8,
          3,
          1,
          1,
          4,
          2,
          2,
          2,
          3,
          1,
          10,
          18,
          1,
          19,
          5,
          9,
          14,
          7,
          1,
          6,
          21,
          14,
          11,
          1,
          1,
          2,
          1,
          2,
          3,
          1,
          1,
          1,
          1,
          1,
          5,
          1,
          4,
          6,
          5,
          3,
          1,
          2,
          6,
          11,
          6,
          1,
          1,
          12,
          3,
          2,
          3,
          5,
          1,
          1,
          5,
          13,
          4,
          9,
          6,
          11,
          7,
          2,
          2,
          5,
          13,
          11,
          5,
          5,
          13,
          4,
          9,
          5,
          11,
          7,
          2,
          2,
          5,
          13,
          11,
          5,
          105,
          108,
          64,
          145,
          147,
          157,
          121,
          78,
          120,
          93,
          182,
          155,
          122
         ]
        }
       ],
       "layout": {
        "coloraxis": {
         "cmid": 18672.58367564183,
         "colorbar": {
          "title": {
           "text": "withdrawn sum"
          }
         },
         "colorscale": [
          [
           0,
           "rgb(103,0,31)"
          ],
          [
           0.1,
           "rgb(178,24,43)"
          ],
          [
           0.2,
           "rgb(214,96,77)"
          ],
          [
           0.3,
           "rgb(244,165,130)"
          ],
          [
           0.4,
           "rgb(253,219,199)"
          ],
          [
           0.5,
           "rgb(247,247,247)"
          ],
          [
           0.6,
           "rgb(209,229,240)"
          ],
          [
           0.7,
           "rgb(146,197,222)"
          ],
          [
           0.8,
           "rgb(67,147,195)"
          ],
          [
           0.9,
           "rgb(33,102,172)"
          ],
          [
           1,
           "rgb(5,48,97)"
          ]
         ]
        },
        "legend": {
         "tracegroupgap": 0
        },
        "margin": {
         "t": 60
        },
        "template": {
         "data": {
          "bar": [
           {
            "error_x": {
             "color": "#2a3f5f"
            },
            "error_y": {
             "color": "#2a3f5f"
            },
            "marker": {
             "line": {
              "color": "#E5ECF6",
              "width": 0.5
             }
            },
            "type": "bar"
           }
          ],
          "barpolar": [
           {
            "marker": {
             "line": {
              "color": "#E5ECF6",
              "width": 0.5
             }
            },
            "type": "barpolar"
           }
          ],
          "carpet": [
           {
            "aaxis": {
             "endlinecolor": "#2a3f5f",
             "gridcolor": "white",
             "linecolor": "white",
             "minorgridcolor": "white",
             "startlinecolor": "#2a3f5f"
            },
            "baxis": {
             "endlinecolor": "#2a3f5f",
             "gridcolor": "white",
             "linecolor": "white",
             "minorgridcolor": "white",
             "startlinecolor": "#2a3f5f"
            },
            "type": "carpet"
           }
          ],
          "choropleth": [
           {
            "colorbar": {
             "outlinewidth": 0,
             "ticks": ""
            },
            "type": "choropleth"
           }
          ],
          "contour": [
           {
            "colorbar": {
             "outlinewidth": 0,
             "ticks": ""
            },
            "colorscale": [
             [
              0,
              "#0d0887"
             ],
             [
              0.1111111111111111,
              "#46039f"
             ],
             [
              0.2222222222222222,
              "#7201a8"
             ],
             [
              0.3333333333333333,
              "#9c179e"
             ],
             [
              0.4444444444444444,
              "#bd3786"
             ],
             [
              0.5555555555555556,
              "#d8576b"
             ],
             [
              0.6666666666666666,
              "#ed7953"
             ],
             [
              0.7777777777777778,
              "#fb9f3a"
             ],
             [
              0.8888888888888888,
              "#fdca26"
             ],
             [
              1,
              "#f0f921"
             ]
            ],
            "type": "contour"
           }
          ],
          "contourcarpet": [
           {
            "colorbar": {
             "outlinewidth": 0,
             "ticks": ""
            },
            "type": "contourcarpet"
           }
          ],
          "heatmap": [
           {
            "colorbar": {
             "outlinewidth": 0,
             "ticks": ""
            },
            "colorscale": [
             [
              0,
              "#0d0887"
             ],
             [
              0.1111111111111111,
              "#46039f"
             ],
             [
              0.2222222222222222,
              "#7201a8"
             ],
             [
              0.3333333333333333,
              "#9c179e"
             ],
             [
              0.4444444444444444,
              "#bd3786"
             ],
             [
              0.5555555555555556,
              "#d8576b"
             ],
             [
              0.6666666666666666,
              "#ed7953"
             ],
             [
              0.7777777777777778,
              "#fb9f3a"
             ],
             [
              0.8888888888888888,
              "#fdca26"
             ],
             [
              1,
              "#f0f921"
             ]
            ],
            "type": "heatmap"
           }
          ],
          "heatmapgl": [
           {
            "colorbar": {
             "outlinewidth": 0,
             "ticks": ""
            },
            "colorscale": [
             [
              0,
              "#0d0887"
             ],
             [
              0.1111111111111111,
              "#46039f"
             ],
             [
              0.2222222222222222,
              "#7201a8"
             ],
             [
              0.3333333333333333,
              "#9c179e"
             ],
             [
              0.4444444444444444,
              "#bd3786"
             ],
             [
              0.5555555555555556,
              "#d8576b"
             ],
             [
              0.6666666666666666,
              "#ed7953"
             ],
             [
              0.7777777777777778,
              "#fb9f3a"
             ],
             [
              0.8888888888888888,
              "#fdca26"
             ],
             [
              1,
              "#f0f921"
             ]
            ],
            "type": "heatmapgl"
           }
          ],
          "histogram": [
           {
            "marker": {
             "colorbar": {
              "outlinewidth": 0,
              "ticks": ""
             }
            },
            "type": "histogram"
           }
          ],
          "histogram2d": [
           {
            "colorbar": {
             "outlinewidth": 0,
             "ticks": ""
            },
            "colorscale": [
             [
              0,
              "#0d0887"
             ],
             [
              0.1111111111111111,
              "#46039f"
             ],
             [
              0.2222222222222222,
              "#7201a8"
             ],
             [
              0.3333333333333333,
              "#9c179e"
             ],
             [
              0.4444444444444444,
              "#bd3786"
             ],
             [
              0.5555555555555556,
              "#d8576b"
             ],
             [
              0.6666666666666666,
              "#ed7953"
             ],
             [
              0.7777777777777778,
              "#fb9f3a"
             ],
             [
              0.8888888888888888,
              "#fdca26"
             ],
             [
              1,
              "#f0f921"
             ]
            ],
            "type": "histogram2d"
           }
          ],
          "histogram2dcontour": [
           {
            "colorbar": {
             "outlinewidth": 0,
             "ticks": ""
            },
            "colorscale": [
             [
              0,
              "#0d0887"
             ],
             [
              0.1111111111111111,
              "#46039f"
             ],
             [
              0.2222222222222222,
              "#7201a8"
             ],
             [
              0.3333333333333333,
              "#9c179e"
             ],
             [
              0.4444444444444444,
              "#bd3786"
             ],
             [
              0.5555555555555556,
              "#d8576b"
             ],
             [
              0.6666666666666666,
              "#ed7953"
             ],
             [
              0.7777777777777778,
              "#fb9f3a"
             ],
             [
              0.8888888888888888,
              "#fdca26"
             ],
             [
              1,
              "#f0f921"
             ]
            ],
            "type": "histogram2dcontour"
           }
          ],
          "mesh3d": [
           {
            "colorbar": {
             "outlinewidth": 0,
             "ticks": ""
            },
            "type": "mesh3d"
           }
          ],
          "parcoords": [
           {
            "line": {
             "colorbar": {
              "outlinewidth": 0,
              "ticks": ""
             }
            },
            "type": "parcoords"
           }
          ],
          "pie": [
           {
            "automargin": true,
            "type": "pie"
           }
          ],
          "scatter": [
           {
            "marker": {
             "colorbar": {
              "outlinewidth": 0,
              "ticks": ""
             }
            },
            "type": "scatter"
           }
          ],
          "scatter3d": [
           {
            "line": {
             "colorbar": {
              "outlinewidth": 0,
              "ticks": ""
             }
            },
            "marker": {
             "colorbar": {
              "outlinewidth": 0,
              "ticks": ""
             }
            },
            "type": "scatter3d"
           }
          ],
          "scattercarpet": [
           {
            "marker": {
             "colorbar": {
              "outlinewidth": 0,
              "ticks": ""
             }
            },
            "type": "scattercarpet"
           }
          ],
          "scattergeo": [
           {
            "marker": {
             "colorbar": {
              "outlinewidth": 0,
              "ticks": ""
             }
            },
            "type": "scattergeo"
           }
          ],
          "scattergl": [
           {
            "marker": {
             "colorbar": {
              "outlinewidth": 0,
              "ticks": ""
             }
            },
            "type": "scattergl"
           }
          ],
          "scattermapbox": [
           {
            "marker": {
             "colorbar": {
              "outlinewidth": 0,
              "ticks": ""
             }
            },
            "type": "scattermapbox"
           }
          ],
          "scatterpolar": [
           {
            "marker": {
             "colorbar": {
              "outlinewidth": 0,
              "ticks": ""
             }
            },
            "type": "scatterpolar"
           }
          ],
          "scatterpolargl": [
           {
            "marker": {
             "colorbar": {
              "outlinewidth": 0,
              "ticks": ""
             }
            },
            "type": "scatterpolargl"
           }
          ],
          "scatterternary": [
           {
            "marker": {
             "colorbar": {
              "outlinewidth": 0,
              "ticks": ""
             }
            },
            "type": "scatterternary"
           }
          ],
          "surface": [
           {
            "colorbar": {
             "outlinewidth": 0,
             "ticks": ""
            },
            "colorscale": [
             [
              0,
              "#0d0887"
             ],
             [
              0.1111111111111111,
              "#46039f"
             ],
             [
              0.2222222222222222,
              "#7201a8"
             ],
             [
              0.3333333333333333,
              "#9c179e"
             ],
             [
              0.4444444444444444,
              "#bd3786"
             ],
             [
              0.5555555555555556,
              "#d8576b"
             ],
             [
              0.6666666666666666,
              "#ed7953"
             ],
             [
              0.7777777777777778,
              "#fb9f3a"
             ],
             [
              0.8888888888888888,
              "#fdca26"
             ],
             [
              1,
              "#f0f921"
             ]
            ],
            "type": "surface"
           }
          ],
          "table": [
           {
            "cells": {
             "fill": {
              "color": "#EBF0F8"
             },
             "line": {
              "color": "white"
             }
            },
            "header": {
             "fill": {
              "color": "#C8D4E3"
             },
             "line": {
              "color": "white"
             }
            },
            "type": "table"
           }
          ]
         },
         "layout": {
          "annotationdefaults": {
           "arrowcolor": "#2a3f5f",
           "arrowhead": 0,
           "arrowwidth": 1
          },
          "coloraxis": {
           "colorbar": {
            "outlinewidth": 0,
            "ticks": ""
           }
          },
          "colorscale": {
           "diverging": [
            [
             0,
             "#8e0152"
            ],
            [
             0.1,
             "#c51b7d"
            ],
            [
             0.2,
             "#de77ae"
            ],
            [
             0.3,
             "#f1b6da"
            ],
            [
             0.4,
             "#fde0ef"
            ],
            [
             0.5,
             "#f7f7f7"
            ],
            [
             0.6,
             "#e6f5d0"
            ],
            [
             0.7,
             "#b8e186"
            ],
            [
             0.8,
             "#7fbc41"
            ],
            [
             0.9,
             "#4d9221"
            ],
            [
             1,
             "#276419"
            ]
           ],
           "sequential": [
            [
             0,
             "#0d0887"
            ],
            [
             0.1111111111111111,
             "#46039f"
            ],
            [
             0.2222222222222222,
             "#7201a8"
            ],
            [
             0.3333333333333333,
             "#9c179e"
            ],
            [
             0.4444444444444444,
             "#bd3786"
            ],
            [
             0.5555555555555556,
             "#d8576b"
            ],
            [
             0.6666666666666666,
             "#ed7953"
            ],
            [
             0.7777777777777778,
             "#fb9f3a"
            ],
            [
             0.8888888888888888,
             "#fdca26"
            ],
            [
             1,
             "#f0f921"
            ]
           ],
           "sequentialminus": [
            [
             0,
             "#0d0887"
            ],
            [
             0.1111111111111111,
             "#46039f"
            ],
            [
             0.2222222222222222,
             "#7201a8"
            ],
            [
             0.3333333333333333,
             "#9c179e"
            ],
            [
             0.4444444444444444,
             "#bd3786"
            ],
            [
             0.5555555555555556,
             "#d8576b"
            ],
            [
             0.6666666666666666,
             "#ed7953"
            ],
            [
             0.7777777777777778,
             "#fb9f3a"
            ],
            [
             0.8888888888888888,
             "#fdca26"
            ],
            [
             1,
             "#f0f921"
            ]
           ]
          },
          "colorway": [
           "#636efa",
           "#EF553B",
           "#00cc96",
           "#ab63fa",
           "#FFA15A",
           "#19d3f3",
           "#FF6692",
           "#B6E880",
           "#FF97FF",
           "#FECB52"
          ],
          "font": {
           "color": "#2a3f5f"
          },
          "geo": {
           "bgcolor": "white",
           "lakecolor": "white",
           "landcolor": "#E5ECF6",
           "showlakes": true,
           "showland": true,
           "subunitcolor": "white"
          },
          "hoverlabel": {
           "align": "left"
          },
          "hovermode": "closest",
          "mapbox": {
           "style": "light"
          },
          "paper_bgcolor": "white",
          "plot_bgcolor": "#E5ECF6",
          "polar": {
           "angularaxis": {
            "gridcolor": "white",
            "linecolor": "white",
            "ticks": ""
           },
           "bgcolor": "#E5ECF6",
           "radialaxis": {
            "gridcolor": "white",
            "linecolor": "white",
            "ticks": ""
           }
          },
          "scene": {
           "xaxis": {
            "backgroundcolor": "#E5ECF6",
            "gridcolor": "white",
            "gridwidth": 2,
            "linecolor": "white",
            "showbackground": true,
            "ticks": "",
            "zerolinecolor": "white"
           },
           "yaxis": {
            "backgroundcolor": "#E5ECF6",
            "gridcolor": "white",
            "gridwidth": 2,
            "linecolor": "white",
            "showbackground": true,
            "ticks": "",
            "zerolinecolor": "white"
           },
           "zaxis": {
            "backgroundcolor": "#E5ECF6",
            "gridcolor": "white",
            "gridwidth": 2,
            "linecolor": "white",
            "showbackground": true,
            "ticks": "",
            "zerolinecolor": "white"
           }
          },
          "shapedefaults": {
           "line": {
            "color": "#2a3f5f"
           }
          },
          "ternary": {
           "aaxis": {
            "gridcolor": "white",
            "linecolor": "white",
            "ticks": ""
           },
           "baxis": {
            "gridcolor": "white",
            "linecolor": "white",
            "ticks": ""
           },
           "bgcolor": "#E5ECF6",
           "caxis": {
            "gridcolor": "white",
            "linecolor": "white",
            "ticks": ""
           }
          },
          "title": {
           "x": 0.05
          },
          "xaxis": {
           "automargin": true,
           "gridcolor": "white",
           "linecolor": "white",
           "ticks": "",
           "title": {
            "standoff": 15
           },
           "zerolinecolor": "white",
           "zerolinewidth": 2
          },
          "yaxis": {
           "automargin": true,
           "gridcolor": "white",
           "linecolor": "white",
           "ticks": "",
           "title": {
            "standoff": 15
           },
           "zerolinecolor": "white",
           "zerolinewidth": 2
          }
         }
        }
       }
      },
      "text/html": [
       "<div>\n",
       "        \n",
       "        \n",
       "            <div id=\"22be2f29-e547-4ce7-a859-7ca662b8f51f\" class=\"plotly-graph-div\" style=\"height:525px; width:100%;\"></div>\n",
       "            <script type=\"text/javascript\">\n",
       "                require([\"plotly\"], function(Plotly) {\n",
       "                    window.PLOTLYENV=window.PLOTLYENV || {};\n",
       "                    \n",
       "                if (document.getElementById(\"22be2f29-e547-4ce7-a859-7ca662b8f51f\")) {\n",
       "                    Plotly.newPlot(\n",
       "                        '22be2f29-e547-4ce7-a859-7ca662b8f51f',\n",
       "                        [{\"branchvalues\": \"total\", \"customdata\": [[785.0], [220.0], [2050.0], [550.0], [2370.0], [1250.0], [880.0], [410.0], [1450.0], [275.0], [655.0], [495.0], [920.0], [26954.0], [9843.0], [1500.0], [49861.0], [14966.0], [31947.0], [27262.0], [12392.0], [29693.0], [15874.0], [75475.0], [43682.0], [36720.0], [1999.0], [4797.0], [5045.0], [1000.0], [0.0], [0.0], [0.0], [0.0], [0.0], [0.0], [0.0], [0.0], [0.0], [0.0], [0.0], [0.0], [0.0], [41801.0], [26017.0], [34924.0], [31192.0], [35750.0], [35541.0], [32885.0], [29018.0], [35252.0], [26509.0], [56442.0], [55868.0], [35855.0], [0.0], [0.0], [0.0], [0.0], [0.0], [0.0], [0.0], [0.0], [0.0], [0.0], [0.0], [0.0], [0.0], [0.0], [0.0], [0.0], [0.0], [0.0], [0.0], [0.0], [300.0], [330.0], [13350.0], [1270.0], [12865.0], [8044.0], [3028.0], [6590.0], [500.0], [5280.0], [490.0], [364.0], [502.0], [359.0], [935.0], [734.0], [564.0], [384.0], [703.0], [230.0], [598.0], [522.0], [390.0], [0.0], [3873.0399999999995], [216.38], [3483.3100000000004], [4664.95], [22168.69], [13575.429999999998], [2001.23], [1954.41], [15226.92], [1147.51], [132.91], [1081.21], [2295.75], [10.0], [12737.0], [33912.0], [2500.0], [15200.0], [7031.0], [7607.0], [52030.0], [13578.0], [322.0], [9328.0], [30048.0], [15951.0], [15784.0], [3000.0], [25000.0], [18060.0], [2000.0], [38000.0], [51200.0], [5000.0], [0.0], [0.0], [0.0], [0.0], [0.0], [0.0], [0.0], [0.0], [0.0], [0.0], [0.0], [0.0], [0.0], [0.0], [0.0], [0.0], [0.0], [0.0], [0.0], [0.0], [0.0], [0.0], [0.0], [300.0], [302.0], [446.0], [324.0], [308.0], [301.0], [467.0], [367.0], [55.0], [112.0], [296.0], [683.0], [587.0], [162.0], [30350.0], [28200.0], [25800.0], [20600.0], [18700.0], [41350.0], [27850.0], [2500.0], [6650.0], [18500.0], [62700.0], [46500.0], [10700.0], [19614.439238095238], [15626.901666666665], [7549.394375], [19685.78448275862], [10494.785850340137], [16585.645159235668], [17401.258099173552], [12287.261666666667], [14761.739], [12844.817419354838], [33425.14736263736], [26521.976903225805], [19380.29713114754]], \"domain\": {\"x\": [0.0, 1.0], \"y\": [0.0, 1.0]}, \"hovertemplate\": \"%{label}<br>%{value}\", \"ids\": [\"April.2020/airtime\", \"August.2020/airtime\", \"December.2019/airtime\", \"December.2020/airtime\", \"February.2020/airtime\", \"January.2020/airtime\", \"July.2020/airtime\", \"June.2020/airtime\", \"March.2020/airtime\", \"May.2020/airtime\", \"November.2020/airtime\", \"October.2020/airtime\", \"September.2020/airtime\", \"April.2020/bill_payments\", \"August.2020/bill_payments\", \"December.2019/bill_payments\", \"December.2020/bill_payments\", \"February.2020/bill_payments\", \"January.2020/bill_payments\", \"July.2020/bill_payments\", \"June.2020/bill_payments\", \"March.2020/bill_payments\", \"May.2020/bill_payments\", \"November.2020/bill_payments\", \"October.2020/bill_payments\", \"September.2020/bill_payments\", \"December.2019/bundles\", \"February.2020/bundles\", \"January.2020/bundles\", \"March.2020/bundles\", \"April.2020/business_deposit\", \"August.2020/business_deposit\", \"December.2019/business_deposit\", \"December.2020/business_deposit\", \"February.2020/business_deposit\", \"January.2020/business_deposit\", \"July.2020/business_deposit\", \"June.2020/business_deposit\", \"March.2020/business_deposit\", \"May.2020/business_deposit\", \"November.2020/business_deposit\", \"October.2020/business_deposit\", \"September.2020/business_deposit\", \"April.2020/customer_transfer\", \"August.2020/customer_transfer\", \"December.2019/customer_transfer\", \"December.2020/customer_transfer\", \"February.2020/customer_transfer\", \"January.2020/customer_transfer\", \"July.2020/customer_transfer\", \"June.2020/customer_transfer\", \"March.2020/customer_transfer\", \"May.2020/customer_transfer\", \"November.2020/customer_transfer\", \"October.2020/customer_transfer\", \"September.2020/customer_transfer\", \"February.2020/deposit_promotion\", \"January.2020/deposit_promotion\", \"November.2020/deposit_promotion\", \"April.2020/deposit_sender\", \"August.2020/deposit_sender\", \"December.2019/deposit_sender\", \"December.2020/deposit_sender\", \"February.2020/deposit_sender\", \"January.2020/deposit_sender\", \"July.2020/deposit_sender\", \"June.2020/deposit_sender\", \"March.2020/deposit_sender\", \"May.2020/deposit_sender\", \"November.2020/deposit_sender\", \"October.2020/deposit_sender\", \"September.2020/deposit_sender\", \"August.2020/deposits\", \"February.2020/deposits\", \"March.2020/deposits\", \"September.2020/deposits\", \"April.2020/fuliza\", \"August.2020/fuliza\", \"December.2019/fuliza\", \"December.2020/fuliza\", \"February.2020/fuliza\", \"January.2020/fuliza\", \"June.2020/fuliza\", \"March.2020/fuliza\", \"October.2020/fuliza\", \"September.2020/fuliza\", \"April.2020/funds_charge\", \"August.2020/funds_charge\", \"December.2019/funds_charge\", \"December.2020/funds_charge\", \"February.2020/funds_charge\", \"January.2020/funds_charge\", \"July.2020/funds_charge\", \"June.2020/funds_charge\", \"March.2020/funds_charge\", \"May.2020/funds_charge\", \"November.2020/funds_charge\", \"October.2020/funds_charge\", \"September.2020/funds_charge\", \"December.2020/international_deposits\", \"April.2020/loan_payment\", \"August.2020/loan_payment\", \"December.2019/loan_payment\", \"December.2020/loan_payment\", \"February.2020/loan_payment\", \"January.2020/loan_payment\", \"July.2020/loan_payment\", \"June.2020/loan_payment\", \"March.2020/loan_payment\", \"May.2020/loan_payment\", \"November.2020/loan_payment\", \"October.2020/loan_payment\", \"September.2020/loan_payment\", \"June.2020/mechant_charges\", \"April.2020/merchant_payment\", \"August.2020/merchant_payment\", \"December.2019/merchant_payment\", \"December.2020/merchant_payment\", \"February.2020/merchant_payment\", \"January.2020/merchant_payment\", \"July.2020/merchant_payment\", \"June.2020/merchant_payment\", \"March.2020/merchant_payment\", \"May.2020/merchant_payment\", \"November.2020/merchant_payment\", \"October.2020/merchant_payment\", \"September.2020/merchant_payment\", \"June.2020/mshwari_deposit\", \"April.2020/mshwari_deposits\", \"July.2020/mshwari_deposits\", \"May.2020/mshwari_deposits\", \"November.2020/mshwari_deposits\", \"October.2020/mshwari_deposits\", \"September.2020/mshwari_deposits\", \"August.2020/mshwari_loan\", \"February.2020/mshwari_loan\", \"January.2020/mshwari_loan\", \"March.2020/mshwari_loan\", \"July.2020/mshwari_withdrawals \", \"June.2020/mshwari_withdrawals \", \"November.2020/mshwari_withdrawals \", \"October.2020/mshwari_withdrawals \", \"September.2020/mshwari_withdrawals \", \"April.2020/overdraft\", \"August.2020/overdraft\", \"December.2019/overdraft\", \"December.2020/overdraft\", \"February.2020/overdraft\", \"January.2020/overdraft\", \"July.2020/overdraft\", \"June.2020/overdraft\", \"March.2020/overdraft\", \"May.2020/overdraft\", \"November.2020/overdraft\", \"October.2020/overdraft\", \"September.2020/overdraft\", \"July.2020/reversal\", \"October.2020/reversal\", \"April.2020/withdrawal_charge\", \"August.2020/withdrawal_charge\", \"December.2019/withdrawal_charge\", \"December.2020/withdrawal_charge\", \"February.2020/withdrawal_charge\", \"January.2020/withdrawal_charge\", \"July.2020/withdrawal_charge\", \"June.2020/withdrawal_charge\", \"March.2020/withdrawal_charge\", \"May.2020/withdrawal_charge\", \"November.2020/withdrawal_charge\", \"October.2020/withdrawal_charge\", \"September.2020/withdrawal_charge\", \"April.2020/withdrawals\", \"August.2020/withdrawals\", \"December.2019/withdrawals\", \"December.2020/withdrawals\", \"February.2020/withdrawals\", \"January.2020/withdrawals\", \"July.2020/withdrawals\", \"June.2020/withdrawals\", \"March.2020/withdrawals\", \"May.2020/withdrawals\", \"November.2020/withdrawals\", \"October.2020/withdrawals\", \"September.2020/withdrawals\", \"April.2020\", \"August.2020\", \"December.2019\", \"December.2020\", \"February.2020\", \"January.2020\", \"July.2020\", \"June.2020\", \"March.2020\", \"May.2020\", \"November.2020\", \"October.2020\", \"September.2020\"], \"labels\": [\"airtime\", \"airtime\", \"airtime\", \"airtime\", \"airtime\", \"airtime\", \"airtime\", \"airtime\", \"airtime\", \"airtime\", \"airtime\", \"airtime\", \"airtime\", \"bill_payments\", \"bill_payments\", \"bill_payments\", \"bill_payments\", \"bill_payments\", \"bill_payments\", \"bill_payments\", \"bill_payments\", \"bill_payments\", \"bill_payments\", \"bill_payments\", \"bill_payments\", \"bill_payments\", \"bundles\", \"bundles\", \"bundles\", \"bundles\", \"business_deposit\", \"business_deposit\", \"business_deposit\", \"business_deposit\", \"business_deposit\", \"business_deposit\", \"business_deposit\", \"business_deposit\", \"business_deposit\", \"business_deposit\", \"business_deposit\", \"business_deposit\", \"business_deposit\", \"customer_transfer\", \"customer_transfer\", \"customer_transfer\", \"customer_transfer\", \"customer_transfer\", \"customer_transfer\", \"customer_transfer\", \"customer_transfer\", \"customer_transfer\", \"customer_transfer\", \"customer_transfer\", \"customer_transfer\", \"customer_transfer\", \"deposit_promotion\", \"deposit_promotion\", \"deposit_promotion\", \"deposit_sender\", \"deposit_sender\", \"deposit_sender\", \"deposit_sender\", \"deposit_sender\", \"deposit_sender\", \"deposit_sender\", \"deposit_sender\", \"deposit_sender\", \"deposit_sender\", \"deposit_sender\", \"deposit_sender\", \"deposit_sender\", \"deposits\", \"deposits\", \"deposits\", \"deposits\", \"fuliza\", \"fuliza\", \"fuliza\", \"fuliza\", \"fuliza\", \"fuliza\", \"fuliza\", \"fuliza\", \"fuliza\", \"fuliza\", \"funds_charge\", \"funds_charge\", \"funds_charge\", \"funds_charge\", \"funds_charge\", \"funds_charge\", \"funds_charge\", \"funds_charge\", \"funds_charge\", \"funds_charge\", \"funds_charge\", \"funds_charge\", \"funds_charge\", \"international_deposits\", \"loan_payment\", \"loan_payment\", \"loan_payment\", \"loan_payment\", \"loan_payment\", \"loan_payment\", \"loan_payment\", \"loan_payment\", \"loan_payment\", \"loan_payment\", \"loan_payment\", \"loan_payment\", \"loan_payment\", \"mechant_charges\", \"merchant_payment\", \"merchant_payment\", \"merchant_payment\", \"merchant_payment\", \"merchant_payment\", \"merchant_payment\", \"merchant_payment\", \"merchant_payment\", \"merchant_payment\", \"merchant_payment\", \"merchant_payment\", \"merchant_payment\", \"merchant_payment\", \"mshwari_deposit\", \"mshwari_deposits\", \"mshwari_deposits\", \"mshwari_deposits\", \"mshwari_deposits\", \"mshwari_deposits\", \"mshwari_deposits\", \"mshwari_loan\", \"mshwari_loan\", \"mshwari_loan\", \"mshwari_loan\", \"mshwari_withdrawals \", \"mshwari_withdrawals \", \"mshwari_withdrawals \", \"mshwari_withdrawals \", \"mshwari_withdrawals \", \"overdraft\", \"overdraft\", \"overdraft\", \"overdraft\", \"overdraft\", \"overdraft\", \"overdraft\", \"overdraft\", \"overdraft\", \"overdraft\", \"overdraft\", \"overdraft\", \"overdraft\", \"reversal\", \"reversal\", \"withdrawal_charge\", \"withdrawal_charge\", \"withdrawal_charge\", \"withdrawal_charge\", \"withdrawal_charge\", \"withdrawal_charge\", \"withdrawal_charge\", \"withdrawal_charge\", \"withdrawal_charge\", \"withdrawal_charge\", \"withdrawal_charge\", \"withdrawal_charge\", \"withdrawal_charge\", \"withdrawals\", \"withdrawals\", \"withdrawals\", \"withdrawals\", \"withdrawals\", \"withdrawals\", \"withdrawals\", \"withdrawals\", \"withdrawals\", \"withdrawals\", \"withdrawals\", \"withdrawals\", \"withdrawals\", \"April.2020\", \"August.2020\", \"December.2019\", \"December.2020\", \"February.2020\", \"January.2020\", \"July.2020\", \"June.2020\", \"March.2020\", \"May.2020\", \"November.2020\", \"October.2020\", \"September.2020\"], \"marker\": {\"coloraxis\": \"coloraxis\", \"colors\": [785.0, 220.0, 2050.0, 550.0, 2370.0, 1250.0, 880.0, 410.0, 1450.0, 275.0, 655.0, 495.0, 920.0, 26954.0, 9843.0, 1500.0, 49861.0, 14966.0, 31947.0, 27262.0, 12392.0, 29693.0, 15874.0, 75475.0, 43682.0, 36720.0, 1999.0, 4797.0, 5045.0, 1000.0, 0.0, 0.0, 0.0, 0.0, 0.0, 0.0, 0.0, 0.0, 0.0, 0.0, 0.0, 0.0, 0.0, 41801.0, 26017.0, 34924.0, 31192.0, 35750.0, 35541.0, 32885.0, 29018.0, 35252.0, 26509.0, 56442.0, 55868.0, 35855.0, 0.0, 0.0, 0.0, 0.0, 0.0, 0.0, 0.0, 0.0, 0.0, 0.0, 0.0, 0.0, 0.0, 0.0, 0.0, 0.0, 0.0, 0.0, 0.0, 0.0, 300.0, 330.0, 13350.0, 1270.0, 12865.0, 8044.0, 3028.0, 6590.0, 500.0, 5280.0, 490.0, 364.0, 502.0, 359.0, 935.0, 734.0, 564.0, 384.0, 703.0, 230.0, 598.0, 522.0, 390.0, 0.0, 3873.0399999999995, 216.38, 3483.3100000000004, 4664.95, 22168.69, 13575.429999999998, 2001.23, 1954.41, 15226.92, 1147.51, 132.91, 1081.21, 2295.75, 10.0, 12737.0, 33912.0, 2500.0, 15200.0, 7031.0, 7607.0, 52030.0, 13578.0, 322.0, 9328.0, 30048.0, 15951.0, 15784.0, 3000.0, 25000.0, 18060.0, 2000.0, 38000.0, 51200.0, 5000.0, 0.0, 0.0, 0.0, 0.0, 0.0, 0.0, 0.0, 0.0, 0.0, 0.0, 0.0, 0.0, 0.0, 0.0, 0.0, 0.0, 0.0, 0.0, 0.0, 0.0, 0.0, 0.0, 0.0, 300.0, 302.0, 446.0, 324.0, 308.0, 301.0, 467.0, 367.0, 55.0, 112.0, 296.0, 683.0, 587.0, 162.0, 30350.0, 28200.0, 25800.0, 20600.0, 18700.0, 41350.0, 27850.0, 2500.0, 6650.0, 18500.0, 62700.0, 46500.0, 10700.0, 19614.439238095238, 15626.901666666665, 7549.394375, 19685.78448275862, 10494.785850340137, 16585.645159235668, 17401.258099173552, 12287.261666666667, 14761.739, 12844.817419354838, 33425.14736263736, 26521.976903225805, 19380.29713114754]}, \"name\": \"\", \"parents\": [\"April.2020\", \"August.2020\", \"December.2019\", \"December.2020\", \"February.2020\", \"January.2020\", \"July.2020\", \"June.2020\", \"March.2020\", \"May.2020\", \"November.2020\", \"October.2020\", \"September.2020\", \"April.2020\", \"August.2020\", \"December.2019\", \"December.2020\", \"February.2020\", \"January.2020\", \"July.2020\", \"June.2020\", \"March.2020\", \"May.2020\", \"November.2020\", \"October.2020\", \"September.2020\", \"December.2019\", \"February.2020\", \"January.2020\", \"March.2020\", \"April.2020\", \"August.2020\", \"December.2019\", \"December.2020\", \"February.2020\", \"January.2020\", \"July.2020\", \"June.2020\", \"March.2020\", \"May.2020\", \"November.2020\", \"October.2020\", \"September.2020\", \"April.2020\", \"August.2020\", \"December.2019\", \"December.2020\", \"February.2020\", \"January.2020\", \"July.2020\", \"June.2020\", \"March.2020\", \"May.2020\", \"November.2020\", \"October.2020\", \"September.2020\", \"February.2020\", \"January.2020\", \"November.2020\", \"April.2020\", \"August.2020\", \"December.2019\", \"December.2020\", \"February.2020\", \"January.2020\", \"July.2020\", \"June.2020\", \"March.2020\", \"May.2020\", \"November.2020\", \"October.2020\", \"September.2020\", \"August.2020\", \"February.2020\", \"March.2020\", \"September.2020\", \"April.2020\", \"August.2020\", \"December.2019\", \"December.2020\", \"February.2020\", \"January.2020\", \"June.2020\", \"March.2020\", \"October.2020\", \"September.2020\", \"April.2020\", \"August.2020\", \"December.2019\", \"December.2020\", \"February.2020\", \"January.2020\", \"July.2020\", \"June.2020\", \"March.2020\", \"May.2020\", \"November.2020\", \"October.2020\", \"September.2020\", \"December.2020\", \"April.2020\", \"August.2020\", \"December.2019\", \"December.2020\", \"February.2020\", \"January.2020\", \"July.2020\", \"June.2020\", \"March.2020\", \"May.2020\", \"November.2020\", \"October.2020\", \"September.2020\", \"June.2020\", \"April.2020\", \"August.2020\", \"December.2019\", \"December.2020\", \"February.2020\", \"January.2020\", \"July.2020\", \"June.2020\", \"March.2020\", \"May.2020\", \"November.2020\", \"October.2020\", \"September.2020\", \"June.2020\", \"April.2020\", \"July.2020\", \"May.2020\", \"November.2020\", \"October.2020\", \"September.2020\", \"August.2020\", \"February.2020\", \"January.2020\", \"March.2020\", \"July.2020\", \"June.2020\", \"November.2020\", \"October.2020\", \"September.2020\", \"April.2020\", \"August.2020\", \"December.2019\", \"December.2020\", \"February.2020\", \"January.2020\", \"July.2020\", \"June.2020\", \"March.2020\", \"May.2020\", \"November.2020\", \"October.2020\", \"September.2020\", \"July.2020\", \"October.2020\", \"April.2020\", \"August.2020\", \"December.2019\", \"December.2020\", \"February.2020\", \"January.2020\", \"July.2020\", \"June.2020\", \"March.2020\", \"May.2020\", \"November.2020\", \"October.2020\", \"September.2020\", \"April.2020\", \"August.2020\", \"December.2019\", \"December.2020\", \"February.2020\", \"January.2020\", \"July.2020\", \"June.2020\", \"March.2020\", \"May.2020\", \"November.2020\", \"October.2020\", \"September.2020\", \"\", \"\", \"\", \"\", \"\", \"\", \"\", \"\", \"\", \"\", \"\", \"\", \"\"], \"textinfo\": \"label+text+value\", \"type\": \"treemap\", \"values\": [9, 5, 4, 6, 10, 11, 10, 5, 6, 4, 8, 7, 10, 27, 13, 3, 32, 20, 18, 22, 12, 26, 27, 28, 35, 19, 2, 4, 6, 1, 5, 8, 6, 11, 9, 5, 9, 7, 6, 12, 16, 8, 5, 24, 22, 9, 24, 21, 38, 16, 24, 24, 23, 43, 30, 39, 1, 2, 1, 4, 3, 14, 11, 7, 7, 14, 5, 2, 1, 18, 14, 1, 1, 2, 2, 1, 1, 1, 2, 3, 9, 6, 1, 8, 1, 3, 8, 8, 9, 8, 28, 23, 12, 8, 23, 4, 11, 9, 9, 2, 3, 1, 4, 5, 8, 3, 1, 1, 4, 2, 2, 2, 3, 1, 10, 18, 1, 19, 5, 9, 14, 7, 1, 6, 21, 14, 11, 1, 1, 2, 1, 2, 3, 1, 1, 1, 1, 1, 5, 1, 4, 6, 5, 3, 1, 2, 6, 11, 6, 1, 1, 12, 3, 2, 3, 5, 1, 1, 5, 13, 4, 9, 6, 11, 7, 2, 2, 5, 13, 11, 5, 5, 13, 4, 9, 5, 11, 7, 2, 2, 5, 13, 11, 5, 105, 108, 64, 145, 147, 157, 121, 78, 120, 93, 182, 155, 122]}],\n",
       "                        {\"coloraxis\": {\"cmid\": 18672.58367564183, \"colorbar\": {\"title\": {\"text\": \"withdrawn sum\"}}, \"colorscale\": [[0.0, \"rgb(103,0,31)\"], [0.1, \"rgb(178,24,43)\"], [0.2, \"rgb(214,96,77)\"], [0.3, \"rgb(244,165,130)\"], [0.4, \"rgb(253,219,199)\"], [0.5, \"rgb(247,247,247)\"], [0.6, \"rgb(209,229,240)\"], [0.7, \"rgb(146,197,222)\"], [0.8, \"rgb(67,147,195)\"], [0.9, \"rgb(33,102,172)\"], [1.0, \"rgb(5,48,97)\"]]}, \"legend\": {\"tracegroupgap\": 0}, \"margin\": {\"t\": 60}, \"template\": {\"data\": {\"bar\": [{\"error_x\": {\"color\": \"#2a3f5f\"}, \"error_y\": {\"color\": \"#2a3f5f\"}, \"marker\": {\"line\": {\"color\": \"#E5ECF6\", \"width\": 0.5}}, \"type\": \"bar\"}], \"barpolar\": [{\"marker\": {\"line\": {\"color\": \"#E5ECF6\", \"width\": 0.5}}, \"type\": \"barpolar\"}], \"carpet\": [{\"aaxis\": {\"endlinecolor\": \"#2a3f5f\", \"gridcolor\": \"white\", \"linecolor\": \"white\", \"minorgridcolor\": \"white\", \"startlinecolor\": \"#2a3f5f\"}, \"baxis\": {\"endlinecolor\": \"#2a3f5f\", \"gridcolor\": \"white\", \"linecolor\": \"white\", \"minorgridcolor\": \"white\", \"startlinecolor\": \"#2a3f5f\"}, \"type\": \"carpet\"}], \"choropleth\": [{\"colorbar\": {\"outlinewidth\": 0, \"ticks\": \"\"}, \"type\": \"choropleth\"}], \"contour\": [{\"colorbar\": {\"outlinewidth\": 0, \"ticks\": \"\"}, \"colorscale\": [[0.0, \"#0d0887\"], [0.1111111111111111, \"#46039f\"], [0.2222222222222222, \"#7201a8\"], [0.3333333333333333, \"#9c179e\"], [0.4444444444444444, \"#bd3786\"], [0.5555555555555556, \"#d8576b\"], [0.6666666666666666, \"#ed7953\"], [0.7777777777777778, \"#fb9f3a\"], [0.8888888888888888, \"#fdca26\"], [1.0, \"#f0f921\"]], \"type\": \"contour\"}], \"contourcarpet\": [{\"colorbar\": {\"outlinewidth\": 0, \"ticks\": \"\"}, \"type\": \"contourcarpet\"}], \"heatmap\": [{\"colorbar\": {\"outlinewidth\": 0, \"ticks\": \"\"}, \"colorscale\": [[0.0, \"#0d0887\"], [0.1111111111111111, \"#46039f\"], [0.2222222222222222, \"#7201a8\"], [0.3333333333333333, \"#9c179e\"], [0.4444444444444444, \"#bd3786\"], [0.5555555555555556, \"#d8576b\"], [0.6666666666666666, \"#ed7953\"], [0.7777777777777778, \"#fb9f3a\"], [0.8888888888888888, \"#fdca26\"], [1.0, \"#f0f921\"]], \"type\": \"heatmap\"}], \"heatmapgl\": [{\"colorbar\": {\"outlinewidth\": 0, \"ticks\": \"\"}, \"colorscale\": [[0.0, \"#0d0887\"], [0.1111111111111111, \"#46039f\"], [0.2222222222222222, \"#7201a8\"], [0.3333333333333333, \"#9c179e\"], [0.4444444444444444, \"#bd3786\"], [0.5555555555555556, \"#d8576b\"], [0.6666666666666666, \"#ed7953\"], [0.7777777777777778, \"#fb9f3a\"], [0.8888888888888888, \"#fdca26\"], [1.0, \"#f0f921\"]], \"type\": \"heatmapgl\"}], \"histogram\": [{\"marker\": {\"colorbar\": {\"outlinewidth\": 0, \"ticks\": \"\"}}, \"type\": \"histogram\"}], \"histogram2d\": [{\"colorbar\": {\"outlinewidth\": 0, \"ticks\": \"\"}, \"colorscale\": [[0.0, \"#0d0887\"], [0.1111111111111111, \"#46039f\"], [0.2222222222222222, \"#7201a8\"], [0.3333333333333333, \"#9c179e\"], [0.4444444444444444, \"#bd3786\"], [0.5555555555555556, \"#d8576b\"], [0.6666666666666666, \"#ed7953\"], [0.7777777777777778, \"#fb9f3a\"], [0.8888888888888888, \"#fdca26\"], [1.0, \"#f0f921\"]], \"type\": \"histogram2d\"}], \"histogram2dcontour\": [{\"colorbar\": {\"outlinewidth\": 0, \"ticks\": \"\"}, \"colorscale\": [[0.0, \"#0d0887\"], [0.1111111111111111, \"#46039f\"], [0.2222222222222222, \"#7201a8\"], [0.3333333333333333, \"#9c179e\"], [0.4444444444444444, \"#bd3786\"], [0.5555555555555556, \"#d8576b\"], [0.6666666666666666, \"#ed7953\"], [0.7777777777777778, \"#fb9f3a\"], [0.8888888888888888, \"#fdca26\"], [1.0, \"#f0f921\"]], \"type\": \"histogram2dcontour\"}], \"mesh3d\": [{\"colorbar\": {\"outlinewidth\": 0, \"ticks\": \"\"}, \"type\": \"mesh3d\"}], \"parcoords\": [{\"line\": {\"colorbar\": {\"outlinewidth\": 0, \"ticks\": \"\"}}, \"type\": \"parcoords\"}], \"pie\": [{\"automargin\": true, \"type\": \"pie\"}], \"scatter\": [{\"marker\": {\"colorbar\": {\"outlinewidth\": 0, \"ticks\": \"\"}}, \"type\": \"scatter\"}], \"scatter3d\": [{\"line\": {\"colorbar\": {\"outlinewidth\": 0, \"ticks\": \"\"}}, \"marker\": {\"colorbar\": {\"outlinewidth\": 0, \"ticks\": \"\"}}, \"type\": \"scatter3d\"}], \"scattercarpet\": [{\"marker\": {\"colorbar\": {\"outlinewidth\": 0, \"ticks\": \"\"}}, \"type\": \"scattercarpet\"}], \"scattergeo\": [{\"marker\": {\"colorbar\": {\"outlinewidth\": 0, \"ticks\": \"\"}}, \"type\": \"scattergeo\"}], \"scattergl\": [{\"marker\": {\"colorbar\": {\"outlinewidth\": 0, \"ticks\": \"\"}}, \"type\": \"scattergl\"}], \"scattermapbox\": [{\"marker\": {\"colorbar\": {\"outlinewidth\": 0, \"ticks\": \"\"}}, \"type\": \"scattermapbox\"}], \"scatterpolar\": [{\"marker\": {\"colorbar\": {\"outlinewidth\": 0, \"ticks\": \"\"}}, \"type\": \"scatterpolar\"}], \"scatterpolargl\": [{\"marker\": {\"colorbar\": {\"outlinewidth\": 0, \"ticks\": \"\"}}, \"type\": \"scatterpolargl\"}], \"scatterternary\": [{\"marker\": {\"colorbar\": {\"outlinewidth\": 0, \"ticks\": \"\"}}, \"type\": \"scatterternary\"}], \"surface\": [{\"colorbar\": {\"outlinewidth\": 0, \"ticks\": \"\"}, \"colorscale\": [[0.0, \"#0d0887\"], [0.1111111111111111, \"#46039f\"], [0.2222222222222222, \"#7201a8\"], [0.3333333333333333, \"#9c179e\"], [0.4444444444444444, \"#bd3786\"], [0.5555555555555556, \"#d8576b\"], [0.6666666666666666, \"#ed7953\"], [0.7777777777777778, \"#fb9f3a\"], [0.8888888888888888, \"#fdca26\"], [1.0, \"#f0f921\"]], \"type\": \"surface\"}], \"table\": [{\"cells\": {\"fill\": {\"color\": \"#EBF0F8\"}, \"line\": {\"color\": \"white\"}}, \"header\": {\"fill\": {\"color\": \"#C8D4E3\"}, \"line\": {\"color\": \"white\"}}, \"type\": \"table\"}]}, \"layout\": {\"annotationdefaults\": {\"arrowcolor\": \"#2a3f5f\", \"arrowhead\": 0, \"arrowwidth\": 1}, \"coloraxis\": {\"colorbar\": {\"outlinewidth\": 0, \"ticks\": \"\"}}, \"colorscale\": {\"diverging\": [[0, \"#8e0152\"], [0.1, \"#c51b7d\"], [0.2, \"#de77ae\"], [0.3, \"#f1b6da\"], [0.4, \"#fde0ef\"], [0.5, \"#f7f7f7\"], [0.6, \"#e6f5d0\"], [0.7, \"#b8e186\"], [0.8, \"#7fbc41\"], [0.9, \"#4d9221\"], [1, \"#276419\"]], \"sequential\": [[0.0, \"#0d0887\"], [0.1111111111111111, \"#46039f\"], [0.2222222222222222, \"#7201a8\"], [0.3333333333333333, \"#9c179e\"], [0.4444444444444444, \"#bd3786\"], [0.5555555555555556, \"#d8576b\"], [0.6666666666666666, \"#ed7953\"], [0.7777777777777778, \"#fb9f3a\"], [0.8888888888888888, \"#fdca26\"], [1.0, \"#f0f921\"]], \"sequentialminus\": [[0.0, \"#0d0887\"], [0.1111111111111111, \"#46039f\"], [0.2222222222222222, \"#7201a8\"], [0.3333333333333333, \"#9c179e\"], [0.4444444444444444, \"#bd3786\"], [0.5555555555555556, \"#d8576b\"], [0.6666666666666666, \"#ed7953\"], [0.7777777777777778, \"#fb9f3a\"], [0.8888888888888888, \"#fdca26\"], [1.0, \"#f0f921\"]]}, \"colorway\": [\"#636efa\", \"#EF553B\", \"#00cc96\", \"#ab63fa\", \"#FFA15A\", \"#19d3f3\", \"#FF6692\", \"#B6E880\", \"#FF97FF\", \"#FECB52\"], \"font\": {\"color\": \"#2a3f5f\"}, \"geo\": {\"bgcolor\": \"white\", \"lakecolor\": \"white\", \"landcolor\": \"#E5ECF6\", \"showlakes\": true, \"showland\": true, \"subunitcolor\": \"white\"}, \"hoverlabel\": {\"align\": \"left\"}, \"hovermode\": \"closest\", \"mapbox\": {\"style\": \"light\"}, \"paper_bgcolor\": \"white\", \"plot_bgcolor\": \"#E5ECF6\", \"polar\": {\"angularaxis\": {\"gridcolor\": \"white\", \"linecolor\": \"white\", \"ticks\": \"\"}, \"bgcolor\": \"#E5ECF6\", \"radialaxis\": {\"gridcolor\": \"white\", \"linecolor\": \"white\", \"ticks\": \"\"}}, \"scene\": {\"xaxis\": {\"backgroundcolor\": \"#E5ECF6\", \"gridcolor\": \"white\", \"gridwidth\": 2, \"linecolor\": \"white\", \"showbackground\": true, \"ticks\": \"\", \"zerolinecolor\": \"white\"}, \"yaxis\": {\"backgroundcolor\": \"#E5ECF6\", \"gridcolor\": \"white\", \"gridwidth\": 2, \"linecolor\": \"white\", \"showbackground\": true, \"ticks\": \"\", \"zerolinecolor\": \"white\"}, \"zaxis\": {\"backgroundcolor\": \"#E5ECF6\", \"gridcolor\": \"white\", \"gridwidth\": 2, \"linecolor\": \"white\", \"showbackground\": true, \"ticks\": \"\", \"zerolinecolor\": \"white\"}}, \"shapedefaults\": {\"line\": {\"color\": \"#2a3f5f\"}}, \"ternary\": {\"aaxis\": {\"gridcolor\": \"white\", \"linecolor\": \"white\", \"ticks\": \"\"}, \"baxis\": {\"gridcolor\": \"white\", \"linecolor\": \"white\", \"ticks\": \"\"}, \"bgcolor\": \"#E5ECF6\", \"caxis\": {\"gridcolor\": \"white\", \"linecolor\": \"white\", \"ticks\": \"\"}}, \"title\": {\"x\": 0.05}, \"xaxis\": {\"automargin\": true, \"gridcolor\": \"white\", \"linecolor\": \"white\", \"ticks\": \"\", \"title\": {\"standoff\": 15}, \"zerolinecolor\": \"white\", \"zerolinewidth\": 2}, \"yaxis\": {\"automargin\": true, \"gridcolor\": \"white\", \"linecolor\": \"white\", \"ticks\": \"\", \"title\": {\"standoff\": 15}, \"zerolinecolor\": \"white\", \"zerolinewidth\": 2}}}},\n",
       "                        {\"responsive\": true}\n",
       "                    ).then(function(){\n",
       "                            \n",
       "var gd = document.getElementById('22be2f29-e547-4ce7-a859-7ca662b8f51f');\n",
       "var x = new MutationObserver(function (mutations, observer) {{\n",
       "        var display = window.getComputedStyle(gd).display;\n",
       "        if (!display || display === 'none') {{\n",
       "            console.log([gd, 'removed!']);\n",
       "            Plotly.purge(gd);\n",
       "            observer.disconnect();\n",
       "        }}\n",
       "}});\n",
       "\n",
       "// Listen for the removal of the full notebook cells\n",
       "var notebookContainer = gd.closest('#notebook-container');\n",
       "if (notebookContainer) {{\n",
       "    x.observe(notebookContainer, {childList: true});\n",
       "}}\n",
       "\n",
       "// Listen for the clearing of the current output cell\n",
       "var outputEl = gd.closest('.output');\n",
       "if (outputEl) {{\n",
       "    x.observe(outputEl, {childList: true});\n",
       "}}\n",
       "\n",
       "                        })\n",
       "                };\n",
       "                });\n",
       "            </script>\n",
       "        </div>"
      ]
     },
     "metadata": {},
     "output_type": "display_data"
    }
   ],
   "source": [
    "\n",
    "fig =px.treemap(mpesa_agg, path=['transactions_cohort', 'transactions.group'], values='withdrawn count',\n",
    "                 color='withdrawn sum',color_continuous_scale='RdBu',\n",
    "                  color_continuous_midpoint=np.average(mpesa_agg['withdrawn sum'], weights=mpesa_agg['withdrawn count']))\n",
    "# this is what I don't like, accessing traces like this\n",
    "fig.data[0].textinfo = 'label+text+value'\n",
    "\n",
    "#fig.layout.hovertamplate = '%{label}<br>%{value}'\n",
    "fig.data[0].hovertemplate = '%{label}<br>%{value}'\n",
    "fig.show()"
   ]
  },
  {
   "cell_type": "code",
   "execution_count": 43,
   "metadata": {},
   "outputs": [
    {
     "data": {
      "application/vnd.plotly.v1+json": {
       "config": {
        "plotlyServerURL": "https://plot.ly"
       },
       "data": [
        {
         "branchvalues": "total",
         "domain": {
          "x": [
           0,
           1
          ],
          "y": [
           0,
           1
          ]
         },
         "hovertemplate": "%{label}<br>%{value}",
         "ids": [
          "April/airtime",
          "August/airtime",
          "December/airtime",
          "February/airtime",
          "January/airtime",
          "July/airtime",
          "June/airtime",
          "March/airtime",
          "May/airtime",
          "November/airtime",
          "October/airtime",
          "September/airtime",
          "April/bill_payments",
          "August/bill_payments",
          "December/bill_payments",
          "February/bill_payments",
          "January/bill_payments",
          "July/bill_payments",
          "June/bill_payments",
          "March/bill_payments",
          "May/bill_payments",
          "November/bill_payments",
          "October/bill_payments",
          "September/bill_payments",
          "December/bundles",
          "February/bundles",
          "January/bundles",
          "March/bundles",
          "April/business_deposit",
          "August/business_deposit",
          "December/business_deposit",
          "February/business_deposit",
          "January/business_deposit",
          "July/business_deposit",
          "June/business_deposit",
          "March/business_deposit",
          "May/business_deposit",
          "November/business_deposit",
          "October/business_deposit",
          "September/business_deposit",
          "April/customer_transfer",
          "August/customer_transfer",
          "December/customer_transfer",
          "February/customer_transfer",
          "January/customer_transfer",
          "July/customer_transfer",
          "June/customer_transfer",
          "March/customer_transfer",
          "May/customer_transfer",
          "November/customer_transfer",
          "October/customer_transfer",
          "September/customer_transfer",
          "February/deposit_promotion",
          "January/deposit_promotion",
          "November/deposit_promotion",
          "April/deposit_sender",
          "August/deposit_sender",
          "December/deposit_sender",
          "February/deposit_sender",
          "January/deposit_sender",
          "July/deposit_sender",
          "June/deposit_sender",
          "March/deposit_sender",
          "May/deposit_sender",
          "November/deposit_sender",
          "October/deposit_sender",
          "September/deposit_sender",
          "August/deposits",
          "February/deposits",
          "March/deposits",
          "September/deposits",
          "December/error",
          "April/fuliza",
          "August/fuliza",
          "December/fuliza",
          "February/fuliza",
          "January/fuliza",
          "June/fuliza",
          "March/fuliza",
          "October/fuliza",
          "September/fuliza",
          "April/funds_charge",
          "August/funds_charge",
          "December/funds_charge",
          "February/funds_charge",
          "January/funds_charge",
          "July/funds_charge",
          "June/funds_charge",
          "March/funds_charge",
          "May/funds_charge",
          "November/funds_charge",
          "October/funds_charge",
          "September/funds_charge",
          "April/loan_payment",
          "August/loan_payment",
          "December/loan_payment",
          "February/loan_payment",
          "January/loan_payment",
          "July/loan_payment",
          "June/loan_payment",
          "March/loan_payment",
          "May/loan_payment",
          "November/loan_payment",
          "October/loan_payment",
          "September/loan_payment",
          "June/mechant_charges",
          "April/merchant_payment",
          "August/merchant_payment",
          "December/merchant_payment",
          "February/merchant_payment",
          "January/merchant_payment",
          "July/merchant_payment",
          "June/merchant_payment",
          "March/merchant_payment",
          "May/merchant_payment",
          "November/merchant_payment",
          "October/merchant_payment",
          "September/merchant_payment",
          "June/mshwari_deposit",
          "April/mshwari_deposits",
          "July/mshwari_deposits",
          "May/mshwari_deposits",
          "November/mshwari_deposits",
          "October/mshwari_deposits",
          "September/mshwari_deposits",
          "August/mshwari_loan",
          "February/mshwari_loan",
          "January/mshwari_loan",
          "March/mshwari_loan",
          "July/mshwari_withdrawals ",
          "June/mshwari_withdrawals ",
          "November/mshwari_withdrawals ",
          "October/mshwari_withdrawals ",
          "September/mshwari_withdrawals ",
          "April/overdraft",
          "August/overdraft",
          "December/overdraft",
          "February/overdraft",
          "January/overdraft",
          "July/overdraft",
          "June/overdraft",
          "March/overdraft",
          "May/overdraft",
          "November/overdraft",
          "October/overdraft",
          "September/overdraft",
          "July/reversal",
          "October/reversal",
          "April/withdrawal_charge",
          "August/withdrawal_charge",
          "December/withdrawal_charge",
          "February/withdrawal_charge",
          "January/withdrawal_charge",
          "July/withdrawal_charge",
          "June/withdrawal_charge",
          "March/withdrawal_charge",
          "May/withdrawal_charge",
          "November/withdrawal_charge",
          "October/withdrawal_charge",
          "September/withdrawal_charge",
          "April/withdrawals",
          "August/withdrawals",
          "December/withdrawals",
          "February/withdrawals",
          "January/withdrawals",
          "July/withdrawals",
          "June/withdrawals",
          "March/withdrawals",
          "May/withdrawals",
          "November/withdrawals",
          "October/withdrawals",
          "September/withdrawals",
          "April",
          "August",
          "December",
          "February",
          "January",
          "July",
          "June",
          "March",
          "May",
          "November",
          "October",
          "September"
         ],
         "labels": [
          "airtime",
          "airtime",
          "airtime",
          "airtime",
          "airtime",
          "airtime",
          "airtime",
          "airtime",
          "airtime",
          "airtime",
          "airtime",
          "airtime",
          "bill_payments",
          "bill_payments",
          "bill_payments",
          "bill_payments",
          "bill_payments",
          "bill_payments",
          "bill_payments",
          "bill_payments",
          "bill_payments",
          "bill_payments",
          "bill_payments",
          "bill_payments",
          "bundles",
          "bundles",
          "bundles",
          "bundles",
          "business_deposit",
          "business_deposit",
          "business_deposit",
          "business_deposit",
          "business_deposit",
          "business_deposit",
          "business_deposit",
          "business_deposit",
          "business_deposit",
          "business_deposit",
          "business_deposit",
          "business_deposit",
          "customer_transfer",
          "customer_transfer",
          "customer_transfer",
          "customer_transfer",
          "customer_transfer",
          "customer_transfer",
          "customer_transfer",
          "customer_transfer",
          "customer_transfer",
          "customer_transfer",
          "customer_transfer",
          "customer_transfer",
          "deposit_promotion",
          "deposit_promotion",
          "deposit_promotion",
          "deposit_sender",
          "deposit_sender",
          "deposit_sender",
          "deposit_sender",
          "deposit_sender",
          "deposit_sender",
          "deposit_sender",
          "deposit_sender",
          "deposit_sender",
          "deposit_sender",
          "deposit_sender",
          "deposit_sender",
          "deposits",
          "deposits",
          "deposits",
          "deposits",
          "error",
          "fuliza",
          "fuliza",
          "fuliza",
          "fuliza",
          "fuliza",
          "fuliza",
          "fuliza",
          "fuliza",
          "fuliza",
          "funds_charge",
          "funds_charge",
          "funds_charge",
          "funds_charge",
          "funds_charge",
          "funds_charge",
          "funds_charge",
          "funds_charge",
          "funds_charge",
          "funds_charge",
          "funds_charge",
          "funds_charge",
          "loan_payment",
          "loan_payment",
          "loan_payment",
          "loan_payment",
          "loan_payment",
          "loan_payment",
          "loan_payment",
          "loan_payment",
          "loan_payment",
          "loan_payment",
          "loan_payment",
          "loan_payment",
          "mechant_charges",
          "merchant_payment",
          "merchant_payment",
          "merchant_payment",
          "merchant_payment",
          "merchant_payment",
          "merchant_payment",
          "merchant_payment",
          "merchant_payment",
          "merchant_payment",
          "merchant_payment",
          "merchant_payment",
          "merchant_payment",
          "mshwari_deposit",
          "mshwari_deposits",
          "mshwari_deposits",
          "mshwari_deposits",
          "mshwari_deposits",
          "mshwari_deposits",
          "mshwari_deposits",
          "mshwari_loan",
          "mshwari_loan",
          "mshwari_loan",
          "mshwari_loan",
          "mshwari_withdrawals ",
          "mshwari_withdrawals ",
          "mshwari_withdrawals ",
          "mshwari_withdrawals ",
          "mshwari_withdrawals ",
          "overdraft",
          "overdraft",
          "overdraft",
          "overdraft",
          "overdraft",
          "overdraft",
          "overdraft",
          "overdraft",
          "overdraft",
          "overdraft",
          "overdraft",
          "overdraft",
          "reversal",
          "reversal",
          "withdrawal_charge",
          "withdrawal_charge",
          "withdrawal_charge",
          "withdrawal_charge",
          "withdrawal_charge",
          "withdrawal_charge",
          "withdrawal_charge",
          "withdrawal_charge",
          "withdrawal_charge",
          "withdrawal_charge",
          "withdrawal_charge",
          "withdrawal_charge",
          "withdrawals",
          "withdrawals",
          "withdrawals",
          "withdrawals",
          "withdrawals",
          "withdrawals",
          "withdrawals",
          "withdrawals",
          "withdrawals",
          "withdrawals",
          "withdrawals",
          "withdrawals",
          "April",
          "August",
          "December",
          "February",
          "January",
          "July",
          "June",
          "March",
          "May",
          "November",
          "October",
          "September"
         ],
         "name": "",
         "parents": [
          "April",
          "August",
          "December",
          "February",
          "January",
          "July",
          "June",
          "March",
          "May",
          "November",
          "October",
          "September",
          "April",
          "August",
          "December",
          "February",
          "January",
          "July",
          "June",
          "March",
          "May",
          "November",
          "October",
          "September",
          "December",
          "February",
          "January",
          "March",
          "April",
          "August",
          "December",
          "February",
          "January",
          "July",
          "June",
          "March",
          "May",
          "November",
          "October",
          "September",
          "April",
          "August",
          "December",
          "February",
          "January",
          "July",
          "June",
          "March",
          "May",
          "November",
          "October",
          "September",
          "February",
          "January",
          "November",
          "April",
          "August",
          "December",
          "February",
          "January",
          "July",
          "June",
          "March",
          "May",
          "November",
          "October",
          "September",
          "August",
          "February",
          "March",
          "September",
          "December",
          "April",
          "August",
          "December",
          "February",
          "January",
          "June",
          "March",
          "October",
          "September",
          "April",
          "August",
          "December",
          "February",
          "January",
          "July",
          "June",
          "March",
          "May",
          "November",
          "October",
          "September",
          "April",
          "August",
          "December",
          "February",
          "January",
          "July",
          "June",
          "March",
          "May",
          "November",
          "October",
          "September",
          "June",
          "April",
          "August",
          "December",
          "February",
          "January",
          "July",
          "June",
          "March",
          "May",
          "November",
          "October",
          "September",
          "June",
          "April",
          "July",
          "May",
          "November",
          "October",
          "September",
          "August",
          "February",
          "January",
          "March",
          "July",
          "June",
          "November",
          "October",
          "September",
          "April",
          "August",
          "December",
          "February",
          "January",
          "July",
          "June",
          "March",
          "May",
          "November",
          "October",
          "September",
          "July",
          "October",
          "April",
          "August",
          "December",
          "February",
          "January",
          "July",
          "June",
          "March",
          "May",
          "November",
          "October",
          "September",
          "April",
          "August",
          "December",
          "February",
          "January",
          "July",
          "June",
          "March",
          "May",
          "November",
          "October",
          "September",
          "",
          "",
          "",
          "",
          "",
          "",
          "",
          "",
          "",
          "",
          "",
          ""
         ],
         "textinfo": "label+text+value",
         "type": "treemap",
         "values": [
          785,
          220,
          2600,
          2370,
          1250,
          880,
          410,
          1450,
          275,
          655,
          495,
          920,
          26954,
          9843,
          51361,
          14966,
          31947,
          27262,
          12392,
          29693,
          15874,
          75475,
          43682,
          36720,
          1999,
          4797,
          5045,
          1000,
          0,
          0,
          0,
          0,
          0,
          0,
          0,
          0,
          0,
          0,
          0,
          0,
          41801,
          26017,
          66116,
          35750,
          35541,
          32885,
          29018,
          35252,
          26509,
          56442,
          55868,
          35855,
          0,
          0,
          0,
          0,
          0,
          0,
          0,
          0,
          0,
          0,
          0,
          0,
          0,
          0,
          0,
          0,
          0,
          0,
          0,
          0,
          300,
          330,
          14620,
          12865,
          8044,
          3028,
          6590,
          500,
          5280,
          490,
          364,
          861,
          935,
          734,
          564,
          384,
          703,
          230,
          598,
          522,
          390,
          3873.04,
          216.38,
          8148.259999999999,
          22168.69,
          13575.429999999998,
          2001.23,
          1954.41,
          15226.92,
          1147.51,
          132.91,
          1081.21,
          2295.75,
          10,
          12737,
          33912,
          17700,
          7031,
          7607,
          52030,
          13578,
          322,
          9328,
          30048,
          15951,
          15784,
          3000,
          25000,
          18060,
          2000,
          38000,
          51200,
          5000,
          0,
          0,
          0,
          0,
          0,
          0,
          0,
          0,
          0,
          0,
          0,
          0,
          0,
          0,
          0,
          0,
          0,
          0,
          0,
          0,
          0,
          0,
          300,
          302,
          446,
          632,
          301,
          467,
          367,
          55,
          112,
          296,
          683,
          587,
          162,
          30350,
          28200,
          46400,
          18700,
          41350,
          27850,
          2500,
          6650,
          18500,
          62700,
          46500,
          10700,
          142592.03999999998,
          99548.38,
          210437.26,
          119883.69,
          145560.43,
          161899.23,
          66329.41,
          96998.92,
          74159.51000000001,
          264733.91000000003,
          216686.21000000002,
          113106.75
         ]
        }
       ],
       "layout": {
        "legend": {
         "tracegroupgap": 0
        },
        "margin": {
         "t": 60
        },
        "template": {
         "data": {
          "bar": [
           {
            "error_x": {
             "color": "#2a3f5f"
            },
            "error_y": {
             "color": "#2a3f5f"
            },
            "marker": {
             "line": {
              "color": "#E5ECF6",
              "width": 0.5
             }
            },
            "type": "bar"
           }
          ],
          "barpolar": [
           {
            "marker": {
             "line": {
              "color": "#E5ECF6",
              "width": 0.5
             }
            },
            "type": "barpolar"
           }
          ],
          "carpet": [
           {
            "aaxis": {
             "endlinecolor": "#2a3f5f",
             "gridcolor": "white",
             "linecolor": "white",
             "minorgridcolor": "white",
             "startlinecolor": "#2a3f5f"
            },
            "baxis": {
             "endlinecolor": "#2a3f5f",
             "gridcolor": "white",
             "linecolor": "white",
             "minorgridcolor": "white",
             "startlinecolor": "#2a3f5f"
            },
            "type": "carpet"
           }
          ],
          "choropleth": [
           {
            "colorbar": {
             "outlinewidth": 0,
             "ticks": ""
            },
            "type": "choropleth"
           }
          ],
          "contour": [
           {
            "colorbar": {
             "outlinewidth": 0,
             "ticks": ""
            },
            "colorscale": [
             [
              0,
              "#0d0887"
             ],
             [
              0.1111111111111111,
              "#46039f"
             ],
             [
              0.2222222222222222,
              "#7201a8"
             ],
             [
              0.3333333333333333,
              "#9c179e"
             ],
             [
              0.4444444444444444,
              "#bd3786"
             ],
             [
              0.5555555555555556,
              "#d8576b"
             ],
             [
              0.6666666666666666,
              "#ed7953"
             ],
             [
              0.7777777777777778,
              "#fb9f3a"
             ],
             [
              0.8888888888888888,
              "#fdca26"
             ],
             [
              1,
              "#f0f921"
             ]
            ],
            "type": "contour"
           }
          ],
          "contourcarpet": [
           {
            "colorbar": {
             "outlinewidth": 0,
             "ticks": ""
            },
            "type": "contourcarpet"
           }
          ],
          "heatmap": [
           {
            "colorbar": {
             "outlinewidth": 0,
             "ticks": ""
            },
            "colorscale": [
             [
              0,
              "#0d0887"
             ],
             [
              0.1111111111111111,
              "#46039f"
             ],
             [
              0.2222222222222222,
              "#7201a8"
             ],
             [
              0.3333333333333333,
              "#9c179e"
             ],
             [
              0.4444444444444444,
              "#bd3786"
             ],
             [
              0.5555555555555556,
              "#d8576b"
             ],
             [
              0.6666666666666666,
              "#ed7953"
             ],
             [
              0.7777777777777778,
              "#fb9f3a"
             ],
             [
              0.8888888888888888,
              "#fdca26"
             ],
             [
              1,
              "#f0f921"
             ]
            ],
            "type": "heatmap"
           }
          ],
          "heatmapgl": [
           {
            "colorbar": {
             "outlinewidth": 0,
             "ticks": ""
            },
            "colorscale": [
             [
              0,
              "#0d0887"
             ],
             [
              0.1111111111111111,
              "#46039f"
             ],
             [
              0.2222222222222222,
              "#7201a8"
             ],
             [
              0.3333333333333333,
              "#9c179e"
             ],
             [
              0.4444444444444444,
              "#bd3786"
             ],
             [
              0.5555555555555556,
              "#d8576b"
             ],
             [
              0.6666666666666666,
              "#ed7953"
             ],
             [
              0.7777777777777778,
              "#fb9f3a"
             ],
             [
              0.8888888888888888,
              "#fdca26"
             ],
             [
              1,
              "#f0f921"
             ]
            ],
            "type": "heatmapgl"
           }
          ],
          "histogram": [
           {
            "marker": {
             "colorbar": {
              "outlinewidth": 0,
              "ticks": ""
             }
            },
            "type": "histogram"
           }
          ],
          "histogram2d": [
           {
            "colorbar": {
             "outlinewidth": 0,
             "ticks": ""
            },
            "colorscale": [
             [
              0,
              "#0d0887"
             ],
             [
              0.1111111111111111,
              "#46039f"
             ],
             [
              0.2222222222222222,
              "#7201a8"
             ],
             [
              0.3333333333333333,
              "#9c179e"
             ],
             [
              0.4444444444444444,
              "#bd3786"
             ],
             [
              0.5555555555555556,
              "#d8576b"
             ],
             [
              0.6666666666666666,
              "#ed7953"
             ],
             [
              0.7777777777777778,
              "#fb9f3a"
             ],
             [
              0.8888888888888888,
              "#fdca26"
             ],
             [
              1,
              "#f0f921"
             ]
            ],
            "type": "histogram2d"
           }
          ],
          "histogram2dcontour": [
           {
            "colorbar": {
             "outlinewidth": 0,
             "ticks": ""
            },
            "colorscale": [
             [
              0,
              "#0d0887"
             ],
             [
              0.1111111111111111,
              "#46039f"
             ],
             [
              0.2222222222222222,
              "#7201a8"
             ],
             [
              0.3333333333333333,
              "#9c179e"
             ],
             [
              0.4444444444444444,
              "#bd3786"
             ],
             [
              0.5555555555555556,
              "#d8576b"
             ],
             [
              0.6666666666666666,
              "#ed7953"
             ],
             [
              0.7777777777777778,
              "#fb9f3a"
             ],
             [
              0.8888888888888888,
              "#fdca26"
             ],
             [
              1,
              "#f0f921"
             ]
            ],
            "type": "histogram2dcontour"
           }
          ],
          "mesh3d": [
           {
            "colorbar": {
             "outlinewidth": 0,
             "ticks": ""
            },
            "type": "mesh3d"
           }
          ],
          "parcoords": [
           {
            "line": {
             "colorbar": {
              "outlinewidth": 0,
              "ticks": ""
             }
            },
            "type": "parcoords"
           }
          ],
          "pie": [
           {
            "automargin": true,
            "type": "pie"
           }
          ],
          "scatter": [
           {
            "marker": {
             "colorbar": {
              "outlinewidth": 0,
              "ticks": ""
             }
            },
            "type": "scatter"
           }
          ],
          "scatter3d": [
           {
            "line": {
             "colorbar": {
              "outlinewidth": 0,
              "ticks": ""
             }
            },
            "marker": {
             "colorbar": {
              "outlinewidth": 0,
              "ticks": ""
             }
            },
            "type": "scatter3d"
           }
          ],
          "scattercarpet": [
           {
            "marker": {
             "colorbar": {
              "outlinewidth": 0,
              "ticks": ""
             }
            },
            "type": "scattercarpet"
           }
          ],
          "scattergeo": [
           {
            "marker": {
             "colorbar": {
              "outlinewidth": 0,
              "ticks": ""
             }
            },
            "type": "scattergeo"
           }
          ],
          "scattergl": [
           {
            "marker": {
             "colorbar": {
              "outlinewidth": 0,
              "ticks": ""
             }
            },
            "type": "scattergl"
           }
          ],
          "scattermapbox": [
           {
            "marker": {
             "colorbar": {
              "outlinewidth": 0,
              "ticks": ""
             }
            },
            "type": "scattermapbox"
           }
          ],
          "scatterpolar": [
           {
            "marker": {
             "colorbar": {
              "outlinewidth": 0,
              "ticks": ""
             }
            },
            "type": "scatterpolar"
           }
          ],
          "scatterpolargl": [
           {
            "marker": {
             "colorbar": {
              "outlinewidth": 0,
              "ticks": ""
             }
            },
            "type": "scatterpolargl"
           }
          ],
          "scatterternary": [
           {
            "marker": {
             "colorbar": {
              "outlinewidth": 0,
              "ticks": ""
             }
            },
            "type": "scatterternary"
           }
          ],
          "surface": [
           {
            "colorbar": {
             "outlinewidth": 0,
             "ticks": ""
            },
            "colorscale": [
             [
              0,
              "#0d0887"
             ],
             [
              0.1111111111111111,
              "#46039f"
             ],
             [
              0.2222222222222222,
              "#7201a8"
             ],
             [
              0.3333333333333333,
              "#9c179e"
             ],
             [
              0.4444444444444444,
              "#bd3786"
             ],
             [
              0.5555555555555556,
              "#d8576b"
             ],
             [
              0.6666666666666666,
              "#ed7953"
             ],
             [
              0.7777777777777778,
              "#fb9f3a"
             ],
             [
              0.8888888888888888,
              "#fdca26"
             ],
             [
              1,
              "#f0f921"
             ]
            ],
            "type": "surface"
           }
          ],
          "table": [
           {
            "cells": {
             "fill": {
              "color": "#EBF0F8"
             },
             "line": {
              "color": "white"
             }
            },
            "header": {
             "fill": {
              "color": "#C8D4E3"
             },
             "line": {
              "color": "white"
             }
            },
            "type": "table"
           }
          ]
         },
         "layout": {
          "annotationdefaults": {
           "arrowcolor": "#2a3f5f",
           "arrowhead": 0,
           "arrowwidth": 1
          },
          "coloraxis": {
           "colorbar": {
            "outlinewidth": 0,
            "ticks": ""
           }
          },
          "colorscale": {
           "diverging": [
            [
             0,
             "#8e0152"
            ],
            [
             0.1,
             "#c51b7d"
            ],
            [
             0.2,
             "#de77ae"
            ],
            [
             0.3,
             "#f1b6da"
            ],
            [
             0.4,
             "#fde0ef"
            ],
            [
             0.5,
             "#f7f7f7"
            ],
            [
             0.6,
             "#e6f5d0"
            ],
            [
             0.7,
             "#b8e186"
            ],
            [
             0.8,
             "#7fbc41"
            ],
            [
             0.9,
             "#4d9221"
            ],
            [
             1,
             "#276419"
            ]
           ],
           "sequential": [
            [
             0,
             "#0d0887"
            ],
            [
             0.1111111111111111,
             "#46039f"
            ],
            [
             0.2222222222222222,
             "#7201a8"
            ],
            [
             0.3333333333333333,
             "#9c179e"
            ],
            [
             0.4444444444444444,
             "#bd3786"
            ],
            [
             0.5555555555555556,
             "#d8576b"
            ],
            [
             0.6666666666666666,
             "#ed7953"
            ],
            [
             0.7777777777777778,
             "#fb9f3a"
            ],
            [
             0.8888888888888888,
             "#fdca26"
            ],
            [
             1,
             "#f0f921"
            ]
           ],
           "sequentialminus": [
            [
             0,
             "#0d0887"
            ],
            [
             0.1111111111111111,
             "#46039f"
            ],
            [
             0.2222222222222222,
             "#7201a8"
            ],
            [
             0.3333333333333333,
             "#9c179e"
            ],
            [
             0.4444444444444444,
             "#bd3786"
            ],
            [
             0.5555555555555556,
             "#d8576b"
            ],
            [
             0.6666666666666666,
             "#ed7953"
            ],
            [
             0.7777777777777778,
             "#fb9f3a"
            ],
            [
             0.8888888888888888,
             "#fdca26"
            ],
            [
             1,
             "#f0f921"
            ]
           ]
          },
          "colorway": [
           "#636efa",
           "#EF553B",
           "#00cc96",
           "#ab63fa",
           "#FFA15A",
           "#19d3f3",
           "#FF6692",
           "#B6E880",
           "#FF97FF",
           "#FECB52"
          ],
          "font": {
           "color": "#2a3f5f"
          },
          "geo": {
           "bgcolor": "white",
           "lakecolor": "white",
           "landcolor": "#E5ECF6",
           "showlakes": true,
           "showland": true,
           "subunitcolor": "white"
          },
          "hoverlabel": {
           "align": "left"
          },
          "hovermode": "closest",
          "mapbox": {
           "style": "light"
          },
          "paper_bgcolor": "white",
          "plot_bgcolor": "#E5ECF6",
          "polar": {
           "angularaxis": {
            "gridcolor": "white",
            "linecolor": "white",
            "ticks": ""
           },
           "bgcolor": "#E5ECF6",
           "radialaxis": {
            "gridcolor": "white",
            "linecolor": "white",
            "ticks": ""
           }
          },
          "scene": {
           "xaxis": {
            "backgroundcolor": "#E5ECF6",
            "gridcolor": "white",
            "gridwidth": 2,
            "linecolor": "white",
            "showbackground": true,
            "ticks": "",
            "zerolinecolor": "white"
           },
           "yaxis": {
            "backgroundcolor": "#E5ECF6",
            "gridcolor": "white",
            "gridwidth": 2,
            "linecolor": "white",
            "showbackground": true,
            "ticks": "",
            "zerolinecolor": "white"
           },
           "zaxis": {
            "backgroundcolor": "#E5ECF6",
            "gridcolor": "white",
            "gridwidth": 2,
            "linecolor": "white",
            "showbackground": true,
            "ticks": "",
            "zerolinecolor": "white"
           }
          },
          "shapedefaults": {
           "line": {
            "color": "#2a3f5f"
           }
          },
          "ternary": {
           "aaxis": {
            "gridcolor": "white",
            "linecolor": "white",
            "ticks": ""
           },
           "baxis": {
            "gridcolor": "white",
            "linecolor": "white",
            "ticks": ""
           },
           "bgcolor": "#E5ECF6",
           "caxis": {
            "gridcolor": "white",
            "linecolor": "white",
            "ticks": ""
           }
          },
          "title": {
           "x": 0.05
          },
          "xaxis": {
           "automargin": true,
           "gridcolor": "white",
           "linecolor": "white",
           "ticks": "",
           "title": {
            "standoff": 15
           },
           "zerolinecolor": "white",
           "zerolinewidth": 2
          },
          "yaxis": {
           "automargin": true,
           "gridcolor": "white",
           "linecolor": "white",
           "ticks": "",
           "title": {
            "standoff": 15
           },
           "zerolinecolor": "white",
           "zerolinewidth": 2
          }
         }
        }
       }
      },
      "text/html": [
       "<div>\n",
       "        \n",
       "        \n",
       "            <div id=\"edf2bfe8-5f2f-4183-a8ac-3e187285252b\" class=\"plotly-graph-div\" style=\"height:525px; width:100%;\"></div>\n",
       "            <script type=\"text/javascript\">\n",
       "                require([\"plotly\"], function(Plotly) {\n",
       "                    window.PLOTLYENV=window.PLOTLYENV || {};\n",
       "                    \n",
       "                if (document.getElementById(\"edf2bfe8-5f2f-4183-a8ac-3e187285252b\")) {\n",
       "                    Plotly.newPlot(\n",
       "                        'edf2bfe8-5f2f-4183-a8ac-3e187285252b',\n",
       "                        [{\"branchvalues\": \"total\", \"domain\": {\"x\": [0.0, 1.0], \"y\": [0.0, 1.0]}, \"hovertemplate\": \"%{label}<br>%{value}\", \"ids\": [\"April/airtime\", \"August/airtime\", \"December/airtime\", \"February/airtime\", \"January/airtime\", \"July/airtime\", \"June/airtime\", \"March/airtime\", \"May/airtime\", \"November/airtime\", \"October/airtime\", \"September/airtime\", \"April/bill_payments\", \"August/bill_payments\", \"December/bill_payments\", \"February/bill_payments\", \"January/bill_payments\", \"July/bill_payments\", \"June/bill_payments\", \"March/bill_payments\", \"May/bill_payments\", \"November/bill_payments\", \"October/bill_payments\", \"September/bill_payments\", \"December/bundles\", \"February/bundles\", \"January/bundles\", \"March/bundles\", \"April/business_deposit\", \"August/business_deposit\", \"December/business_deposit\", \"February/business_deposit\", \"January/business_deposit\", \"July/business_deposit\", \"June/business_deposit\", \"March/business_deposit\", \"May/business_deposit\", \"November/business_deposit\", \"October/business_deposit\", \"September/business_deposit\", \"April/customer_transfer\", \"August/customer_transfer\", \"December/customer_transfer\", \"February/customer_transfer\", \"January/customer_transfer\", \"July/customer_transfer\", \"June/customer_transfer\", \"March/customer_transfer\", \"May/customer_transfer\", \"November/customer_transfer\", \"October/customer_transfer\", \"September/customer_transfer\", \"February/deposit_promotion\", \"January/deposit_promotion\", \"November/deposit_promotion\", \"April/deposit_sender\", \"August/deposit_sender\", \"December/deposit_sender\", \"February/deposit_sender\", \"January/deposit_sender\", \"July/deposit_sender\", \"June/deposit_sender\", \"March/deposit_sender\", \"May/deposit_sender\", \"November/deposit_sender\", \"October/deposit_sender\", \"September/deposit_sender\", \"August/deposits\", \"February/deposits\", \"March/deposits\", \"September/deposits\", \"December/error\", \"April/fuliza\", \"August/fuliza\", \"December/fuliza\", \"February/fuliza\", \"January/fuliza\", \"June/fuliza\", \"March/fuliza\", \"October/fuliza\", \"September/fuliza\", \"April/funds_charge\", \"August/funds_charge\", \"December/funds_charge\", \"February/funds_charge\", \"January/funds_charge\", \"July/funds_charge\", \"June/funds_charge\", \"March/funds_charge\", \"May/funds_charge\", \"November/funds_charge\", \"October/funds_charge\", \"September/funds_charge\", \"April/loan_payment\", \"August/loan_payment\", \"December/loan_payment\", \"February/loan_payment\", \"January/loan_payment\", \"July/loan_payment\", \"June/loan_payment\", \"March/loan_payment\", \"May/loan_payment\", \"November/loan_payment\", \"October/loan_payment\", \"September/loan_payment\", \"June/mechant_charges\", \"April/merchant_payment\", \"August/merchant_payment\", \"December/merchant_payment\", \"February/merchant_payment\", \"January/merchant_payment\", \"July/merchant_payment\", \"June/merchant_payment\", \"March/merchant_payment\", \"May/merchant_payment\", \"November/merchant_payment\", \"October/merchant_payment\", \"September/merchant_payment\", \"June/mshwari_deposit\", \"April/mshwari_deposits\", \"July/mshwari_deposits\", \"May/mshwari_deposits\", \"November/mshwari_deposits\", \"October/mshwari_deposits\", \"September/mshwari_deposits\", \"August/mshwari_loan\", \"February/mshwari_loan\", \"January/mshwari_loan\", \"March/mshwari_loan\", \"July/mshwari_withdrawals \", \"June/mshwari_withdrawals \", \"November/mshwari_withdrawals \", \"October/mshwari_withdrawals \", \"September/mshwari_withdrawals \", \"April/overdraft\", \"August/overdraft\", \"December/overdraft\", \"February/overdraft\", \"January/overdraft\", \"July/overdraft\", \"June/overdraft\", \"March/overdraft\", \"May/overdraft\", \"November/overdraft\", \"October/overdraft\", \"September/overdraft\", \"July/reversal\", \"October/reversal\", \"April/withdrawal_charge\", \"August/withdrawal_charge\", \"December/withdrawal_charge\", \"February/withdrawal_charge\", \"January/withdrawal_charge\", \"July/withdrawal_charge\", \"June/withdrawal_charge\", \"March/withdrawal_charge\", \"May/withdrawal_charge\", \"November/withdrawal_charge\", \"October/withdrawal_charge\", \"September/withdrawal_charge\", \"April/withdrawals\", \"August/withdrawals\", \"December/withdrawals\", \"February/withdrawals\", \"January/withdrawals\", \"July/withdrawals\", \"June/withdrawals\", \"March/withdrawals\", \"May/withdrawals\", \"November/withdrawals\", \"October/withdrawals\", \"September/withdrawals\", \"April\", \"August\", \"December\", \"February\", \"January\", \"July\", \"June\", \"March\", \"May\", \"November\", \"October\", \"September\"], \"labels\": [\"airtime\", \"airtime\", \"airtime\", \"airtime\", \"airtime\", \"airtime\", \"airtime\", \"airtime\", \"airtime\", \"airtime\", \"airtime\", \"airtime\", \"bill_payments\", \"bill_payments\", \"bill_payments\", \"bill_payments\", \"bill_payments\", \"bill_payments\", \"bill_payments\", \"bill_payments\", \"bill_payments\", \"bill_payments\", \"bill_payments\", \"bill_payments\", \"bundles\", \"bundles\", \"bundles\", \"bundles\", \"business_deposit\", \"business_deposit\", \"business_deposit\", \"business_deposit\", \"business_deposit\", \"business_deposit\", \"business_deposit\", \"business_deposit\", \"business_deposit\", \"business_deposit\", \"business_deposit\", \"business_deposit\", \"customer_transfer\", \"customer_transfer\", \"customer_transfer\", \"customer_transfer\", \"customer_transfer\", \"customer_transfer\", \"customer_transfer\", \"customer_transfer\", \"customer_transfer\", \"customer_transfer\", \"customer_transfer\", \"customer_transfer\", \"deposit_promotion\", \"deposit_promotion\", \"deposit_promotion\", \"deposit_sender\", \"deposit_sender\", \"deposit_sender\", \"deposit_sender\", \"deposit_sender\", \"deposit_sender\", \"deposit_sender\", \"deposit_sender\", \"deposit_sender\", \"deposit_sender\", \"deposit_sender\", \"deposit_sender\", \"deposits\", \"deposits\", \"deposits\", \"deposits\", \"error\", \"fuliza\", \"fuliza\", \"fuliza\", \"fuliza\", \"fuliza\", \"fuliza\", \"fuliza\", \"fuliza\", \"fuliza\", \"funds_charge\", \"funds_charge\", \"funds_charge\", \"funds_charge\", \"funds_charge\", \"funds_charge\", \"funds_charge\", \"funds_charge\", \"funds_charge\", \"funds_charge\", \"funds_charge\", \"funds_charge\", \"loan_payment\", \"loan_payment\", \"loan_payment\", \"loan_payment\", \"loan_payment\", \"loan_payment\", \"loan_payment\", \"loan_payment\", \"loan_payment\", \"loan_payment\", \"loan_payment\", \"loan_payment\", \"mechant_charges\", \"merchant_payment\", \"merchant_payment\", \"merchant_payment\", \"merchant_payment\", \"merchant_payment\", \"merchant_payment\", \"merchant_payment\", \"merchant_payment\", \"merchant_payment\", \"merchant_payment\", \"merchant_payment\", \"merchant_payment\", \"mshwari_deposit\", \"mshwari_deposits\", \"mshwari_deposits\", \"mshwari_deposits\", \"mshwari_deposits\", \"mshwari_deposits\", \"mshwari_deposits\", \"mshwari_loan\", \"mshwari_loan\", \"mshwari_loan\", \"mshwari_loan\", \"mshwari_withdrawals \", \"mshwari_withdrawals \", \"mshwari_withdrawals \", \"mshwari_withdrawals \", \"mshwari_withdrawals \", \"overdraft\", \"overdraft\", \"overdraft\", \"overdraft\", \"overdraft\", \"overdraft\", \"overdraft\", \"overdraft\", \"overdraft\", \"overdraft\", \"overdraft\", \"overdraft\", \"reversal\", \"reversal\", \"withdrawal_charge\", \"withdrawal_charge\", \"withdrawal_charge\", \"withdrawal_charge\", \"withdrawal_charge\", \"withdrawal_charge\", \"withdrawal_charge\", \"withdrawal_charge\", \"withdrawal_charge\", \"withdrawal_charge\", \"withdrawal_charge\", \"withdrawal_charge\", \"withdrawals\", \"withdrawals\", \"withdrawals\", \"withdrawals\", \"withdrawals\", \"withdrawals\", \"withdrawals\", \"withdrawals\", \"withdrawals\", \"withdrawals\", \"withdrawals\", \"withdrawals\", \"April\", \"August\", \"December\", \"February\", \"January\", \"July\", \"June\", \"March\", \"May\", \"November\", \"October\", \"September\"], \"name\": \"\", \"parents\": [\"April\", \"August\", \"December\", \"February\", \"January\", \"July\", \"June\", \"March\", \"May\", \"November\", \"October\", \"September\", \"April\", \"August\", \"December\", \"February\", \"January\", \"July\", \"June\", \"March\", \"May\", \"November\", \"October\", \"September\", \"December\", \"February\", \"January\", \"March\", \"April\", \"August\", \"December\", \"February\", \"January\", \"July\", \"June\", \"March\", \"May\", \"November\", \"October\", \"September\", \"April\", \"August\", \"December\", \"February\", \"January\", \"July\", \"June\", \"March\", \"May\", \"November\", \"October\", \"September\", \"February\", \"January\", \"November\", \"April\", \"August\", \"December\", \"February\", \"January\", \"July\", \"June\", \"March\", \"May\", \"November\", \"October\", \"September\", \"August\", \"February\", \"March\", \"September\", \"December\", \"April\", \"August\", \"December\", \"February\", \"January\", \"June\", \"March\", \"October\", \"September\", \"April\", \"August\", \"December\", \"February\", \"January\", \"July\", \"June\", \"March\", \"May\", \"November\", \"October\", \"September\", \"April\", \"August\", \"December\", \"February\", \"January\", \"July\", \"June\", \"March\", \"May\", \"November\", \"October\", \"September\", \"June\", \"April\", \"August\", \"December\", \"February\", \"January\", \"July\", \"June\", \"March\", \"May\", \"November\", \"October\", \"September\", \"June\", \"April\", \"July\", \"May\", \"November\", \"October\", \"September\", \"August\", \"February\", \"January\", \"March\", \"July\", \"June\", \"November\", \"October\", \"September\", \"April\", \"August\", \"December\", \"February\", \"January\", \"July\", \"June\", \"March\", \"May\", \"November\", \"October\", \"September\", \"July\", \"October\", \"April\", \"August\", \"December\", \"February\", \"January\", \"July\", \"June\", \"March\", \"May\", \"November\", \"October\", \"September\", \"April\", \"August\", \"December\", \"February\", \"January\", \"July\", \"June\", \"March\", \"May\", \"November\", \"October\", \"September\", \"\", \"\", \"\", \"\", \"\", \"\", \"\", \"\", \"\", \"\", \"\", \"\"], \"textinfo\": \"label+text+value\", \"type\": \"treemap\", \"values\": [785.0, 220.0, 2600.0, 2370.0, 1250.0, 880.0, 410.0, 1450.0, 275.0, 655.0, 495.0, 920.0, 26954.0, 9843.0, 51361.0, 14966.0, 31947.0, 27262.0, 12392.0, 29693.0, 15874.0, 75475.0, 43682.0, 36720.0, 1999.0, 4797.0, 5045.0, 1000.0, 0.0, 0.0, 0.0, 0.0, 0.0, 0.0, 0.0, 0.0, 0.0, 0.0, 0.0, 0.0, 41801.0, 26017.0, 66116.0, 35750.0, 35541.0, 32885.0, 29018.0, 35252.0, 26509.0, 56442.0, 55868.0, 35855.0, 0.0, 0.0, 0.0, 0.0, 0.0, 0.0, 0.0, 0.0, 0.0, 0.0, 0.0, 0.0, 0.0, 0.0, 0.0, 0.0, 0.0, 0.0, 0.0, 0.0, 300.0, 330.0, 14620.0, 12865.0, 8044.0, 3028.0, 6590.0, 500.0, 5280.0, 490.0, 364.0, 861.0, 935.0, 734.0, 564.0, 384.0, 703.0, 230.0, 598.0, 522.0, 390.0, 3873.04, 216.38, 8148.259999999999, 22168.69, 13575.429999999998, 2001.23, 1954.41, 15226.92, 1147.51, 132.91, 1081.21, 2295.75, 10.0, 12737.0, 33912.0, 17700.0, 7031.0, 7607.0, 52030.0, 13578.0, 322.0, 9328.0, 30048.0, 15951.0, 15784.0, 3000.0, 25000.0, 18060.0, 2000.0, 38000.0, 51200.0, 5000.0, 0.0, 0.0, 0.0, 0.0, 0.0, 0.0, 0.0, 0.0, 0.0, 0.0, 0.0, 0.0, 0.0, 0.0, 0.0, 0.0, 0.0, 0.0, 0.0, 0.0, 0.0, 0.0, 300.0, 302.0, 446.0, 632.0, 301.0, 467.0, 367.0, 55.0, 112.0, 296.0, 683.0, 587.0, 162.0, 30350.0, 28200.0, 46400.0, 18700.0, 41350.0, 27850.0, 2500.0, 6650.0, 18500.0, 62700.0, 46500.0, 10700.0, 142592.03999999998, 99548.38, 210437.26, 119883.69, 145560.43, 161899.23, 66329.41, 96998.92, 74159.51000000001, 264733.91000000003, 216686.21000000002, 113106.75]}],\n",
       "                        {\"legend\": {\"tracegroupgap\": 0}, \"margin\": {\"t\": 60}, \"template\": {\"data\": {\"bar\": [{\"error_x\": {\"color\": \"#2a3f5f\"}, \"error_y\": {\"color\": \"#2a3f5f\"}, \"marker\": {\"line\": {\"color\": \"#E5ECF6\", \"width\": 0.5}}, \"type\": \"bar\"}], \"barpolar\": [{\"marker\": {\"line\": {\"color\": \"#E5ECF6\", \"width\": 0.5}}, \"type\": \"barpolar\"}], \"carpet\": [{\"aaxis\": {\"endlinecolor\": \"#2a3f5f\", \"gridcolor\": \"white\", \"linecolor\": \"white\", \"minorgridcolor\": \"white\", \"startlinecolor\": \"#2a3f5f\"}, \"baxis\": {\"endlinecolor\": \"#2a3f5f\", \"gridcolor\": \"white\", \"linecolor\": \"white\", \"minorgridcolor\": \"white\", \"startlinecolor\": \"#2a3f5f\"}, \"type\": \"carpet\"}], \"choropleth\": [{\"colorbar\": {\"outlinewidth\": 0, \"ticks\": \"\"}, \"type\": \"choropleth\"}], \"contour\": [{\"colorbar\": {\"outlinewidth\": 0, \"ticks\": \"\"}, \"colorscale\": [[0.0, \"#0d0887\"], [0.1111111111111111, \"#46039f\"], [0.2222222222222222, \"#7201a8\"], [0.3333333333333333, \"#9c179e\"], [0.4444444444444444, \"#bd3786\"], [0.5555555555555556, \"#d8576b\"], [0.6666666666666666, \"#ed7953\"], [0.7777777777777778, \"#fb9f3a\"], [0.8888888888888888, \"#fdca26\"], [1.0, \"#f0f921\"]], \"type\": \"contour\"}], \"contourcarpet\": [{\"colorbar\": {\"outlinewidth\": 0, \"ticks\": \"\"}, \"type\": \"contourcarpet\"}], \"heatmap\": [{\"colorbar\": {\"outlinewidth\": 0, \"ticks\": \"\"}, \"colorscale\": [[0.0, \"#0d0887\"], [0.1111111111111111, \"#46039f\"], [0.2222222222222222, \"#7201a8\"], [0.3333333333333333, \"#9c179e\"], [0.4444444444444444, \"#bd3786\"], [0.5555555555555556, \"#d8576b\"], [0.6666666666666666, \"#ed7953\"], [0.7777777777777778, \"#fb9f3a\"], [0.8888888888888888, \"#fdca26\"], [1.0, \"#f0f921\"]], \"type\": \"heatmap\"}], \"heatmapgl\": [{\"colorbar\": {\"outlinewidth\": 0, \"ticks\": \"\"}, \"colorscale\": [[0.0, \"#0d0887\"], [0.1111111111111111, \"#46039f\"], [0.2222222222222222, \"#7201a8\"], [0.3333333333333333, \"#9c179e\"], [0.4444444444444444, \"#bd3786\"], [0.5555555555555556, \"#d8576b\"], [0.6666666666666666, \"#ed7953\"], [0.7777777777777778, \"#fb9f3a\"], [0.8888888888888888, \"#fdca26\"], [1.0, \"#f0f921\"]], \"type\": \"heatmapgl\"}], \"histogram\": [{\"marker\": {\"colorbar\": {\"outlinewidth\": 0, \"ticks\": \"\"}}, \"type\": \"histogram\"}], \"histogram2d\": [{\"colorbar\": {\"outlinewidth\": 0, \"ticks\": \"\"}, \"colorscale\": [[0.0, \"#0d0887\"], [0.1111111111111111, \"#46039f\"], [0.2222222222222222, \"#7201a8\"], [0.3333333333333333, \"#9c179e\"], [0.4444444444444444, \"#bd3786\"], [0.5555555555555556, \"#d8576b\"], [0.6666666666666666, \"#ed7953\"], [0.7777777777777778, \"#fb9f3a\"], [0.8888888888888888, \"#fdca26\"], [1.0, \"#f0f921\"]], \"type\": \"histogram2d\"}], \"histogram2dcontour\": [{\"colorbar\": {\"outlinewidth\": 0, \"ticks\": \"\"}, \"colorscale\": [[0.0, \"#0d0887\"], [0.1111111111111111, \"#46039f\"], [0.2222222222222222, \"#7201a8\"], [0.3333333333333333, \"#9c179e\"], [0.4444444444444444, \"#bd3786\"], [0.5555555555555556, \"#d8576b\"], [0.6666666666666666, \"#ed7953\"], [0.7777777777777778, \"#fb9f3a\"], [0.8888888888888888, \"#fdca26\"], [1.0, \"#f0f921\"]], \"type\": \"histogram2dcontour\"}], \"mesh3d\": [{\"colorbar\": {\"outlinewidth\": 0, \"ticks\": \"\"}, \"type\": \"mesh3d\"}], \"parcoords\": [{\"line\": {\"colorbar\": {\"outlinewidth\": 0, \"ticks\": \"\"}}, \"type\": \"parcoords\"}], \"pie\": [{\"automargin\": true, \"type\": \"pie\"}], \"scatter\": [{\"marker\": {\"colorbar\": {\"outlinewidth\": 0, \"ticks\": \"\"}}, \"type\": \"scatter\"}], \"scatter3d\": [{\"line\": {\"colorbar\": {\"outlinewidth\": 0, \"ticks\": \"\"}}, \"marker\": {\"colorbar\": {\"outlinewidth\": 0, \"ticks\": \"\"}}, \"type\": \"scatter3d\"}], \"scattercarpet\": [{\"marker\": {\"colorbar\": {\"outlinewidth\": 0, \"ticks\": \"\"}}, \"type\": \"scattercarpet\"}], \"scattergeo\": [{\"marker\": {\"colorbar\": {\"outlinewidth\": 0, \"ticks\": \"\"}}, \"type\": \"scattergeo\"}], \"scattergl\": [{\"marker\": {\"colorbar\": {\"outlinewidth\": 0, \"ticks\": \"\"}}, \"type\": \"scattergl\"}], \"scattermapbox\": [{\"marker\": {\"colorbar\": {\"outlinewidth\": 0, \"ticks\": \"\"}}, \"type\": \"scattermapbox\"}], \"scatterpolar\": [{\"marker\": {\"colorbar\": {\"outlinewidth\": 0, \"ticks\": \"\"}}, \"type\": \"scatterpolar\"}], \"scatterpolargl\": [{\"marker\": {\"colorbar\": {\"outlinewidth\": 0, \"ticks\": \"\"}}, \"type\": \"scatterpolargl\"}], \"scatterternary\": [{\"marker\": {\"colorbar\": {\"outlinewidth\": 0, \"ticks\": \"\"}}, \"type\": \"scatterternary\"}], \"surface\": [{\"colorbar\": {\"outlinewidth\": 0, \"ticks\": \"\"}, \"colorscale\": [[0.0, \"#0d0887\"], [0.1111111111111111, \"#46039f\"], [0.2222222222222222, \"#7201a8\"], [0.3333333333333333, \"#9c179e\"], [0.4444444444444444, \"#bd3786\"], [0.5555555555555556, \"#d8576b\"], [0.6666666666666666, \"#ed7953\"], [0.7777777777777778, \"#fb9f3a\"], [0.8888888888888888, \"#fdca26\"], [1.0, \"#f0f921\"]], \"type\": \"surface\"}], \"table\": [{\"cells\": {\"fill\": {\"color\": \"#EBF0F8\"}, \"line\": {\"color\": \"white\"}}, \"header\": {\"fill\": {\"color\": \"#C8D4E3\"}, \"line\": {\"color\": \"white\"}}, \"type\": \"table\"}]}, \"layout\": {\"annotationdefaults\": {\"arrowcolor\": \"#2a3f5f\", \"arrowhead\": 0, \"arrowwidth\": 1}, \"coloraxis\": {\"colorbar\": {\"outlinewidth\": 0, \"ticks\": \"\"}}, \"colorscale\": {\"diverging\": [[0, \"#8e0152\"], [0.1, \"#c51b7d\"], [0.2, \"#de77ae\"], [0.3, \"#f1b6da\"], [0.4, \"#fde0ef\"], [0.5, \"#f7f7f7\"], [0.6, \"#e6f5d0\"], [0.7, \"#b8e186\"], [0.8, \"#7fbc41\"], [0.9, \"#4d9221\"], [1, \"#276419\"]], \"sequential\": [[0.0, \"#0d0887\"], [0.1111111111111111, \"#46039f\"], [0.2222222222222222, \"#7201a8\"], [0.3333333333333333, \"#9c179e\"], [0.4444444444444444, \"#bd3786\"], [0.5555555555555556, \"#d8576b\"], [0.6666666666666666, \"#ed7953\"], [0.7777777777777778, \"#fb9f3a\"], [0.8888888888888888, \"#fdca26\"], [1.0, \"#f0f921\"]], \"sequentialminus\": [[0.0, \"#0d0887\"], [0.1111111111111111, \"#46039f\"], [0.2222222222222222, \"#7201a8\"], [0.3333333333333333, \"#9c179e\"], [0.4444444444444444, \"#bd3786\"], [0.5555555555555556, \"#d8576b\"], [0.6666666666666666, \"#ed7953\"], [0.7777777777777778, \"#fb9f3a\"], [0.8888888888888888, \"#fdca26\"], [1.0, \"#f0f921\"]]}, \"colorway\": [\"#636efa\", \"#EF553B\", \"#00cc96\", \"#ab63fa\", \"#FFA15A\", \"#19d3f3\", \"#FF6692\", \"#B6E880\", \"#FF97FF\", \"#FECB52\"], \"font\": {\"color\": \"#2a3f5f\"}, \"geo\": {\"bgcolor\": \"white\", \"lakecolor\": \"white\", \"landcolor\": \"#E5ECF6\", \"showlakes\": true, \"showland\": true, \"subunitcolor\": \"white\"}, \"hoverlabel\": {\"align\": \"left\"}, \"hovermode\": \"closest\", \"mapbox\": {\"style\": \"light\"}, \"paper_bgcolor\": \"white\", \"plot_bgcolor\": \"#E5ECF6\", \"polar\": {\"angularaxis\": {\"gridcolor\": \"white\", \"linecolor\": \"white\", \"ticks\": \"\"}, \"bgcolor\": \"#E5ECF6\", \"radialaxis\": {\"gridcolor\": \"white\", \"linecolor\": \"white\", \"ticks\": \"\"}}, \"scene\": {\"xaxis\": {\"backgroundcolor\": \"#E5ECF6\", \"gridcolor\": \"white\", \"gridwidth\": 2, \"linecolor\": \"white\", \"showbackground\": true, \"ticks\": \"\", \"zerolinecolor\": \"white\"}, \"yaxis\": {\"backgroundcolor\": \"#E5ECF6\", \"gridcolor\": \"white\", \"gridwidth\": 2, \"linecolor\": \"white\", \"showbackground\": true, \"ticks\": \"\", \"zerolinecolor\": \"white\"}, \"zaxis\": {\"backgroundcolor\": \"#E5ECF6\", \"gridcolor\": \"white\", \"gridwidth\": 2, \"linecolor\": \"white\", \"showbackground\": true, \"ticks\": \"\", \"zerolinecolor\": \"white\"}}, \"shapedefaults\": {\"line\": {\"color\": \"#2a3f5f\"}}, \"ternary\": {\"aaxis\": {\"gridcolor\": \"white\", \"linecolor\": \"white\", \"ticks\": \"\"}, \"baxis\": {\"gridcolor\": \"white\", \"linecolor\": \"white\", \"ticks\": \"\"}, \"bgcolor\": \"#E5ECF6\", \"caxis\": {\"gridcolor\": \"white\", \"linecolor\": \"white\", \"ticks\": \"\"}}, \"title\": {\"x\": 0.05}, \"xaxis\": {\"automargin\": true, \"gridcolor\": \"white\", \"linecolor\": \"white\", \"ticks\": \"\", \"title\": {\"standoff\": 15}, \"zerolinecolor\": \"white\", \"zerolinewidth\": 2}, \"yaxis\": {\"automargin\": true, \"gridcolor\": \"white\", \"linecolor\": \"white\", \"ticks\": \"\", \"title\": {\"standoff\": 15}, \"zerolinecolor\": \"white\", \"zerolinewidth\": 2}}}},\n",
       "                        {\"responsive\": true}\n",
       "                    ).then(function(){\n",
       "                            \n",
       "var gd = document.getElementById('edf2bfe8-5f2f-4183-a8ac-3e187285252b');\n",
       "var x = new MutationObserver(function (mutations, observer) {{\n",
       "        var display = window.getComputedStyle(gd).display;\n",
       "        if (!display || display === 'none') {{\n",
       "            console.log([gd, 'removed!']);\n",
       "            Plotly.purge(gd);\n",
       "            observer.disconnect();\n",
       "        }}\n",
       "}});\n",
       "\n",
       "// Listen for the removal of the full notebook cells\n",
       "var notebookContainer = gd.closest('#notebook-container');\n",
       "if (notebookContainer) {{\n",
       "    x.observe(notebookContainer, {childList: true});\n",
       "}}\n",
       "\n",
       "// Listen for the clearing of the current output cell\n",
       "var outputEl = gd.closest('.output');\n",
       "if (outputEl) {{\n",
       "    x.observe(outputEl, {childList: true});\n",
       "}}\n",
       "\n",
       "                        })\n",
       "                };\n",
       "                });\n",
       "            </script>\n",
       "        </div>"
      ]
     },
     "metadata": {},
     "output_type": "display_data"
    }
   ],
   "source": [
    "fig =px.treemap(mpesa_agg, path=['month', 'transactions.group'], values='withdrawn sum')\n",
    "fig.data[0].textinfo = 'label+text+value'\n",
    "\n",
    "#fig.layout.hovermode = False\n",
    "fig.data[0].hovertemplate = '%{label}<br>%{value}'\n",
    "fig.show()"
   ]
  },
  {
   "cell_type": "code",
   "execution_count": 44,
   "metadata": {},
   "outputs": [
    {
     "data": {
      "application/vnd.plotly.v1+json": {
       "config": {
        "plotlyServerURL": "https://plot.ly"
       },
       "data": [
        {
         "branchvalues": "total",
         "domain": {
          "x": [
           0,
           1
          ],
          "y": [
           0,
           1
          ]
         },
         "hovertemplate": "labels=%{label}<br>withdrawn count=%{value}<br>parent=%{parent}<br>id=%{id}<extra></extra>",
         "ids": [
          "April/airtime",
          "August/airtime",
          "December/airtime",
          "February/airtime",
          "January/airtime",
          "July/airtime",
          "June/airtime",
          "March/airtime",
          "May/airtime",
          "November/airtime",
          "October/airtime",
          "September/airtime",
          "April/bill_payments",
          "August/bill_payments",
          "December/bill_payments",
          "February/bill_payments",
          "January/bill_payments",
          "July/bill_payments",
          "June/bill_payments",
          "March/bill_payments",
          "May/bill_payments",
          "November/bill_payments",
          "October/bill_payments",
          "September/bill_payments",
          "December/bundles",
          "February/bundles",
          "January/bundles",
          "March/bundles",
          "April/business_deposit",
          "August/business_deposit",
          "December/business_deposit",
          "February/business_deposit",
          "January/business_deposit",
          "July/business_deposit",
          "June/business_deposit",
          "March/business_deposit",
          "May/business_deposit",
          "November/business_deposit",
          "October/business_deposit",
          "September/business_deposit",
          "April/customer_transfer",
          "August/customer_transfer",
          "December/customer_transfer",
          "February/customer_transfer",
          "January/customer_transfer",
          "July/customer_transfer",
          "June/customer_transfer",
          "March/customer_transfer",
          "May/customer_transfer",
          "November/customer_transfer",
          "October/customer_transfer",
          "September/customer_transfer",
          "February/deposit_promotion",
          "January/deposit_promotion",
          "November/deposit_promotion",
          "April/deposit_sender",
          "August/deposit_sender",
          "December/deposit_sender",
          "February/deposit_sender",
          "January/deposit_sender",
          "July/deposit_sender",
          "June/deposit_sender",
          "March/deposit_sender",
          "May/deposit_sender",
          "November/deposit_sender",
          "October/deposit_sender",
          "September/deposit_sender",
          "August/deposits",
          "February/deposits",
          "March/deposits",
          "September/deposits",
          "December/error",
          "April/fuliza",
          "August/fuliza",
          "December/fuliza",
          "February/fuliza",
          "January/fuliza",
          "June/fuliza",
          "March/fuliza",
          "October/fuliza",
          "September/fuliza",
          "April/funds_charge",
          "August/funds_charge",
          "December/funds_charge",
          "February/funds_charge",
          "January/funds_charge",
          "July/funds_charge",
          "June/funds_charge",
          "March/funds_charge",
          "May/funds_charge",
          "November/funds_charge",
          "October/funds_charge",
          "September/funds_charge",
          "April/loan_payment",
          "August/loan_payment",
          "December/loan_payment",
          "February/loan_payment",
          "January/loan_payment",
          "July/loan_payment",
          "June/loan_payment",
          "March/loan_payment",
          "May/loan_payment",
          "November/loan_payment",
          "October/loan_payment",
          "September/loan_payment",
          "June/mechant_charges",
          "April/merchant_payment",
          "August/merchant_payment",
          "December/merchant_payment",
          "February/merchant_payment",
          "January/merchant_payment",
          "July/merchant_payment",
          "June/merchant_payment",
          "March/merchant_payment",
          "May/merchant_payment",
          "November/merchant_payment",
          "October/merchant_payment",
          "September/merchant_payment",
          "June/mshwari_deposit",
          "April/mshwari_deposits",
          "July/mshwari_deposits",
          "May/mshwari_deposits",
          "November/mshwari_deposits",
          "October/mshwari_deposits",
          "September/mshwari_deposits",
          "August/mshwari_loan",
          "February/mshwari_loan",
          "January/mshwari_loan",
          "March/mshwari_loan",
          "July/mshwari_withdrawals ",
          "June/mshwari_withdrawals ",
          "November/mshwari_withdrawals ",
          "October/mshwari_withdrawals ",
          "September/mshwari_withdrawals ",
          "April/overdraft",
          "August/overdraft",
          "December/overdraft",
          "February/overdraft",
          "January/overdraft",
          "July/overdraft",
          "June/overdraft",
          "March/overdraft",
          "May/overdraft",
          "November/overdraft",
          "October/overdraft",
          "September/overdraft",
          "July/reversal",
          "October/reversal",
          "April/withdrawal_charge",
          "August/withdrawal_charge",
          "December/withdrawal_charge",
          "February/withdrawal_charge",
          "January/withdrawal_charge",
          "July/withdrawal_charge",
          "June/withdrawal_charge",
          "March/withdrawal_charge",
          "May/withdrawal_charge",
          "November/withdrawal_charge",
          "October/withdrawal_charge",
          "September/withdrawal_charge",
          "April/withdrawals",
          "August/withdrawals",
          "December/withdrawals",
          "February/withdrawals",
          "January/withdrawals",
          "July/withdrawals",
          "June/withdrawals",
          "March/withdrawals",
          "May/withdrawals",
          "November/withdrawals",
          "October/withdrawals",
          "September/withdrawals",
          "April",
          "August",
          "December",
          "February",
          "January",
          "July",
          "June",
          "March",
          "May",
          "November",
          "October",
          "September"
         ],
         "labels": [
          "airtime",
          "airtime",
          "airtime",
          "airtime",
          "airtime",
          "airtime",
          "airtime",
          "airtime",
          "airtime",
          "airtime",
          "airtime",
          "airtime",
          "bill_payments",
          "bill_payments",
          "bill_payments",
          "bill_payments",
          "bill_payments",
          "bill_payments",
          "bill_payments",
          "bill_payments",
          "bill_payments",
          "bill_payments",
          "bill_payments",
          "bill_payments",
          "bundles",
          "bundles",
          "bundles",
          "bundles",
          "business_deposit",
          "business_deposit",
          "business_deposit",
          "business_deposit",
          "business_deposit",
          "business_deposit",
          "business_deposit",
          "business_deposit",
          "business_deposit",
          "business_deposit",
          "business_deposit",
          "business_deposit",
          "customer_transfer",
          "customer_transfer",
          "customer_transfer",
          "customer_transfer",
          "customer_transfer",
          "customer_transfer",
          "customer_transfer",
          "customer_transfer",
          "customer_transfer",
          "customer_transfer",
          "customer_transfer",
          "customer_transfer",
          "deposit_promotion",
          "deposit_promotion",
          "deposit_promotion",
          "deposit_sender",
          "deposit_sender",
          "deposit_sender",
          "deposit_sender",
          "deposit_sender",
          "deposit_sender",
          "deposit_sender",
          "deposit_sender",
          "deposit_sender",
          "deposit_sender",
          "deposit_sender",
          "deposit_sender",
          "deposits",
          "deposits",
          "deposits",
          "deposits",
          "error",
          "fuliza",
          "fuliza",
          "fuliza",
          "fuliza",
          "fuliza",
          "fuliza",
          "fuliza",
          "fuliza",
          "fuliza",
          "funds_charge",
          "funds_charge",
          "funds_charge",
          "funds_charge",
          "funds_charge",
          "funds_charge",
          "funds_charge",
          "funds_charge",
          "funds_charge",
          "funds_charge",
          "funds_charge",
          "funds_charge",
          "loan_payment",
          "loan_payment",
          "loan_payment",
          "loan_payment",
          "loan_payment",
          "loan_payment",
          "loan_payment",
          "loan_payment",
          "loan_payment",
          "loan_payment",
          "loan_payment",
          "loan_payment",
          "mechant_charges",
          "merchant_payment",
          "merchant_payment",
          "merchant_payment",
          "merchant_payment",
          "merchant_payment",
          "merchant_payment",
          "merchant_payment",
          "merchant_payment",
          "merchant_payment",
          "merchant_payment",
          "merchant_payment",
          "merchant_payment",
          "mshwari_deposit",
          "mshwari_deposits",
          "mshwari_deposits",
          "mshwari_deposits",
          "mshwari_deposits",
          "mshwari_deposits",
          "mshwari_deposits",
          "mshwari_loan",
          "mshwari_loan",
          "mshwari_loan",
          "mshwari_loan",
          "mshwari_withdrawals ",
          "mshwari_withdrawals ",
          "mshwari_withdrawals ",
          "mshwari_withdrawals ",
          "mshwari_withdrawals ",
          "overdraft",
          "overdraft",
          "overdraft",
          "overdraft",
          "overdraft",
          "overdraft",
          "overdraft",
          "overdraft",
          "overdraft",
          "overdraft",
          "overdraft",
          "overdraft",
          "reversal",
          "reversal",
          "withdrawal_charge",
          "withdrawal_charge",
          "withdrawal_charge",
          "withdrawal_charge",
          "withdrawal_charge",
          "withdrawal_charge",
          "withdrawal_charge",
          "withdrawal_charge",
          "withdrawal_charge",
          "withdrawal_charge",
          "withdrawal_charge",
          "withdrawal_charge",
          "withdrawals",
          "withdrawals",
          "withdrawals",
          "withdrawals",
          "withdrawals",
          "withdrawals",
          "withdrawals",
          "withdrawals",
          "withdrawals",
          "withdrawals",
          "withdrawals",
          "withdrawals",
          "April",
          "August",
          "December",
          "February",
          "January",
          "July",
          "June",
          "March",
          "May",
          "November",
          "October",
          "September"
         ],
         "name": "",
         "parents": [
          "April",
          "August",
          "December",
          "February",
          "January",
          "July",
          "June",
          "March",
          "May",
          "November",
          "October",
          "September",
          "April",
          "August",
          "December",
          "February",
          "January",
          "July",
          "June",
          "March",
          "May",
          "November",
          "October",
          "September",
          "December",
          "February",
          "January",
          "March",
          "April",
          "August",
          "December",
          "February",
          "January",
          "July",
          "June",
          "March",
          "May",
          "November",
          "October",
          "September",
          "April",
          "August",
          "December",
          "February",
          "January",
          "July",
          "June",
          "March",
          "May",
          "November",
          "October",
          "September",
          "February",
          "January",
          "November",
          "April",
          "August",
          "December",
          "February",
          "January",
          "July",
          "June",
          "March",
          "May",
          "November",
          "October",
          "September",
          "August",
          "February",
          "March",
          "September",
          "December",
          "April",
          "August",
          "December",
          "February",
          "January",
          "June",
          "March",
          "October",
          "September",
          "April",
          "August",
          "December",
          "February",
          "January",
          "July",
          "June",
          "March",
          "May",
          "November",
          "October",
          "September",
          "April",
          "August",
          "December",
          "February",
          "January",
          "July",
          "June",
          "March",
          "May",
          "November",
          "October",
          "September",
          "June",
          "April",
          "August",
          "December",
          "February",
          "January",
          "July",
          "June",
          "March",
          "May",
          "November",
          "October",
          "September",
          "June",
          "April",
          "July",
          "May",
          "November",
          "October",
          "September",
          "August",
          "February",
          "January",
          "March",
          "July",
          "June",
          "November",
          "October",
          "September",
          "April",
          "August",
          "December",
          "February",
          "January",
          "July",
          "June",
          "March",
          "May",
          "November",
          "October",
          "September",
          "July",
          "October",
          "April",
          "August",
          "December",
          "February",
          "January",
          "July",
          "June",
          "March",
          "May",
          "November",
          "October",
          "September",
          "April",
          "August",
          "December",
          "February",
          "January",
          "July",
          "June",
          "March",
          "May",
          "November",
          "October",
          "September",
          "",
          "",
          "",
          "",
          "",
          "",
          "",
          "",
          "",
          "",
          "",
          ""
         ],
         "type": "sunburst",
         "values": [
          9,
          5,
          10,
          10,
          11,
          10,
          5,
          6,
          4,
          8,
          7,
          10,
          27,
          13,
          35,
          20,
          18,
          22,
          12,
          26,
          27,
          28,
          35,
          19,
          2,
          4,
          6,
          1,
          5,
          8,
          17,
          9,
          5,
          9,
          7,
          6,
          12,
          16,
          8,
          5,
          24,
          22,
          33,
          21,
          38,
          16,
          24,
          24,
          23,
          43,
          30,
          39,
          1,
          2,
          1,
          4,
          3,
          25,
          7,
          7,
          14,
          5,
          2,
          1,
          18,
          14,
          1,
          1,
          2,
          2,
          1,
          2,
          1,
          1,
          5,
          9,
          6,
          1,
          8,
          1,
          3,
          8,
          8,
          17,
          28,
          23,
          12,
          8,
          23,
          4,
          11,
          9,
          9,
          3,
          1,
          9,
          8,
          3,
          1,
          1,
          4,
          2,
          2,
          2,
          3,
          1,
          10,
          18,
          20,
          5,
          9,
          14,
          7,
          1,
          6,
          21,
          14,
          11,
          1,
          1,
          2,
          1,
          2,
          3,
          1,
          1,
          1,
          1,
          1,
          5,
          1,
          4,
          6,
          5,
          3,
          1,
          8,
          11,
          6,
          1,
          1,
          12,
          3,
          2,
          3,
          5,
          1,
          1,
          5,
          13,
          13,
          6,
          11,
          7,
          2,
          2,
          5,
          13,
          11,
          5,
          5,
          13,
          13,
          5,
          11,
          7,
          2,
          2,
          5,
          13,
          11,
          5,
          105,
          108,
          209,
          147,
          157,
          121,
          78,
          120,
          93,
          182,
          155,
          122
         ]
        }
       ],
       "layout": {
        "legend": {
         "tracegroupgap": 0
        },
        "template": {
         "data": {
          "bar": [
           {
            "error_x": {
             "color": "#2a3f5f"
            },
            "error_y": {
             "color": "#2a3f5f"
            },
            "marker": {
             "line": {
              "color": "#E5ECF6",
              "width": 0.5
             }
            },
            "type": "bar"
           }
          ],
          "barpolar": [
           {
            "marker": {
             "line": {
              "color": "#E5ECF6",
              "width": 0.5
             }
            },
            "type": "barpolar"
           }
          ],
          "carpet": [
           {
            "aaxis": {
             "endlinecolor": "#2a3f5f",
             "gridcolor": "white",
             "linecolor": "white",
             "minorgridcolor": "white",
             "startlinecolor": "#2a3f5f"
            },
            "baxis": {
             "endlinecolor": "#2a3f5f",
             "gridcolor": "white",
             "linecolor": "white",
             "minorgridcolor": "white",
             "startlinecolor": "#2a3f5f"
            },
            "type": "carpet"
           }
          ],
          "choropleth": [
           {
            "colorbar": {
             "outlinewidth": 0,
             "ticks": ""
            },
            "type": "choropleth"
           }
          ],
          "contour": [
           {
            "colorbar": {
             "outlinewidth": 0,
             "ticks": ""
            },
            "colorscale": [
             [
              0,
              "#0d0887"
             ],
             [
              0.1111111111111111,
              "#46039f"
             ],
             [
              0.2222222222222222,
              "#7201a8"
             ],
             [
              0.3333333333333333,
              "#9c179e"
             ],
             [
              0.4444444444444444,
              "#bd3786"
             ],
             [
              0.5555555555555556,
              "#d8576b"
             ],
             [
              0.6666666666666666,
              "#ed7953"
             ],
             [
              0.7777777777777778,
              "#fb9f3a"
             ],
             [
              0.8888888888888888,
              "#fdca26"
             ],
             [
              1,
              "#f0f921"
             ]
            ],
            "type": "contour"
           }
          ],
          "contourcarpet": [
           {
            "colorbar": {
             "outlinewidth": 0,
             "ticks": ""
            },
            "type": "contourcarpet"
           }
          ],
          "heatmap": [
           {
            "colorbar": {
             "outlinewidth": 0,
             "ticks": ""
            },
            "colorscale": [
             [
              0,
              "#0d0887"
             ],
             [
              0.1111111111111111,
              "#46039f"
             ],
             [
              0.2222222222222222,
              "#7201a8"
             ],
             [
              0.3333333333333333,
              "#9c179e"
             ],
             [
              0.4444444444444444,
              "#bd3786"
             ],
             [
              0.5555555555555556,
              "#d8576b"
             ],
             [
              0.6666666666666666,
              "#ed7953"
             ],
             [
              0.7777777777777778,
              "#fb9f3a"
             ],
             [
              0.8888888888888888,
              "#fdca26"
             ],
             [
              1,
              "#f0f921"
             ]
            ],
            "type": "heatmap"
           }
          ],
          "heatmapgl": [
           {
            "colorbar": {
             "outlinewidth": 0,
             "ticks": ""
            },
            "colorscale": [
             [
              0,
              "#0d0887"
             ],
             [
              0.1111111111111111,
              "#46039f"
             ],
             [
              0.2222222222222222,
              "#7201a8"
             ],
             [
              0.3333333333333333,
              "#9c179e"
             ],
             [
              0.4444444444444444,
              "#bd3786"
             ],
             [
              0.5555555555555556,
              "#d8576b"
             ],
             [
              0.6666666666666666,
              "#ed7953"
             ],
             [
              0.7777777777777778,
              "#fb9f3a"
             ],
             [
              0.8888888888888888,
              "#fdca26"
             ],
             [
              1,
              "#f0f921"
             ]
            ],
            "type": "heatmapgl"
           }
          ],
          "histogram": [
           {
            "marker": {
             "colorbar": {
              "outlinewidth": 0,
              "ticks": ""
             }
            },
            "type": "histogram"
           }
          ],
          "histogram2d": [
           {
            "colorbar": {
             "outlinewidth": 0,
             "ticks": ""
            },
            "colorscale": [
             [
              0,
              "#0d0887"
             ],
             [
              0.1111111111111111,
              "#46039f"
             ],
             [
              0.2222222222222222,
              "#7201a8"
             ],
             [
              0.3333333333333333,
              "#9c179e"
             ],
             [
              0.4444444444444444,
              "#bd3786"
             ],
             [
              0.5555555555555556,
              "#d8576b"
             ],
             [
              0.6666666666666666,
              "#ed7953"
             ],
             [
              0.7777777777777778,
              "#fb9f3a"
             ],
             [
              0.8888888888888888,
              "#fdca26"
             ],
             [
              1,
              "#f0f921"
             ]
            ],
            "type": "histogram2d"
           }
          ],
          "histogram2dcontour": [
           {
            "colorbar": {
             "outlinewidth": 0,
             "ticks": ""
            },
            "colorscale": [
             [
              0,
              "#0d0887"
             ],
             [
              0.1111111111111111,
              "#46039f"
             ],
             [
              0.2222222222222222,
              "#7201a8"
             ],
             [
              0.3333333333333333,
              "#9c179e"
             ],
             [
              0.4444444444444444,
              "#bd3786"
             ],
             [
              0.5555555555555556,
              "#d8576b"
             ],
             [
              0.6666666666666666,
              "#ed7953"
             ],
             [
              0.7777777777777778,
              "#fb9f3a"
             ],
             [
              0.8888888888888888,
              "#fdca26"
             ],
             [
              1,
              "#f0f921"
             ]
            ],
            "type": "histogram2dcontour"
           }
          ],
          "mesh3d": [
           {
            "colorbar": {
             "outlinewidth": 0,
             "ticks": ""
            },
            "type": "mesh3d"
           }
          ],
          "parcoords": [
           {
            "line": {
             "colorbar": {
              "outlinewidth": 0,
              "ticks": ""
             }
            },
            "type": "parcoords"
           }
          ],
          "pie": [
           {
            "automargin": true,
            "type": "pie"
           }
          ],
          "scatter": [
           {
            "marker": {
             "colorbar": {
              "outlinewidth": 0,
              "ticks": ""
             }
            },
            "type": "scatter"
           }
          ],
          "scatter3d": [
           {
            "line": {
             "colorbar": {
              "outlinewidth": 0,
              "ticks": ""
             }
            },
            "marker": {
             "colorbar": {
              "outlinewidth": 0,
              "ticks": ""
             }
            },
            "type": "scatter3d"
           }
          ],
          "scattercarpet": [
           {
            "marker": {
             "colorbar": {
              "outlinewidth": 0,
              "ticks": ""
             }
            },
            "type": "scattercarpet"
           }
          ],
          "scattergeo": [
           {
            "marker": {
             "colorbar": {
              "outlinewidth": 0,
              "ticks": ""
             }
            },
            "type": "scattergeo"
           }
          ],
          "scattergl": [
           {
            "marker": {
             "colorbar": {
              "outlinewidth": 0,
              "ticks": ""
             }
            },
            "type": "scattergl"
           }
          ],
          "scattermapbox": [
           {
            "marker": {
             "colorbar": {
              "outlinewidth": 0,
              "ticks": ""
             }
            },
            "type": "scattermapbox"
           }
          ],
          "scatterpolar": [
           {
            "marker": {
             "colorbar": {
              "outlinewidth": 0,
              "ticks": ""
             }
            },
            "type": "scatterpolar"
           }
          ],
          "scatterpolargl": [
           {
            "marker": {
             "colorbar": {
              "outlinewidth": 0,
              "ticks": ""
             }
            },
            "type": "scatterpolargl"
           }
          ],
          "scatterternary": [
           {
            "marker": {
             "colorbar": {
              "outlinewidth": 0,
              "ticks": ""
             }
            },
            "type": "scatterternary"
           }
          ],
          "surface": [
           {
            "colorbar": {
             "outlinewidth": 0,
             "ticks": ""
            },
            "colorscale": [
             [
              0,
              "#0d0887"
             ],
             [
              0.1111111111111111,
              "#46039f"
             ],
             [
              0.2222222222222222,
              "#7201a8"
             ],
             [
              0.3333333333333333,
              "#9c179e"
             ],
             [
              0.4444444444444444,
              "#bd3786"
             ],
             [
              0.5555555555555556,
              "#d8576b"
             ],
             [
              0.6666666666666666,
              "#ed7953"
             ],
             [
              0.7777777777777778,
              "#fb9f3a"
             ],
             [
              0.8888888888888888,
              "#fdca26"
             ],
             [
              1,
              "#f0f921"
             ]
            ],
            "type": "surface"
           }
          ],
          "table": [
           {
            "cells": {
             "fill": {
              "color": "#EBF0F8"
             },
             "line": {
              "color": "white"
             }
            },
            "header": {
             "fill": {
              "color": "#C8D4E3"
             },
             "line": {
              "color": "white"
             }
            },
            "type": "table"
           }
          ]
         },
         "layout": {
          "annotationdefaults": {
           "arrowcolor": "#2a3f5f",
           "arrowhead": 0,
           "arrowwidth": 1
          },
          "coloraxis": {
           "colorbar": {
            "outlinewidth": 0,
            "ticks": ""
           }
          },
          "colorscale": {
           "diverging": [
            [
             0,
             "#8e0152"
            ],
            [
             0.1,
             "#c51b7d"
            ],
            [
             0.2,
             "#de77ae"
            ],
            [
             0.3,
             "#f1b6da"
            ],
            [
             0.4,
             "#fde0ef"
            ],
            [
             0.5,
             "#f7f7f7"
            ],
            [
             0.6,
             "#e6f5d0"
            ],
            [
             0.7,
             "#b8e186"
            ],
            [
             0.8,
             "#7fbc41"
            ],
            [
             0.9,
             "#4d9221"
            ],
            [
             1,
             "#276419"
            ]
           ],
           "sequential": [
            [
             0,
             "#0d0887"
            ],
            [
             0.1111111111111111,
             "#46039f"
            ],
            [
             0.2222222222222222,
             "#7201a8"
            ],
            [
             0.3333333333333333,
             "#9c179e"
            ],
            [
             0.4444444444444444,
             "#bd3786"
            ],
            [
             0.5555555555555556,
             "#d8576b"
            ],
            [
             0.6666666666666666,
             "#ed7953"
            ],
            [
             0.7777777777777778,
             "#fb9f3a"
            ],
            [
             0.8888888888888888,
             "#fdca26"
            ],
            [
             1,
             "#f0f921"
            ]
           ],
           "sequentialminus": [
            [
             0,
             "#0d0887"
            ],
            [
             0.1111111111111111,
             "#46039f"
            ],
            [
             0.2222222222222222,
             "#7201a8"
            ],
            [
             0.3333333333333333,
             "#9c179e"
            ],
            [
             0.4444444444444444,
             "#bd3786"
            ],
            [
             0.5555555555555556,
             "#d8576b"
            ],
            [
             0.6666666666666666,
             "#ed7953"
            ],
            [
             0.7777777777777778,
             "#fb9f3a"
            ],
            [
             0.8888888888888888,
             "#fdca26"
            ],
            [
             1,
             "#f0f921"
            ]
           ]
          },
          "colorway": [
           "#636efa",
           "#EF553B",
           "#00cc96",
           "#ab63fa",
           "#FFA15A",
           "#19d3f3",
           "#FF6692",
           "#B6E880",
           "#FF97FF",
           "#FECB52"
          ],
          "font": {
           "color": "#2a3f5f"
          },
          "geo": {
           "bgcolor": "white",
           "lakecolor": "white",
           "landcolor": "#E5ECF6",
           "showlakes": true,
           "showland": true,
           "subunitcolor": "white"
          },
          "hoverlabel": {
           "align": "left"
          },
          "hovermode": "closest",
          "mapbox": {
           "style": "light"
          },
          "paper_bgcolor": "white",
          "plot_bgcolor": "#E5ECF6",
          "polar": {
           "angularaxis": {
            "gridcolor": "white",
            "linecolor": "white",
            "ticks": ""
           },
           "bgcolor": "#E5ECF6",
           "radialaxis": {
            "gridcolor": "white",
            "linecolor": "white",
            "ticks": ""
           }
          },
          "scene": {
           "xaxis": {
            "backgroundcolor": "#E5ECF6",
            "gridcolor": "white",
            "gridwidth": 2,
            "linecolor": "white",
            "showbackground": true,
            "ticks": "",
            "zerolinecolor": "white"
           },
           "yaxis": {
            "backgroundcolor": "#E5ECF6",
            "gridcolor": "white",
            "gridwidth": 2,
            "linecolor": "white",
            "showbackground": true,
            "ticks": "",
            "zerolinecolor": "white"
           },
           "zaxis": {
            "backgroundcolor": "#E5ECF6",
            "gridcolor": "white",
            "gridwidth": 2,
            "linecolor": "white",
            "showbackground": true,
            "ticks": "",
            "zerolinecolor": "white"
           }
          },
          "shapedefaults": {
           "line": {
            "color": "#2a3f5f"
           }
          },
          "ternary": {
           "aaxis": {
            "gridcolor": "white",
            "linecolor": "white",
            "ticks": ""
           },
           "baxis": {
            "gridcolor": "white",
            "linecolor": "white",
            "ticks": ""
           },
           "bgcolor": "#E5ECF6",
           "caxis": {
            "gridcolor": "white",
            "linecolor": "white",
            "ticks": ""
           }
          },
          "title": {
           "x": 0.05
          },
          "xaxis": {
           "automargin": true,
           "gridcolor": "white",
           "linecolor": "white",
           "ticks": "",
           "title": {
            "standoff": 15
           },
           "zerolinecolor": "white",
           "zerolinewidth": 2
          },
          "yaxis": {
           "automargin": true,
           "gridcolor": "white",
           "linecolor": "white",
           "ticks": "",
           "title": {
            "standoff": 15
           },
           "zerolinecolor": "white",
           "zerolinewidth": 2
          }
         }
        },
        "title": {
         "text": "Monthly usage"
        }
       }
      },
      "text/html": [
       "<div>\n",
       "        \n",
       "        \n",
       "            <div id=\"a7506414-bf0a-444d-aca1-215a7ae17ae6\" class=\"plotly-graph-div\" style=\"height:525px; width:100%;\"></div>\n",
       "            <script type=\"text/javascript\">\n",
       "                require([\"plotly\"], function(Plotly) {\n",
       "                    window.PLOTLYENV=window.PLOTLYENV || {};\n",
       "                    \n",
       "                if (document.getElementById(\"a7506414-bf0a-444d-aca1-215a7ae17ae6\")) {\n",
       "                    Plotly.newPlot(\n",
       "                        'a7506414-bf0a-444d-aca1-215a7ae17ae6',\n",
       "                        [{\"branchvalues\": \"total\", \"domain\": {\"x\": [0.0, 1.0], \"y\": [0.0, 1.0]}, \"hovertemplate\": \"labels=%{label}<br>withdrawn count=%{value}<br>parent=%{parent}<br>id=%{id}<extra></extra>\", \"ids\": [\"April/airtime\", \"August/airtime\", \"December/airtime\", \"February/airtime\", \"January/airtime\", \"July/airtime\", \"June/airtime\", \"March/airtime\", \"May/airtime\", \"November/airtime\", \"October/airtime\", \"September/airtime\", \"April/bill_payments\", \"August/bill_payments\", \"December/bill_payments\", \"February/bill_payments\", \"January/bill_payments\", \"July/bill_payments\", \"June/bill_payments\", \"March/bill_payments\", \"May/bill_payments\", \"November/bill_payments\", \"October/bill_payments\", \"September/bill_payments\", \"December/bundles\", \"February/bundles\", \"January/bundles\", \"March/bundles\", \"April/business_deposit\", \"August/business_deposit\", \"December/business_deposit\", \"February/business_deposit\", \"January/business_deposit\", \"July/business_deposit\", \"June/business_deposit\", \"March/business_deposit\", \"May/business_deposit\", \"November/business_deposit\", \"October/business_deposit\", \"September/business_deposit\", \"April/customer_transfer\", \"August/customer_transfer\", \"December/customer_transfer\", \"February/customer_transfer\", \"January/customer_transfer\", \"July/customer_transfer\", \"June/customer_transfer\", \"March/customer_transfer\", \"May/customer_transfer\", \"November/customer_transfer\", \"October/customer_transfer\", \"September/customer_transfer\", \"February/deposit_promotion\", \"January/deposit_promotion\", \"November/deposit_promotion\", \"April/deposit_sender\", \"August/deposit_sender\", \"December/deposit_sender\", \"February/deposit_sender\", \"January/deposit_sender\", \"July/deposit_sender\", \"June/deposit_sender\", \"March/deposit_sender\", \"May/deposit_sender\", \"November/deposit_sender\", \"October/deposit_sender\", \"September/deposit_sender\", \"August/deposits\", \"February/deposits\", \"March/deposits\", \"September/deposits\", \"December/error\", \"April/fuliza\", \"August/fuliza\", \"December/fuliza\", \"February/fuliza\", \"January/fuliza\", \"June/fuliza\", \"March/fuliza\", \"October/fuliza\", \"September/fuliza\", \"April/funds_charge\", \"August/funds_charge\", \"December/funds_charge\", \"February/funds_charge\", \"January/funds_charge\", \"July/funds_charge\", \"June/funds_charge\", \"March/funds_charge\", \"May/funds_charge\", \"November/funds_charge\", \"October/funds_charge\", \"September/funds_charge\", \"April/loan_payment\", \"August/loan_payment\", \"December/loan_payment\", \"February/loan_payment\", \"January/loan_payment\", \"July/loan_payment\", \"June/loan_payment\", \"March/loan_payment\", \"May/loan_payment\", \"November/loan_payment\", \"October/loan_payment\", \"September/loan_payment\", \"June/mechant_charges\", \"April/merchant_payment\", \"August/merchant_payment\", \"December/merchant_payment\", \"February/merchant_payment\", \"January/merchant_payment\", \"July/merchant_payment\", \"June/merchant_payment\", \"March/merchant_payment\", \"May/merchant_payment\", \"November/merchant_payment\", \"October/merchant_payment\", \"September/merchant_payment\", \"June/mshwari_deposit\", \"April/mshwari_deposits\", \"July/mshwari_deposits\", \"May/mshwari_deposits\", \"November/mshwari_deposits\", \"October/mshwari_deposits\", \"September/mshwari_deposits\", \"August/mshwari_loan\", \"February/mshwari_loan\", \"January/mshwari_loan\", \"March/mshwari_loan\", \"July/mshwari_withdrawals \", \"June/mshwari_withdrawals \", \"November/mshwari_withdrawals \", \"October/mshwari_withdrawals \", \"September/mshwari_withdrawals \", \"April/overdraft\", \"August/overdraft\", \"December/overdraft\", \"February/overdraft\", \"January/overdraft\", \"July/overdraft\", \"June/overdraft\", \"March/overdraft\", \"May/overdraft\", \"November/overdraft\", \"October/overdraft\", \"September/overdraft\", \"July/reversal\", \"October/reversal\", \"April/withdrawal_charge\", \"August/withdrawal_charge\", \"December/withdrawal_charge\", \"February/withdrawal_charge\", \"January/withdrawal_charge\", \"July/withdrawal_charge\", \"June/withdrawal_charge\", \"March/withdrawal_charge\", \"May/withdrawal_charge\", \"November/withdrawal_charge\", \"October/withdrawal_charge\", \"September/withdrawal_charge\", \"April/withdrawals\", \"August/withdrawals\", \"December/withdrawals\", \"February/withdrawals\", \"January/withdrawals\", \"July/withdrawals\", \"June/withdrawals\", \"March/withdrawals\", \"May/withdrawals\", \"November/withdrawals\", \"October/withdrawals\", \"September/withdrawals\", \"April\", \"August\", \"December\", \"February\", \"January\", \"July\", \"June\", \"March\", \"May\", \"November\", \"October\", \"September\"], \"labels\": [\"airtime\", \"airtime\", \"airtime\", \"airtime\", \"airtime\", \"airtime\", \"airtime\", \"airtime\", \"airtime\", \"airtime\", \"airtime\", \"airtime\", \"bill_payments\", \"bill_payments\", \"bill_payments\", \"bill_payments\", \"bill_payments\", \"bill_payments\", \"bill_payments\", \"bill_payments\", \"bill_payments\", \"bill_payments\", \"bill_payments\", \"bill_payments\", \"bundles\", \"bundles\", \"bundles\", \"bundles\", \"business_deposit\", \"business_deposit\", \"business_deposit\", \"business_deposit\", \"business_deposit\", \"business_deposit\", \"business_deposit\", \"business_deposit\", \"business_deposit\", \"business_deposit\", \"business_deposit\", \"business_deposit\", \"customer_transfer\", \"customer_transfer\", \"customer_transfer\", \"customer_transfer\", \"customer_transfer\", \"customer_transfer\", \"customer_transfer\", \"customer_transfer\", \"customer_transfer\", \"customer_transfer\", \"customer_transfer\", \"customer_transfer\", \"deposit_promotion\", \"deposit_promotion\", \"deposit_promotion\", \"deposit_sender\", \"deposit_sender\", \"deposit_sender\", \"deposit_sender\", \"deposit_sender\", \"deposit_sender\", \"deposit_sender\", \"deposit_sender\", \"deposit_sender\", \"deposit_sender\", \"deposit_sender\", \"deposit_sender\", \"deposits\", \"deposits\", \"deposits\", \"deposits\", \"error\", \"fuliza\", \"fuliza\", \"fuliza\", \"fuliza\", \"fuliza\", \"fuliza\", \"fuliza\", \"fuliza\", \"fuliza\", \"funds_charge\", \"funds_charge\", \"funds_charge\", \"funds_charge\", \"funds_charge\", \"funds_charge\", \"funds_charge\", \"funds_charge\", \"funds_charge\", \"funds_charge\", \"funds_charge\", \"funds_charge\", \"loan_payment\", \"loan_payment\", \"loan_payment\", \"loan_payment\", \"loan_payment\", \"loan_payment\", \"loan_payment\", \"loan_payment\", \"loan_payment\", \"loan_payment\", \"loan_payment\", \"loan_payment\", \"mechant_charges\", \"merchant_payment\", \"merchant_payment\", \"merchant_payment\", \"merchant_payment\", \"merchant_payment\", \"merchant_payment\", \"merchant_payment\", \"merchant_payment\", \"merchant_payment\", \"merchant_payment\", \"merchant_payment\", \"merchant_payment\", \"mshwari_deposit\", \"mshwari_deposits\", \"mshwari_deposits\", \"mshwari_deposits\", \"mshwari_deposits\", \"mshwari_deposits\", \"mshwari_deposits\", \"mshwari_loan\", \"mshwari_loan\", \"mshwari_loan\", \"mshwari_loan\", \"mshwari_withdrawals \", \"mshwari_withdrawals \", \"mshwari_withdrawals \", \"mshwari_withdrawals \", \"mshwari_withdrawals \", \"overdraft\", \"overdraft\", \"overdraft\", \"overdraft\", \"overdraft\", \"overdraft\", \"overdraft\", \"overdraft\", \"overdraft\", \"overdraft\", \"overdraft\", \"overdraft\", \"reversal\", \"reversal\", \"withdrawal_charge\", \"withdrawal_charge\", \"withdrawal_charge\", \"withdrawal_charge\", \"withdrawal_charge\", \"withdrawal_charge\", \"withdrawal_charge\", \"withdrawal_charge\", \"withdrawal_charge\", \"withdrawal_charge\", \"withdrawal_charge\", \"withdrawal_charge\", \"withdrawals\", \"withdrawals\", \"withdrawals\", \"withdrawals\", \"withdrawals\", \"withdrawals\", \"withdrawals\", \"withdrawals\", \"withdrawals\", \"withdrawals\", \"withdrawals\", \"withdrawals\", \"April\", \"August\", \"December\", \"February\", \"January\", \"July\", \"June\", \"March\", \"May\", \"November\", \"October\", \"September\"], \"name\": \"\", \"parents\": [\"April\", \"August\", \"December\", \"February\", \"January\", \"July\", \"June\", \"March\", \"May\", \"November\", \"October\", \"September\", \"April\", \"August\", \"December\", \"February\", \"January\", \"July\", \"June\", \"March\", \"May\", \"November\", \"October\", \"September\", \"December\", \"February\", \"January\", \"March\", \"April\", \"August\", \"December\", \"February\", \"January\", \"July\", \"June\", \"March\", \"May\", \"November\", \"October\", \"September\", \"April\", \"August\", \"December\", \"February\", \"January\", \"July\", \"June\", \"March\", \"May\", \"November\", \"October\", \"September\", \"February\", \"January\", \"November\", \"April\", \"August\", \"December\", \"February\", \"January\", \"July\", \"June\", \"March\", \"May\", \"November\", \"October\", \"September\", \"August\", \"February\", \"March\", \"September\", \"December\", \"April\", \"August\", \"December\", \"February\", \"January\", \"June\", \"March\", \"October\", \"September\", \"April\", \"August\", \"December\", \"February\", \"January\", \"July\", \"June\", \"March\", \"May\", \"November\", \"October\", \"September\", \"April\", \"August\", \"December\", \"February\", \"January\", \"July\", \"June\", \"March\", \"May\", \"November\", \"October\", \"September\", \"June\", \"April\", \"August\", \"December\", \"February\", \"January\", \"July\", \"June\", \"March\", \"May\", \"November\", \"October\", \"September\", \"June\", \"April\", \"July\", \"May\", \"November\", \"October\", \"September\", \"August\", \"February\", \"January\", \"March\", \"July\", \"June\", \"November\", \"October\", \"September\", \"April\", \"August\", \"December\", \"February\", \"January\", \"July\", \"June\", \"March\", \"May\", \"November\", \"October\", \"September\", \"July\", \"October\", \"April\", \"August\", \"December\", \"February\", \"January\", \"July\", \"June\", \"March\", \"May\", \"November\", \"October\", \"September\", \"April\", \"August\", \"December\", \"February\", \"January\", \"July\", \"June\", \"March\", \"May\", \"November\", \"October\", \"September\", \"\", \"\", \"\", \"\", \"\", \"\", \"\", \"\", \"\", \"\", \"\", \"\"], \"type\": \"sunburst\", \"values\": [9, 5, 10, 10, 11, 10, 5, 6, 4, 8, 7, 10, 27, 13, 35, 20, 18, 22, 12, 26, 27, 28, 35, 19, 2, 4, 6, 1, 5, 8, 17, 9, 5, 9, 7, 6, 12, 16, 8, 5, 24, 22, 33, 21, 38, 16, 24, 24, 23, 43, 30, 39, 1, 2, 1, 4, 3, 25, 7, 7, 14, 5, 2, 1, 18, 14, 1, 1, 2, 2, 1, 2, 1, 1, 5, 9, 6, 1, 8, 1, 3, 8, 8, 17, 28, 23, 12, 8, 23, 4, 11, 9, 9, 3, 1, 9, 8, 3, 1, 1, 4, 2, 2, 2, 3, 1, 10, 18, 20, 5, 9, 14, 7, 1, 6, 21, 14, 11, 1, 1, 2, 1, 2, 3, 1, 1, 1, 1, 1, 5, 1, 4, 6, 5, 3, 1, 8, 11, 6, 1, 1, 12, 3, 2, 3, 5, 1, 1, 5, 13, 13, 6, 11, 7, 2, 2, 5, 13, 11, 5, 5, 13, 13, 5, 11, 7, 2, 2, 5, 13, 11, 5, 105, 108, 209, 147, 157, 121, 78, 120, 93, 182, 155, 122]}],\n",
       "                        {\"legend\": {\"tracegroupgap\": 0}, \"template\": {\"data\": {\"bar\": [{\"error_x\": {\"color\": \"#2a3f5f\"}, \"error_y\": {\"color\": \"#2a3f5f\"}, \"marker\": {\"line\": {\"color\": \"#E5ECF6\", \"width\": 0.5}}, \"type\": \"bar\"}], \"barpolar\": [{\"marker\": {\"line\": {\"color\": \"#E5ECF6\", \"width\": 0.5}}, \"type\": \"barpolar\"}], \"carpet\": [{\"aaxis\": {\"endlinecolor\": \"#2a3f5f\", \"gridcolor\": \"white\", \"linecolor\": \"white\", \"minorgridcolor\": \"white\", \"startlinecolor\": \"#2a3f5f\"}, \"baxis\": {\"endlinecolor\": \"#2a3f5f\", \"gridcolor\": \"white\", \"linecolor\": \"white\", \"minorgridcolor\": \"white\", \"startlinecolor\": \"#2a3f5f\"}, \"type\": \"carpet\"}], \"choropleth\": [{\"colorbar\": {\"outlinewidth\": 0, \"ticks\": \"\"}, \"type\": \"choropleth\"}], \"contour\": [{\"colorbar\": {\"outlinewidth\": 0, \"ticks\": \"\"}, \"colorscale\": [[0.0, \"#0d0887\"], [0.1111111111111111, \"#46039f\"], [0.2222222222222222, \"#7201a8\"], [0.3333333333333333, \"#9c179e\"], [0.4444444444444444, \"#bd3786\"], [0.5555555555555556, \"#d8576b\"], [0.6666666666666666, \"#ed7953\"], [0.7777777777777778, \"#fb9f3a\"], [0.8888888888888888, \"#fdca26\"], [1.0, \"#f0f921\"]], \"type\": \"contour\"}], \"contourcarpet\": [{\"colorbar\": {\"outlinewidth\": 0, \"ticks\": \"\"}, \"type\": \"contourcarpet\"}], \"heatmap\": [{\"colorbar\": {\"outlinewidth\": 0, \"ticks\": \"\"}, \"colorscale\": [[0.0, \"#0d0887\"], [0.1111111111111111, \"#46039f\"], [0.2222222222222222, \"#7201a8\"], [0.3333333333333333, \"#9c179e\"], [0.4444444444444444, \"#bd3786\"], [0.5555555555555556, \"#d8576b\"], [0.6666666666666666, \"#ed7953\"], [0.7777777777777778, \"#fb9f3a\"], [0.8888888888888888, \"#fdca26\"], [1.0, \"#f0f921\"]], \"type\": \"heatmap\"}], \"heatmapgl\": [{\"colorbar\": {\"outlinewidth\": 0, \"ticks\": \"\"}, \"colorscale\": [[0.0, \"#0d0887\"], [0.1111111111111111, \"#46039f\"], [0.2222222222222222, \"#7201a8\"], [0.3333333333333333, \"#9c179e\"], [0.4444444444444444, \"#bd3786\"], [0.5555555555555556, \"#d8576b\"], [0.6666666666666666, \"#ed7953\"], [0.7777777777777778, \"#fb9f3a\"], [0.8888888888888888, \"#fdca26\"], [1.0, \"#f0f921\"]], \"type\": \"heatmapgl\"}], \"histogram\": [{\"marker\": {\"colorbar\": {\"outlinewidth\": 0, \"ticks\": \"\"}}, \"type\": \"histogram\"}], \"histogram2d\": [{\"colorbar\": {\"outlinewidth\": 0, \"ticks\": \"\"}, \"colorscale\": [[0.0, \"#0d0887\"], [0.1111111111111111, \"#46039f\"], [0.2222222222222222, \"#7201a8\"], [0.3333333333333333, \"#9c179e\"], [0.4444444444444444, \"#bd3786\"], [0.5555555555555556, \"#d8576b\"], [0.6666666666666666, \"#ed7953\"], [0.7777777777777778, \"#fb9f3a\"], [0.8888888888888888, \"#fdca26\"], [1.0, \"#f0f921\"]], \"type\": \"histogram2d\"}], \"histogram2dcontour\": [{\"colorbar\": {\"outlinewidth\": 0, \"ticks\": \"\"}, \"colorscale\": [[0.0, \"#0d0887\"], [0.1111111111111111, \"#46039f\"], [0.2222222222222222, \"#7201a8\"], [0.3333333333333333, \"#9c179e\"], [0.4444444444444444, \"#bd3786\"], [0.5555555555555556, \"#d8576b\"], [0.6666666666666666, \"#ed7953\"], [0.7777777777777778, \"#fb9f3a\"], [0.8888888888888888, \"#fdca26\"], [1.0, \"#f0f921\"]], \"type\": \"histogram2dcontour\"}], \"mesh3d\": [{\"colorbar\": {\"outlinewidth\": 0, \"ticks\": \"\"}, \"type\": \"mesh3d\"}], \"parcoords\": [{\"line\": {\"colorbar\": {\"outlinewidth\": 0, \"ticks\": \"\"}}, \"type\": \"parcoords\"}], \"pie\": [{\"automargin\": true, \"type\": \"pie\"}], \"scatter\": [{\"marker\": {\"colorbar\": {\"outlinewidth\": 0, \"ticks\": \"\"}}, \"type\": \"scatter\"}], \"scatter3d\": [{\"line\": {\"colorbar\": {\"outlinewidth\": 0, \"ticks\": \"\"}}, \"marker\": {\"colorbar\": {\"outlinewidth\": 0, \"ticks\": \"\"}}, \"type\": \"scatter3d\"}], \"scattercarpet\": [{\"marker\": {\"colorbar\": {\"outlinewidth\": 0, \"ticks\": \"\"}}, \"type\": \"scattercarpet\"}], \"scattergeo\": [{\"marker\": {\"colorbar\": {\"outlinewidth\": 0, \"ticks\": \"\"}}, \"type\": \"scattergeo\"}], \"scattergl\": [{\"marker\": {\"colorbar\": {\"outlinewidth\": 0, \"ticks\": \"\"}}, \"type\": \"scattergl\"}], \"scattermapbox\": [{\"marker\": {\"colorbar\": {\"outlinewidth\": 0, \"ticks\": \"\"}}, \"type\": \"scattermapbox\"}], \"scatterpolar\": [{\"marker\": {\"colorbar\": {\"outlinewidth\": 0, \"ticks\": \"\"}}, \"type\": \"scatterpolar\"}], \"scatterpolargl\": [{\"marker\": {\"colorbar\": {\"outlinewidth\": 0, \"ticks\": \"\"}}, \"type\": \"scatterpolargl\"}], \"scatterternary\": [{\"marker\": {\"colorbar\": {\"outlinewidth\": 0, \"ticks\": \"\"}}, \"type\": \"scatterternary\"}], \"surface\": [{\"colorbar\": {\"outlinewidth\": 0, \"ticks\": \"\"}, \"colorscale\": [[0.0, \"#0d0887\"], [0.1111111111111111, \"#46039f\"], [0.2222222222222222, \"#7201a8\"], [0.3333333333333333, \"#9c179e\"], [0.4444444444444444, \"#bd3786\"], [0.5555555555555556, \"#d8576b\"], [0.6666666666666666, \"#ed7953\"], [0.7777777777777778, \"#fb9f3a\"], [0.8888888888888888, \"#fdca26\"], [1.0, \"#f0f921\"]], \"type\": \"surface\"}], \"table\": [{\"cells\": {\"fill\": {\"color\": \"#EBF0F8\"}, \"line\": {\"color\": \"white\"}}, \"header\": {\"fill\": {\"color\": \"#C8D4E3\"}, \"line\": {\"color\": \"white\"}}, \"type\": \"table\"}]}, \"layout\": {\"annotationdefaults\": {\"arrowcolor\": \"#2a3f5f\", \"arrowhead\": 0, \"arrowwidth\": 1}, \"coloraxis\": {\"colorbar\": {\"outlinewidth\": 0, \"ticks\": \"\"}}, \"colorscale\": {\"diverging\": [[0, \"#8e0152\"], [0.1, \"#c51b7d\"], [0.2, \"#de77ae\"], [0.3, \"#f1b6da\"], [0.4, \"#fde0ef\"], [0.5, \"#f7f7f7\"], [0.6, \"#e6f5d0\"], [0.7, \"#b8e186\"], [0.8, \"#7fbc41\"], [0.9, \"#4d9221\"], [1, \"#276419\"]], \"sequential\": [[0.0, \"#0d0887\"], [0.1111111111111111, \"#46039f\"], [0.2222222222222222, \"#7201a8\"], [0.3333333333333333, \"#9c179e\"], [0.4444444444444444, \"#bd3786\"], [0.5555555555555556, \"#d8576b\"], [0.6666666666666666, \"#ed7953\"], [0.7777777777777778, \"#fb9f3a\"], [0.8888888888888888, \"#fdca26\"], [1.0, \"#f0f921\"]], \"sequentialminus\": [[0.0, \"#0d0887\"], [0.1111111111111111, \"#46039f\"], [0.2222222222222222, \"#7201a8\"], [0.3333333333333333, \"#9c179e\"], [0.4444444444444444, \"#bd3786\"], [0.5555555555555556, \"#d8576b\"], [0.6666666666666666, \"#ed7953\"], [0.7777777777777778, \"#fb9f3a\"], [0.8888888888888888, \"#fdca26\"], [1.0, \"#f0f921\"]]}, \"colorway\": [\"#636efa\", \"#EF553B\", \"#00cc96\", \"#ab63fa\", \"#FFA15A\", \"#19d3f3\", \"#FF6692\", \"#B6E880\", \"#FF97FF\", \"#FECB52\"], \"font\": {\"color\": \"#2a3f5f\"}, \"geo\": {\"bgcolor\": \"white\", \"lakecolor\": \"white\", \"landcolor\": \"#E5ECF6\", \"showlakes\": true, \"showland\": true, \"subunitcolor\": \"white\"}, \"hoverlabel\": {\"align\": \"left\"}, \"hovermode\": \"closest\", \"mapbox\": {\"style\": \"light\"}, \"paper_bgcolor\": \"white\", \"plot_bgcolor\": \"#E5ECF6\", \"polar\": {\"angularaxis\": {\"gridcolor\": \"white\", \"linecolor\": \"white\", \"ticks\": \"\"}, \"bgcolor\": \"#E5ECF6\", \"radialaxis\": {\"gridcolor\": \"white\", \"linecolor\": \"white\", \"ticks\": \"\"}}, \"scene\": {\"xaxis\": {\"backgroundcolor\": \"#E5ECF6\", \"gridcolor\": \"white\", \"gridwidth\": 2, \"linecolor\": \"white\", \"showbackground\": true, \"ticks\": \"\", \"zerolinecolor\": \"white\"}, \"yaxis\": {\"backgroundcolor\": \"#E5ECF6\", \"gridcolor\": \"white\", \"gridwidth\": 2, \"linecolor\": \"white\", \"showbackground\": true, \"ticks\": \"\", \"zerolinecolor\": \"white\"}, \"zaxis\": {\"backgroundcolor\": \"#E5ECF6\", \"gridcolor\": \"white\", \"gridwidth\": 2, \"linecolor\": \"white\", \"showbackground\": true, \"ticks\": \"\", \"zerolinecolor\": \"white\"}}, \"shapedefaults\": {\"line\": {\"color\": \"#2a3f5f\"}}, \"ternary\": {\"aaxis\": {\"gridcolor\": \"white\", \"linecolor\": \"white\", \"ticks\": \"\"}, \"baxis\": {\"gridcolor\": \"white\", \"linecolor\": \"white\", \"ticks\": \"\"}, \"bgcolor\": \"#E5ECF6\", \"caxis\": {\"gridcolor\": \"white\", \"linecolor\": \"white\", \"ticks\": \"\"}}, \"title\": {\"x\": 0.05}, \"xaxis\": {\"automargin\": true, \"gridcolor\": \"white\", \"linecolor\": \"white\", \"ticks\": \"\", \"title\": {\"standoff\": 15}, \"zerolinecolor\": \"white\", \"zerolinewidth\": 2}, \"yaxis\": {\"automargin\": true, \"gridcolor\": \"white\", \"linecolor\": \"white\", \"ticks\": \"\", \"title\": {\"standoff\": 15}, \"zerolinecolor\": \"white\", \"zerolinewidth\": 2}}}, \"title\": {\"text\": \"Monthly usage\"}},\n",
       "                        {\"responsive\": true}\n",
       "                    ).then(function(){\n",
       "                            \n",
       "var gd = document.getElementById('a7506414-bf0a-444d-aca1-215a7ae17ae6');\n",
       "var x = new MutationObserver(function (mutations, observer) {{\n",
       "        var display = window.getComputedStyle(gd).display;\n",
       "        if (!display || display === 'none') {{\n",
       "            console.log([gd, 'removed!']);\n",
       "            Plotly.purge(gd);\n",
       "            observer.disconnect();\n",
       "        }}\n",
       "}});\n",
       "\n",
       "// Listen for the removal of the full notebook cells\n",
       "var notebookContainer = gd.closest('#notebook-container');\n",
       "if (notebookContainer) {{\n",
       "    x.observe(notebookContainer, {childList: true});\n",
       "}}\n",
       "\n",
       "// Listen for the clearing of the current output cell\n",
       "var outputEl = gd.closest('.output');\n",
       "if (outputEl) {{\n",
       "    x.observe(outputEl, {childList: true});\n",
       "}}\n",
       "\n",
       "                        })\n",
       "                };\n",
       "                });\n",
       "            </script>\n",
       "        </div>"
      ]
     },
     "metadata": {},
     "output_type": "display_data"
    }
   ],
   "source": [
    "fig = px.sunburst(mpesa_agg, path=['month', 'transactions.group'], values='withdrawn count', title='Monthly usage')\n",
    "#fig = px.histogram(mpesa_agg, x='withdrawn count',color = \"month\", title='Rating distribution')\n",
    "fig.show()"
   ]
  },
  {
   "cell_type": "code",
   "execution_count": 45,
   "metadata": {},
   "outputs": [],
   "source": [
    "mpesa_df.to_csv(\"../data/notebook_outputs/aggregated_mpesa_charges.csv\")"
   ]
  },
  {
   "cell_type": "code",
   "execution_count": null,
   "metadata": {},
   "outputs": [],
   "source": []
  }
 ],
 "metadata": {
  "kernelspec": {
   "display_name": "Python 3",
   "language": "python",
   "name": "python3"
  },
  "language_info": {
   "codemirror_mode": {
    "name": "ipython",
    "version": 3
   },
   "file_extension": ".py",
   "mimetype": "text/x-python",
   "name": "python",
   "nbconvert_exporter": "python",
   "pygments_lexer": "ipython3",
   "version": "3.8.5"
  }
 },
 "nbformat": 4,
 "nbformat_minor": 2
}
